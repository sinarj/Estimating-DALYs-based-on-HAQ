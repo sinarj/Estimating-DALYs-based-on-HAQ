{
 "cells": [
  {
   "cell_type": "markdown",
   "metadata": {},
   "source": [
    "# Notebook to create the HAQ input data for only US for the age specific version. This is being done separately cause US is the to be used for the final predictions but US itself is not a \"most detailed location\""
   ]
  },
  {
   "cell_type": "code",
   "execution_count": 1,
   "metadata": {},
   "outputs": [],
   "source": [
    "import pandas as pd\n",
    "import numpy as np\n",
    "import pickle as pkl\n",
    "import copy\n",
    "import matplotlib.pyplot as plt\n",
    "from db_queries import get_location_metadata\n",
    "%matplotlib inline"
   ]
  },
  {
   "cell_type": "code",
   "execution_count": 2,
   "metadata": {},
   "outputs": [],
   "source": [
    "haq_data_dir = '/share/scratch/projects/hssa/haq/HAQ_2017/vanilla_cc_89_paf_242/draws/'\n",
    "my_data_dir = '/share/scratch/projects/hssa/haq/HAQ_2017/haq_US/'\n",
    "prog_dir = '/homes/arjuns13/haq/haq/risk_standardized_amen_mort/'\n",
    "my_data_dir_cancer = '/share/scratch/projects/hssa/haq/HAQ_2017/haq_2017_latest_cancer/cancers_all_most_det_locs/'\n",
    "years = [2016]#[1990, 1995, 2000, 2005, 2010, 2015, 2016, 2017]"
   ]
  },
  {
   "cell_type": "markdown",
   "metadata": {},
   "source": [
    "### Location -filtering 195 coutries. HAQ min-max calculations are indeed supposed to be done using all of the 195 countries"
   ]
  },
  {
   "cell_type": "code",
   "execution_count": 3,
   "metadata": {},
   "outputs": [],
   "source": [
    "locsdf = get_location_metadata(gbd_round_id=5, location_set_id=35)\n",
    "causelist = pd.read_csv(prog_dir+'amenable_cause_list_GBD.csv')"
   ]
  },
  {
   "cell_type": "code",
   "execution_count": 4,
   "metadata": {},
   "outputs": [],
   "source": [
    "loc_US = locsdf[locsdf['location_id']==102]['location_id']"
   ]
  },
  {
   "cell_type": "code",
   "execution_count": 5,
   "metadata": {},
   "outputs": [
    {
     "data": {
      "text/plain": [
       "181    102\n",
       "Name: location_id, dtype: int64"
      ]
     },
     "execution_count": 5,
     "metadata": {},
     "output_type": "execute_result"
    }
   ],
   "source": [
    "loc_US"
   ]
  },
  {
   "cell_type": "code",
   "execution_count": 6,
   "metadata": {},
   "outputs": [],
   "source": [
    "consolidated_limits  = {\n",
    "    297:{'age_start':4,\n",
    "        'age_end':19},\n",
    "    302:{'age_start':2,\n",
    "        'age_end':7},\n",
    "    322:{'age_start':2,\n",
    "        'age_end':19},\n",
    "    328:{'age_start':2,\n",
    "        'age_end':19},\n",
    "    338:{'age_start':4,\n",
    "        'age_end':16},\n",
    "    339:{'age_start':4,\n",
    "        'age_end':7},\n",
    "    340:{'age_start':2,\n",
    "        'age_end':19},\n",
    "    341:{'age_start':5,\n",
    "        'age_end':7},\n",
    "    366:{'age_start':7,\n",
    "        'age_end':15},\n",
    "    380:{'age_start':2,\n",
    "        'age_end':5},\n",
    "    849:{'age_start':8,\n",
    "        'age_end':19},\n",
    "    429:{'age_start':8,\n",
    "        'age_end':19},\n",
    "    432:{'age_start':8,\n",
    "        'age_end':19},\n",
    "    435:{'age_start':8,\n",
    "        'age_end':13},\n",
    "    441:{'age_start':8,\n",
    "        'age_end':19},\n",
    "    468:{'age_start':8,\n",
    "        'age_end':19},\n",
    "    484:{'age_start':4,\n",
    "        'age_end':19},\n",
    "    487:{'age_start':4,\n",
    "        'age_end':13},\n",
    "    492:{'age_start':5,\n",
    "        'age_end':19},\n",
    "    493:{'age_start':4,\n",
    "        'age_end':19},\n",
    "    494:{'age_start':2,\n",
    "        'age_end':19},\n",
    "    498:{'age_start':4,\n",
    "        'age_end':19},\n",
    "    508:{'age_start':5,\n",
    "        'age_end':7},\n",
    "    527:{'age_start':5,\n",
    "        'age_end':19},\n",
    "    529:{'age_start':5,\n",
    "        'age_end':19},\n",
    "    531:{'age_start':5,\n",
    "        'age_end':19},\n",
    "    534:{'age_start':5,\n",
    "        'age_end':19},\n",
    "    545:{'age_start':4,\n",
    "        'age_end':19},\n",
    "    587:{'age_start':2,\n",
    "        'age_end':14},\n",
    "    589:{'age_start':4,\n",
    "        'age_end':19},\n",
    "    643:{'age_start':2,\n",
    "        'age_end':18},\n",
    "    708:{'age_start':2,\n",
    "        'age_end':19}\n",
    "}\n",
    "cause_limits = pd.DataFrame(consolidated_limits) \n",
    "cause_limits = cause_limits.T.reset_index()\n",
    "cause_limits = cause_limits.rename(index=str, columns={'index':'cause_id'})"
   ]
  },
  {
   "cell_type": "code",
   "execution_count": 7,
   "metadata": {},
   "outputs": [
    {
     "data": {
      "text/plain": [
       "32"
      ]
     },
     "execution_count": 7,
     "metadata": {},
     "output_type": "execute_result"
    }
   ],
   "source": [
    "len(consolidated_limits)"
   ]
  },
  {
   "cell_type": "markdown",
   "metadata": {},
   "source": [
    "### Combined data - for all most detailed locations"
   ]
  },
  {
   "cell_type": "code",
   "execution_count": 8,
   "metadata": {},
   "outputs": [
    {
     "name": "stdout",
     "output_type": "stream",
     "text": [
      "Processing:  2016\n",
      "Processing loc:  102\n",
      "Saving to  /share/scratch/projects/hssa/haq/HAQ_2017/haq_US/combined_data/global_data/\n"
     ]
    }
   ],
   "source": [
    "US_data_noncancer =[]\n",
    "\n",
    "for y in years:\n",
    "    print('Processing: ',y)\n",
    "    for i in list(loc_US):\n",
    "        print('Processing loc: ',i)\n",
    "        df = pd.read_csv(my_data_dir+'std_all_most_det_locs/'+str(y)+'/'+str(i)+'.csv')\n",
    "        # dropping cancer\n",
    "        df = df[~df['cause_id'].isin([849, 429, 432, 435, 441, 468, 484, 487])]\n",
    "        \n",
    "        df = df.merge(cause_limits,on='cause_id')\n",
    "        df = df[(df['age_group_id'] >= df['age_start'])&(df['age_group_id'] <= df['age_end'])]\n",
    "        df = df.drop(['age_end','age_start'],axis=1)\n",
    "        \n",
    "        US_data_noncancer.append(df)\n",
    "US_data_noncancer = pd.concat(US_data_noncancer, axis=0)\n",
    "\n",
    "print(\"Saving to \", my_data_dir+'combined_data/global_data/')\n",
    "US_data_noncancer.to_csv(my_data_dir+'combined_data/global_data/' + 'US_data_noncancer.csv',index=False)\n",
    "\n"
   ]
  },
  {
   "cell_type": "code",
   "execution_count": 9,
   "metadata": {},
   "outputs": [
    {
     "data": {
      "text/html": [
       "<div>\n",
       "<style scoped>\n",
       "    .dataframe tbody tr th:only-of-type {\n",
       "        vertical-align: middle;\n",
       "    }\n",
       "\n",
       "    .dataframe tbody tr th {\n",
       "        vertical-align: top;\n",
       "    }\n",
       "\n",
       "    .dataframe thead th {\n",
       "        text-align: right;\n",
       "    }\n",
       "</style>\n",
       "<table border=\"1\" class=\"dataframe\">\n",
       "  <thead>\n",
       "    <tr style=\"text-align: right;\">\n",
       "      <th></th>\n",
       "      <th>location_id</th>\n",
       "      <th>year_id</th>\n",
       "      <th>age_group_id</th>\n",
       "      <th>sex_id</th>\n",
       "      <th>cause_id</th>\n",
       "      <th>draw</th>\n",
       "      <th>rsval</th>\n",
       "      <th>val</th>\n",
       "    </tr>\n",
       "  </thead>\n",
       "  <tbody>\n",
       "    <tr>\n",
       "      <th>0</th>\n",
       "      <td>102</td>\n",
       "      <td>2016</td>\n",
       "      <td>2</td>\n",
       "      <td>3</td>\n",
       "      <td>302</td>\n",
       "      <td>0</td>\n",
       "      <td>0.000144</td>\n",
       "      <td>0.000144</td>\n",
       "    </tr>\n",
       "    <tr>\n",
       "      <th>1</th>\n",
       "      <td>102</td>\n",
       "      <td>2016</td>\n",
       "      <td>2</td>\n",
       "      <td>3</td>\n",
       "      <td>302</td>\n",
       "      <td>1</td>\n",
       "      <td>0.000140</td>\n",
       "      <td>0.000140</td>\n",
       "    </tr>\n",
       "    <tr>\n",
       "      <th>2</th>\n",
       "      <td>102</td>\n",
       "      <td>2016</td>\n",
       "      <td>2</td>\n",
       "      <td>3</td>\n",
       "      <td>302</td>\n",
       "      <td>2</td>\n",
       "      <td>0.000142</td>\n",
       "      <td>0.000142</td>\n",
       "    </tr>\n",
       "    <tr>\n",
       "      <th>3</th>\n",
       "      <td>102</td>\n",
       "      <td>2016</td>\n",
       "      <td>2</td>\n",
       "      <td>3</td>\n",
       "      <td>302</td>\n",
       "      <td>3</td>\n",
       "      <td>0.000153</td>\n",
       "      <td>0.000153</td>\n",
       "    </tr>\n",
       "    <tr>\n",
       "      <th>4</th>\n",
       "      <td>102</td>\n",
       "      <td>2016</td>\n",
       "      <td>2</td>\n",
       "      <td>3</td>\n",
       "      <td>302</td>\n",
       "      <td>4</td>\n",
       "      <td>0.000147</td>\n",
       "      <td>0.000147</td>\n",
       "    </tr>\n",
       "  </tbody>\n",
       "</table>\n",
       "</div>"
      ],
      "text/plain": [
       "   location_id  year_id  age_group_id  sex_id  cause_id  draw     rsval  \\\n",
       "0          102     2016             2       3       302     0  0.000144   \n",
       "1          102     2016             2       3       302     1  0.000140   \n",
       "2          102     2016             2       3       302     2  0.000142   \n",
       "3          102     2016             2       3       302     3  0.000153   \n",
       "4          102     2016             2       3       302     4  0.000147   \n",
       "\n",
       "        val  \n",
       "0  0.000144  \n",
       "1  0.000140  \n",
       "2  0.000142  \n",
       "3  0.000153  \n",
       "4  0.000147  "
      ]
     },
     "execution_count": 9,
     "metadata": {},
     "output_type": "execute_result"
    }
   ],
   "source": [
    "US_data_noncancer.head()"
   ]
  },
  {
   "cell_type": "code",
   "execution_count": 10,
   "metadata": {},
   "outputs": [
    {
     "name": "stdout",
     "output_type": "stream",
     "text": [
      "Processing:  2016\n",
      "Processing loc:  102\n",
      "Saving to  /share/scratch/projects/hssa/haq/HAQ_2017/haq_US/combined_data/global_data/\n"
     ]
    }
   ],
   "source": [
    "my_data_dir_cancer = '/share/scratch/projects/hssa/haq/HAQ_2017/haq_2017_latest_cancer/cancers_all_most_det_locs/'\n",
    "US_data_cancer =[]\n",
    "for y in years:\n",
    "    print('Processing: ',y)\n",
    "    for i in list(loc_US):\n",
    "        print('Processing loc: ',i)\n",
    "        df = pd.read_csv(my_data_dir_cancer+str(y)+'/'+str(i)+'.csv')\n",
    "        # keeping only cancer\n",
    "        df = df[df['cause_id'].isin([849, 429, 432, 435, 441, 468, 484, 487])]\n",
    "        \n",
    "        df = df.merge(cause_limits,on='cause_id')\n",
    "        df = df[(df['age_group_id'] >= df['age_start'])&(df['age_group_id'] <= df['age_end'])]\n",
    "        df = df.drop(['age_end','age_start'],axis=1)\n",
    "        \n",
    "        US_data_cancer.append(df)\n",
    "US_data_cancer = pd.concat(US_data_cancer, axis=0)\n",
    "\n",
    "print(\"Saving to \", my_data_dir+'combined_data/global_data/')\n",
    "US_data_cancer.to_csv(my_data_dir+'combined_data/global_data/' + 'US_data_cancer.csv',index=False)"
   ]
  },
  {
   "cell_type": "code",
   "execution_count": 11,
   "metadata": {},
   "outputs": [
    {
     "data": {
      "text/html": [
       "<div>\n",
       "<style scoped>\n",
       "    .dataframe tbody tr th:only-of-type {\n",
       "        vertical-align: middle;\n",
       "    }\n",
       "\n",
       "    .dataframe tbody tr th {\n",
       "        vertical-align: top;\n",
       "    }\n",
       "\n",
       "    .dataframe thead th {\n",
       "        text-align: right;\n",
       "    }\n",
       "</style>\n",
       "<table border=\"1\" class=\"dataframe\">\n",
       "  <thead>\n",
       "    <tr style=\"text-align: right;\">\n",
       "      <th></th>\n",
       "      <th>location_id</th>\n",
       "      <th>year_id</th>\n",
       "      <th>age_group_id</th>\n",
       "      <th>sex_id</th>\n",
       "      <th>cause_id</th>\n",
       "      <th>draw</th>\n",
       "      <th>rsval</th>\n",
       "      <th>val</th>\n",
       "    </tr>\n",
       "  </thead>\n",
       "  <tbody>\n",
       "    <tr>\n",
       "      <th>0</th>\n",
       "      <td>102</td>\n",
       "      <td>2016</td>\n",
       "      <td>8</td>\n",
       "      <td>3</td>\n",
       "      <td>429</td>\n",
       "      <td>0</td>\n",
       "      <td>0.067002</td>\n",
       "      <td>NaN</td>\n",
       "    </tr>\n",
       "    <tr>\n",
       "      <th>1</th>\n",
       "      <td>102</td>\n",
       "      <td>2016</td>\n",
       "      <td>9</td>\n",
       "      <td>3</td>\n",
       "      <td>429</td>\n",
       "      <td>0</td>\n",
       "      <td>0.068269</td>\n",
       "      <td>NaN</td>\n",
       "    </tr>\n",
       "    <tr>\n",
       "      <th>2</th>\n",
       "      <td>102</td>\n",
       "      <td>2016</td>\n",
       "      <td>10</td>\n",
       "      <td>3</td>\n",
       "      <td>429</td>\n",
       "      <td>0</td>\n",
       "      <td>0.061407</td>\n",
       "      <td>NaN</td>\n",
       "    </tr>\n",
       "    <tr>\n",
       "      <th>3</th>\n",
       "      <td>102</td>\n",
       "      <td>2016</td>\n",
       "      <td>11</td>\n",
       "      <td>3</td>\n",
       "      <td>429</td>\n",
       "      <td>0</td>\n",
       "      <td>0.086582</td>\n",
       "      <td>NaN</td>\n",
       "    </tr>\n",
       "    <tr>\n",
       "      <th>4</th>\n",
       "      <td>102</td>\n",
       "      <td>2016</td>\n",
       "      <td>12</td>\n",
       "      <td>3</td>\n",
       "      <td>429</td>\n",
       "      <td>0</td>\n",
       "      <td>0.107051</td>\n",
       "      <td>NaN</td>\n",
       "    </tr>\n",
       "  </tbody>\n",
       "</table>\n",
       "</div>"
      ],
      "text/plain": [
       "   location_id  year_id  age_group_id  sex_id  cause_id  draw     rsval  val\n",
       "0          102     2016             8       3       429     0  0.067002  NaN\n",
       "1          102     2016             9       3       429     0  0.068269  NaN\n",
       "2          102     2016            10       3       429     0  0.061407  NaN\n",
       "3          102     2016            11       3       429     0  0.086582  NaN\n",
       "4          102     2016            12       3       429     0  0.107051  NaN"
      ]
     },
     "execution_count": 11,
     "metadata": {},
     "output_type": "execute_result"
    }
   ],
   "source": [
    "US_data_cancer.head()"
   ]
  },
  {
   "cell_type": "code",
   "execution_count": null,
   "metadata": {},
   "outputs": [],
   "source": []
  }
 ],
 "metadata": {
  "anaconda-cloud": {},
  "kernelspec": {
   "display_name": "Python 3",
   "language": "python",
   "name": "python3"
  },
  "language_info": {
   "codemirror_mode": {
    "name": "ipython",
    "version": 3
   },
   "file_extension": ".py",
   "mimetype": "text/x-python",
   "name": "python",
   "nbconvert_exporter": "python",
   "pygments_lexer": "ipython3",
   "version": "3.7.1"
  }
 },
 "nbformat": 4,
 "nbformat_minor": 1
}
