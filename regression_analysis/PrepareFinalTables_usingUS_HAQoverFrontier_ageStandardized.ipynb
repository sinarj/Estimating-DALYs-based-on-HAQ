{
 "cells": [
  {
   "cell_type": "code",
   "execution_count": 2,
   "metadata": {},
   "outputs": [],
   "source": [
    "import pandas as pd"
   ]
  },
  {
   "cell_type": "code",
   "execution_count": 3,
   "metadata": {},
   "outputs": [],
   "source": [
    "dalys_haq_sdi_answers_out_significant_ageStd = \\\n",
    "pd.read_csv('/ihme/homes/arjuns13/notebooks/Documents/Data/dalys_haq_sdi_allcauses_ageStd_10Jun19.csv')"
   ]
  },
  {
   "cell_type": "code",
   "execution_count": 4,
   "metadata": {},
   "outputs": [
    {
     "data": {
      "text/plain": [
       "(167, 14)"
      ]
     },
     "execution_count": 4,
     "metadata": {},
     "output_type": "execute_result"
    }
   ],
   "source": [
    "dalys_haq_sdi_answers_out_significant_ageStd.shape"
   ]
  },
  {
   "cell_type": "code",
   "execution_count": 5,
   "metadata": {},
   "outputs": [],
   "source": [
    "dalys_haq_sdi_answers_out_significant_ageStd['cause_id'] = dalys_haq_sdi_answers_out_significant_ageStd['cause_id'].astype('int64')"
   ]
  },
  {
   "cell_type": "code",
   "execution_count": 6,
   "metadata": {},
   "outputs": [],
   "source": [
    "dalys_haq_sdi_answers_out_significant_ageStd['sex_id'] = dalys_haq_sdi_answers_out_significant_ageStd['sex_id'].astype('int64')"
   ]
  },
  {
   "cell_type": "code",
   "execution_count": 7,
   "metadata": {},
   "outputs": [],
   "source": [
    "dalys_haq_sdi_answers_out_significant_ageStd['age_group_id'] = dalys_haq_sdi_answers_out_significant_ageStd['age_group_id'].astype('int64')"
   ]
  },
  {
   "cell_type": "code",
   "execution_count": 8,
   "metadata": {
    "scrolled": true
   },
   "outputs": [
    {
     "data": {
      "text/html": [
       "<div>\n",
       "<style scoped>\n",
       "    .dataframe tbody tr th:only-of-type {\n",
       "        vertical-align: middle;\n",
       "    }\n",
       "\n",
       "    .dataframe tbody tr th {\n",
       "        vertical-align: top;\n",
       "    }\n",
       "\n",
       "    .dataframe thead th {\n",
       "        text-align: right;\n",
       "    }\n",
       "</style>\n",
       "<table border=\"1\" class=\"dataframe\">\n",
       "  <thead>\n",
       "    <tr style=\"text-align: right;\">\n",
       "      <th></th>\n",
       "      <th>Unnamed: 0</th>\n",
       "      <th>cause_id</th>\n",
       "      <th>age_group_id</th>\n",
       "      <th>sex_id</th>\n",
       "      <th>intercept</th>\n",
       "      <th>intercept_pValue</th>\n",
       "      <th>haq_over_frontier_coef</th>\n",
       "      <th>haq_over_frontier_coef_pValue</th>\n",
       "      <th>logit_sdi_coef</th>\n",
       "      <th>logit_sdi_coef_pValue</th>\n",
       "      <th>r2</th>\n",
       "      <th>age_group_name</th>\n",
       "      <th>cause_name</th>\n",
       "      <th>sex</th>\n",
       "    </tr>\n",
       "  </thead>\n",
       "  <tbody>\n",
       "    <tr>\n",
       "      <th>0</th>\n",
       "      <td>2</td>\n",
       "      <td>298</td>\n",
       "      <td>27</td>\n",
       "      <td>1</td>\n",
       "      <td>0.027086</td>\n",
       "      <td>2.281757e-51</td>\n",
       "      <td>-6.358639e-05</td>\n",
       "      <td>1.715718e-03</td>\n",
       "      <td>-0.006637</td>\n",
       "      <td>1.513699e-02</td>\n",
       "      <td>0.153045</td>\n",
       "      <td>Age-standardized</td>\n",
       "      <td>HIV/AIDS</td>\n",
       "      <td>Male</td>\n",
       "    </tr>\n",
       "    <tr>\n",
       "      <th>1</th>\n",
       "      <td>3</td>\n",
       "      <td>298</td>\n",
       "      <td>27</td>\n",
       "      <td>2</td>\n",
       "      <td>0.027011</td>\n",
       "      <td>6.439200e-50</td>\n",
       "      <td>-4.595813e-05</td>\n",
       "      <td>2.524703e-02</td>\n",
       "      <td>-0.009890</td>\n",
       "      <td>3.689814e-04</td>\n",
       "      <td>0.164460</td>\n",
       "      <td>Age-standardized</td>\n",
       "      <td>HIV/AIDS</td>\n",
       "      <td>Female</td>\n",
       "    </tr>\n",
       "    <tr>\n",
       "      <th>2</th>\n",
       "      <td>4</td>\n",
       "      <td>302</td>\n",
       "      <td>27</td>\n",
       "      <td>1</td>\n",
       "      <td>0.018031</td>\n",
       "      <td>6.496932e-174</td>\n",
       "      <td>1.685661e-05</td>\n",
       "      <td>4.871939e-03</td>\n",
       "      <td>-0.013610</td>\n",
       "      <td>3.422434e-55</td>\n",
       "      <td>0.560209</td>\n",
       "      <td>Age-standardized</td>\n",
       "      <td>Diarrheal diseases</td>\n",
       "      <td>Male</td>\n",
       "    </tr>\n",
       "    <tr>\n",
       "      <th>3</th>\n",
       "      <td>6</td>\n",
       "      <td>321</td>\n",
       "      <td>27</td>\n",
       "      <td>1</td>\n",
       "      <td>0.000016</td>\n",
       "      <td>5.048977e-146</td>\n",
       "      <td>4.101624e-08</td>\n",
       "      <td>3.102767e-11</td>\n",
       "      <td>-0.000016</td>\n",
       "      <td>1.694059e-67</td>\n",
       "      <td>0.523738</td>\n",
       "      <td>Age-standardized</td>\n",
       "      <td>Other intestinal infectious diseases</td>\n",
       "      <td>Male</td>\n",
       "    </tr>\n",
       "    <tr>\n",
       "      <th>4</th>\n",
       "      <td>7</td>\n",
       "      <td>321</td>\n",
       "      <td>27</td>\n",
       "      <td>2</td>\n",
       "      <td>0.000020</td>\n",
       "      <td>4.841675e-133</td>\n",
       "      <td>6.351323e-08</td>\n",
       "      <td>7.178372e-15</td>\n",
       "      <td>-0.000022</td>\n",
       "      <td>9.135697e-73</td>\n",
       "      <td>0.522734</td>\n",
       "      <td>Age-standardized</td>\n",
       "      <td>Other intestinal infectious diseases</td>\n",
       "      <td>Female</td>\n",
       "    </tr>\n",
       "  </tbody>\n",
       "</table>\n",
       "</div>"
      ],
      "text/plain": [
       "   Unnamed: 0  cause_id  age_group_id  sex_id  intercept  intercept_pValue  \\\n",
       "0           2       298            27       1   0.027086      2.281757e-51   \n",
       "1           3       298            27       2   0.027011      6.439200e-50   \n",
       "2           4       302            27       1   0.018031     6.496932e-174   \n",
       "3           6       321            27       1   0.000016     5.048977e-146   \n",
       "4           7       321            27       2   0.000020     4.841675e-133   \n",
       "\n",
       "   haq_over_frontier_coef  haq_over_frontier_coef_pValue  logit_sdi_coef  \\\n",
       "0           -6.358639e-05                   1.715718e-03       -0.006637   \n",
       "1           -4.595813e-05                   2.524703e-02       -0.009890   \n",
       "2            1.685661e-05                   4.871939e-03       -0.013610   \n",
       "3            4.101624e-08                   3.102767e-11       -0.000016   \n",
       "4            6.351323e-08                   7.178372e-15       -0.000022   \n",
       "\n",
       "   logit_sdi_coef_pValue        r2    age_group_name  \\\n",
       "0           1.513699e-02  0.153045  Age-standardized   \n",
       "1           3.689814e-04  0.164460  Age-standardized   \n",
       "2           3.422434e-55  0.560209  Age-standardized   \n",
       "3           1.694059e-67  0.523738  Age-standardized   \n",
       "4           9.135697e-73  0.522734  Age-standardized   \n",
       "\n",
       "                             cause_name     sex  \n",
       "0                              HIV/AIDS    Male  \n",
       "1                              HIV/AIDS  Female  \n",
       "2                    Diarrheal diseases    Male  \n",
       "3  Other intestinal infectious diseases    Male  \n",
       "4  Other intestinal infectious diseases  Female  "
      ]
     },
     "execution_count": 8,
     "metadata": {},
     "output_type": "execute_result"
    }
   ],
   "source": [
    "dalys_haq_sdi_answers_out_significant_ageStd.head()"
   ]
  },
  {
   "cell_type": "code",
   "execution_count": 9,
   "metadata": {},
   "outputs": [],
   "source": [
    "dalys_haq_sdi_answers_out_significant_ageStd = dalys_haq_sdi_answers_out_significant_ageStd[['cause_name', 'cause_id','age_group_name',\\\n",
    "                                                                              'age_group_id', 'sex', 'sex_id', \\\n",
    "                                                                              'haq_over_frontier_coef']]"
   ]
  },
  {
   "cell_type": "code",
   "execution_count": 10,
   "metadata": {},
   "outputs": [
    {
     "data": {
      "text/html": [
       "<div>\n",
       "<style scoped>\n",
       "    .dataframe tbody tr th:only-of-type {\n",
       "        vertical-align: middle;\n",
       "    }\n",
       "\n",
       "    .dataframe tbody tr th {\n",
       "        vertical-align: top;\n",
       "    }\n",
       "\n",
       "    .dataframe thead th {\n",
       "        text-align: right;\n",
       "    }\n",
       "</style>\n",
       "<table border=\"1\" class=\"dataframe\">\n",
       "  <thead>\n",
       "    <tr style=\"text-align: right;\">\n",
       "      <th></th>\n",
       "      <th>cause_name</th>\n",
       "      <th>cause_id</th>\n",
       "      <th>age_group_name</th>\n",
       "      <th>age_group_id</th>\n",
       "      <th>sex</th>\n",
       "      <th>sex_id</th>\n",
       "      <th>haq_over_frontier_coef</th>\n",
       "    </tr>\n",
       "  </thead>\n",
       "  <tbody>\n",
       "    <tr>\n",
       "      <th>0</th>\n",
       "      <td>HIV/AIDS</td>\n",
       "      <td>298</td>\n",
       "      <td>Age-standardized</td>\n",
       "      <td>27</td>\n",
       "      <td>Male</td>\n",
       "      <td>1</td>\n",
       "      <td>-6.358639e-05</td>\n",
       "    </tr>\n",
       "    <tr>\n",
       "      <th>1</th>\n",
       "      <td>HIV/AIDS</td>\n",
       "      <td>298</td>\n",
       "      <td>Age-standardized</td>\n",
       "      <td>27</td>\n",
       "      <td>Female</td>\n",
       "      <td>2</td>\n",
       "      <td>-4.595813e-05</td>\n",
       "    </tr>\n",
       "    <tr>\n",
       "      <th>2</th>\n",
       "      <td>Diarrheal diseases</td>\n",
       "      <td>302</td>\n",
       "      <td>Age-standardized</td>\n",
       "      <td>27</td>\n",
       "      <td>Male</td>\n",
       "      <td>1</td>\n",
       "      <td>1.685661e-05</td>\n",
       "    </tr>\n",
       "    <tr>\n",
       "      <th>3</th>\n",
       "      <td>Other intestinal infectious diseases</td>\n",
       "      <td>321</td>\n",
       "      <td>Age-standardized</td>\n",
       "      <td>27</td>\n",
       "      <td>Male</td>\n",
       "      <td>1</td>\n",
       "      <td>4.101624e-08</td>\n",
       "    </tr>\n",
       "    <tr>\n",
       "      <th>4</th>\n",
       "      <td>Other intestinal infectious diseases</td>\n",
       "      <td>321</td>\n",
       "      <td>Age-standardized</td>\n",
       "      <td>27</td>\n",
       "      <td>Female</td>\n",
       "      <td>2</td>\n",
       "      <td>6.351323e-08</td>\n",
       "    </tr>\n",
       "  </tbody>\n",
       "</table>\n",
       "</div>"
      ],
      "text/plain": [
       "                             cause_name  cause_id    age_group_name  \\\n",
       "0                              HIV/AIDS       298  Age-standardized   \n",
       "1                              HIV/AIDS       298  Age-standardized   \n",
       "2                    Diarrheal diseases       302  Age-standardized   \n",
       "3  Other intestinal infectious diseases       321  Age-standardized   \n",
       "4  Other intestinal infectious diseases       321  Age-standardized   \n",
       "\n",
       "   age_group_id     sex  sex_id  haq_over_frontier_coef  \n",
       "0            27    Male       1           -6.358639e-05  \n",
       "1            27  Female       2           -4.595813e-05  \n",
       "2            27    Male       1            1.685661e-05  \n",
       "3            27    Male       1            4.101624e-08  \n",
       "4            27  Female       2            6.351323e-08  "
      ]
     },
     "execution_count": 10,
     "metadata": {},
     "output_type": "execute_result"
    }
   ],
   "source": [
    "dalys_haq_sdi_answers_out_significant_ageStd.head()"
   ]
  },
  {
   "cell_type": "code",
   "execution_count": 11,
   "metadata": {},
   "outputs": [
    {
     "data": {
      "text/plain": [
       "(167, 7)"
      ]
     },
     "execution_count": 11,
     "metadata": {},
     "output_type": "execute_result"
    }
   ],
   "source": [
    "dalys_haq_sdi_answers_out_significant_ageStd.shape"
   ]
  },
  {
   "cell_type": "markdown",
   "metadata": {},
   "source": [
    "## Get the data for the HAQ-over-frontier values"
   ]
  },
  {
   "cell_type": "code",
   "execution_count": 12,
   "metadata": {},
   "outputs": [],
   "source": [
    "haqFront_sdi_daly_data = pd.read_csv('/ihme/homes/arjuns13/notebooks/Documents/Data/haq_sdi_frontier_estimates_ageStd_aggregatedCauses_allLocsIncUS.csv')"
   ]
  },
  {
   "cell_type": "code",
   "execution_count": 13,
   "metadata": {},
   "outputs": [],
   "source": [
    "haqFront_sdi_daly_data = haqFront_sdi_daly_data[haqFront_sdi_daly_data['location_id']==102]"
   ]
  },
  {
   "cell_type": "code",
   "execution_count": 14,
   "metadata": {},
   "outputs": [
    {
     "data": {
      "text/html": [
       "<div>\n",
       "<style scoped>\n",
       "    .dataframe tbody tr th:only-of-type {\n",
       "        vertical-align: middle;\n",
       "    }\n",
       "\n",
       "    .dataframe tbody tr th {\n",
       "        vertical-align: top;\n",
       "    }\n",
       "\n",
       "    .dataframe thead th {\n",
       "        text-align: right;\n",
       "    }\n",
       "</style>\n",
       "<table border=\"1\" class=\"dataframe\">\n",
       "  <thead>\n",
       "    <tr style=\"text-align: right;\">\n",
       "      <th></th>\n",
       "      <th>Unnamed: 0</th>\n",
       "      <th>V1</th>\n",
       "      <th>location_id</th>\n",
       "      <th>logit_sdi</th>\n",
       "      <th>age_group_id</th>\n",
       "      <th>ln_haq</th>\n",
       "      <th>fit2</th>\n",
       "    </tr>\n",
       "  </thead>\n",
       "  <tbody>\n",
       "    <tr>\n",
       "      <th>823</th>\n",
       "      <td>824</td>\n",
       "      <td>0</td>\n",
       "      <td>102</td>\n",
       "      <td>1.86831</td>\n",
       "      <td>27</td>\n",
       "      <td>4.374564</td>\n",
       "      <td>4.693256</td>\n",
       "    </tr>\n",
       "  </tbody>\n",
       "</table>\n",
       "</div>"
      ],
      "text/plain": [
       "     Unnamed: 0  V1  location_id  logit_sdi  age_group_id    ln_haq      fit2\n",
       "823         824   0          102    1.86831            27  4.374564  4.693256"
      ]
     },
     "execution_count": 14,
     "metadata": {},
     "output_type": "execute_result"
    }
   ],
   "source": [
    "haqFront_sdi_daly_data.head()"
   ]
  },
  {
   "cell_type": "code",
   "execution_count": 15,
   "metadata": {},
   "outputs": [
    {
     "data": {
      "text/plain": [
       "array([27])"
      ]
     },
     "execution_count": 15,
     "metadata": {},
     "output_type": "execute_result"
    }
   ],
   "source": [
    "haqFront_sdi_daly_data['age_group_id'].unique()"
   ]
  },
  {
   "cell_type": "code",
   "execution_count": 16,
   "metadata": {},
   "outputs": [],
   "source": [
    "final = haqFront_sdi_daly_data"
   ]
  },
  {
   "cell_type": "code",
   "execution_count": 17,
   "metadata": {},
   "outputs": [],
   "source": [
    "final['haq'] = 10**(final['ln_haq'])"
   ]
  },
  {
   "cell_type": "code",
   "execution_count": 18,
   "metadata": {},
   "outputs": [],
   "source": [
    "final['exp_fit'] = 10**(final['fit2'])"
   ]
  },
  {
   "cell_type": "code",
   "execution_count": 19,
   "metadata": {},
   "outputs": [],
   "source": [
    "final.loc[final['exp_fit'] > 100.0, 'exp_fit']=100\n"
   ]
  },
  {
   "cell_type": "code",
   "execution_count": 20,
   "metadata": {},
   "outputs": [
    {
     "data": {
      "text/plain": [
       "count      1.0\n",
       "mean     100.0\n",
       "std        NaN\n",
       "min      100.0\n",
       "25%      100.0\n",
       "50%      100.0\n",
       "75%      100.0\n",
       "max      100.0\n",
       "Name: exp_fit, dtype: float64"
      ]
     },
     "execution_count": 20,
     "metadata": {},
     "output_type": "execute_result"
    }
   ],
   "source": [
    "final['exp_fit'].describe()"
   ]
  },
  {
   "cell_type": "code",
   "execution_count": 21,
   "metadata": {},
   "outputs": [],
   "source": [
    "final['haq_over_frontier'] = final['haq']/final['exp_fit']"
   ]
  },
  {
   "cell_type": "code",
   "execution_count": 22,
   "metadata": {},
   "outputs": [
    {
     "data": {
      "text/plain": [
       "array([], dtype=int64)"
      ]
     },
     "execution_count": 22,
     "metadata": {},
     "output_type": "execute_result"
    }
   ],
   "source": [
    "final[final['haq_over_frontier']==1].age_group_id.unique() ## make sure that HAQ over frontier = 1 for age group IDs > 19"
   ]
  },
  {
   "cell_type": "markdown",
   "metadata": {},
   "source": [
    "## End of the copied part from the previously done analysis"
   ]
  },
  {
   "cell_type": "code",
   "execution_count": 23,
   "metadata": {},
   "outputs": [
    {
     "data": {
      "text/html": [
       "<div>\n",
       "<style scoped>\n",
       "    .dataframe tbody tr th:only-of-type {\n",
       "        vertical-align: middle;\n",
       "    }\n",
       "\n",
       "    .dataframe tbody tr th {\n",
       "        vertical-align: top;\n",
       "    }\n",
       "\n",
       "    .dataframe thead th {\n",
       "        text-align: right;\n",
       "    }\n",
       "</style>\n",
       "<table border=\"1\" class=\"dataframe\">\n",
       "  <thead>\n",
       "    <tr style=\"text-align: right;\">\n",
       "      <th></th>\n",
       "      <th>Unnamed: 0</th>\n",
       "      <th>V1</th>\n",
       "      <th>location_id</th>\n",
       "      <th>logit_sdi</th>\n",
       "      <th>age_group_id</th>\n",
       "      <th>ln_haq</th>\n",
       "      <th>fit2</th>\n",
       "      <th>haq</th>\n",
       "      <th>exp_fit</th>\n",
       "      <th>haq_over_frontier</th>\n",
       "    </tr>\n",
       "  </thead>\n",
       "  <tbody>\n",
       "    <tr>\n",
       "      <th>823</th>\n",
       "      <td>824</td>\n",
       "      <td>0</td>\n",
       "      <td>102</td>\n",
       "      <td>1.86831</td>\n",
       "      <td>27</td>\n",
       "      <td>4.374564</td>\n",
       "      <td>4.693256</td>\n",
       "      <td>23689.957588</td>\n",
       "      <td>100.0</td>\n",
       "      <td>236.899576</td>\n",
       "    </tr>\n",
       "  </tbody>\n",
       "</table>\n",
       "</div>"
      ],
      "text/plain": [
       "     Unnamed: 0  V1  location_id  logit_sdi  age_group_id    ln_haq      fit2  \\\n",
       "823         824   0          102    1.86831            27  4.374564  4.693256   \n",
       "\n",
       "              haq  exp_fit  haq_over_frontier  \n",
       "823  23689.957588    100.0         236.899576  "
      ]
     },
     "execution_count": 23,
     "metadata": {},
     "output_type": "execute_result"
    }
   ],
   "source": [
    "final.head()"
   ]
  },
  {
   "cell_type": "code",
   "execution_count": 24,
   "metadata": {},
   "outputs": [
    {
     "data": {
      "text/plain": [
       "(1, 10)"
      ]
     },
     "execution_count": 24,
     "metadata": {},
     "output_type": "execute_result"
    }
   ],
   "source": [
    "final.shape"
   ]
  },
  {
   "cell_type": "markdown",
   "metadata": {},
   "source": [
    "## Getting SDI back from Logit SDI using the Expit function"
   ]
  },
  {
   "cell_type": "code",
   "execution_count": 25,
   "metadata": {},
   "outputs": [],
   "source": [
    "from scipy import special\n",
    "final['sdi'] = special.expit(final['logit_sdi'])"
   ]
  },
  {
   "cell_type": "markdown",
   "metadata": {},
   "source": [
    "## To be merged (on Location Id and Age Group ID) with the DALY data coming from the central funcs - here I end up keeping LogitSDI, rather than SDI, which is what I used for the 2nd June run"
   ]
  },
  {
   "cell_type": "code",
   "execution_count": 26,
   "metadata": {},
   "outputs": [],
   "source": [
    "haq_sdi = final[['age_group_id', 'haq_over_frontier']]"
   ]
  },
  {
   "cell_type": "code",
   "execution_count": 27,
   "metadata": {},
   "outputs": [
    {
     "data": {
      "text/html": [
       "<div>\n",
       "<style scoped>\n",
       "    .dataframe tbody tr th:only-of-type {\n",
       "        vertical-align: middle;\n",
       "    }\n",
       "\n",
       "    .dataframe tbody tr th {\n",
       "        vertical-align: top;\n",
       "    }\n",
       "\n",
       "    .dataframe thead th {\n",
       "        text-align: right;\n",
       "    }\n",
       "</style>\n",
       "<table border=\"1\" class=\"dataframe\">\n",
       "  <thead>\n",
       "    <tr style=\"text-align: right;\">\n",
       "      <th></th>\n",
       "      <th>age_group_id</th>\n",
       "      <th>haq_over_frontier</th>\n",
       "    </tr>\n",
       "  </thead>\n",
       "  <tbody>\n",
       "    <tr>\n",
       "      <th>823</th>\n",
       "      <td>27</td>\n",
       "      <td>236.899576</td>\n",
       "    </tr>\n",
       "  </tbody>\n",
       "</table>\n",
       "</div>"
      ],
      "text/plain": [
       "     age_group_id  haq_over_frontier\n",
       "823            27         236.899576"
      ]
     },
     "execution_count": 27,
     "metadata": {},
     "output_type": "execute_result"
    }
   ],
   "source": [
    "haq_sdi.head()"
   ]
  },
  {
   "cell_type": "code",
   "execution_count": 28,
   "metadata": {},
   "outputs": [
    {
     "data": {
      "text/plain": [
       "(1, 2)"
      ]
     },
     "execution_count": 28,
     "metadata": {},
     "output_type": "execute_result"
    }
   ],
   "source": [
    "haq_sdi.shape"
   ]
  },
  {
   "cell_type": "markdown",
   "metadata": {},
   "source": [
    "## Merge HAQ-over-frontier values with the \"dalys_haq_sdi_answers_out_significant_withoutOld\" dataset"
   ]
  },
  {
   "cell_type": "code",
   "execution_count": 29,
   "metadata": {},
   "outputs": [],
   "source": [
    "dalys_haqFront_sdi = pd.merge(dalys_haq_sdi_answers_out_significant_ageStd, haq_sdi, on=['age_group_id'])"
   ]
  },
  {
   "cell_type": "code",
   "execution_count": 30,
   "metadata": {},
   "outputs": [
    {
     "data": {
      "text/plain": [
       "(167, 8)"
      ]
     },
     "execution_count": 30,
     "metadata": {},
     "output_type": "execute_result"
    }
   ],
   "source": [
    "dalys_haqFront_sdi.shape"
   ]
  },
  {
   "cell_type": "code",
   "execution_count": 31,
   "metadata": {},
   "outputs": [
    {
     "data": {
      "text/html": [
       "<div>\n",
       "<style scoped>\n",
       "    .dataframe tbody tr th:only-of-type {\n",
       "        vertical-align: middle;\n",
       "    }\n",
       "\n",
       "    .dataframe tbody tr th {\n",
       "        vertical-align: top;\n",
       "    }\n",
       "\n",
       "    .dataframe thead th {\n",
       "        text-align: right;\n",
       "    }\n",
       "</style>\n",
       "<table border=\"1\" class=\"dataframe\">\n",
       "  <thead>\n",
       "    <tr style=\"text-align: right;\">\n",
       "      <th></th>\n",
       "      <th>cause_name</th>\n",
       "      <th>cause_id</th>\n",
       "      <th>age_group_name</th>\n",
       "      <th>age_group_id</th>\n",
       "      <th>sex</th>\n",
       "      <th>sex_id</th>\n",
       "      <th>haq_over_frontier_coef</th>\n",
       "      <th>haq_over_frontier</th>\n",
       "    </tr>\n",
       "  </thead>\n",
       "  <tbody>\n",
       "    <tr>\n",
       "      <th>0</th>\n",
       "      <td>HIV/AIDS</td>\n",
       "      <td>298</td>\n",
       "      <td>Age-standardized</td>\n",
       "      <td>27</td>\n",
       "      <td>Male</td>\n",
       "      <td>1</td>\n",
       "      <td>-6.358639e-05</td>\n",
       "      <td>236.899576</td>\n",
       "    </tr>\n",
       "    <tr>\n",
       "      <th>1</th>\n",
       "      <td>HIV/AIDS</td>\n",
       "      <td>298</td>\n",
       "      <td>Age-standardized</td>\n",
       "      <td>27</td>\n",
       "      <td>Female</td>\n",
       "      <td>2</td>\n",
       "      <td>-4.595813e-05</td>\n",
       "      <td>236.899576</td>\n",
       "    </tr>\n",
       "    <tr>\n",
       "      <th>2</th>\n",
       "      <td>Diarrheal diseases</td>\n",
       "      <td>302</td>\n",
       "      <td>Age-standardized</td>\n",
       "      <td>27</td>\n",
       "      <td>Male</td>\n",
       "      <td>1</td>\n",
       "      <td>1.685661e-05</td>\n",
       "      <td>236.899576</td>\n",
       "    </tr>\n",
       "    <tr>\n",
       "      <th>3</th>\n",
       "      <td>Other intestinal infectious diseases</td>\n",
       "      <td>321</td>\n",
       "      <td>Age-standardized</td>\n",
       "      <td>27</td>\n",
       "      <td>Male</td>\n",
       "      <td>1</td>\n",
       "      <td>4.101624e-08</td>\n",
       "      <td>236.899576</td>\n",
       "    </tr>\n",
       "    <tr>\n",
       "      <th>4</th>\n",
       "      <td>Other intestinal infectious diseases</td>\n",
       "      <td>321</td>\n",
       "      <td>Age-standardized</td>\n",
       "      <td>27</td>\n",
       "      <td>Female</td>\n",
       "      <td>2</td>\n",
       "      <td>6.351323e-08</td>\n",
       "      <td>236.899576</td>\n",
       "    </tr>\n",
       "  </tbody>\n",
       "</table>\n",
       "</div>"
      ],
      "text/plain": [
       "                             cause_name  cause_id    age_group_name  \\\n",
       "0                              HIV/AIDS       298  Age-standardized   \n",
       "1                              HIV/AIDS       298  Age-standardized   \n",
       "2                    Diarrheal diseases       302  Age-standardized   \n",
       "3  Other intestinal infectious diseases       321  Age-standardized   \n",
       "4  Other intestinal infectious diseases       321  Age-standardized   \n",
       "\n",
       "   age_group_id     sex  sex_id  haq_over_frontier_coef  haq_over_frontier  \n",
       "0            27    Male       1           -6.358639e-05         236.899576  \n",
       "1            27  Female       2           -4.595813e-05         236.899576  \n",
       "2            27    Male       1            1.685661e-05         236.899576  \n",
       "3            27    Male       1            4.101624e-08         236.899576  \n",
       "4            27  Female       2            6.351323e-08         236.899576  "
      ]
     },
     "execution_count": 31,
     "metadata": {},
     "output_type": "execute_result"
    }
   ],
   "source": [
    "dalys_haqFront_sdi.head()"
   ]
  },
  {
   "cell_type": "markdown",
   "metadata": {},
   "source": [
    "## Getting the population:\n",
    "\n",
    "### To keep things consistent with the age-group-specific regressions/predictions we use 22 (all ages) - {21 (80+) + 20 (75-79)} "
   ]
  },
  {
   "cell_type": "code",
   "execution_count": 83,
   "metadata": {},
   "outputs": [],
   "source": [
    "from db_queries import get_population\n",
    "\n",
    "US_pop = get_population(age_group_id=[20,21,22], location_id=102, year_id=2016, sex_id=[1,2], gbd_round_id=5)"
   ]
  },
  {
   "cell_type": "code",
   "execution_count": 84,
   "metadata": {},
   "outputs": [],
   "source": [
    "US_pop = US_pop[['age_group_id', 'sex_id', 'population']]"
   ]
  },
  {
   "cell_type": "code",
   "execution_count": 85,
   "metadata": {},
   "outputs": [
    {
     "data": {
      "text/html": [
       "<div>\n",
       "<style scoped>\n",
       "    .dataframe tbody tr th:only-of-type {\n",
       "        vertical-align: middle;\n",
       "    }\n",
       "\n",
       "    .dataframe tbody tr th {\n",
       "        vertical-align: top;\n",
       "    }\n",
       "\n",
       "    .dataframe thead th {\n",
       "        text-align: right;\n",
       "    }\n",
       "</style>\n",
       "<table border=\"1\" class=\"dataframe\">\n",
       "  <thead>\n",
       "    <tr style=\"text-align: right;\">\n",
       "      <th></th>\n",
       "      <th>age_group_id</th>\n",
       "      <th>sex_id</th>\n",
       "      <th>population</th>\n",
       "    </tr>\n",
       "  </thead>\n",
       "  <tbody>\n",
       "    <tr>\n",
       "      <th>0</th>\n",
       "      <td>20</td>\n",
       "      <td>1</td>\n",
       "      <td>3.646713e+06</td>\n",
       "    </tr>\n",
       "    <tr>\n",
       "      <th>1</th>\n",
       "      <td>21</td>\n",
       "      <td>1</td>\n",
       "      <td>4.567506e+06</td>\n",
       "    </tr>\n",
       "    <tr>\n",
       "      <th>2</th>\n",
       "      <td>22</td>\n",
       "      <td>1</td>\n",
       "      <td>1.589647e+08</td>\n",
       "    </tr>\n",
       "    <tr>\n",
       "      <th>3</th>\n",
       "      <td>20</td>\n",
       "      <td>2</td>\n",
       "      <td>4.529333e+06</td>\n",
       "    </tr>\n",
       "    <tr>\n",
       "      <th>4</th>\n",
       "      <td>21</td>\n",
       "      <td>2</td>\n",
       "      <td>7.351801e+06</td>\n",
       "    </tr>\n",
       "    <tr>\n",
       "      <th>5</th>\n",
       "      <td>22</td>\n",
       "      <td>2</td>\n",
       "      <td>1.639074e+08</td>\n",
       "    </tr>\n",
       "  </tbody>\n",
       "</table>\n",
       "</div>"
      ],
      "text/plain": [
       "   age_group_id  sex_id    population\n",
       "0            20       1  3.646713e+06\n",
       "1            21       1  4.567506e+06\n",
       "2            22       1  1.589647e+08\n",
       "3            20       2  4.529333e+06\n",
       "4            21       2  7.351801e+06\n",
       "5            22       2  1.639074e+08"
      ]
     },
     "execution_count": 85,
     "metadata": {},
     "output_type": "execute_result"
    }
   ],
   "source": [
    "US_pop"
   ]
  },
  {
   "cell_type": "code",
   "execution_count": 86,
   "metadata": {},
   "outputs": [],
   "source": [
    "US_pop_piv = pd.pivot_table(US_pop,\\\n",
    "                                    values='population', index=['sex_id'],\\\n",
    "                                    columns=['age_group_id'], fill_value='NA')"
   ]
  },
  {
   "cell_type": "code",
   "execution_count": 87,
   "metadata": {},
   "outputs": [
    {
     "data": {
      "text/html": [
       "<div>\n",
       "<style scoped>\n",
       "    .dataframe tbody tr th:only-of-type {\n",
       "        vertical-align: middle;\n",
       "    }\n",
       "\n",
       "    .dataframe tbody tr th {\n",
       "        vertical-align: top;\n",
       "    }\n",
       "\n",
       "    .dataframe thead th {\n",
       "        text-align: right;\n",
       "    }\n",
       "</style>\n",
       "<table border=\"1\" class=\"dataframe\">\n",
       "  <thead>\n",
       "    <tr style=\"text-align: right;\">\n",
       "      <th>age_group_id</th>\n",
       "      <th>20</th>\n",
       "      <th>21</th>\n",
       "      <th>22</th>\n",
       "    </tr>\n",
       "    <tr>\n",
       "      <th>sex_id</th>\n",
       "      <th></th>\n",
       "      <th></th>\n",
       "      <th></th>\n",
       "    </tr>\n",
       "  </thead>\n",
       "  <tbody>\n",
       "    <tr>\n",
       "      <th>1</th>\n",
       "      <td>3.646713e+06</td>\n",
       "      <td>4.567506e+06</td>\n",
       "      <td>1.589647e+08</td>\n",
       "    </tr>\n",
       "    <tr>\n",
       "      <th>2</th>\n",
       "      <td>4.529333e+06</td>\n",
       "      <td>7.351801e+06</td>\n",
       "      <td>1.639074e+08</td>\n",
       "    </tr>\n",
       "  </tbody>\n",
       "</table>\n",
       "</div>"
      ],
      "text/plain": [
       "age_group_id            20            21            22\n",
       "sex_id                                                \n",
       "1             3.646713e+06  4.567506e+06  1.589647e+08\n",
       "2             4.529333e+06  7.351801e+06  1.639074e+08"
      ]
     },
     "execution_count": 87,
     "metadata": {},
     "output_type": "execute_result"
    }
   ],
   "source": [
    "US_pop_piv"
   ]
  },
  {
   "cell_type": "code",
   "execution_count": 114,
   "metadata": {},
   "outputs": [
    {
     "data": {
      "text/plain": [
       "age_group_id\n",
       "20    3.646713e+06\n",
       "21    4.567506e+06\n",
       "22    1.589647e+08\n",
       "Name: 1, dtype: float64"
      ]
     },
     "execution_count": 114,
     "metadata": {},
     "output_type": "execute_result"
    }
   ],
   "source": [
    " US_pop_piv.iloc[0]"
   ]
  },
  {
   "cell_type": "code",
   "execution_count": 115,
   "metadata": {},
   "outputs": [],
   "source": [
    "US_pop_piv_un = pd.DataFrame(columns=['pop', 'sex_id'])"
   ]
  },
  {
   "cell_type": "code",
   "execution_count": 118,
   "metadata": {},
   "outputs": [],
   "source": [
    "for i in range(len(US_pop_piv)):\n",
    "    a = US_pop_piv.iloc[i].iloc[2]-US_pop_piv.iloc[i].iloc[0]-US_pop_piv.iloc[i].iloc[1]\n",
    "    b = US_pop_piv.iloc[i].name\n",
    "    US_pop_piv_un.loc[i] = [a,b]"
   ]
  },
  {
   "cell_type": "code",
   "execution_count": 119,
   "metadata": {},
   "outputs": [
    {
     "data": {
      "text/html": [
       "<div>\n",
       "<style scoped>\n",
       "    .dataframe tbody tr th:only-of-type {\n",
       "        vertical-align: middle;\n",
       "    }\n",
       "\n",
       "    .dataframe tbody tr th {\n",
       "        vertical-align: top;\n",
       "    }\n",
       "\n",
       "    .dataframe thead th {\n",
       "        text-align: right;\n",
       "    }\n",
       "</style>\n",
       "<table border=\"1\" class=\"dataframe\">\n",
       "  <thead>\n",
       "    <tr style=\"text-align: right;\">\n",
       "      <th></th>\n",
       "      <th>pop</th>\n",
       "      <th>sex_id</th>\n",
       "    </tr>\n",
       "  </thead>\n",
       "  <tbody>\n",
       "    <tr>\n",
       "      <th>0</th>\n",
       "      <td>1.507505e+08</td>\n",
       "      <td>1.0</td>\n",
       "    </tr>\n",
       "    <tr>\n",
       "      <th>1</th>\n",
       "      <td>1.520263e+08</td>\n",
       "      <td>2.0</td>\n",
       "    </tr>\n",
       "  </tbody>\n",
       "</table>\n",
       "</div>"
      ],
      "text/plain": [
       "            pop  sex_id\n",
       "0  1.507505e+08     1.0\n",
       "1  1.520263e+08     2.0"
      ]
     },
     "execution_count": 119,
     "metadata": {},
     "output_type": "execute_result"
    }
   ],
   "source": [
    "US_pop_piv_un"
   ]
  },
  {
   "cell_type": "code",
   "execution_count": 123,
   "metadata": {},
   "outputs": [],
   "source": [
    "dalys_haqFront_sdi_withPop = pd.merge(dalys_haqFront_sdi, US_pop_piv_un, on=['sex_id'] )"
   ]
  },
  {
   "cell_type": "code",
   "execution_count": 124,
   "metadata": {},
   "outputs": [
    {
     "data": {
      "text/plain": [
       "(167, 9)"
      ]
     },
     "execution_count": 124,
     "metadata": {},
     "output_type": "execute_result"
    }
   ],
   "source": [
    "dalys_haqFront_sdi_withPop.shape"
   ]
  },
  {
   "cell_type": "code",
   "execution_count": 125,
   "metadata": {},
   "outputs": [
    {
     "data": {
      "text/html": [
       "<div>\n",
       "<style scoped>\n",
       "    .dataframe tbody tr th:only-of-type {\n",
       "        vertical-align: middle;\n",
       "    }\n",
       "\n",
       "    .dataframe tbody tr th {\n",
       "        vertical-align: top;\n",
       "    }\n",
       "\n",
       "    .dataframe thead th {\n",
       "        text-align: right;\n",
       "    }\n",
       "</style>\n",
       "<table border=\"1\" class=\"dataframe\">\n",
       "  <thead>\n",
       "    <tr style=\"text-align: right;\">\n",
       "      <th></th>\n",
       "      <th>cause_name</th>\n",
       "      <th>cause_id</th>\n",
       "      <th>age_group_name</th>\n",
       "      <th>age_group_id</th>\n",
       "      <th>sex</th>\n",
       "      <th>sex_id</th>\n",
       "      <th>haq_over_frontier_coef</th>\n",
       "      <th>haq_over_frontier</th>\n",
       "      <th>pop</th>\n",
       "    </tr>\n",
       "  </thead>\n",
       "  <tbody>\n",
       "    <tr>\n",
       "      <th>0</th>\n",
       "      <td>HIV/AIDS</td>\n",
       "      <td>298</td>\n",
       "      <td>Age-standardized</td>\n",
       "      <td>27</td>\n",
       "      <td>Male</td>\n",
       "      <td>1</td>\n",
       "      <td>-6.358639e-05</td>\n",
       "      <td>236.899576</td>\n",
       "      <td>1.507505e+08</td>\n",
       "    </tr>\n",
       "    <tr>\n",
       "      <th>1</th>\n",
       "      <td>Diarrheal diseases</td>\n",
       "      <td>302</td>\n",
       "      <td>Age-standardized</td>\n",
       "      <td>27</td>\n",
       "      <td>Male</td>\n",
       "      <td>1</td>\n",
       "      <td>1.685661e-05</td>\n",
       "      <td>236.899576</td>\n",
       "      <td>1.507505e+08</td>\n",
       "    </tr>\n",
       "    <tr>\n",
       "      <th>2</th>\n",
       "      <td>Other intestinal infectious diseases</td>\n",
       "      <td>321</td>\n",
       "      <td>Age-standardized</td>\n",
       "      <td>27</td>\n",
       "      <td>Male</td>\n",
       "      <td>1</td>\n",
       "      <td>4.101624e-08</td>\n",
       "      <td>236.899576</td>\n",
       "      <td>1.507505e+08</td>\n",
       "    </tr>\n",
       "    <tr>\n",
       "      <th>3</th>\n",
       "      <td>Lower respiratory infections</td>\n",
       "      <td>322</td>\n",
       "      <td>Age-standardized</td>\n",
       "      <td>27</td>\n",
       "      <td>Male</td>\n",
       "      <td>1</td>\n",
       "      <td>-1.966858e-05</td>\n",
       "      <td>236.899576</td>\n",
       "      <td>1.507505e+08</td>\n",
       "    </tr>\n",
       "    <tr>\n",
       "      <th>4</th>\n",
       "      <td>Upper respiratory infections</td>\n",
       "      <td>328</td>\n",
       "      <td>Age-standardized</td>\n",
       "      <td>27</td>\n",
       "      <td>Male</td>\n",
       "      <td>1</td>\n",
       "      <td>1.345372e-06</td>\n",
       "      <td>236.899576</td>\n",
       "      <td>1.507505e+08</td>\n",
       "    </tr>\n",
       "  </tbody>\n",
       "</table>\n",
       "</div>"
      ],
      "text/plain": [
       "                             cause_name  cause_id    age_group_name  \\\n",
       "0                              HIV/AIDS       298  Age-standardized   \n",
       "1                    Diarrheal diseases       302  Age-standardized   \n",
       "2  Other intestinal infectious diseases       321  Age-standardized   \n",
       "3          Lower respiratory infections       322  Age-standardized   \n",
       "4          Upper respiratory infections       328  Age-standardized   \n",
       "\n",
       "   age_group_id   sex  sex_id  haq_over_frontier_coef  haq_over_frontier  \\\n",
       "0            27  Male       1           -6.358639e-05         236.899576   \n",
       "1            27  Male       1            1.685661e-05         236.899576   \n",
       "2            27  Male       1            4.101624e-08         236.899576   \n",
       "3            27  Male       1           -1.966858e-05         236.899576   \n",
       "4            27  Male       1            1.345372e-06         236.899576   \n",
       "\n",
       "            pop  \n",
       "0  1.507505e+08  \n",
       "1  1.507505e+08  \n",
       "2  1.507505e+08  \n",
       "3  1.507505e+08  \n",
       "4  1.507505e+08  "
      ]
     },
     "execution_count": 125,
     "metadata": {},
     "output_type": "execute_result"
    }
   ],
   "source": [
    "dalys_haqFront_sdi_withPop.head()"
   ]
  },
  {
   "cell_type": "code",
   "execution_count": 126,
   "metadata": {},
   "outputs": [],
   "source": [
    "dalys_haqFront_sdi_withPop['Predicted_DALYs'] = \\\n",
    "dalys_haqFront_sdi_withPop['haq_over_frontier_coef'] * dalys_haqFront_sdi_withPop['haq_over_frontier'] * dalys_haqFront_sdi_withPop['pop']"
   ]
  },
  {
   "cell_type": "code",
   "execution_count": 127,
   "metadata": {},
   "outputs": [
    {
     "data": {
      "text/html": [
       "<div>\n",
       "<style scoped>\n",
       "    .dataframe tbody tr th:only-of-type {\n",
       "        vertical-align: middle;\n",
       "    }\n",
       "\n",
       "    .dataframe tbody tr th {\n",
       "        vertical-align: top;\n",
       "    }\n",
       "\n",
       "    .dataframe thead th {\n",
       "        text-align: right;\n",
       "    }\n",
       "</style>\n",
       "<table border=\"1\" class=\"dataframe\">\n",
       "  <thead>\n",
       "    <tr style=\"text-align: right;\">\n",
       "      <th></th>\n",
       "      <th>cause_name</th>\n",
       "      <th>cause_id</th>\n",
       "      <th>age_group_name</th>\n",
       "      <th>age_group_id</th>\n",
       "      <th>sex</th>\n",
       "      <th>sex_id</th>\n",
       "      <th>haq_over_frontier_coef</th>\n",
       "      <th>haq_over_frontier</th>\n",
       "      <th>pop</th>\n",
       "      <th>Predicted_DALYs</th>\n",
       "    </tr>\n",
       "  </thead>\n",
       "  <tbody>\n",
       "    <tr>\n",
       "      <th>0</th>\n",
       "      <td>HIV/AIDS</td>\n",
       "      <td>298</td>\n",
       "      <td>Age-standardized</td>\n",
       "      <td>27</td>\n",
       "      <td>Male</td>\n",
       "      <td>1</td>\n",
       "      <td>-6.358639e-05</td>\n",
       "      <td>236.899576</td>\n",
       "      <td>1.507505e+08</td>\n",
       "      <td>-2.270843e+06</td>\n",
       "    </tr>\n",
       "    <tr>\n",
       "      <th>1</th>\n",
       "      <td>Diarrheal diseases</td>\n",
       "      <td>302</td>\n",
       "      <td>Age-standardized</td>\n",
       "      <td>27</td>\n",
       "      <td>Male</td>\n",
       "      <td>1</td>\n",
       "      <td>1.685661e-05</td>\n",
       "      <td>236.899576</td>\n",
       "      <td>1.507505e+08</td>\n",
       "      <td>6.019954e+05</td>\n",
       "    </tr>\n",
       "    <tr>\n",
       "      <th>2</th>\n",
       "      <td>Other intestinal infectious diseases</td>\n",
       "      <td>321</td>\n",
       "      <td>Age-standardized</td>\n",
       "      <td>27</td>\n",
       "      <td>Male</td>\n",
       "      <td>1</td>\n",
       "      <td>4.101624e-08</td>\n",
       "      <td>236.899576</td>\n",
       "      <td>1.507505e+08</td>\n",
       "      <td>1.464802e+03</td>\n",
       "    </tr>\n",
       "    <tr>\n",
       "      <th>3</th>\n",
       "      <td>Lower respiratory infections</td>\n",
       "      <td>322</td>\n",
       "      <td>Age-standardized</td>\n",
       "      <td>27</td>\n",
       "      <td>Male</td>\n",
       "      <td>1</td>\n",
       "      <td>-1.966858e-05</td>\n",
       "      <td>236.899576</td>\n",
       "      <td>1.507505e+08</td>\n",
       "      <td>-7.024184e+05</td>\n",
       "    </tr>\n",
       "    <tr>\n",
       "      <th>4</th>\n",
       "      <td>Upper respiratory infections</td>\n",
       "      <td>328</td>\n",
       "      <td>Age-standardized</td>\n",
       "      <td>27</td>\n",
       "      <td>Male</td>\n",
       "      <td>1</td>\n",
       "      <td>1.345372e-06</td>\n",
       "      <td>236.899576</td>\n",
       "      <td>1.507505e+08</td>\n",
       "      <td>4.804690e+04</td>\n",
       "    </tr>\n",
       "  </tbody>\n",
       "</table>\n",
       "</div>"
      ],
      "text/plain": [
       "                             cause_name  cause_id    age_group_name  \\\n",
       "0                              HIV/AIDS       298  Age-standardized   \n",
       "1                    Diarrheal diseases       302  Age-standardized   \n",
       "2  Other intestinal infectious diseases       321  Age-standardized   \n",
       "3          Lower respiratory infections       322  Age-standardized   \n",
       "4          Upper respiratory infections       328  Age-standardized   \n",
       "\n",
       "   age_group_id   sex  sex_id  haq_over_frontier_coef  haq_over_frontier  \\\n",
       "0            27  Male       1           -6.358639e-05         236.899576   \n",
       "1            27  Male       1            1.685661e-05         236.899576   \n",
       "2            27  Male       1            4.101624e-08         236.899576   \n",
       "3            27  Male       1           -1.966858e-05         236.899576   \n",
       "4            27  Male       1            1.345372e-06         236.899576   \n",
       "\n",
       "            pop  Predicted_DALYs  \n",
       "0  1.507505e+08    -2.270843e+06  \n",
       "1  1.507505e+08     6.019954e+05  \n",
       "2  1.507505e+08     1.464802e+03  \n",
       "3  1.507505e+08    -7.024184e+05  \n",
       "4  1.507505e+08     4.804690e+04  "
      ]
     },
     "execution_count": 127,
     "metadata": {},
     "output_type": "execute_result"
    }
   ],
   "source": [
    "dalys_haqFront_sdi_withPop.head()"
   ]
  },
  {
   "cell_type": "code",
   "execution_count": 128,
   "metadata": {},
   "outputs": [],
   "source": [
    "dalys_haqFront_sdi_withPop_final = dalys_haqFront_sdi_withPop[['cause_name', 'cause_id', 'sex_id', 'Predicted_DALYs']]"
   ]
  },
  {
   "cell_type": "code",
   "execution_count": 129,
   "metadata": {},
   "outputs": [
    {
     "data": {
      "text/html": [
       "<div>\n",
       "<style scoped>\n",
       "    .dataframe tbody tr th:only-of-type {\n",
       "        vertical-align: middle;\n",
       "    }\n",
       "\n",
       "    .dataframe tbody tr th {\n",
       "        vertical-align: top;\n",
       "    }\n",
       "\n",
       "    .dataframe thead th {\n",
       "        text-align: right;\n",
       "    }\n",
       "</style>\n",
       "<table border=\"1\" class=\"dataframe\">\n",
       "  <thead>\n",
       "    <tr style=\"text-align: right;\">\n",
       "      <th></th>\n",
       "      <th>cause_name</th>\n",
       "      <th>cause_id</th>\n",
       "      <th>sex_id</th>\n",
       "      <th>Predicted_DALYs</th>\n",
       "    </tr>\n",
       "  </thead>\n",
       "  <tbody>\n",
       "    <tr>\n",
       "      <th>0</th>\n",
       "      <td>HIV/AIDS</td>\n",
       "      <td>298</td>\n",
       "      <td>1</td>\n",
       "      <td>-2.270843e+06</td>\n",
       "    </tr>\n",
       "    <tr>\n",
       "      <th>1</th>\n",
       "      <td>Diarrheal diseases</td>\n",
       "      <td>302</td>\n",
       "      <td>1</td>\n",
       "      <td>6.019954e+05</td>\n",
       "    </tr>\n",
       "    <tr>\n",
       "      <th>2</th>\n",
       "      <td>Other intestinal infectious diseases</td>\n",
       "      <td>321</td>\n",
       "      <td>1</td>\n",
       "      <td>1.464802e+03</td>\n",
       "    </tr>\n",
       "    <tr>\n",
       "      <th>3</th>\n",
       "      <td>Lower respiratory infections</td>\n",
       "      <td>322</td>\n",
       "      <td>1</td>\n",
       "      <td>-7.024184e+05</td>\n",
       "    </tr>\n",
       "    <tr>\n",
       "      <th>4</th>\n",
       "      <td>Upper respiratory infections</td>\n",
       "      <td>328</td>\n",
       "      <td>1</td>\n",
       "      <td>4.804690e+04</td>\n",
       "    </tr>\n",
       "  </tbody>\n",
       "</table>\n",
       "</div>"
      ],
      "text/plain": [
       "                             cause_name  cause_id  sex_id  Predicted_DALYs\n",
       "0                              HIV/AIDS       298       1    -2.270843e+06\n",
       "1                    Diarrheal diseases       302       1     6.019954e+05\n",
       "2  Other intestinal infectious diseases       321       1     1.464802e+03\n",
       "3          Lower respiratory infections       322       1    -7.024184e+05\n",
       "4          Upper respiratory infections       328       1     4.804690e+04"
      ]
     },
     "execution_count": 129,
     "metadata": {},
     "output_type": "execute_result"
    }
   ],
   "source": [
    "dalys_haqFront_sdi_withPop_final.head()"
   ]
  },
  {
   "cell_type": "code",
   "execution_count": 130,
   "metadata": {},
   "outputs": [
    {
     "data": {
      "text/plain": [
       "(167, 4)"
      ]
     },
     "execution_count": 130,
     "metadata": {},
     "output_type": "execute_result"
    }
   ],
   "source": [
    "dalys_haqFront_sdi_withPop_final.shape"
   ]
  },
  {
   "cell_type": "markdown",
   "metadata": {},
   "source": [
    "## Now onto the pivotting part"
   ]
  },
  {
   "cell_type": "markdown",
   "metadata": {},
   "source": [
    "## Segregating for men and women"
   ]
  },
  {
   "cell_type": "code",
   "execution_count": 131,
   "metadata": {},
   "outputs": [],
   "source": [
    "dalys_haqFront_sdi_withPop_final_male = \\\n",
    "dalys_haqFront_sdi_withPop_final[dalys_haqFront_sdi_withPop_final['sex_id']==1]"
   ]
  },
  {
   "cell_type": "code",
   "execution_count": 132,
   "metadata": {},
   "outputs": [],
   "source": [
    "dalys_haqFront_sdi_withPop_final_male = dalys_haqFront_sdi_withPop_final_male.drop(columns=['sex_id'])"
   ]
  },
  {
   "cell_type": "code",
   "execution_count": 133,
   "metadata": {},
   "outputs": [
    {
     "data": {
      "text/html": [
       "<div>\n",
       "<style scoped>\n",
       "    .dataframe tbody tr th:only-of-type {\n",
       "        vertical-align: middle;\n",
       "    }\n",
       "\n",
       "    .dataframe tbody tr th {\n",
       "        vertical-align: top;\n",
       "    }\n",
       "\n",
       "    .dataframe thead th {\n",
       "        text-align: right;\n",
       "    }\n",
       "</style>\n",
       "<table border=\"1\" class=\"dataframe\">\n",
       "  <thead>\n",
       "    <tr style=\"text-align: right;\">\n",
       "      <th></th>\n",
       "      <th>cause_name</th>\n",
       "      <th>cause_id</th>\n",
       "      <th>Predicted_DALYs</th>\n",
       "    </tr>\n",
       "  </thead>\n",
       "  <tbody>\n",
       "    <tr>\n",
       "      <th>0</th>\n",
       "      <td>HIV/AIDS</td>\n",
       "      <td>298</td>\n",
       "      <td>-2.270843e+06</td>\n",
       "    </tr>\n",
       "    <tr>\n",
       "      <th>1</th>\n",
       "      <td>Diarrheal diseases</td>\n",
       "      <td>302</td>\n",
       "      <td>6.019954e+05</td>\n",
       "    </tr>\n",
       "    <tr>\n",
       "      <th>2</th>\n",
       "      <td>Other intestinal infectious diseases</td>\n",
       "      <td>321</td>\n",
       "      <td>1.464802e+03</td>\n",
       "    </tr>\n",
       "    <tr>\n",
       "      <th>3</th>\n",
       "      <td>Lower respiratory infections</td>\n",
       "      <td>322</td>\n",
       "      <td>-7.024184e+05</td>\n",
       "    </tr>\n",
       "    <tr>\n",
       "      <th>4</th>\n",
       "      <td>Upper respiratory infections</td>\n",
       "      <td>328</td>\n",
       "      <td>4.804690e+04</td>\n",
       "    </tr>\n",
       "  </tbody>\n",
       "</table>\n",
       "</div>"
      ],
      "text/plain": [
       "                             cause_name  cause_id  Predicted_DALYs\n",
       "0                              HIV/AIDS       298    -2.270843e+06\n",
       "1                    Diarrheal diseases       302     6.019954e+05\n",
       "2  Other intestinal infectious diseases       321     1.464802e+03\n",
       "3          Lower respiratory infections       322    -7.024184e+05\n",
       "4          Upper respiratory infections       328     4.804690e+04"
      ]
     },
     "execution_count": 133,
     "metadata": {},
     "output_type": "execute_result"
    }
   ],
   "source": [
    "dalys_haqFront_sdi_withPop_final_male.head()"
   ]
  },
  {
   "cell_type": "code",
   "execution_count": 134,
   "metadata": {},
   "outputs": [
    {
     "data": {
      "text/plain": [
       "(87, 3)"
      ]
     },
     "execution_count": 134,
     "metadata": {},
     "output_type": "execute_result"
    }
   ],
   "source": [
    "dalys_haqFront_sdi_withPop_final_male.shape"
   ]
  },
  {
   "cell_type": "code",
   "execution_count": 135,
   "metadata": {},
   "outputs": [],
   "source": [
    "dalys_haqFront_sdi_withPop_final_female = \\\n",
    "dalys_haqFront_sdi_withPop_final[dalys_haqFront_sdi_withPop_final['sex_id']==2]"
   ]
  },
  {
   "cell_type": "code",
   "execution_count": 136,
   "metadata": {},
   "outputs": [],
   "source": [
    "dalys_haqFront_sdi_withPop_final_female = dalys_haqFront_sdi_withPop_final_female.drop(columns=['sex_id'])"
   ]
  },
  {
   "cell_type": "code",
   "execution_count": 137,
   "metadata": {},
   "outputs": [
    {
     "data": {
      "text/html": [
       "<div>\n",
       "<style scoped>\n",
       "    .dataframe tbody tr th:only-of-type {\n",
       "        vertical-align: middle;\n",
       "    }\n",
       "\n",
       "    .dataframe tbody tr th {\n",
       "        vertical-align: top;\n",
       "    }\n",
       "\n",
       "    .dataframe thead th {\n",
       "        text-align: right;\n",
       "    }\n",
       "</style>\n",
       "<table border=\"1\" class=\"dataframe\">\n",
       "  <thead>\n",
       "    <tr style=\"text-align: right;\">\n",
       "      <th></th>\n",
       "      <th>cause_name</th>\n",
       "      <th>cause_id</th>\n",
       "      <th>Predicted_DALYs</th>\n",
       "    </tr>\n",
       "  </thead>\n",
       "  <tbody>\n",
       "    <tr>\n",
       "      <th>87</th>\n",
       "      <td>HIV/AIDS</td>\n",
       "      <td>298</td>\n",
       "      <td>-1.655180e+06</td>\n",
       "    </tr>\n",
       "    <tr>\n",
       "      <th>88</th>\n",
       "      <td>Other intestinal infectious diseases</td>\n",
       "      <td>321</td>\n",
       "      <td>2.287426e+03</td>\n",
       "    </tr>\n",
       "    <tr>\n",
       "      <th>89</th>\n",
       "      <td>Upper respiratory infections</td>\n",
       "      <td>328</td>\n",
       "      <td>6.128763e+04</td>\n",
       "    </tr>\n",
       "    <tr>\n",
       "      <th>90</th>\n",
       "      <td>Meningitis</td>\n",
       "      <td>332</td>\n",
       "      <td>2.522087e+05</td>\n",
       "    </tr>\n",
       "    <tr>\n",
       "      <th>91</th>\n",
       "      <td>Diphtheria</td>\n",
       "      <td>338</td>\n",
       "      <td>4.968978e+03</td>\n",
       "    </tr>\n",
       "  </tbody>\n",
       "</table>\n",
       "</div>"
      ],
      "text/plain": [
       "                              cause_name  cause_id  Predicted_DALYs\n",
       "87                              HIV/AIDS       298    -1.655180e+06\n",
       "88  Other intestinal infectious diseases       321     2.287426e+03\n",
       "89          Upper respiratory infections       328     6.128763e+04\n",
       "90                            Meningitis       332     2.522087e+05\n",
       "91                            Diphtheria       338     4.968978e+03"
      ]
     },
     "execution_count": 137,
     "metadata": {},
     "output_type": "execute_result"
    }
   ],
   "source": [
    "dalys_haqFront_sdi_withPop_final_female.head()"
   ]
  },
  {
   "cell_type": "code",
   "execution_count": 138,
   "metadata": {},
   "outputs": [
    {
     "data": {
      "text/plain": [
       "(80, 3)"
      ]
     },
     "execution_count": 138,
     "metadata": {},
     "output_type": "execute_result"
    }
   ],
   "source": [
    "dalys_haqFront_sdi_withPop_final_female.shape"
   ]
  },
  {
   "cell_type": "code",
   "execution_count": 139,
   "metadata": {},
   "outputs": [],
   "source": [
    "dalys_haqFront_sdi_withPop_final_female.to_csv('/ihme/homes/arjuns13/notebooks/Documents/Data/dalys_haq_sdi_females_ageStd_PredictedDALYs_10Jun19.csv')"
   ]
  },
  {
   "cell_type": "code",
   "execution_count": 140,
   "metadata": {},
   "outputs": [],
   "source": [
    "dalys_haqFront_sdi_withPop_final_female.to_csv('J:\\\\Project\\\\Cost_Effectiveness\\\\NPC\\\\Regression_Analysis\\\\dalys_haq_sdi_females_ageStd_PredictedDALYs_10Jun19.csv')"
   ]
  },
  {
   "cell_type": "code",
   "execution_count": 141,
   "metadata": {},
   "outputs": [],
   "source": [
    "dalys_haqFront_sdi_withPop_final_male.to_csv('/ihme/homes/arjuns13/notebooks/Documents/Data/dalys_haq_sdi_males_ageStd_PredictedDALYs_10Jun19.csv')"
   ]
  },
  {
   "cell_type": "code",
   "execution_count": 142,
   "metadata": {},
   "outputs": [],
   "source": [
    "dalys_haqFront_sdi_withPop_final_male.to_csv('J:\\\\Project\\\\Cost_Effectiveness\\\\NPC\\\\Regression_Analysis\\\\dalys_haq_sdi_males_ageStd_PredictedDALYs_10Jun19.csv')"
   ]
  },
  {
   "cell_type": "code",
   "execution_count": null,
   "metadata": {},
   "outputs": [],
   "source": []
  }
 ],
 "metadata": {
  "kernelspec": {
   "display_name": "Python 3",
   "language": "python",
   "name": "python3"
  },
  "language_info": {
   "codemirror_mode": {
    "name": "ipython",
    "version": 3
   },
   "file_extension": ".py",
   "mimetype": "text/x-python",
   "name": "python",
   "nbconvert_exporter": "python",
   "pygments_lexer": "ipython3",
   "version": "3.7.1"
  }
 },
 "nbformat": 4,
 "nbformat_minor": 2
}
