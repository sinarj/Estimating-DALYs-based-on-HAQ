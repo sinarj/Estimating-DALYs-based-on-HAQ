{
 "cells": [
  {
   "cell_type": "markdown",
   "metadata": {},
   "source": [
    "# Notebook for running all the regressions using OLS for every group of cause--sex, as this is for age standadized data\n",
    "\n",
    "## Based on the previous analysis, we use the age groups upto 74 years and logit SDI as the predictor rather than SDI, along with the HAQ indices obtained for GBD round 5"
   ]
  },
  {
   "cell_type": "markdown",
   "metadata": {},
   "source": [
    "## Loading causes based on highest expenditure data (based on Joe's list and COD methods)"
   ]
  },
  {
   "cell_type": "code",
   "execution_count": 1,
   "metadata": {},
   "outputs": [],
   "source": [
    "import pandas as pd\n",
    "cause_list_final = pd.read_excel('/ihme/homes/arjuns13/notebooks/Documents/Data/CandidateCauses_Criteria_withCODEM_andDALYs_latest2ndJune.xlsx')"
   ]
  },
  {
   "cell_type": "code",
   "execution_count": 2,
   "metadata": {},
   "outputs": [
    {
     "data": {
      "text/html": [
       "<div>\n",
       "<style scoped>\n",
       "    .dataframe tbody tr th:only-of-type {\n",
       "        vertical-align: middle;\n",
       "    }\n",
       "\n",
       "    .dataframe tbody tr th {\n",
       "        vertical-align: top;\n",
       "    }\n",
       "\n",
       "    .dataframe thead th {\n",
       "        text-align: right;\n",
       "    }\n",
       "</style>\n",
       "<table border=\"1\" class=\"dataframe\">\n",
       "  <thead>\n",
       "    <tr style=\"text-align: right;\">\n",
       "      <th></th>\n",
       "      <th>Unnamed: 0</th>\n",
       "      <th>DEX ranking by total expenditure</th>\n",
       "      <th>GBD cause_id</th>\n",
       "      <th>DEX descriptive label</th>\n",
       "      <th>Preliminary amenable burden analysis conducted</th>\n",
       "      <th>Comment</th>\n",
       "      <th>Number of GBD round 5 global CODEM models in which HAQ index was included</th>\n",
       "      <th>Number of GBD round 5data rich CODEM models in which HAQ index was included</th>\n",
       "      <th>Was HAQ index included in nonfatal model?</th>\n",
       "      <th>Ranking DALYs in US</th>\n",
       "      <th>Priority</th>\n",
       "      <th>Total DALYs in the United States, GBD round 5, year = 2016</th>\n",
       "      <th>DALYs per 100,000 people in the United States, GBD round 5, year = 2016</th>\n",
       "      <th>Total DALYs globally, GBD round 5, year = 2016</th>\n",
       "      <th>DALYs per 100000  people globally, GBD round 5, year = 2016</th>\n",
       "      <th>Expenditure per person?</th>\n",
       "      <th>Unnamed: 16</th>\n",
       "      <th>Unnamed: 17</th>\n",
       "      <th>Unnamed: 18</th>\n",
       "    </tr>\n",
       "  </thead>\n",
       "  <tbody>\n",
       "    <tr>\n",
       "      <th>0</th>\n",
       "      <td>61</td>\n",
       "      <td>75</td>\n",
       "      <td>298.0</td>\n",
       "      <td>HIV/AIDS</td>\n",
       "      <td>NaN</td>\n",
       "      <td>NaN</td>\n",
       "      <td>NaN</td>\n",
       "      <td>NaN</td>\n",
       "      <td>NaN</td>\n",
       "      <td>53</td>\n",
       "      <td>*</td>\n",
       "      <td>4.099518e+05</td>\n",
       "      <td>126.970345</td>\n",
       "      <td>5.904798e+07</td>\n",
       "      <td>781.627137</td>\n",
       "      <td>NaN</td>\n",
       "      <td>NaN</td>\n",
       "      <td>NaN</td>\n",
       "      <td>NaN</td>\n",
       "    </tr>\n",
       "    <tr>\n",
       "      <th>1</th>\n",
       "      <td>0</td>\n",
       "      <td>1</td>\n",
       "      <td>587.0</td>\n",
       "      <td>Diabetes mellitus</td>\n",
       "      <td>Yes</td>\n",
       "      <td>NaN</td>\n",
       "      <td>694.0</td>\n",
       "      <td>553.0</td>\n",
       "      <td>Yes, proportion with foot ulcer</td>\n",
       "      <td>6</td>\n",
       "      <td>4</td>\n",
       "      <td>3.814559e+06</td>\n",
       "      <td>1181.445965</td>\n",
       "      <td>6.651521e+07</td>\n",
       "      <td>880.471923</td>\n",
       "      <td>NaN</td>\n",
       "      <td>NaN</td>\n",
       "      <td>Priority criteria</td>\n",
       "      <td>NaN</td>\n",
       "    </tr>\n",
       "    <tr>\n",
       "      <th>2</th>\n",
       "      <td>1</td>\n",
       "      <td>2</td>\n",
       "      <td>493.0</td>\n",
       "      <td>Ischemic heart disease</td>\n",
       "      <td>NaN</td>\n",
       "      <td>NaN</td>\n",
       "      <td>372.5</td>\n",
       "      <td>608.5</td>\n",
       "      <td>Yes</td>\n",
       "      <td>1</td>\n",
       "      <td>4</td>\n",
       "      <td>7.854095e+06</td>\n",
       "      <td>2432.571827</td>\n",
       "      <td>1.688977e+08</td>\n",
       "      <td>2235.725150</td>\n",
       "      <td>NaN</td>\n",
       "      <td>NaN</td>\n",
       "      <td>1</td>\n",
       "      <td>Top 60 spending ranking</td>\n",
       "    </tr>\n",
       "    <tr>\n",
       "      <th>3</th>\n",
       "      <td>3</td>\n",
       "      <td>5</td>\n",
       "      <td>697.0</td>\n",
       "      <td>Falls</td>\n",
       "      <td>Yes</td>\n",
       "      <td>NaN</td>\n",
       "      <td>352.5</td>\n",
       "      <td>30.0</td>\n",
       "      <td>Yes, % treated</td>\n",
       "      <td>18</td>\n",
       "      <td>4</td>\n",
       "      <td>1.899736e+06</td>\n",
       "      <td>588.386632</td>\n",
       "      <td>3.551392e+07</td>\n",
       "      <td>470.103220</td>\n",
       "      <td>NaN</td>\n",
       "      <td>NaN</td>\n",
       "      <td>1</td>\n",
       "      <td>Top 60 DALY ranking</td>\n",
       "    </tr>\n",
       "    <tr>\n",
       "      <th>4</th>\n",
       "      <td>9</td>\n",
       "      <td>12</td>\n",
       "      <td>509.0</td>\n",
       "      <td>Chronic obstructive pulmonary disease</td>\n",
       "      <td>Yes</td>\n",
       "      <td>NaN</td>\n",
       "      <td>532.5</td>\n",
       "      <td>353.0</td>\n",
       "      <td>Yes</td>\n",
       "      <td>4</td>\n",
       "      <td>4</td>\n",
       "      <td>4.613470e+06</td>\n",
       "      <td>1428.884710</td>\n",
       "      <td>8.059322e+07</td>\n",
       "      <td>1066.824645</td>\n",
       "      <td>NaN</td>\n",
       "      <td>NaN</td>\n",
       "      <td>1</td>\n",
       "      <td>CODEM model</td>\n",
       "    </tr>\n",
       "  </tbody>\n",
       "</table>\n",
       "</div>"
      ],
      "text/plain": [
       "   Unnamed: 0 DEX ranking by total expenditure  GBD cause_id  \\\n",
       "0          61                               75         298.0   \n",
       "1           0                                1         587.0   \n",
       "2           1                                2         493.0   \n",
       "3           3                                5         697.0   \n",
       "4           9                               12         509.0   \n",
       "\n",
       "                   DEX descriptive label  \\\n",
       "0                               HIV/AIDS   \n",
       "1                      Diabetes mellitus   \n",
       "2                 Ischemic heart disease   \n",
       "3                                  Falls   \n",
       "4  Chronic obstructive pulmonary disease   \n",
       "\n",
       "  Preliminary amenable burden analysis conducted  Comment  \\\n",
       "0                                             NaN     NaN   \n",
       "1                                             Yes     NaN   \n",
       "2                                             NaN     NaN   \n",
       "3                                             Yes     NaN   \n",
       "4                                             Yes     NaN   \n",
       "\n",
       "   Number of GBD round 5 global CODEM models in which HAQ index was included  \\\n",
       "0                                                NaN                           \n",
       "1                                              694.0                           \n",
       "2                                              372.5                           \n",
       "3                                              352.5                           \n",
       "4                                              532.5                           \n",
       "\n",
       "   Number of GBD round 5data rich CODEM models in which HAQ index was included  \\\n",
       "0                                                NaN                             \n",
       "1                                              553.0                             \n",
       "2                                              608.5                             \n",
       "3                                               30.0                             \n",
       "4                                              353.0                             \n",
       "\n",
       "  Was HAQ index included in nonfatal model?  Ranking DALYs in US Priority  \\\n",
       "0                                       NaN                   53        *   \n",
       "1           Yes, proportion with foot ulcer                    6        4   \n",
       "2                                       Yes                    1        4   \n",
       "3                           Yes, % treated                    18        4   \n",
       "4                                      Yes                     4        4   \n",
       "\n",
       "   Total DALYs in the United States, GBD round 5, year = 2016  \\\n",
       "0                                       4.099518e+05            \n",
       "1                                       3.814559e+06            \n",
       "2                                       7.854095e+06            \n",
       "3                                       1.899736e+06            \n",
       "4                                       4.613470e+06            \n",
       "\n",
       "   DALYs per 100,000 people in the United States, GBD round 5, year = 2016  \\\n",
       "0                                         126.970345                         \n",
       "1                                        1181.445965                         \n",
       "2                                        2432.571827                         \n",
       "3                                         588.386632                         \n",
       "4                                        1428.884710                         \n",
       "\n",
       "   Total DALYs globally, GBD round 5, year = 2016  \\\n",
       "0                                    5.904798e+07   \n",
       "1                                    6.651521e+07   \n",
       "2                                    1.688977e+08   \n",
       "3                                    3.551392e+07   \n",
       "4                                    8.059322e+07   \n",
       "\n",
       "   DALYs per 100000  people globally, GBD round 5, year = 2016  \\\n",
       "0                                         781.627137             \n",
       "1                                         880.471923             \n",
       "2                                        2235.725150             \n",
       "3                                         470.103220             \n",
       "4                                        1066.824645             \n",
       "\n",
       "   Expenditure per person?  Unnamed: 16        Unnamed: 17  \\\n",
       "0                      NaN          NaN                NaN   \n",
       "1                      NaN          NaN  Priority criteria   \n",
       "2                      NaN          NaN                  1   \n",
       "3                      NaN          NaN                  1   \n",
       "4                      NaN          NaN                  1   \n",
       "\n",
       "               Unnamed: 18  \n",
       "0                      NaN  \n",
       "1                      NaN  \n",
       "2  Top 60 spending ranking  \n",
       "3      Top 60 DALY ranking  \n",
       "4              CODEM model  "
      ]
     },
     "execution_count": 2,
     "metadata": {},
     "output_type": "execute_result"
    }
   ],
   "source": [
    "cause_list_final.head()"
   ]
  },
  {
   "cell_type": "code",
   "execution_count": 3,
   "metadata": {},
   "outputs": [
    {
     "data": {
      "text/plain": [
       "(149, 19)"
      ]
     },
     "execution_count": 3,
     "metadata": {},
     "output_type": "execute_result"
    }
   ],
   "source": [
    "cause_list_final.shape"
   ]
  },
  {
   "cell_type": "code",
   "execution_count": 4,
   "metadata": {},
   "outputs": [],
   "source": [
    "cause_ids_final = cause_list_final['GBD cause_id']"
   ]
  },
  {
   "cell_type": "code",
   "execution_count": 5,
   "metadata": {},
   "outputs": [],
   "source": [
    "cause_ids_final = cause_ids_final.dropna()"
   ]
  },
  {
   "cell_type": "code",
   "execution_count": 6,
   "metadata": {},
   "outputs": [],
   "source": [
    "cause_ids_final = cause_ids_final.astype('int')"
   ]
  },
  {
   "cell_type": "markdown",
   "metadata": {},
   "source": [
    "### getting the values computed earlier - for HAQ frontiers, Logit_SDIs and older DALYs (without cause IDs)"
   ]
  },
  {
   "cell_type": "code",
   "execution_count": 7,
   "metadata": {},
   "outputs": [],
   "source": [
    "haqFront_sdi_daly_data = pd.read_csv('/ihme/homes/arjuns13/notebooks/Documents/Data/haq_sdi_frontier_estimates_ageStd_aggregatedCauses_allMostDetLocs.csv')"
   ]
  },
  {
   "cell_type": "code",
   "execution_count": 8,
   "metadata": {},
   "outputs": [
    {
     "data": {
      "text/html": [
       "<div>\n",
       "<style scoped>\n",
       "    .dataframe tbody tr th:only-of-type {\n",
       "        vertical-align: middle;\n",
       "    }\n",
       "\n",
       "    .dataframe tbody tr th {\n",
       "        vertical-align: top;\n",
       "    }\n",
       "\n",
       "    .dataframe thead th {\n",
       "        text-align: right;\n",
       "    }\n",
       "</style>\n",
       "<table border=\"1\" class=\"dataframe\">\n",
       "  <thead>\n",
       "    <tr style=\"text-align: right;\">\n",
       "      <th></th>\n",
       "      <th>Unnamed: 0</th>\n",
       "      <th>V1</th>\n",
       "      <th>location_id</th>\n",
       "      <th>logit_sdi</th>\n",
       "      <th>age_group_id</th>\n",
       "      <th>ln_haq</th>\n",
       "      <th>fit2</th>\n",
       "    </tr>\n",
       "  </thead>\n",
       "  <tbody>\n",
       "    <tr>\n",
       "      <th>0</th>\n",
       "      <td>1</td>\n",
       "      <td>0</td>\n",
       "      <td>7</td>\n",
       "      <td>0.110348</td>\n",
       "      <td>27</td>\n",
       "      <td>3.792486</td>\n",
       "      <td>3.757823</td>\n",
       "    </tr>\n",
       "  </tbody>\n",
       "</table>\n",
       "</div>"
      ],
      "text/plain": [
       "   Unnamed: 0  V1  location_id  logit_sdi  age_group_id    ln_haq      fit2\n",
       "0           1   0            7   0.110348            27  3.792486  3.757823"
      ]
     },
     "execution_count": 8,
     "metadata": {},
     "output_type": "execute_result"
    }
   ],
   "source": [
    "haqFront_sdi_daly_data[haqFront_sdi_daly_data['location_id']==7]"
   ]
  },
  {
   "cell_type": "code",
   "execution_count": 9,
   "metadata": {},
   "outputs": [
    {
     "data": {
      "text/html": [
       "<div>\n",
       "<style scoped>\n",
       "    .dataframe tbody tr th:only-of-type {\n",
       "        vertical-align: middle;\n",
       "    }\n",
       "\n",
       "    .dataframe tbody tr th {\n",
       "        vertical-align: top;\n",
       "    }\n",
       "\n",
       "    .dataframe thead th {\n",
       "        text-align: right;\n",
       "    }\n",
       "</style>\n",
       "<table border=\"1\" class=\"dataframe\">\n",
       "  <thead>\n",
       "    <tr style=\"text-align: right;\">\n",
       "      <th></th>\n",
       "      <th>Unnamed: 0</th>\n",
       "      <th>V1</th>\n",
       "      <th>location_id</th>\n",
       "      <th>logit_sdi</th>\n",
       "      <th>age_group_id</th>\n",
       "      <th>ln_haq</th>\n",
       "      <th>fit2</th>\n",
       "    </tr>\n",
       "  </thead>\n",
       "  <tbody>\n",
       "    <tr>\n",
       "      <th>0</th>\n",
       "      <td>1</td>\n",
       "      <td>0</td>\n",
       "      <td>7</td>\n",
       "      <td>0.110348</td>\n",
       "      <td>27</td>\n",
       "      <td>3.792486</td>\n",
       "      <td>3.757823</td>\n",
       "    </tr>\n",
       "    <tr>\n",
       "      <th>1</th>\n",
       "      <td>2</td>\n",
       "      <td>1</td>\n",
       "      <td>8</td>\n",
       "      <td>1.820419</td>\n",
       "      <td>27</td>\n",
       "      <td>4.367523</td>\n",
       "      <td>4.668259</td>\n",
       "    </tr>\n",
       "    <tr>\n",
       "      <th>2</th>\n",
       "      <td>3</td>\n",
       "      <td>2</td>\n",
       "      <td>10</td>\n",
       "      <td>-0.093432</td>\n",
       "      <td>27</td>\n",
       "      <td>3.509703</td>\n",
       "      <td>3.649331</td>\n",
       "    </tr>\n",
       "    <tr>\n",
       "      <th>3</th>\n",
       "      <td>4</td>\n",
       "      <td>3</td>\n",
       "      <td>12</td>\n",
       "      <td>0.046388</td>\n",
       "      <td>27</td>\n",
       "      <td>3.245486</td>\n",
       "      <td>3.723771</td>\n",
       "    </tr>\n",
       "    <tr>\n",
       "      <th>4</th>\n",
       "      <td>5</td>\n",
       "      <td>4</td>\n",
       "      <td>13</td>\n",
       "      <td>1.137170</td>\n",
       "      <td>27</td>\n",
       "      <td>4.000794</td>\n",
       "      <td>4.304499</td>\n",
       "    </tr>\n",
       "  </tbody>\n",
       "</table>\n",
       "</div>"
      ],
      "text/plain": [
       "   Unnamed: 0  V1  location_id  logit_sdi  age_group_id    ln_haq      fit2\n",
       "0           1   0            7   0.110348            27  3.792486  3.757823\n",
       "1           2   1            8   1.820419            27  4.367523  4.668259\n",
       "2           3   2           10  -0.093432            27  3.509703  3.649331\n",
       "3           4   3           12   0.046388            27  3.245486  3.723771\n",
       "4           5   4           13   1.137170            27  4.000794  4.304499"
      ]
     },
     "execution_count": 9,
     "metadata": {},
     "output_type": "execute_result"
    }
   ],
   "source": [
    "haqFront_sdi_daly_data.head()"
   ]
  },
  {
   "cell_type": "code",
   "execution_count": 10,
   "metadata": {},
   "outputs": [],
   "source": [
    "final = haqFront_sdi_daly_data"
   ]
  },
  {
   "cell_type": "code",
   "execution_count": 11,
   "metadata": {},
   "outputs": [],
   "source": [
    "final['haq'] = 10**(final['ln_haq'])"
   ]
  },
  {
   "cell_type": "code",
   "execution_count": 12,
   "metadata": {},
   "outputs": [],
   "source": [
    "final['exp_fit'] = 10**(final['fit2'])"
   ]
  },
  {
   "cell_type": "code",
   "execution_count": 13,
   "metadata": {},
   "outputs": [],
   "source": [
    "final.loc[final['exp_fit'] > 100.0, 'exp_fit']=100\n"
   ]
  },
  {
   "cell_type": "code",
   "execution_count": 14,
   "metadata": {},
   "outputs": [
    {
     "data": {
      "text/plain": [
       "count    823.0\n",
       "mean     100.0\n",
       "std        0.0\n",
       "min      100.0\n",
       "25%      100.0\n",
       "50%      100.0\n",
       "75%      100.0\n",
       "max      100.0\n",
       "Name: exp_fit, dtype: float64"
      ]
     },
     "execution_count": 14,
     "metadata": {},
     "output_type": "execute_result"
    }
   ],
   "source": [
    "final['exp_fit'].describe()"
   ]
  },
  {
   "cell_type": "code",
   "execution_count": 15,
   "metadata": {},
   "outputs": [],
   "source": [
    "final['haq_over_frontier'] = final['haq']/final['exp_fit']"
   ]
  },
  {
   "cell_type": "code",
   "execution_count": 16,
   "metadata": {},
   "outputs": [
    {
     "data": {
      "text/plain": [
       "array([], dtype=int64)"
      ]
     },
     "execution_count": 16,
     "metadata": {},
     "output_type": "execute_result"
    }
   ],
   "source": [
    "final[final['haq_over_frontier']==1].age_group_id.unique() ## make sure that HAQ over frontier = 1 for age group IDs > 19"
   ]
  },
  {
   "cell_type": "markdown",
   "metadata": {},
   "source": [
    "## End of the copied part from the previously done analysis"
   ]
  },
  {
   "cell_type": "code",
   "execution_count": 17,
   "metadata": {},
   "outputs": [
    {
     "data": {
      "text/html": [
       "<div>\n",
       "<style scoped>\n",
       "    .dataframe tbody tr th:only-of-type {\n",
       "        vertical-align: middle;\n",
       "    }\n",
       "\n",
       "    .dataframe tbody tr th {\n",
       "        vertical-align: top;\n",
       "    }\n",
       "\n",
       "    .dataframe thead th {\n",
       "        text-align: right;\n",
       "    }\n",
       "</style>\n",
       "<table border=\"1\" class=\"dataframe\">\n",
       "  <thead>\n",
       "    <tr style=\"text-align: right;\">\n",
       "      <th></th>\n",
       "      <th>Unnamed: 0</th>\n",
       "      <th>V1</th>\n",
       "      <th>location_id</th>\n",
       "      <th>logit_sdi</th>\n",
       "      <th>age_group_id</th>\n",
       "      <th>ln_haq</th>\n",
       "      <th>fit2</th>\n",
       "      <th>haq</th>\n",
       "      <th>exp_fit</th>\n",
       "      <th>haq_over_frontier</th>\n",
       "    </tr>\n",
       "  </thead>\n",
       "  <tbody>\n",
       "    <tr>\n",
       "      <th>0</th>\n",
       "      <td>1</td>\n",
       "      <td>0</td>\n",
       "      <td>7</td>\n",
       "      <td>0.110348</td>\n",
       "      <td>27</td>\n",
       "      <td>3.792486</td>\n",
       "      <td>3.757823</td>\n",
       "      <td>6201.348166</td>\n",
       "      <td>100.0</td>\n",
       "      <td>62.013482</td>\n",
       "    </tr>\n",
       "    <tr>\n",
       "      <th>1</th>\n",
       "      <td>2</td>\n",
       "      <td>1</td>\n",
       "      <td>8</td>\n",
       "      <td>1.820419</td>\n",
       "      <td>27</td>\n",
       "      <td>4.367523</td>\n",
       "      <td>4.668259</td>\n",
       "      <td>23308.955739</td>\n",
       "      <td>100.0</td>\n",
       "      <td>233.089557</td>\n",
       "    </tr>\n",
       "    <tr>\n",
       "      <th>2</th>\n",
       "      <td>3</td>\n",
       "      <td>2</td>\n",
       "      <td>10</td>\n",
       "      <td>-0.093432</td>\n",
       "      <td>27</td>\n",
       "      <td>3.509703</td>\n",
       "      <td>3.649331</td>\n",
       "      <td>3233.720992</td>\n",
       "      <td>100.0</td>\n",
       "      <td>32.337210</td>\n",
       "    </tr>\n",
       "    <tr>\n",
       "      <th>3</th>\n",
       "      <td>4</td>\n",
       "      <td>3</td>\n",
       "      <td>12</td>\n",
       "      <td>0.046388</td>\n",
       "      <td>27</td>\n",
       "      <td>3.245486</td>\n",
       "      <td>3.723771</td>\n",
       "      <td>1759.891080</td>\n",
       "      <td>100.0</td>\n",
       "      <td>17.598911</td>\n",
       "    </tr>\n",
       "    <tr>\n",
       "      <th>4</th>\n",
       "      <td>5</td>\n",
       "      <td>4</td>\n",
       "      <td>13</td>\n",
       "      <td>1.137170</td>\n",
       "      <td>27</td>\n",
       "      <td>4.000794</td>\n",
       "      <td>4.304499</td>\n",
       "      <td>10018.298652</td>\n",
       "      <td>100.0</td>\n",
       "      <td>100.182987</td>\n",
       "    </tr>\n",
       "  </tbody>\n",
       "</table>\n",
       "</div>"
      ],
      "text/plain": [
       "   Unnamed: 0  V1  location_id  logit_sdi  age_group_id    ln_haq      fit2  \\\n",
       "0           1   0            7   0.110348            27  3.792486  3.757823   \n",
       "1           2   1            8   1.820419            27  4.367523  4.668259   \n",
       "2           3   2           10  -0.093432            27  3.509703  3.649331   \n",
       "3           4   3           12   0.046388            27  3.245486  3.723771   \n",
       "4           5   4           13   1.137170            27  4.000794  4.304499   \n",
       "\n",
       "            haq  exp_fit  haq_over_frontier  \n",
       "0   6201.348166    100.0          62.013482  \n",
       "1  23308.955739    100.0         233.089557  \n",
       "2   3233.720992    100.0          32.337210  \n",
       "3   1759.891080    100.0          17.598911  \n",
       "4  10018.298652    100.0         100.182987  "
      ]
     },
     "execution_count": 17,
     "metadata": {},
     "output_type": "execute_result"
    }
   ],
   "source": [
    "final.head()"
   ]
  },
  {
   "cell_type": "code",
   "execution_count": null,
   "metadata": {},
   "outputs": [],
   "source": []
  },
  {
   "cell_type": "markdown",
   "metadata": {},
   "source": [
    "## To be merged (on Location Id and Age Group ID) with the DALY data coming from the central funcs - here I end up keeping LogitSDI, rather than SDI, which is what I used for the 2nd June run"
   ]
  },
  {
   "cell_type": "code",
   "execution_count": 18,
   "metadata": {},
   "outputs": [],
   "source": [
    "haq_sdi = final[['location_id', 'age_group_id', 'logit_sdi','exp_fit','haq','haq_over_frontier']]"
   ]
  },
  {
   "cell_type": "code",
   "execution_count": 19,
   "metadata": {},
   "outputs": [
    {
     "data": {
      "text/html": [
       "<div>\n",
       "<style scoped>\n",
       "    .dataframe tbody tr th:only-of-type {\n",
       "        vertical-align: middle;\n",
       "    }\n",
       "\n",
       "    .dataframe tbody tr th {\n",
       "        vertical-align: top;\n",
       "    }\n",
       "\n",
       "    .dataframe thead th {\n",
       "        text-align: right;\n",
       "    }\n",
       "</style>\n",
       "<table border=\"1\" class=\"dataframe\">\n",
       "  <thead>\n",
       "    <tr style=\"text-align: right;\">\n",
       "      <th></th>\n",
       "      <th>location_id</th>\n",
       "      <th>age_group_id</th>\n",
       "      <th>logit_sdi</th>\n",
       "      <th>exp_fit</th>\n",
       "      <th>haq</th>\n",
       "      <th>haq_over_frontier</th>\n",
       "    </tr>\n",
       "  </thead>\n",
       "  <tbody>\n",
       "    <tr>\n",
       "      <th>0</th>\n",
       "      <td>7</td>\n",
       "      <td>27</td>\n",
       "      <td>0.110348</td>\n",
       "      <td>100.0</td>\n",
       "      <td>6201.348166</td>\n",
       "      <td>62.013482</td>\n",
       "    </tr>\n",
       "    <tr>\n",
       "      <th>1</th>\n",
       "      <td>8</td>\n",
       "      <td>27</td>\n",
       "      <td>1.820419</td>\n",
       "      <td>100.0</td>\n",
       "      <td>23308.955739</td>\n",
       "      <td>233.089557</td>\n",
       "    </tr>\n",
       "    <tr>\n",
       "      <th>2</th>\n",
       "      <td>10</td>\n",
       "      <td>27</td>\n",
       "      <td>-0.093432</td>\n",
       "      <td>100.0</td>\n",
       "      <td>3233.720992</td>\n",
       "      <td>32.337210</td>\n",
       "    </tr>\n",
       "    <tr>\n",
       "      <th>3</th>\n",
       "      <td>12</td>\n",
       "      <td>27</td>\n",
       "      <td>0.046388</td>\n",
       "      <td>100.0</td>\n",
       "      <td>1759.891080</td>\n",
       "      <td>17.598911</td>\n",
       "    </tr>\n",
       "    <tr>\n",
       "      <th>4</th>\n",
       "      <td>13</td>\n",
       "      <td>27</td>\n",
       "      <td>1.137170</td>\n",
       "      <td>100.0</td>\n",
       "      <td>10018.298652</td>\n",
       "      <td>100.182987</td>\n",
       "    </tr>\n",
       "  </tbody>\n",
       "</table>\n",
       "</div>"
      ],
      "text/plain": [
       "   location_id  age_group_id  logit_sdi  exp_fit           haq  \\\n",
       "0            7            27   0.110348    100.0   6201.348166   \n",
       "1            8            27   1.820419    100.0  23308.955739   \n",
       "2           10            27  -0.093432    100.0   3233.720992   \n",
       "3           12            27   0.046388    100.0   1759.891080   \n",
       "4           13            27   1.137170    100.0  10018.298652   \n",
       "\n",
       "   haq_over_frontier  \n",
       "0          62.013482  \n",
       "1         233.089557  \n",
       "2          32.337210  \n",
       "3          17.598911  \n",
       "4         100.182987  "
      ]
     },
     "execution_count": 19,
     "metadata": {},
     "output_type": "execute_result"
    }
   ],
   "source": [
    "haq_sdi.head()"
   ]
  },
  {
   "cell_type": "code",
   "execution_count": 20,
   "metadata": {},
   "outputs": [
    {
     "data": {
      "text/plain": [
       "(823, 6)"
      ]
     },
     "execution_count": 20,
     "metadata": {},
     "output_type": "execute_result"
    }
   ],
   "source": [
    "haq_sdi.shape"
   ]
  },
  {
   "cell_type": "markdown",
   "metadata": {},
   "source": [
    "## Getting all the 823 locations and the 146 causes from above data to enter as input into the get_outputs central function"
   ]
  },
  {
   "cell_type": "code",
   "execution_count": 21,
   "metadata": {},
   "outputs": [],
   "source": [
    "location_list = list(haq_sdi.location_id.unique())"
   ]
  },
  {
   "cell_type": "code",
   "execution_count": 22,
   "metadata": {},
   "outputs": [
    {
     "data": {
      "text/plain": [
       "823"
      ]
     },
     "execution_count": 22,
     "metadata": {},
     "output_type": "execute_result"
    }
   ],
   "source": [
    "len(location_list)"
   ]
  },
  {
   "cell_type": "code",
   "execution_count": 23,
   "metadata": {},
   "outputs": [],
   "source": [
    "cause_list = list(cause_ids_final.unique())"
   ]
  },
  {
   "cell_type": "code",
   "execution_count": 24,
   "metadata": {},
   "outputs": [
    {
     "data": {
      "text/plain": [
       "146"
      ]
     },
     "execution_count": 24,
     "metadata": {},
     "output_type": "execute_result"
    }
   ],
   "source": [
    "len(cause_list)"
   ]
  },
  {
   "cell_type": "code",
   "execution_count": 25,
   "metadata": {
    "scrolled": true
   },
   "outputs": [
    {
     "data": {
      "text/html": [
       "<div>\n",
       "<style scoped>\n",
       "    .dataframe tbody tr th:only-of-type {\n",
       "        vertical-align: middle;\n",
       "    }\n",
       "\n",
       "    .dataframe tbody tr th {\n",
       "        vertical-align: top;\n",
       "    }\n",
       "\n",
       "    .dataframe thead th {\n",
       "        text-align: right;\n",
       "    }\n",
       "</style>\n",
       "<table border=\"1\" class=\"dataframe\">\n",
       "  <thead>\n",
       "    <tr style=\"text-align: right;\">\n",
       "      <th></th>\n",
       "      <th>age_group_id</th>\n",
       "      <th>cause_id</th>\n",
       "      <th>location_id</th>\n",
       "      <th>measure_id</th>\n",
       "      <th>metric_id</th>\n",
       "      <th>sex_id</th>\n",
       "      <th>year_id</th>\n",
       "      <th>acause</th>\n",
       "      <th>age_group_name</th>\n",
       "      <th>cause_name</th>\n",
       "      <th>expected</th>\n",
       "      <th>location_name</th>\n",
       "      <th>measure_name</th>\n",
       "      <th>metric_name</th>\n",
       "      <th>sex</th>\n",
       "      <th>val</th>\n",
       "      <th>upper</th>\n",
       "      <th>lower</th>\n",
       "    </tr>\n",
       "  </thead>\n",
       "  <tbody>\n",
       "    <tr>\n",
       "      <th>0</th>\n",
       "      <td>27</td>\n",
       "      <td>297</td>\n",
       "      <td>7</td>\n",
       "      <td>2</td>\n",
       "      <td>3</td>\n",
       "      <td>1</td>\n",
       "      <td>2016</td>\n",
       "      <td>tb</td>\n",
       "      <td>Age-standardized</td>\n",
       "      <td>Tuberculosis</td>\n",
       "      <td>False</td>\n",
       "      <td>North Korea</td>\n",
       "      <td>DALYs (Disability-Adjusted Life Years)</td>\n",
       "      <td>Rate</td>\n",
       "      <td>Male</td>\n",
       "      <td>0.004841</td>\n",
       "      <td>0.006399</td>\n",
       "      <td>0.003640</td>\n",
       "    </tr>\n",
       "    <tr>\n",
       "      <th>1</th>\n",
       "      <td>27</td>\n",
       "      <td>298</td>\n",
       "      <td>7</td>\n",
       "      <td>2</td>\n",
       "      <td>3</td>\n",
       "      <td>1</td>\n",
       "      <td>2016</td>\n",
       "      <td>hiv</td>\n",
       "      <td>Age-standardized</td>\n",
       "      <td>HIV/AIDS</td>\n",
       "      <td>False</td>\n",
       "      <td>North Korea</td>\n",
       "      <td>DALYs (Disability-Adjusted Life Years)</td>\n",
       "      <td>Rate</td>\n",
       "      <td>Male</td>\n",
       "      <td>0.002088</td>\n",
       "      <td>0.011767</td>\n",
       "      <td>0.000095</td>\n",
       "    </tr>\n",
       "    <tr>\n",
       "      <th>2</th>\n",
       "      <td>27</td>\n",
       "      <td>302</td>\n",
       "      <td>7</td>\n",
       "      <td>2</td>\n",
       "      <td>3</td>\n",
       "      <td>1</td>\n",
       "      <td>2016</td>\n",
       "      <td>diarrhea</td>\n",
       "      <td>Age-standardized</td>\n",
       "      <td>Diarrheal diseases</td>\n",
       "      <td>False</td>\n",
       "      <td>North Korea</td>\n",
       "      <td>DALYs (Disability-Adjusted Life Years)</td>\n",
       "      <td>Rate</td>\n",
       "      <td>Male</td>\n",
       "      <td>0.003865</td>\n",
       "      <td>0.005466</td>\n",
       "      <td>0.002768</td>\n",
       "    </tr>\n",
       "    <tr>\n",
       "      <th>3</th>\n",
       "      <td>27</td>\n",
       "      <td>321</td>\n",
       "      <td>7</td>\n",
       "      <td>2</td>\n",
       "      <td>3</td>\n",
       "      <td>1</td>\n",
       "      <td>2016</td>\n",
       "      <td>intest_other</td>\n",
       "      <td>Age-standardized</td>\n",
       "      <td>Other intestinal infectious diseases</td>\n",
       "      <td>False</td>\n",
       "      <td>North Korea</td>\n",
       "      <td>DALYs (Disability-Adjusted Life Years)</td>\n",
       "      <td>Rate</td>\n",
       "      <td>Male</td>\n",
       "      <td>0.000010</td>\n",
       "      <td>0.000022</td>\n",
       "      <td>0.000003</td>\n",
       "    </tr>\n",
       "    <tr>\n",
       "      <th>4</th>\n",
       "      <td>27</td>\n",
       "      <td>322</td>\n",
       "      <td>7</td>\n",
       "      <td>2</td>\n",
       "      <td>3</td>\n",
       "      <td>1</td>\n",
       "      <td>2016</td>\n",
       "      <td>lri</td>\n",
       "      <td>Age-standardized</td>\n",
       "      <td>Lower respiratory infections</td>\n",
       "      <td>False</td>\n",
       "      <td>North Korea</td>\n",
       "      <td>DALYs (Disability-Adjusted Life Years)</td>\n",
       "      <td>Rate</td>\n",
       "      <td>Male</td>\n",
       "      <td>0.014397</td>\n",
       "      <td>0.018903</td>\n",
       "      <td>0.010861</td>\n",
       "    </tr>\n",
       "  </tbody>\n",
       "</table>\n",
       "</div>"
      ],
      "text/plain": [
       "   age_group_id  cause_id  location_id  measure_id  metric_id  sex_id  \\\n",
       "0            27       297            7           2          3       1   \n",
       "1            27       298            7           2          3       1   \n",
       "2            27       302            7           2          3       1   \n",
       "3            27       321            7           2          3       1   \n",
       "4            27       322            7           2          3       1   \n",
       "\n",
       "   year_id        acause    age_group_name  \\\n",
       "0     2016            tb  Age-standardized   \n",
       "1     2016           hiv  Age-standardized   \n",
       "2     2016      diarrhea  Age-standardized   \n",
       "3     2016  intest_other  Age-standardized   \n",
       "4     2016           lri  Age-standardized   \n",
       "\n",
       "                             cause_name expected location_name  \\\n",
       "0                          Tuberculosis    False   North Korea   \n",
       "1                              HIV/AIDS    False   North Korea   \n",
       "2                    Diarrheal diseases    False   North Korea   \n",
       "3  Other intestinal infectious diseases    False   North Korea   \n",
       "4          Lower respiratory infections    False   North Korea   \n",
       "\n",
       "                             measure_name metric_name   sex       val  \\\n",
       "0  DALYs (Disability-Adjusted Life Years)        Rate  Male  0.004841   \n",
       "1  DALYs (Disability-Adjusted Life Years)        Rate  Male  0.002088   \n",
       "2  DALYs (Disability-Adjusted Life Years)        Rate  Male  0.003865   \n",
       "3  DALYs (Disability-Adjusted Life Years)        Rate  Male  0.000010   \n",
       "4  DALYs (Disability-Adjusted Life Years)        Rate  Male  0.014397   \n",
       "\n",
       "      upper     lower  \n",
       "0  0.006399  0.003640  \n",
       "1  0.011767  0.000095  \n",
       "2  0.005466  0.002768  \n",
       "3  0.000022  0.000003  \n",
       "4  0.018903  0.010861  "
      ]
     },
     "execution_count": 25,
     "metadata": {},
     "output_type": "execute_result"
    }
   ],
   "source": [
    "from db_queries import get_outputs as go \n",
    "dalys_per_cause_rate = go(\"cause\", cause_id=cause_list, metric_id=[3],\\\n",
    "                     measure_id=2, gbd_round_id=5,year_id=[2016],sex_id=[1,2],location_id=location_list,\\\n",
    "                    age_group_id = [27])\n",
    "dalys_per_cause_rate.head()"
   ]
  },
  {
   "cell_type": "code",
   "execution_count": 26,
   "metadata": {},
   "outputs": [
    {
     "data": {
      "text/html": [
       "<div>\n",
       "<style scoped>\n",
       "    .dataframe tbody tr th:only-of-type {\n",
       "        vertical-align: middle;\n",
       "    }\n",
       "\n",
       "    .dataframe tbody tr th {\n",
       "        vertical-align: top;\n",
       "    }\n",
       "\n",
       "    .dataframe thead th {\n",
       "        text-align: right;\n",
       "    }\n",
       "</style>\n",
       "<table border=\"1\" class=\"dataframe\">\n",
       "  <thead>\n",
       "    <tr style=\"text-align: right;\">\n",
       "      <th></th>\n",
       "      <th>age_group_id</th>\n",
       "      <th>cause_id</th>\n",
       "      <th>location_id</th>\n",
       "      <th>measure_id</th>\n",
       "      <th>metric_id</th>\n",
       "      <th>sex_id</th>\n",
       "      <th>year_id</th>\n",
       "      <th>acause</th>\n",
       "      <th>age_group_name</th>\n",
       "      <th>cause_name</th>\n",
       "      <th>expected</th>\n",
       "      <th>location_name</th>\n",
       "      <th>measure_name</th>\n",
       "      <th>metric_name</th>\n",
       "      <th>sex</th>\n",
       "      <th>val</th>\n",
       "      <th>upper</th>\n",
       "      <th>lower</th>\n",
       "    </tr>\n",
       "  </thead>\n",
       "  <tbody>\n",
       "    <tr>\n",
       "      <th>1235</th>\n",
       "      <td>27</td>\n",
       "      <td>493</td>\n",
       "      <td>13</td>\n",
       "      <td>2</td>\n",
       "      <td>3</td>\n",
       "      <td>1</td>\n",
       "      <td>2016</td>\n",
       "      <td>cvd_ihd</td>\n",
       "      <td>Age-standardized</td>\n",
       "      <td>Ischemic heart disease</td>\n",
       "      <td>False</td>\n",
       "      <td>Malaysia</td>\n",
       "      <td>DALYs (Disability-Adjusted Life Years)</td>\n",
       "      <td>Rate</td>\n",
       "      <td>Male</td>\n",
       "      <td>0.038142</td>\n",
       "      <td>0.042143</td>\n",
       "      <td>0.035173</td>\n",
       "    </tr>\n",
       "    <tr>\n",
       "      <th>1381</th>\n",
       "      <td>27</td>\n",
       "      <td>493</td>\n",
       "      <td>13</td>\n",
       "      <td>2</td>\n",
       "      <td>3</td>\n",
       "      <td>2</td>\n",
       "      <td>2016</td>\n",
       "      <td>cvd_ihd</td>\n",
       "      <td>Age-standardized</td>\n",
       "      <td>Ischemic heart disease</td>\n",
       "      <td>False</td>\n",
       "      <td>Malaysia</td>\n",
       "      <td>DALYs (Disability-Adjusted Life Years)</td>\n",
       "      <td>Rate</td>\n",
       "      <td>Female</td>\n",
       "      <td>0.019310</td>\n",
       "      <td>0.021432</td>\n",
       "      <td>0.017688</td>\n",
       "    </tr>\n",
       "  </tbody>\n",
       "</table>\n",
       "</div>"
      ],
      "text/plain": [
       "      age_group_id  cause_id  location_id  measure_id  metric_id  sex_id  \\\n",
       "1235            27       493           13           2          3       1   \n",
       "1381            27       493           13           2          3       2   \n",
       "\n",
       "      year_id   acause    age_group_name              cause_name expected  \\\n",
       "1235     2016  cvd_ihd  Age-standardized  Ischemic heart disease    False   \n",
       "1381     2016  cvd_ihd  Age-standardized  Ischemic heart disease    False   \n",
       "\n",
       "     location_name                            measure_name metric_name  \\\n",
       "1235      Malaysia  DALYs (Disability-Adjusted Life Years)        Rate   \n",
       "1381      Malaysia  DALYs (Disability-Adjusted Life Years)        Rate   \n",
       "\n",
       "         sex       val     upper     lower  \n",
       "1235    Male  0.038142  0.042143  0.035173  \n",
       "1381  Female  0.019310  0.021432  0.017688  "
      ]
     },
     "execution_count": 26,
     "metadata": {},
     "output_type": "execute_result"
    }
   ],
   "source": [
    "dalys_per_cause_rate[(dalys_per_cause_rate.location_id == 13) & (dalys_per_cause_rate.age_group_id == 27)\\\n",
    "                    & (dalys_per_cause_rate.cause_id == 493)]"
   ]
  },
  {
   "cell_type": "markdown",
   "metadata": {},
   "source": [
    "### Dropping NaNs, renaming some variables"
   ]
  },
  {
   "cell_type": "code",
   "execution_count": 27,
   "metadata": {},
   "outputs": [],
   "source": [
    "dalys_per_cause_rate = dalys_per_cause_rate.dropna()"
   ]
  },
  {
   "cell_type": "code",
   "execution_count": 28,
   "metadata": {},
   "outputs": [
    {
     "data": {
      "text/plain": [
       "(230440, 18)"
      ]
     },
     "execution_count": 28,
     "metadata": {},
     "output_type": "execute_result"
    }
   ],
   "source": [
    "dalys_per_cause_rate.shape"
   ]
  },
  {
   "cell_type": "code",
   "execution_count": 29,
   "metadata": {},
   "outputs": [],
   "source": [
    "dalys_per_cause_rate = dalys_per_cause_rate[['age_group_id','cause_id','location_id','sex_id','sex','age_group_name',\\\n",
    "                                   'cause_name','location_name','val']]"
   ]
  },
  {
   "cell_type": "code",
   "execution_count": 30,
   "metadata": {},
   "outputs": [],
   "source": [
    "dalys_per_cause_rate = dalys_per_cause_rate.rename(index=str, columns={\"val\": \"DALYs_per_capita\"})"
   ]
  },
  {
   "cell_type": "code",
   "execution_count": 31,
   "metadata": {
    "scrolled": true
   },
   "outputs": [
    {
     "data": {
      "text/html": [
       "<div>\n",
       "<style scoped>\n",
       "    .dataframe tbody tr th:only-of-type {\n",
       "        vertical-align: middle;\n",
       "    }\n",
       "\n",
       "    .dataframe tbody tr th {\n",
       "        vertical-align: top;\n",
       "    }\n",
       "\n",
       "    .dataframe thead th {\n",
       "        text-align: right;\n",
       "    }\n",
       "</style>\n",
       "<table border=\"1\" class=\"dataframe\">\n",
       "  <thead>\n",
       "    <tr style=\"text-align: right;\">\n",
       "      <th></th>\n",
       "      <th>age_group_id</th>\n",
       "      <th>cause_id</th>\n",
       "      <th>location_id</th>\n",
       "      <th>sex_id</th>\n",
       "      <th>sex</th>\n",
       "      <th>age_group_name</th>\n",
       "      <th>cause_name</th>\n",
       "      <th>location_name</th>\n",
       "      <th>DALYs_per_capita</th>\n",
       "    </tr>\n",
       "  </thead>\n",
       "  <tbody>\n",
       "    <tr>\n",
       "      <th>0</th>\n",
       "      <td>27</td>\n",
       "      <td>297</td>\n",
       "      <td>7</td>\n",
       "      <td>1</td>\n",
       "      <td>Male</td>\n",
       "      <td>Age-standardized</td>\n",
       "      <td>Tuberculosis</td>\n",
       "      <td>North Korea</td>\n",
       "      <td>0.004841</td>\n",
       "    </tr>\n",
       "    <tr>\n",
       "      <th>1</th>\n",
       "      <td>27</td>\n",
       "      <td>298</td>\n",
       "      <td>7</td>\n",
       "      <td>1</td>\n",
       "      <td>Male</td>\n",
       "      <td>Age-standardized</td>\n",
       "      <td>HIV/AIDS</td>\n",
       "      <td>North Korea</td>\n",
       "      <td>0.002088</td>\n",
       "    </tr>\n",
       "    <tr>\n",
       "      <th>2</th>\n",
       "      <td>27</td>\n",
       "      <td>302</td>\n",
       "      <td>7</td>\n",
       "      <td>1</td>\n",
       "      <td>Male</td>\n",
       "      <td>Age-standardized</td>\n",
       "      <td>Diarrheal diseases</td>\n",
       "      <td>North Korea</td>\n",
       "      <td>0.003865</td>\n",
       "    </tr>\n",
       "    <tr>\n",
       "      <th>3</th>\n",
       "      <td>27</td>\n",
       "      <td>321</td>\n",
       "      <td>7</td>\n",
       "      <td>1</td>\n",
       "      <td>Male</td>\n",
       "      <td>Age-standardized</td>\n",
       "      <td>Other intestinal infectious diseases</td>\n",
       "      <td>North Korea</td>\n",
       "      <td>0.000010</td>\n",
       "    </tr>\n",
       "    <tr>\n",
       "      <th>4</th>\n",
       "      <td>27</td>\n",
       "      <td>322</td>\n",
       "      <td>7</td>\n",
       "      <td>1</td>\n",
       "      <td>Male</td>\n",
       "      <td>Age-standardized</td>\n",
       "      <td>Lower respiratory infections</td>\n",
       "      <td>North Korea</td>\n",
       "      <td>0.014397</td>\n",
       "    </tr>\n",
       "  </tbody>\n",
       "</table>\n",
       "</div>"
      ],
      "text/plain": [
       "   age_group_id  cause_id  location_id  sex_id   sex    age_group_name  \\\n",
       "0            27       297            7       1  Male  Age-standardized   \n",
       "1            27       298            7       1  Male  Age-standardized   \n",
       "2            27       302            7       1  Male  Age-standardized   \n",
       "3            27       321            7       1  Male  Age-standardized   \n",
       "4            27       322            7       1  Male  Age-standardized   \n",
       "\n",
       "                             cause_name location_name  DALYs_per_capita  \n",
       "0                          Tuberculosis   North Korea          0.004841  \n",
       "1                              HIV/AIDS   North Korea          0.002088  \n",
       "2                    Diarrheal diseases   North Korea          0.003865  \n",
       "3  Other intestinal infectious diseases   North Korea          0.000010  \n",
       "4          Lower respiratory infections   North Korea          0.014397  "
      ]
     },
     "execution_count": 31,
     "metadata": {},
     "output_type": "execute_result"
    }
   ],
   "source": [
    "dalys_per_cause_rate.head()"
   ]
  },
  {
   "cell_type": "code",
   "execution_count": 32,
   "metadata": {},
   "outputs": [
    {
     "data": {
      "text/plain": [
       "(230440, 9)"
      ]
     },
     "execution_count": 32,
     "metadata": {},
     "output_type": "execute_result"
    }
   ],
   "source": [
    "dalys_per_cause_rate.shape"
   ]
  },
  {
   "cell_type": "code",
   "execution_count": 33,
   "metadata": {},
   "outputs": [],
   "source": [
    "dalys_per_cause = dalys_per_cause_rate"
   ]
  },
  {
   "cell_type": "code",
   "execution_count": 34,
   "metadata": {},
   "outputs": [
    {
     "data": {
      "text/plain": [
       "(230440, 9)"
      ]
     },
     "execution_count": 34,
     "metadata": {},
     "output_type": "execute_result"
    }
   ],
   "source": [
    "dalys_per_cause.shape"
   ]
  },
  {
   "cell_type": "markdown",
   "metadata": {},
   "source": [
    "## Don't need entries where the DALYs are zero"
   ]
  },
  {
   "cell_type": "code",
   "execution_count": 35,
   "metadata": {},
   "outputs": [],
   "source": [
    "dalys_per_cause = dalys_per_cause[dalys_per_cause['DALYs_per_capita'] > 0]"
   ]
  },
  {
   "cell_type": "markdown",
   "metadata": {},
   "source": [
    "## Merging the DALYs data with the HAQ-SDI data"
   ]
  },
  {
   "cell_type": "code",
   "execution_count": 36,
   "metadata": {},
   "outputs": [],
   "source": [
    "dalys_haq_sdi_withCauses = pd.merge(dalys_per_cause, haq_sdi, on=['location_id', 'age_group_id'])"
   ]
  },
  {
   "cell_type": "code",
   "execution_count": 37,
   "metadata": {},
   "outputs": [
    {
     "data": {
      "text/plain": [
       "(225209, 13)"
      ]
     },
     "execution_count": 37,
     "metadata": {},
     "output_type": "execute_result"
    }
   ],
   "source": [
    "dalys_haq_sdi_withCauses.shape"
   ]
  },
  {
   "cell_type": "code",
   "execution_count": 38,
   "metadata": {},
   "outputs": [
    {
     "data": {
      "text/html": [
       "<div>\n",
       "<style scoped>\n",
       "    .dataframe tbody tr th:only-of-type {\n",
       "        vertical-align: middle;\n",
       "    }\n",
       "\n",
       "    .dataframe tbody tr th {\n",
       "        vertical-align: top;\n",
       "    }\n",
       "\n",
       "    .dataframe thead th {\n",
       "        text-align: right;\n",
       "    }\n",
       "</style>\n",
       "<table border=\"1\" class=\"dataframe\">\n",
       "  <thead>\n",
       "    <tr style=\"text-align: right;\">\n",
       "      <th></th>\n",
       "      <th>age_group_id</th>\n",
       "      <th>cause_id</th>\n",
       "      <th>location_id</th>\n",
       "      <th>sex_id</th>\n",
       "      <th>sex</th>\n",
       "      <th>age_group_name</th>\n",
       "      <th>cause_name</th>\n",
       "      <th>location_name</th>\n",
       "      <th>DALYs_per_capita</th>\n",
       "      <th>logit_sdi</th>\n",
       "      <th>exp_fit</th>\n",
       "      <th>haq</th>\n",
       "      <th>haq_over_frontier</th>\n",
       "    </tr>\n",
       "  </thead>\n",
       "  <tbody>\n",
       "    <tr>\n",
       "      <th>0</th>\n",
       "      <td>27</td>\n",
       "      <td>297</td>\n",
       "      <td>7</td>\n",
       "      <td>1</td>\n",
       "      <td>Male</td>\n",
       "      <td>Age-standardized</td>\n",
       "      <td>Tuberculosis</td>\n",
       "      <td>North Korea</td>\n",
       "      <td>0.004841</td>\n",
       "      <td>0.110348</td>\n",
       "      <td>100.0</td>\n",
       "      <td>6201.348166</td>\n",
       "      <td>62.013482</td>\n",
       "    </tr>\n",
       "    <tr>\n",
       "      <th>1</th>\n",
       "      <td>27</td>\n",
       "      <td>298</td>\n",
       "      <td>7</td>\n",
       "      <td>1</td>\n",
       "      <td>Male</td>\n",
       "      <td>Age-standardized</td>\n",
       "      <td>HIV/AIDS</td>\n",
       "      <td>North Korea</td>\n",
       "      <td>0.002088</td>\n",
       "      <td>0.110348</td>\n",
       "      <td>100.0</td>\n",
       "      <td>6201.348166</td>\n",
       "      <td>62.013482</td>\n",
       "    </tr>\n",
       "    <tr>\n",
       "      <th>2</th>\n",
       "      <td>27</td>\n",
       "      <td>302</td>\n",
       "      <td>7</td>\n",
       "      <td>1</td>\n",
       "      <td>Male</td>\n",
       "      <td>Age-standardized</td>\n",
       "      <td>Diarrheal diseases</td>\n",
       "      <td>North Korea</td>\n",
       "      <td>0.003865</td>\n",
       "      <td>0.110348</td>\n",
       "      <td>100.0</td>\n",
       "      <td>6201.348166</td>\n",
       "      <td>62.013482</td>\n",
       "    </tr>\n",
       "    <tr>\n",
       "      <th>3</th>\n",
       "      <td>27</td>\n",
       "      <td>321</td>\n",
       "      <td>7</td>\n",
       "      <td>1</td>\n",
       "      <td>Male</td>\n",
       "      <td>Age-standardized</td>\n",
       "      <td>Other intestinal infectious diseases</td>\n",
       "      <td>North Korea</td>\n",
       "      <td>0.000010</td>\n",
       "      <td>0.110348</td>\n",
       "      <td>100.0</td>\n",
       "      <td>6201.348166</td>\n",
       "      <td>62.013482</td>\n",
       "    </tr>\n",
       "    <tr>\n",
       "      <th>4</th>\n",
       "      <td>27</td>\n",
       "      <td>322</td>\n",
       "      <td>7</td>\n",
       "      <td>1</td>\n",
       "      <td>Male</td>\n",
       "      <td>Age-standardized</td>\n",
       "      <td>Lower respiratory infections</td>\n",
       "      <td>North Korea</td>\n",
       "      <td>0.014397</td>\n",
       "      <td>0.110348</td>\n",
       "      <td>100.0</td>\n",
       "      <td>6201.348166</td>\n",
       "      <td>62.013482</td>\n",
       "    </tr>\n",
       "  </tbody>\n",
       "</table>\n",
       "</div>"
      ],
      "text/plain": [
       "   age_group_id  cause_id  location_id  sex_id   sex    age_group_name  \\\n",
       "0            27       297            7       1  Male  Age-standardized   \n",
       "1            27       298            7       1  Male  Age-standardized   \n",
       "2            27       302            7       1  Male  Age-standardized   \n",
       "3            27       321            7       1  Male  Age-standardized   \n",
       "4            27       322            7       1  Male  Age-standardized   \n",
       "\n",
       "                             cause_name location_name  DALYs_per_capita  \\\n",
       "0                          Tuberculosis   North Korea          0.004841   \n",
       "1                              HIV/AIDS   North Korea          0.002088   \n",
       "2                    Diarrheal diseases   North Korea          0.003865   \n",
       "3  Other intestinal infectious diseases   North Korea          0.000010   \n",
       "4          Lower respiratory infections   North Korea          0.014397   \n",
       "\n",
       "   logit_sdi  exp_fit          haq  haq_over_frontier  \n",
       "0   0.110348    100.0  6201.348166          62.013482  \n",
       "1   0.110348    100.0  6201.348166          62.013482  \n",
       "2   0.110348    100.0  6201.348166          62.013482  \n",
       "3   0.110348    100.0  6201.348166          62.013482  \n",
       "4   0.110348    100.0  6201.348166          62.013482  "
      ]
     },
     "execution_count": 38,
     "metadata": {},
     "output_type": "execute_result"
    }
   ],
   "source": [
    "dalys_haq_sdi_withCauses.head()"
   ]
  },
  {
   "cell_type": "code",
   "execution_count": 39,
   "metadata": {},
   "outputs": [],
   "source": [
    "dalys_haq_sdi_withCauses_distinct = dalys_haq_sdi_withCauses[['age_group_id','age_group_name','cause_id','cause_name', \\\n",
    "                                                             'sex_id', 'sex']].drop_duplicates()"
   ]
  },
  {
   "cell_type": "markdown",
   "metadata": {},
   "source": [
    "### Removing the nominal variables before running the regressions"
   ]
  },
  {
   "cell_type": "code",
   "execution_count": 40,
   "metadata": {},
   "outputs": [],
   "source": [
    "dalys_haq_sdi_withCauses_forAnalysis = dalys_haq_sdi_withCauses[['age_group_id','cause_id','location_id','sex_id',\\\n",
    "                                                                 'DALYs_per_capita','logit_sdi','exp_fit','haq',\\\n",
    "                                                                 'haq_over_frontier']]"
   ]
  },
  {
   "cell_type": "code",
   "execution_count": 41,
   "metadata": {
    "scrolled": true
   },
   "outputs": [
    {
     "data": {
      "text/html": [
       "<div>\n",
       "<style scoped>\n",
       "    .dataframe tbody tr th:only-of-type {\n",
       "        vertical-align: middle;\n",
       "    }\n",
       "\n",
       "    .dataframe tbody tr th {\n",
       "        vertical-align: top;\n",
       "    }\n",
       "\n",
       "    .dataframe thead th {\n",
       "        text-align: right;\n",
       "    }\n",
       "</style>\n",
       "<table border=\"1\" class=\"dataframe\">\n",
       "  <thead>\n",
       "    <tr style=\"text-align: right;\">\n",
       "      <th></th>\n",
       "      <th>age_group_id</th>\n",
       "      <th>cause_id</th>\n",
       "      <th>location_id</th>\n",
       "      <th>sex_id</th>\n",
       "      <th>DALYs_per_capita</th>\n",
       "      <th>logit_sdi</th>\n",
       "      <th>exp_fit</th>\n",
       "      <th>haq</th>\n",
       "      <th>haq_over_frontier</th>\n",
       "    </tr>\n",
       "  </thead>\n",
       "  <tbody>\n",
       "    <tr>\n",
       "      <th>0</th>\n",
       "      <td>27</td>\n",
       "      <td>297</td>\n",
       "      <td>7</td>\n",
       "      <td>1</td>\n",
       "      <td>0.004841</td>\n",
       "      <td>0.110348</td>\n",
       "      <td>100.0</td>\n",
       "      <td>6201.348166</td>\n",
       "      <td>62.013482</td>\n",
       "    </tr>\n",
       "    <tr>\n",
       "      <th>1</th>\n",
       "      <td>27</td>\n",
       "      <td>298</td>\n",
       "      <td>7</td>\n",
       "      <td>1</td>\n",
       "      <td>0.002088</td>\n",
       "      <td>0.110348</td>\n",
       "      <td>100.0</td>\n",
       "      <td>6201.348166</td>\n",
       "      <td>62.013482</td>\n",
       "    </tr>\n",
       "    <tr>\n",
       "      <th>2</th>\n",
       "      <td>27</td>\n",
       "      <td>302</td>\n",
       "      <td>7</td>\n",
       "      <td>1</td>\n",
       "      <td>0.003865</td>\n",
       "      <td>0.110348</td>\n",
       "      <td>100.0</td>\n",
       "      <td>6201.348166</td>\n",
       "      <td>62.013482</td>\n",
       "    </tr>\n",
       "    <tr>\n",
       "      <th>3</th>\n",
       "      <td>27</td>\n",
       "      <td>321</td>\n",
       "      <td>7</td>\n",
       "      <td>1</td>\n",
       "      <td>0.000010</td>\n",
       "      <td>0.110348</td>\n",
       "      <td>100.0</td>\n",
       "      <td>6201.348166</td>\n",
       "      <td>62.013482</td>\n",
       "    </tr>\n",
       "    <tr>\n",
       "      <th>4</th>\n",
       "      <td>27</td>\n",
       "      <td>322</td>\n",
       "      <td>7</td>\n",
       "      <td>1</td>\n",
       "      <td>0.014397</td>\n",
       "      <td>0.110348</td>\n",
       "      <td>100.0</td>\n",
       "      <td>6201.348166</td>\n",
       "      <td>62.013482</td>\n",
       "    </tr>\n",
       "  </tbody>\n",
       "</table>\n",
       "</div>"
      ],
      "text/plain": [
       "   age_group_id  cause_id  location_id  sex_id  DALYs_per_capita  logit_sdi  \\\n",
       "0            27       297            7       1          0.004841   0.110348   \n",
       "1            27       298            7       1          0.002088   0.110348   \n",
       "2            27       302            7       1          0.003865   0.110348   \n",
       "3            27       321            7       1          0.000010   0.110348   \n",
       "4            27       322            7       1          0.014397   0.110348   \n",
       "\n",
       "   exp_fit          haq  haq_over_frontier  \n",
       "0    100.0  6201.348166          62.013482  \n",
       "1    100.0  6201.348166          62.013482  \n",
       "2    100.0  6201.348166          62.013482  \n",
       "3    100.0  6201.348166          62.013482  \n",
       "4    100.0  6201.348166          62.013482  "
      ]
     },
     "execution_count": 41,
     "metadata": {},
     "output_type": "execute_result"
    }
   ],
   "source": [
    "dalys_haq_sdi_withCauses_forAnalysis.head()"
   ]
  },
  {
   "cell_type": "markdown",
   "metadata": {},
   "source": [
    "## Capping exp_fit2 to 100 for the corresponding values of exp_fit"
   ]
  },
  {
   "cell_type": "code",
   "execution_count": 42,
   "metadata": {},
   "outputs": [
    {
     "name": "stderr",
     "output_type": "stream",
     "text": [
      "/ihme/homes/arjuns13/miniconda3/lib/python3.7/site-packages/pandas/core/indexing.py:543: SettingWithCopyWarning: \n",
      "A value is trying to be set on a copy of a slice from a DataFrame.\n",
      "Try using .loc[row_indexer,col_indexer] = value instead\n",
      "\n",
      "See the caveats in the documentation: http://pandas.pydata.org/pandas-docs/stable/indexing.html#indexing-view-versus-copy\n",
      "  self.obj[item] = s\n"
     ]
    }
   ],
   "source": [
    "dalys_haq_sdi_withCauses_forAnalysis.loc[dalys_haq_sdi_withCauses_forAnalysis['exp_fit'] > 100.0, 'exp_fit']=100"
   ]
  },
  {
   "cell_type": "markdown",
   "metadata": {},
   "source": [
    "### Creating the groups (Cause-Id, Age-Group, Sex-Id)"
   ]
  },
  {
   "cell_type": "code",
   "execution_count": 43,
   "metadata": {},
   "outputs": [],
   "source": [
    "dalys_haq_sdi_grouped =  \\\n",
    "dict(tuple(dalys_haq_sdi_withCauses_forAnalysis.groupby(['cause_id','age_group_id', 'sex_id'])))"
   ]
  },
  {
   "cell_type": "markdown",
   "metadata": {},
   "source": [
    "### This is just how the data looks for the cause 530, age group 2, and sex 1, just as an example"
   ]
  },
  {
   "cell_type": "code",
   "execution_count": 44,
   "metadata": {},
   "outputs": [
    {
     "data": {
      "text/html": [
       "<div>\n",
       "<style scoped>\n",
       "    .dataframe tbody tr th:only-of-type {\n",
       "        vertical-align: middle;\n",
       "    }\n",
       "\n",
       "    .dataframe tbody tr th {\n",
       "        vertical-align: top;\n",
       "    }\n",
       "\n",
       "    .dataframe thead th {\n",
       "        text-align: right;\n",
       "    }\n",
       "</style>\n",
       "<table border=\"1\" class=\"dataframe\">\n",
       "  <thead>\n",
       "    <tr style=\"text-align: right;\">\n",
       "      <th></th>\n",
       "      <th>age_group_id</th>\n",
       "      <th>cause_id</th>\n",
       "      <th>location_id</th>\n",
       "      <th>sex_id</th>\n",
       "      <th>DALYs_per_capita</th>\n",
       "      <th>logit_sdi</th>\n",
       "      <th>exp_fit</th>\n",
       "      <th>haq</th>\n",
       "      <th>haq_over_frontier</th>\n",
       "    </tr>\n",
       "  </thead>\n",
       "  <tbody>\n",
       "    <tr>\n",
       "      <th>0</th>\n",
       "      <td>27</td>\n",
       "      <td>297</td>\n",
       "      <td>7</td>\n",
       "      <td>1</td>\n",
       "      <td>0.004841</td>\n",
       "      <td>0.110348</td>\n",
       "      <td>100.0</td>\n",
       "      <td>6201.348166</td>\n",
       "      <td>62.013482</td>\n",
       "    </tr>\n",
       "    <tr>\n",
       "      <th>272</th>\n",
       "      <td>27</td>\n",
       "      <td>297</td>\n",
       "      <td>8</td>\n",
       "      <td>1</td>\n",
       "      <td>0.000791</td>\n",
       "      <td>1.820419</td>\n",
       "      <td>100.0</td>\n",
       "      <td>23308.955739</td>\n",
       "      <td>233.089557</td>\n",
       "    </tr>\n",
       "    <tr>\n",
       "      <th>546</th>\n",
       "      <td>27</td>\n",
       "      <td>297</td>\n",
       "      <td>10</td>\n",
       "      <td>1</td>\n",
       "      <td>0.012335</td>\n",
       "      <td>-0.093432</td>\n",
       "      <td>100.0</td>\n",
       "      <td>3233.720992</td>\n",
       "      <td>32.337210</td>\n",
       "    </tr>\n",
       "    <tr>\n",
       "      <th>820</th>\n",
       "      <td>27</td>\n",
       "      <td>297</td>\n",
       "      <td>12</td>\n",
       "      <td>1</td>\n",
       "      <td>0.015318</td>\n",
       "      <td>0.046388</td>\n",
       "      <td>100.0</td>\n",
       "      <td>1759.891080</td>\n",
       "      <td>17.598911</td>\n",
       "    </tr>\n",
       "    <tr>\n",
       "      <th>1094</th>\n",
       "      <td>27</td>\n",
       "      <td>297</td>\n",
       "      <td>13</td>\n",
       "      <td>1</td>\n",
       "      <td>0.002087</td>\n",
       "      <td>1.137170</td>\n",
       "      <td>100.0</td>\n",
       "      <td>10018.298652</td>\n",
       "      <td>100.182987</td>\n",
       "    </tr>\n",
       "  </tbody>\n",
       "</table>\n",
       "</div>"
      ],
      "text/plain": [
       "      age_group_id  cause_id  location_id  sex_id  DALYs_per_capita  \\\n",
       "0               27       297            7       1          0.004841   \n",
       "272             27       297            8       1          0.000791   \n",
       "546             27       297           10       1          0.012335   \n",
       "820             27       297           12       1          0.015318   \n",
       "1094            27       297           13       1          0.002087   \n",
       "\n",
       "      logit_sdi  exp_fit           haq  haq_over_frontier  \n",
       "0      0.110348    100.0   6201.348166          62.013482  \n",
       "272    1.820419    100.0  23308.955739         233.089557  \n",
       "546   -0.093432    100.0   3233.720992          32.337210  \n",
       "820    0.046388    100.0   1759.891080          17.598911  \n",
       "1094   1.137170    100.0  10018.298652         100.182987  "
      ]
     },
     "execution_count": 44,
     "metadata": {},
     "output_type": "execute_result"
    }
   ],
   "source": [
    "dalys_haq_sdi_grouped[297,27,1].head()"
   ]
  },
  {
   "cell_type": "markdown",
   "metadata": {},
   "source": [
    "# Set HAQ frontier to 0 for predictions dataframe"
   ]
  },
  {
   "cell_type": "code",
   "execution_count": 45,
   "metadata": {},
   "outputs": [
    {
     "data": {
      "text/html": [
       "<div>\n",
       "<style scoped>\n",
       "    .dataframe tbody tr th:only-of-type {\n",
       "        vertical-align: middle;\n",
       "    }\n",
       "\n",
       "    .dataframe tbody tr th {\n",
       "        vertical-align: top;\n",
       "    }\n",
       "\n",
       "    .dataframe thead th {\n",
       "        text-align: right;\n",
       "    }\n",
       "</style>\n",
       "<table border=\"1\" class=\"dataframe\">\n",
       "  <thead>\n",
       "    <tr style=\"text-align: right;\">\n",
       "      <th></th>\n",
       "      <th>age_group_id</th>\n",
       "      <th>cause_id</th>\n",
       "      <th>location_id</th>\n",
       "      <th>sex_id</th>\n",
       "      <th>DALYs_per_capita</th>\n",
       "      <th>logit_sdi</th>\n",
       "      <th>exp_fit</th>\n",
       "      <th>haq</th>\n",
       "      <th>haq_over_frontier</th>\n",
       "    </tr>\n",
       "  </thead>\n",
       "  <tbody>\n",
       "    <tr>\n",
       "      <th>0</th>\n",
       "      <td>27</td>\n",
       "      <td>297</td>\n",
       "      <td>7</td>\n",
       "      <td>1</td>\n",
       "      <td>0.004841</td>\n",
       "      <td>0.110348</td>\n",
       "      <td>100.0</td>\n",
       "      <td>6201.348166</td>\n",
       "      <td>0</td>\n",
       "    </tr>\n",
       "    <tr>\n",
       "      <th>1</th>\n",
       "      <td>27</td>\n",
       "      <td>298</td>\n",
       "      <td>7</td>\n",
       "      <td>1</td>\n",
       "      <td>0.002088</td>\n",
       "      <td>0.110348</td>\n",
       "      <td>100.0</td>\n",
       "      <td>6201.348166</td>\n",
       "      <td>0</td>\n",
       "    </tr>\n",
       "    <tr>\n",
       "      <th>2</th>\n",
       "      <td>27</td>\n",
       "      <td>302</td>\n",
       "      <td>7</td>\n",
       "      <td>1</td>\n",
       "      <td>0.003865</td>\n",
       "      <td>0.110348</td>\n",
       "      <td>100.0</td>\n",
       "      <td>6201.348166</td>\n",
       "      <td>0</td>\n",
       "    </tr>\n",
       "    <tr>\n",
       "      <th>3</th>\n",
       "      <td>27</td>\n",
       "      <td>321</td>\n",
       "      <td>7</td>\n",
       "      <td>1</td>\n",
       "      <td>0.000010</td>\n",
       "      <td>0.110348</td>\n",
       "      <td>100.0</td>\n",
       "      <td>6201.348166</td>\n",
       "      <td>0</td>\n",
       "    </tr>\n",
       "    <tr>\n",
       "      <th>4</th>\n",
       "      <td>27</td>\n",
       "      <td>322</td>\n",
       "      <td>7</td>\n",
       "      <td>1</td>\n",
       "      <td>0.014397</td>\n",
       "      <td>0.110348</td>\n",
       "      <td>100.0</td>\n",
       "      <td>6201.348166</td>\n",
       "      <td>0</td>\n",
       "    </tr>\n",
       "  </tbody>\n",
       "</table>\n",
       "</div>"
      ],
      "text/plain": [
       "   age_group_id  cause_id  location_id  sex_id  DALYs_per_capita  logit_sdi  \\\n",
       "0            27       297            7       1          0.004841   0.110348   \n",
       "1            27       298            7       1          0.002088   0.110348   \n",
       "2            27       302            7       1          0.003865   0.110348   \n",
       "3            27       321            7       1          0.000010   0.110348   \n",
       "4            27       322            7       1          0.014397   0.110348   \n",
       "\n",
       "   exp_fit          haq  haq_over_frontier  \n",
       "0    100.0  6201.348166                  0  \n",
       "1    100.0  6201.348166                  0  \n",
       "2    100.0  6201.348166                  0  \n",
       "3    100.0  6201.348166                  0  \n",
       "4    100.0  6201.348166                  0  "
      ]
     },
     "execution_count": 45,
     "metadata": {},
     "output_type": "execute_result"
    }
   ],
   "source": [
    "# Create df for predictions where haq_frontier is set to 0\n",
    "df_predictions = dalys_haq_sdi_withCauses_forAnalysis.copy()\n",
    "df_predictions['haq_over_frontier'] = 0\n",
    "df_predictions.head()"
   ]
  },
  {
   "cell_type": "code",
   "execution_count": 46,
   "metadata": {},
   "outputs": [],
   "source": [
    "grouped_for_predictions =  dict(tuple(df_predictions.groupby(['cause_id','age_group_id', 'sex_id'])))"
   ]
  },
  {
   "cell_type": "markdown",
   "metadata": {},
   "source": [
    "## Next we create a DataFrame where all the final regression results would be stored"
   ]
  },
  {
   "cell_type": "code",
   "execution_count": 47,
   "metadata": {},
   "outputs": [],
   "source": [
    "dalys_haq_sdi_answers = pd.DataFrame(columns=['cause_id','age_group_id', 'sex_id',\\\n",
    "                                              'intercept','intercept_pValue','haq_over_frontier_coef',\\\n",
    "                                              'haq_over_frontier_coef_pValue','logit_sdi_coef',\\\n",
    "                                              'logit_sdi_coef_pValue','r2',])"
   ]
  },
  {
   "cell_type": "code",
   "execution_count": 48,
   "metadata": {},
   "outputs": [],
   "source": [
    "import statsmodels.formula.api as smf\n",
    "i=0\n",
    "for g in dalys_haq_sdi_grouped:\n",
    "    df=dalys_haq_sdi_grouped[g]\n",
    "    linear_reg = smf.ols(\"DALYs_per_capita ~ haq_over_frontier + logit_sdi\", \\\n",
    "                      data = df)\n",
    "    linear_reg_fit = linear_reg.fit()\n",
    "\n",
    "    \n",
    "    dalys_haq_sdi_answers.loc[i] = [g[0],g[1],g[2],linear_reg_fit.params[0],linear_reg_fit.pvalues.Intercept,\\\n",
    "                                    linear_reg_fit.params[1],linear_reg_fit.pvalues.haq_over_frontier,\\\n",
    "                                    linear_reg_fit.params[2],linear_reg_fit.pvalues.logit_sdi,\\\n",
    "                                    linear_reg_fit.rsquared]\n",
    "    i+=1\n",
    "   # print(\"Current iteration:\" + str(i))"
   ]
  },
  {
   "cell_type": "markdown",
   "metadata": {},
   "source": [
    "## The next step is taken so that we can look at data using cause names rather than cause IDs and age group names rather than age group IDs"
   ]
  },
  {
   "cell_type": "code",
   "execution_count": 49,
   "metadata": {},
   "outputs": [],
   "source": [
    "dalys_haq_sdi_answers = dalys_haq_sdi_answers.merge(dalys_haq_sdi_withCauses_distinct, how='left')"
   ]
  },
  {
   "cell_type": "code",
   "execution_count": 50,
   "metadata": {
    "scrolled": true
   },
   "outputs": [
    {
     "data": {
      "text/html": [
       "<div>\n",
       "<style scoped>\n",
       "    .dataframe tbody tr th:only-of-type {\n",
       "        vertical-align: middle;\n",
       "    }\n",
       "\n",
       "    .dataframe tbody tr th {\n",
       "        vertical-align: top;\n",
       "    }\n",
       "\n",
       "    .dataframe thead th {\n",
       "        text-align: right;\n",
       "    }\n",
       "</style>\n",
       "<table border=\"1\" class=\"dataframe\">\n",
       "  <thead>\n",
       "    <tr style=\"text-align: right;\">\n",
       "      <th></th>\n",
       "      <th>cause_id</th>\n",
       "      <th>age_group_id</th>\n",
       "      <th>sex_id</th>\n",
       "      <th>intercept</th>\n",
       "      <th>intercept_pValue</th>\n",
       "      <th>haq_over_frontier_coef</th>\n",
       "      <th>haq_over_frontier_coef_pValue</th>\n",
       "      <th>logit_sdi_coef</th>\n",
       "      <th>logit_sdi_coef_pValue</th>\n",
       "      <th>r2</th>\n",
       "      <th>age_group_name</th>\n",
       "      <th>cause_name</th>\n",
       "      <th>sex</th>\n",
       "    </tr>\n",
       "  </thead>\n",
       "  <tbody>\n",
       "    <tr>\n",
       "      <th>0</th>\n",
       "      <td>297.0</td>\n",
       "      <td>27.0</td>\n",
       "      <td>1.0</td>\n",
       "      <td>0.018018</td>\n",
       "      <td>7.450997e-146</td>\n",
       "      <td>-0.000011</td>\n",
       "      <td>0.105526</td>\n",
       "      <td>-0.009537</td>\n",
       "      <td>1.007356e-23</td>\n",
       "      <td>0.461474</td>\n",
       "      <td>Age-standardized</td>\n",
       "      <td>Tuberculosis</td>\n",
       "      <td>Male</td>\n",
       "    </tr>\n",
       "    <tr>\n",
       "      <th>1</th>\n",
       "      <td>297.0</td>\n",
       "      <td>27.0</td>\n",
       "      <td>2.0</td>\n",
       "      <td>0.010048</td>\n",
       "      <td>9.459788e-139</td>\n",
       "      <td>0.000002</td>\n",
       "      <td>0.617212</td>\n",
       "      <td>-0.006653</td>\n",
       "      <td>6.377185e-33</td>\n",
       "      <td>0.470518</td>\n",
       "      <td>Age-standardized</td>\n",
       "      <td>Tuberculosis</td>\n",
       "      <td>Female</td>\n",
       "    </tr>\n",
       "    <tr>\n",
       "      <th>2</th>\n",
       "      <td>298.0</td>\n",
       "      <td>27.0</td>\n",
       "      <td>1.0</td>\n",
       "      <td>0.027086</td>\n",
       "      <td>2.281757e-51</td>\n",
       "      <td>-0.000064</td>\n",
       "      <td>0.001716</td>\n",
       "      <td>-0.006637</td>\n",
       "      <td>1.513699e-02</td>\n",
       "      <td>0.153045</td>\n",
       "      <td>Age-standardized</td>\n",
       "      <td>HIV/AIDS</td>\n",
       "      <td>Male</td>\n",
       "    </tr>\n",
       "    <tr>\n",
       "      <th>3</th>\n",
       "      <td>298.0</td>\n",
       "      <td>27.0</td>\n",
       "      <td>2.0</td>\n",
       "      <td>0.027011</td>\n",
       "      <td>6.439200e-50</td>\n",
       "      <td>-0.000046</td>\n",
       "      <td>0.025247</td>\n",
       "      <td>-0.009890</td>\n",
       "      <td>3.689814e-04</td>\n",
       "      <td>0.164460</td>\n",
       "      <td>Age-standardized</td>\n",
       "      <td>HIV/AIDS</td>\n",
       "      <td>Female</td>\n",
       "    </tr>\n",
       "    <tr>\n",
       "      <th>4</th>\n",
       "      <td>302.0</td>\n",
       "      <td>27.0</td>\n",
       "      <td>1.0</td>\n",
       "      <td>0.018031</td>\n",
       "      <td>6.496932e-174</td>\n",
       "      <td>0.000017</td>\n",
       "      <td>0.004872</td>\n",
       "      <td>-0.013610</td>\n",
       "      <td>3.422434e-55</td>\n",
       "      <td>0.560209</td>\n",
       "      <td>Age-standardized</td>\n",
       "      <td>Diarrheal diseases</td>\n",
       "      <td>Male</td>\n",
       "    </tr>\n",
       "  </tbody>\n",
       "</table>\n",
       "</div>"
      ],
      "text/plain": [
       "   cause_id  age_group_id  sex_id  intercept  intercept_pValue  \\\n",
       "0     297.0          27.0     1.0   0.018018     7.450997e-146   \n",
       "1     297.0          27.0     2.0   0.010048     9.459788e-139   \n",
       "2     298.0          27.0     1.0   0.027086      2.281757e-51   \n",
       "3     298.0          27.0     2.0   0.027011      6.439200e-50   \n",
       "4     302.0          27.0     1.0   0.018031     6.496932e-174   \n",
       "\n",
       "   haq_over_frontier_coef  haq_over_frontier_coef_pValue  logit_sdi_coef  \\\n",
       "0               -0.000011                       0.105526       -0.009537   \n",
       "1                0.000002                       0.617212       -0.006653   \n",
       "2               -0.000064                       0.001716       -0.006637   \n",
       "3               -0.000046                       0.025247       -0.009890   \n",
       "4                0.000017                       0.004872       -0.013610   \n",
       "\n",
       "   logit_sdi_coef_pValue        r2    age_group_name          cause_name  \\\n",
       "0           1.007356e-23  0.461474  Age-standardized        Tuberculosis   \n",
       "1           6.377185e-33  0.470518  Age-standardized        Tuberculosis   \n",
       "2           1.513699e-02  0.153045  Age-standardized            HIV/AIDS   \n",
       "3           3.689814e-04  0.164460  Age-standardized            HIV/AIDS   \n",
       "4           3.422434e-55  0.560209  Age-standardized  Diarrheal diseases   \n",
       "\n",
       "      sex  \n",
       "0    Male  \n",
       "1  Female  \n",
       "2    Male  \n",
       "3  Female  \n",
       "4    Male  "
      ]
     },
     "execution_count": 50,
     "metadata": {},
     "output_type": "execute_result"
    }
   ],
   "source": [
    "dalys_haq_sdi_answers.head()"
   ]
  },
  {
   "cell_type": "markdown",
   "metadata": {},
   "source": [
    "## Filtering to keep only columns we're interested in, dropping NaNs, and then keeping only those rows where the coefficient for HAQ_over_Frontier as well SDI is statistically significant according to our model above"
   ]
  },
  {
   "cell_type": "code",
   "execution_count": 51,
   "metadata": {},
   "outputs": [],
   "source": [
    "dalys_haq_sdi_answers_out = dalys_haq_sdi_answers[['cause_name', 'age_group_name', 'sex', \\\n",
    "                                                   'intercept', 'intercept_pValue', \\\n",
    "                                                   'haq_over_frontier_coef', 'haq_over_frontier_coef_pValue',\\\n",
    "                                                   'logit_sdi_coef', 'logit_sdi_coef_pValue', 'r2']]"
   ]
  },
  {
   "cell_type": "code",
   "execution_count": 52,
   "metadata": {},
   "outputs": [
    {
     "data": {
      "text/html": [
       "<div>\n",
       "<style scoped>\n",
       "    .dataframe tbody tr th:only-of-type {\n",
       "        vertical-align: middle;\n",
       "    }\n",
       "\n",
       "    .dataframe tbody tr th {\n",
       "        vertical-align: top;\n",
       "    }\n",
       "\n",
       "    .dataframe thead th {\n",
       "        text-align: right;\n",
       "    }\n",
       "</style>\n",
       "<table border=\"1\" class=\"dataframe\">\n",
       "  <thead>\n",
       "    <tr style=\"text-align: right;\">\n",
       "      <th></th>\n",
       "      <th>cause_name</th>\n",
       "      <th>age_group_name</th>\n",
       "      <th>sex</th>\n",
       "      <th>intercept</th>\n",
       "      <th>intercept_pValue</th>\n",
       "      <th>haq_over_frontier_coef</th>\n",
       "      <th>haq_over_frontier_coef_pValue</th>\n",
       "      <th>logit_sdi_coef</th>\n",
       "      <th>logit_sdi_coef_pValue</th>\n",
       "      <th>r2</th>\n",
       "    </tr>\n",
       "  </thead>\n",
       "  <tbody>\n",
       "    <tr>\n",
       "      <th>0</th>\n",
       "      <td>Tuberculosis</td>\n",
       "      <td>Age-standardized</td>\n",
       "      <td>Male</td>\n",
       "      <td>0.018018</td>\n",
       "      <td>7.450997e-146</td>\n",
       "      <td>-0.000011</td>\n",
       "      <td>0.105526</td>\n",
       "      <td>-0.009537</td>\n",
       "      <td>1.007356e-23</td>\n",
       "      <td>0.461474</td>\n",
       "    </tr>\n",
       "    <tr>\n",
       "      <th>1</th>\n",
       "      <td>Tuberculosis</td>\n",
       "      <td>Age-standardized</td>\n",
       "      <td>Female</td>\n",
       "      <td>0.010048</td>\n",
       "      <td>9.459788e-139</td>\n",
       "      <td>0.000002</td>\n",
       "      <td>0.617212</td>\n",
       "      <td>-0.006653</td>\n",
       "      <td>6.377185e-33</td>\n",
       "      <td>0.470518</td>\n",
       "    </tr>\n",
       "    <tr>\n",
       "      <th>2</th>\n",
       "      <td>HIV/AIDS</td>\n",
       "      <td>Age-standardized</td>\n",
       "      <td>Male</td>\n",
       "      <td>0.027086</td>\n",
       "      <td>2.281757e-51</td>\n",
       "      <td>-0.000064</td>\n",
       "      <td>0.001716</td>\n",
       "      <td>-0.006637</td>\n",
       "      <td>1.513699e-02</td>\n",
       "      <td>0.153045</td>\n",
       "    </tr>\n",
       "    <tr>\n",
       "      <th>3</th>\n",
       "      <td>HIV/AIDS</td>\n",
       "      <td>Age-standardized</td>\n",
       "      <td>Female</td>\n",
       "      <td>0.027011</td>\n",
       "      <td>6.439200e-50</td>\n",
       "      <td>-0.000046</td>\n",
       "      <td>0.025247</td>\n",
       "      <td>-0.009890</td>\n",
       "      <td>3.689814e-04</td>\n",
       "      <td>0.164460</td>\n",
       "    </tr>\n",
       "    <tr>\n",
       "      <th>4</th>\n",
       "      <td>Diarrheal diseases</td>\n",
       "      <td>Age-standardized</td>\n",
       "      <td>Male</td>\n",
       "      <td>0.018031</td>\n",
       "      <td>6.496932e-174</td>\n",
       "      <td>0.000017</td>\n",
       "      <td>0.004872</td>\n",
       "      <td>-0.013610</td>\n",
       "      <td>3.422434e-55</td>\n",
       "      <td>0.560209</td>\n",
       "    </tr>\n",
       "  </tbody>\n",
       "</table>\n",
       "</div>"
      ],
      "text/plain": [
       "           cause_name    age_group_name     sex  intercept  intercept_pValue  \\\n",
       "0        Tuberculosis  Age-standardized    Male   0.018018     7.450997e-146   \n",
       "1        Tuberculosis  Age-standardized  Female   0.010048     9.459788e-139   \n",
       "2            HIV/AIDS  Age-standardized    Male   0.027086      2.281757e-51   \n",
       "3            HIV/AIDS  Age-standardized  Female   0.027011      6.439200e-50   \n",
       "4  Diarrheal diseases  Age-standardized    Male   0.018031     6.496932e-174   \n",
       "\n",
       "   haq_over_frontier_coef  haq_over_frontier_coef_pValue  logit_sdi_coef  \\\n",
       "0               -0.000011                       0.105526       -0.009537   \n",
       "1                0.000002                       0.617212       -0.006653   \n",
       "2               -0.000064                       0.001716       -0.006637   \n",
       "3               -0.000046                       0.025247       -0.009890   \n",
       "4                0.000017                       0.004872       -0.013610   \n",
       "\n",
       "   logit_sdi_coef_pValue        r2  \n",
       "0           1.007356e-23  0.461474  \n",
       "1           6.377185e-33  0.470518  \n",
       "2           1.513699e-02  0.153045  \n",
       "3           3.689814e-04  0.164460  \n",
       "4           3.422434e-55  0.560209  "
      ]
     },
     "execution_count": 52,
     "metadata": {},
     "output_type": "execute_result"
    }
   ],
   "source": [
    "dalys_haq_sdi_answers_out.head()"
   ]
  },
  {
   "cell_type": "code",
   "execution_count": 53,
   "metadata": {},
   "outputs": [
    {
     "data": {
      "text/plain": [
       "(274, 10)"
      ]
     },
     "execution_count": 53,
     "metadata": {},
     "output_type": "execute_result"
    }
   ],
   "source": [
    "dalys_haq_sdi_answers_out.shape"
   ]
  },
  {
   "cell_type": "code",
   "execution_count": 54,
   "metadata": {},
   "outputs": [],
   "source": [
    "dalys_haq_sdi_answers_out = dalys_haq_sdi_answers_out.dropna()"
   ]
  },
  {
   "cell_type": "code",
   "execution_count": 55,
   "metadata": {},
   "outputs": [
    {
     "data": {
      "text/plain": [
       "(274, 10)"
      ]
     },
     "execution_count": 55,
     "metadata": {},
     "output_type": "execute_result"
    }
   ],
   "source": [
    "dalys_haq_sdi_answers_out.shape"
   ]
  },
  {
   "cell_type": "code",
   "execution_count": 56,
   "metadata": {},
   "outputs": [],
   "source": [
    "dalys_haq_sdi_answers_out_significant = dalys_haq_sdi_answers[dalys_haq_sdi_answers['haq_over_frontier_coef_pValue'] < 0.05]\n",
    "dalys_haq_sdi_answers_out_significant = dalys_haq_sdi_answers_out_significant[dalys_haq_sdi_answers_out_significant['logit_sdi_coef_pValue'] < 0.05]\n",
    "             "
   ]
  },
  {
   "cell_type": "code",
   "execution_count": 57,
   "metadata": {},
   "outputs": [
    {
     "data": {
      "text/plain": [
       "(167, 13)"
      ]
     },
     "execution_count": 57,
     "metadata": {},
     "output_type": "execute_result"
    }
   ],
   "source": [
    "dalys_haq_sdi_answers_out_significant.shape"
   ]
  },
  {
   "cell_type": "code",
   "execution_count": 58,
   "metadata": {},
   "outputs": [],
   "source": [
    "dalys_haq_sdi_answers_out_significant['cause_id'] = dalys_haq_sdi_answers_out_significant['cause_id'].astype('int64')"
   ]
  },
  {
   "cell_type": "code",
   "execution_count": 59,
   "metadata": {},
   "outputs": [],
   "source": [
    "dalys_haq_sdi_answers_out_significant['age_group_id'] = dalys_haq_sdi_answers_out_significant['age_group_id'].astype('int64')"
   ]
  },
  {
   "cell_type": "code",
   "execution_count": 60,
   "metadata": {},
   "outputs": [],
   "source": [
    "dalys_haq_sdi_answers_out_significant['sex_id'] = dalys_haq_sdi_answers_out_significant['sex_id'].astype('int64')"
   ]
  },
  {
   "cell_type": "code",
   "execution_count": 61,
   "metadata": {},
   "outputs": [
    {
     "data": {
      "text/html": [
       "<div>\n",
       "<style scoped>\n",
       "    .dataframe tbody tr th:only-of-type {\n",
       "        vertical-align: middle;\n",
       "    }\n",
       "\n",
       "    .dataframe tbody tr th {\n",
       "        vertical-align: top;\n",
       "    }\n",
       "\n",
       "    .dataframe thead th {\n",
       "        text-align: right;\n",
       "    }\n",
       "</style>\n",
       "<table border=\"1\" class=\"dataframe\">\n",
       "  <thead>\n",
       "    <tr style=\"text-align: right;\">\n",
       "      <th></th>\n",
       "      <th>cause_id</th>\n",
       "      <th>age_group_id</th>\n",
       "      <th>sex_id</th>\n",
       "      <th>intercept</th>\n",
       "      <th>intercept_pValue</th>\n",
       "      <th>haq_over_frontier_coef</th>\n",
       "      <th>haq_over_frontier_coef_pValue</th>\n",
       "      <th>logit_sdi_coef</th>\n",
       "      <th>logit_sdi_coef_pValue</th>\n",
       "      <th>r2</th>\n",
       "      <th>age_group_name</th>\n",
       "      <th>cause_name</th>\n",
       "      <th>sex</th>\n",
       "    </tr>\n",
       "  </thead>\n",
       "  <tbody>\n",
       "    <tr>\n",
       "      <th>2</th>\n",
       "      <td>298</td>\n",
       "      <td>27</td>\n",
       "      <td>1</td>\n",
       "      <td>0.027086</td>\n",
       "      <td>2.281757e-51</td>\n",
       "      <td>-6.358639e-05</td>\n",
       "      <td>1.715718e-03</td>\n",
       "      <td>-0.006637</td>\n",
       "      <td>1.513699e-02</td>\n",
       "      <td>0.153045</td>\n",
       "      <td>Age-standardized</td>\n",
       "      <td>HIV/AIDS</td>\n",
       "      <td>Male</td>\n",
       "    </tr>\n",
       "    <tr>\n",
       "      <th>3</th>\n",
       "      <td>298</td>\n",
       "      <td>27</td>\n",
       "      <td>2</td>\n",
       "      <td>0.027011</td>\n",
       "      <td>6.439200e-50</td>\n",
       "      <td>-4.595813e-05</td>\n",
       "      <td>2.524703e-02</td>\n",
       "      <td>-0.009890</td>\n",
       "      <td>3.689814e-04</td>\n",
       "      <td>0.164460</td>\n",
       "      <td>Age-standardized</td>\n",
       "      <td>HIV/AIDS</td>\n",
       "      <td>Female</td>\n",
       "    </tr>\n",
       "    <tr>\n",
       "      <th>4</th>\n",
       "      <td>302</td>\n",
       "      <td>27</td>\n",
       "      <td>1</td>\n",
       "      <td>0.018031</td>\n",
       "      <td>6.496932e-174</td>\n",
       "      <td>1.685661e-05</td>\n",
       "      <td>4.871939e-03</td>\n",
       "      <td>-0.013610</td>\n",
       "      <td>3.422434e-55</td>\n",
       "      <td>0.560209</td>\n",
       "      <td>Age-standardized</td>\n",
       "      <td>Diarrheal diseases</td>\n",
       "      <td>Male</td>\n",
       "    </tr>\n",
       "    <tr>\n",
       "      <th>6</th>\n",
       "      <td>321</td>\n",
       "      <td>27</td>\n",
       "      <td>1</td>\n",
       "      <td>0.000016</td>\n",
       "      <td>5.048977e-146</td>\n",
       "      <td>4.101624e-08</td>\n",
       "      <td>3.102767e-11</td>\n",
       "      <td>-0.000016</td>\n",
       "      <td>1.694059e-67</td>\n",
       "      <td>0.523738</td>\n",
       "      <td>Age-standardized</td>\n",
       "      <td>Other intestinal infectious diseases</td>\n",
       "      <td>Male</td>\n",
       "    </tr>\n",
       "    <tr>\n",
       "      <th>7</th>\n",
       "      <td>321</td>\n",
       "      <td>27</td>\n",
       "      <td>2</td>\n",
       "      <td>0.000020</td>\n",
       "      <td>4.841675e-133</td>\n",
       "      <td>6.351323e-08</td>\n",
       "      <td>7.178372e-15</td>\n",
       "      <td>-0.000022</td>\n",
       "      <td>9.135697e-73</td>\n",
       "      <td>0.522734</td>\n",
       "      <td>Age-standardized</td>\n",
       "      <td>Other intestinal infectious diseases</td>\n",
       "      <td>Female</td>\n",
       "    </tr>\n",
       "  </tbody>\n",
       "</table>\n",
       "</div>"
      ],
      "text/plain": [
       "   cause_id  age_group_id  sex_id  intercept  intercept_pValue  \\\n",
       "2       298            27       1   0.027086      2.281757e-51   \n",
       "3       298            27       2   0.027011      6.439200e-50   \n",
       "4       302            27       1   0.018031     6.496932e-174   \n",
       "6       321            27       1   0.000016     5.048977e-146   \n",
       "7       321            27       2   0.000020     4.841675e-133   \n",
       "\n",
       "   haq_over_frontier_coef  haq_over_frontier_coef_pValue  logit_sdi_coef  \\\n",
       "2           -6.358639e-05                   1.715718e-03       -0.006637   \n",
       "3           -4.595813e-05                   2.524703e-02       -0.009890   \n",
       "4            1.685661e-05                   4.871939e-03       -0.013610   \n",
       "6            4.101624e-08                   3.102767e-11       -0.000016   \n",
       "7            6.351323e-08                   7.178372e-15       -0.000022   \n",
       "\n",
       "   logit_sdi_coef_pValue        r2    age_group_name  \\\n",
       "2           1.513699e-02  0.153045  Age-standardized   \n",
       "3           3.689814e-04  0.164460  Age-standardized   \n",
       "4           3.422434e-55  0.560209  Age-standardized   \n",
       "6           1.694059e-67  0.523738  Age-standardized   \n",
       "7           9.135697e-73  0.522734  Age-standardized   \n",
       "\n",
       "                             cause_name     sex  \n",
       "2                              HIV/AIDS    Male  \n",
       "3                              HIV/AIDS  Female  \n",
       "4                    Diarrheal diseases    Male  \n",
       "6  Other intestinal infectious diseases    Male  \n",
       "7  Other intestinal infectious diseases  Female  "
      ]
     },
     "execution_count": 61,
     "metadata": {},
     "output_type": "execute_result"
    }
   ],
   "source": [
    "dalys_haq_sdi_answers_out_significant.head()"
   ]
  },
  {
   "cell_type": "markdown",
   "metadata": {},
   "source": [
    "## Segregating for men and women"
   ]
  },
  {
   "cell_type": "code",
   "execution_count": 62,
   "metadata": {},
   "outputs": [],
   "source": [
    "dalys_haq_sdi_answers_out_significant_male = \\\n",
    "dalys_haq_sdi_answers_out_significant[dalys_haq_sdi_answers_out_significant['sex_id']==1]"
   ]
  },
  {
   "cell_type": "code",
   "execution_count": 63,
   "metadata": {
    "scrolled": true
   },
   "outputs": [
    {
     "data": {
      "text/html": [
       "<div>\n",
       "<style scoped>\n",
       "    .dataframe tbody tr th:only-of-type {\n",
       "        vertical-align: middle;\n",
       "    }\n",
       "\n",
       "    .dataframe tbody tr th {\n",
       "        vertical-align: top;\n",
       "    }\n",
       "\n",
       "    .dataframe thead th {\n",
       "        text-align: right;\n",
       "    }\n",
       "</style>\n",
       "<table border=\"1\" class=\"dataframe\">\n",
       "  <thead>\n",
       "    <tr style=\"text-align: right;\">\n",
       "      <th></th>\n",
       "      <th>cause_id</th>\n",
       "      <th>age_group_id</th>\n",
       "      <th>sex_id</th>\n",
       "      <th>intercept</th>\n",
       "      <th>intercept_pValue</th>\n",
       "      <th>haq_over_frontier_coef</th>\n",
       "      <th>haq_over_frontier_coef_pValue</th>\n",
       "      <th>logit_sdi_coef</th>\n",
       "      <th>logit_sdi_coef_pValue</th>\n",
       "      <th>r2</th>\n",
       "      <th>age_group_name</th>\n",
       "      <th>cause_name</th>\n",
       "      <th>sex</th>\n",
       "    </tr>\n",
       "  </thead>\n",
       "  <tbody>\n",
       "    <tr>\n",
       "      <th>2</th>\n",
       "      <td>298</td>\n",
       "      <td>27</td>\n",
       "      <td>1</td>\n",
       "      <td>0.027086</td>\n",
       "      <td>2.281757e-51</td>\n",
       "      <td>-6.358639e-05</td>\n",
       "      <td>1.715718e-03</td>\n",
       "      <td>-0.006637</td>\n",
       "      <td>1.513699e-02</td>\n",
       "      <td>0.153045</td>\n",
       "      <td>Age-standardized</td>\n",
       "      <td>HIV/AIDS</td>\n",
       "      <td>Male</td>\n",
       "    </tr>\n",
       "    <tr>\n",
       "      <th>4</th>\n",
       "      <td>302</td>\n",
       "      <td>27</td>\n",
       "      <td>1</td>\n",
       "      <td>0.018031</td>\n",
       "      <td>6.496932e-174</td>\n",
       "      <td>1.685661e-05</td>\n",
       "      <td>4.871939e-03</td>\n",
       "      <td>-0.013610</td>\n",
       "      <td>3.422434e-55</td>\n",
       "      <td>0.560209</td>\n",
       "      <td>Age-standardized</td>\n",
       "      <td>Diarrheal diseases</td>\n",
       "      <td>Male</td>\n",
       "    </tr>\n",
       "    <tr>\n",
       "      <th>6</th>\n",
       "      <td>321</td>\n",
       "      <td>27</td>\n",
       "      <td>1</td>\n",
       "      <td>0.000016</td>\n",
       "      <td>5.048977e-146</td>\n",
       "      <td>4.101624e-08</td>\n",
       "      <td>3.102767e-11</td>\n",
       "      <td>-0.000016</td>\n",
       "      <td>1.694059e-67</td>\n",
       "      <td>0.523738</td>\n",
       "      <td>Age-standardized</td>\n",
       "      <td>Other intestinal infectious diseases</td>\n",
       "      <td>Male</td>\n",
       "    </tr>\n",
       "    <tr>\n",
       "      <th>8</th>\n",
       "      <td>322</td>\n",
       "      <td>27</td>\n",
       "      <td>1</td>\n",
       "      <td>0.023900</td>\n",
       "      <td>3.441097e-247</td>\n",
       "      <td>-1.966858e-05</td>\n",
       "      <td>8.312156e-04</td>\n",
       "      <td>-0.009301</td>\n",
       "      <td>1.285314e-29</td>\n",
       "      <td>0.573996</td>\n",
       "      <td>Age-standardized</td>\n",
       "      <td>Lower respiratory infections</td>\n",
       "      <td>Male</td>\n",
       "    </tr>\n",
       "    <tr>\n",
       "      <th>10</th>\n",
       "      <td>328</td>\n",
       "      <td>27</td>\n",
       "      <td>1</td>\n",
       "      <td>0.000805</td>\n",
       "      <td>0.000000e+00</td>\n",
       "      <td>1.345372e-06</td>\n",
       "      <td>1.754739e-35</td>\n",
       "      <td>-0.000074</td>\n",
       "      <td>1.445375e-07</td>\n",
       "      <td>0.313053</td>\n",
       "      <td>Age-standardized</td>\n",
       "      <td>Upper respiratory infections</td>\n",
       "      <td>Male</td>\n",
       "    </tr>\n",
       "  </tbody>\n",
       "</table>\n",
       "</div>"
      ],
      "text/plain": [
       "    cause_id  age_group_id  sex_id  intercept  intercept_pValue  \\\n",
       "2        298            27       1   0.027086      2.281757e-51   \n",
       "4        302            27       1   0.018031     6.496932e-174   \n",
       "6        321            27       1   0.000016     5.048977e-146   \n",
       "8        322            27       1   0.023900     3.441097e-247   \n",
       "10       328            27       1   0.000805      0.000000e+00   \n",
       "\n",
       "    haq_over_frontier_coef  haq_over_frontier_coef_pValue  logit_sdi_coef  \\\n",
       "2            -6.358639e-05                   1.715718e-03       -0.006637   \n",
       "4             1.685661e-05                   4.871939e-03       -0.013610   \n",
       "6             4.101624e-08                   3.102767e-11       -0.000016   \n",
       "8            -1.966858e-05                   8.312156e-04       -0.009301   \n",
       "10            1.345372e-06                   1.754739e-35       -0.000074   \n",
       "\n",
       "    logit_sdi_coef_pValue        r2    age_group_name  \\\n",
       "2            1.513699e-02  0.153045  Age-standardized   \n",
       "4            3.422434e-55  0.560209  Age-standardized   \n",
       "6            1.694059e-67  0.523738  Age-standardized   \n",
       "8            1.285314e-29  0.573996  Age-standardized   \n",
       "10           1.445375e-07  0.313053  Age-standardized   \n",
       "\n",
       "                              cause_name   sex  \n",
       "2                               HIV/AIDS  Male  \n",
       "4                     Diarrheal diseases  Male  \n",
       "6   Other intestinal infectious diseases  Male  \n",
       "8           Lower respiratory infections  Male  \n",
       "10          Upper respiratory infections  Male  "
      ]
     },
     "execution_count": 63,
     "metadata": {},
     "output_type": "execute_result"
    }
   ],
   "source": [
    "dalys_haq_sdi_answers_out_significant_male.head()"
   ]
  },
  {
   "cell_type": "code",
   "execution_count": 64,
   "metadata": {},
   "outputs": [],
   "source": [
    "dalys_haq_sdi_answers_out_significant_female = \\\n",
    "dalys_haq_sdi_answers_out_significant[dalys_haq_sdi_answers_out_significant['sex_id']==2]"
   ]
  },
  {
   "cell_type": "code",
   "execution_count": 65,
   "metadata": {},
   "outputs": [
    {
     "data": {
      "text/plain": [
       "(80, 13)"
      ]
     },
     "execution_count": 65,
     "metadata": {},
     "output_type": "execute_result"
    }
   ],
   "source": [
    "dalys_haq_sdi_answers_out_significant_female.shape"
   ]
  },
  {
   "cell_type": "code",
   "execution_count": 66,
   "metadata": {},
   "outputs": [
    {
     "data": {
      "text/html": [
       "<div>\n",
       "<style scoped>\n",
       "    .dataframe tbody tr th:only-of-type {\n",
       "        vertical-align: middle;\n",
       "    }\n",
       "\n",
       "    .dataframe tbody tr th {\n",
       "        vertical-align: top;\n",
       "    }\n",
       "\n",
       "    .dataframe thead th {\n",
       "        text-align: right;\n",
       "    }\n",
       "</style>\n",
       "<table border=\"1\" class=\"dataframe\">\n",
       "  <thead>\n",
       "    <tr style=\"text-align: right;\">\n",
       "      <th></th>\n",
       "      <th>cause_id</th>\n",
       "      <th>age_group_id</th>\n",
       "      <th>sex_id</th>\n",
       "      <th>intercept</th>\n",
       "      <th>intercept_pValue</th>\n",
       "      <th>haq_over_frontier_coef</th>\n",
       "      <th>haq_over_frontier_coef_pValue</th>\n",
       "      <th>logit_sdi_coef</th>\n",
       "      <th>logit_sdi_coef_pValue</th>\n",
       "      <th>r2</th>\n",
       "      <th>age_group_name</th>\n",
       "      <th>cause_name</th>\n",
       "      <th>sex</th>\n",
       "    </tr>\n",
       "  </thead>\n",
       "  <tbody>\n",
       "    <tr>\n",
       "      <th>3</th>\n",
       "      <td>298</td>\n",
       "      <td>27</td>\n",
       "      <td>2</td>\n",
       "      <td>0.027011</td>\n",
       "      <td>6.439200e-50</td>\n",
       "      <td>-4.595813e-05</td>\n",
       "      <td>2.524703e-02</td>\n",
       "      <td>-0.009890</td>\n",
       "      <td>3.689814e-04</td>\n",
       "      <td>0.164460</td>\n",
       "      <td>Age-standardized</td>\n",
       "      <td>HIV/AIDS</td>\n",
       "      <td>Female</td>\n",
       "    </tr>\n",
       "    <tr>\n",
       "      <th>7</th>\n",
       "      <td>321</td>\n",
       "      <td>27</td>\n",
       "      <td>2</td>\n",
       "      <td>0.000020</td>\n",
       "      <td>4.841675e-133</td>\n",
       "      <td>6.351323e-08</td>\n",
       "      <td>7.178372e-15</td>\n",
       "      <td>-0.000022</td>\n",
       "      <td>9.135697e-73</td>\n",
       "      <td>0.522734</td>\n",
       "      <td>Age-standardized</td>\n",
       "      <td>Other intestinal infectious diseases</td>\n",
       "      <td>Female</td>\n",
       "    </tr>\n",
       "    <tr>\n",
       "      <th>11</th>\n",
       "      <td>328</td>\n",
       "      <td>27</td>\n",
       "      <td>2</td>\n",
       "      <td>0.000791</td>\n",
       "      <td>0.000000e+00</td>\n",
       "      <td>1.701727e-06</td>\n",
       "      <td>1.494427e-45</td>\n",
       "      <td>-0.000093</td>\n",
       "      <td>1.446444e-09</td>\n",
       "      <td>0.379062</td>\n",
       "      <td>Age-standardized</td>\n",
       "      <td>Upper respiratory infections</td>\n",
       "      <td>Female</td>\n",
       "    </tr>\n",
       "    <tr>\n",
       "      <th>15</th>\n",
       "      <td>332</td>\n",
       "      <td>27</td>\n",
       "      <td>2</td>\n",
       "      <td>0.003596</td>\n",
       "      <td>9.994309e-154</td>\n",
       "      <td>7.002889e-06</td>\n",
       "      <td>1.156607e-07</td>\n",
       "      <td>-0.003241</td>\n",
       "      <td>2.818979e-63</td>\n",
       "      <td>0.537250</td>\n",
       "      <td>Age-standardized</td>\n",
       "      <td>Meningitis</td>\n",
       "      <td>Female</td>\n",
       "    </tr>\n",
       "    <tr>\n",
       "      <th>19</th>\n",
       "      <td>338</td>\n",
       "      <td>27</td>\n",
       "      <td>2</td>\n",
       "      <td>0.000028</td>\n",
       "      <td>5.273919e-16</td>\n",
       "      <td>1.379698e-07</td>\n",
       "      <td>7.496566e-04</td>\n",
       "      <td>-0.000039</td>\n",
       "      <td>2.236708e-12</td>\n",
       "      <td>0.104621</td>\n",
       "      <td>Age-standardized</td>\n",
       "      <td>Diphtheria</td>\n",
       "      <td>Female</td>\n",
       "    </tr>\n",
       "  </tbody>\n",
       "</table>\n",
       "</div>"
      ],
      "text/plain": [
       "    cause_id  age_group_id  sex_id  intercept  intercept_pValue  \\\n",
       "3        298            27       2   0.027011      6.439200e-50   \n",
       "7        321            27       2   0.000020     4.841675e-133   \n",
       "11       328            27       2   0.000791      0.000000e+00   \n",
       "15       332            27       2   0.003596     9.994309e-154   \n",
       "19       338            27       2   0.000028      5.273919e-16   \n",
       "\n",
       "    haq_over_frontier_coef  haq_over_frontier_coef_pValue  logit_sdi_coef  \\\n",
       "3            -4.595813e-05                   2.524703e-02       -0.009890   \n",
       "7             6.351323e-08                   7.178372e-15       -0.000022   \n",
       "11            1.701727e-06                   1.494427e-45       -0.000093   \n",
       "15            7.002889e-06                   1.156607e-07       -0.003241   \n",
       "19            1.379698e-07                   7.496566e-04       -0.000039   \n",
       "\n",
       "    logit_sdi_coef_pValue        r2    age_group_name  \\\n",
       "3            3.689814e-04  0.164460  Age-standardized   \n",
       "7            9.135697e-73  0.522734  Age-standardized   \n",
       "11           1.446444e-09  0.379062  Age-standardized   \n",
       "15           2.818979e-63  0.537250  Age-standardized   \n",
       "19           2.236708e-12  0.104621  Age-standardized   \n",
       "\n",
       "                              cause_name     sex  \n",
       "3                               HIV/AIDS  Female  \n",
       "7   Other intestinal infectious diseases  Female  \n",
       "11          Upper respiratory infections  Female  \n",
       "15                            Meningitis  Female  \n",
       "19                            Diphtheria  Female  "
      ]
     },
     "execution_count": 66,
     "metadata": {},
     "output_type": "execute_result"
    }
   ],
   "source": [
    "dalys_haq_sdi_answers_out_significant_female.head()"
   ]
  },
  {
   "cell_type": "code",
   "execution_count": 67,
   "metadata": {},
   "outputs": [
    {
     "data": {
      "text/plain": [
       "(87, 13)"
      ]
     },
     "execution_count": 67,
     "metadata": {},
     "output_type": "execute_result"
    }
   ],
   "source": [
    "dalys_haq_sdi_answers_out_significant_male.shape"
   ]
  },
  {
   "cell_type": "code",
   "execution_count": 68,
   "metadata": {},
   "outputs": [],
   "source": [
    "final_table_male = dalys_haq_sdi_answers_out_significant_male[['cause_id', 'cause_name',                                                                           \n",
    "                                                                            'haq_over_frontier_coef']]                                              "
   ]
  },
  {
   "cell_type": "code",
   "execution_count": 69,
   "metadata": {},
   "outputs": [
    {
     "data": {
      "text/html": [
       "<div>\n",
       "<style scoped>\n",
       "    .dataframe tbody tr th:only-of-type {\n",
       "        vertical-align: middle;\n",
       "    }\n",
       "\n",
       "    .dataframe tbody tr th {\n",
       "        vertical-align: top;\n",
       "    }\n",
       "\n",
       "    .dataframe thead th {\n",
       "        text-align: right;\n",
       "    }\n",
       "</style>\n",
       "<table border=\"1\" class=\"dataframe\">\n",
       "  <thead>\n",
       "    <tr style=\"text-align: right;\">\n",
       "      <th></th>\n",
       "      <th>cause_id</th>\n",
       "      <th>cause_name</th>\n",
       "      <th>haq_over_frontier_coef</th>\n",
       "    </tr>\n",
       "  </thead>\n",
       "  <tbody>\n",
       "    <tr>\n",
       "      <th>2</th>\n",
       "      <td>298</td>\n",
       "      <td>HIV/AIDS</td>\n",
       "      <td>-6.358639e-05</td>\n",
       "    </tr>\n",
       "    <tr>\n",
       "      <th>4</th>\n",
       "      <td>302</td>\n",
       "      <td>Diarrheal diseases</td>\n",
       "      <td>1.685661e-05</td>\n",
       "    </tr>\n",
       "    <tr>\n",
       "      <th>6</th>\n",
       "      <td>321</td>\n",
       "      <td>Other intestinal infectious diseases</td>\n",
       "      <td>4.101624e-08</td>\n",
       "    </tr>\n",
       "    <tr>\n",
       "      <th>8</th>\n",
       "      <td>322</td>\n",
       "      <td>Lower respiratory infections</td>\n",
       "      <td>-1.966858e-05</td>\n",
       "    </tr>\n",
       "    <tr>\n",
       "      <th>10</th>\n",
       "      <td>328</td>\n",
       "      <td>Upper respiratory infections</td>\n",
       "      <td>1.345372e-06</td>\n",
       "    </tr>\n",
       "  </tbody>\n",
       "</table>\n",
       "</div>"
      ],
      "text/plain": [
       "    cause_id                            cause_name  haq_over_frontier_coef\n",
       "2        298                              HIV/AIDS           -6.358639e-05\n",
       "4        302                    Diarrheal diseases            1.685661e-05\n",
       "6        321  Other intestinal infectious diseases            4.101624e-08\n",
       "8        322          Lower respiratory infections           -1.966858e-05\n",
       "10       328          Upper respiratory infections            1.345372e-06"
      ]
     },
     "execution_count": 69,
     "metadata": {},
     "output_type": "execute_result"
    }
   ],
   "source": [
    "final_table_male.head()"
   ]
  },
  {
   "cell_type": "code",
   "execution_count": 70,
   "metadata": {},
   "outputs": [
    {
     "data": {
      "text/plain": [
       "(87, 3)"
      ]
     },
     "execution_count": 70,
     "metadata": {},
     "output_type": "execute_result"
    }
   ],
   "source": [
    "final_table_male.shape"
   ]
  },
  {
   "cell_type": "code",
   "execution_count": 72,
   "metadata": {},
   "outputs": [
    {
     "data": {
      "text/plain": [
       "(87, 3)"
      ]
     },
     "execution_count": 72,
     "metadata": {},
     "output_type": "execute_result"
    }
   ],
   "source": [
    "final_table_male.shape"
   ]
  },
  {
   "cell_type": "code",
   "execution_count": 73,
   "metadata": {},
   "outputs": [
    {
     "data": {
      "text/plain": [
       "pandas.core.frame.DataFrame"
      ]
     },
     "execution_count": 73,
     "metadata": {},
     "output_type": "execute_result"
    }
   ],
   "source": [
    "type(final_table_male)"
   ]
  },
  {
   "cell_type": "code",
   "execution_count": 74,
   "metadata": {},
   "outputs": [],
   "source": [
    "final_table_female = dalys_haq_sdi_answers_out_significant_female[['cause_id', 'cause_name',\\\n",
    "                                                                               'haq_over_frontier_coef']]                                              "
   ]
  },
  {
   "cell_type": "code",
   "execution_count": 75,
   "metadata": {
    "scrolled": true
   },
   "outputs": [
    {
     "data": {
      "text/html": [
       "<div>\n",
       "<style scoped>\n",
       "    .dataframe tbody tr th:only-of-type {\n",
       "        vertical-align: middle;\n",
       "    }\n",
       "\n",
       "    .dataframe tbody tr th {\n",
       "        vertical-align: top;\n",
       "    }\n",
       "\n",
       "    .dataframe thead th {\n",
       "        text-align: right;\n",
       "    }\n",
       "</style>\n",
       "<table border=\"1\" class=\"dataframe\">\n",
       "  <thead>\n",
       "    <tr style=\"text-align: right;\">\n",
       "      <th></th>\n",
       "      <th>cause_id</th>\n",
       "      <th>cause_name</th>\n",
       "      <th>haq_over_frontier_coef</th>\n",
       "    </tr>\n",
       "  </thead>\n",
       "  <tbody>\n",
       "    <tr>\n",
       "      <th>3</th>\n",
       "      <td>298</td>\n",
       "      <td>HIV/AIDS</td>\n",
       "      <td>-4.595813e-05</td>\n",
       "    </tr>\n",
       "    <tr>\n",
       "      <th>7</th>\n",
       "      <td>321</td>\n",
       "      <td>Other intestinal infectious diseases</td>\n",
       "      <td>6.351323e-08</td>\n",
       "    </tr>\n",
       "    <tr>\n",
       "      <th>11</th>\n",
       "      <td>328</td>\n",
       "      <td>Upper respiratory infections</td>\n",
       "      <td>1.701727e-06</td>\n",
       "    </tr>\n",
       "    <tr>\n",
       "      <th>15</th>\n",
       "      <td>332</td>\n",
       "      <td>Meningitis</td>\n",
       "      <td>7.002889e-06</td>\n",
       "    </tr>\n",
       "    <tr>\n",
       "      <th>19</th>\n",
       "      <td>338</td>\n",
       "      <td>Diphtheria</td>\n",
       "      <td>1.379698e-07</td>\n",
       "    </tr>\n",
       "  </tbody>\n",
       "</table>\n",
       "</div>"
      ],
      "text/plain": [
       "    cause_id                            cause_name  haq_over_frontier_coef\n",
       "3        298                              HIV/AIDS           -4.595813e-05\n",
       "7        321  Other intestinal infectious diseases            6.351323e-08\n",
       "11       328          Upper respiratory infections            1.701727e-06\n",
       "15       332                            Meningitis            7.002889e-06\n",
       "19       338                            Diphtheria            1.379698e-07"
      ]
     },
     "execution_count": 75,
     "metadata": {},
     "output_type": "execute_result"
    }
   ],
   "source": [
    "final_table_female.head()"
   ]
  },
  {
   "cell_type": "code",
   "execution_count": 76,
   "metadata": {},
   "outputs": [
    {
     "data": {
      "text/plain": [
       "(80, 3)"
      ]
     },
     "execution_count": 76,
     "metadata": {},
     "output_type": "execute_result"
    }
   ],
   "source": [
    "final_table_female.shape"
   ]
  },
  {
   "cell_type": "code",
   "execution_count": 77,
   "metadata": {},
   "outputs": [
    {
     "data": {
      "text/plain": [
       "pandas.core.frame.DataFrame"
      ]
     },
     "execution_count": 77,
     "metadata": {},
     "output_type": "execute_result"
    }
   ],
   "source": [
    "type(final_table_female)"
   ]
  },
  {
   "cell_type": "markdown",
   "metadata": {},
   "source": [
    "## Changed the below to Markdown type rather than code to make sure, nothing gets over-written by mistake"
   ]
  },
  {
   "cell_type": "markdown",
   "metadata": {},
   "source": [
    "final_table_female.to_csv('/ihme/homes/arjuns13/notebooks/Documents/Data/dalys_haq_sdi_females_final_table_ageStd_7Jun19.csv')"
   ]
  },
  {
   "cell_type": "markdown",
   "metadata": {},
   "source": [
    "final_table_female.to_csv('J:\\\\Project\\\\Cost_Effectiveness\\\\NPC\\\\Regression_Analysis\\\\dalys_haq_sdi_females_final_table_ageStd_7Jun19.csv')"
   ]
  },
  {
   "cell_type": "markdown",
   "metadata": {},
   "source": [
    "final_table_male.to_csv('/ihme/homes/arjuns13/notebooks/Documents/Data/dalys_haq_sdi_males_final_table_ageStd_7Jun19.csv')"
   ]
  },
  {
   "cell_type": "markdown",
   "metadata": {},
   "source": [
    "final_table_male.to_csv('J:\\\\Project\\\\Cost_Effectiveness\\\\NPC\\\\Regression_Analysis\\\\dalys_haq_sdi_males_final_table_ageStd_7Jun19.csv')"
   ]
  }
 ],
 "metadata": {
  "kernelspec": {
   "display_name": "Python 3",
   "language": "python",
   "name": "python3"
  },
  "language_info": {
   "codemirror_mode": {
    "name": "ipython",
    "version": 3
   },
   "file_extension": ".py",
   "mimetype": "text/x-python",
   "name": "python",
   "nbconvert_exporter": "python",
   "pygments_lexer": "ipython3",
   "version": "3.7.1"
  }
 },
 "nbformat": 4,
 "nbformat_minor": 2
}
