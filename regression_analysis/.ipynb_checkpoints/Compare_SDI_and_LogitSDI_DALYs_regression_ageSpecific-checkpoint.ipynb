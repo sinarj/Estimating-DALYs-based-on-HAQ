{
 "cells": [
  {
   "cell_type": "markdown",
   "metadata": {},
   "source": [
    "# This notebook was written to compare how our regression results fared when we used SDI as compared to logit_SDI as one of the predictors in our regressions for the age specific version"
   ]
  },
  {
   "cell_type": "markdown",
   "metadata": {},
   "source": [
    "## Loading causes based on highest expenditure data (based on Joe's list and COD methods)"
   ]
  },
  {
   "cell_type": "code",
   "execution_count": 1,
   "metadata": {},
   "outputs": [],
   "source": [
    "import pandas as pd\n",
    "cause_list_final = pd.read_excel('/ihme/homes/arjuns13/notebooks/Documents/Data/CandidateCauses_Criteria_withCODEM_andDALYs_latest2ndJune.xlsx')"
   ]
  },
  {
   "cell_type": "code",
   "execution_count": 2,
   "metadata": {},
   "outputs": [
    {
     "data": {
      "text/html": [
       "<div>\n",
       "<style scoped>\n",
       "    .dataframe tbody tr th:only-of-type {\n",
       "        vertical-align: middle;\n",
       "    }\n",
       "\n",
       "    .dataframe tbody tr th {\n",
       "        vertical-align: top;\n",
       "    }\n",
       "\n",
       "    .dataframe thead th {\n",
       "        text-align: right;\n",
       "    }\n",
       "</style>\n",
       "<table border=\"1\" class=\"dataframe\">\n",
       "  <thead>\n",
       "    <tr style=\"text-align: right;\">\n",
       "      <th></th>\n",
       "      <th>Unnamed: 0</th>\n",
       "      <th>DEX ranking by total expenditure</th>\n",
       "      <th>GBD cause_id</th>\n",
       "      <th>DEX descriptive label</th>\n",
       "      <th>Preliminary amenable burden analysis conducted</th>\n",
       "      <th>Comment</th>\n",
       "      <th>Number of GBD round 5 global CODEM models in which HAQ index was included</th>\n",
       "      <th>Number of GBD round 5data rich CODEM models in which HAQ index was included</th>\n",
       "      <th>Was HAQ index included in nonfatal model?</th>\n",
       "      <th>Ranking DALYs in US</th>\n",
       "      <th>Priority</th>\n",
       "      <th>Total DALYs in the United States, GBD round 5, year = 2016</th>\n",
       "      <th>DALYs per 100,000 people in the United States, GBD round 5, year = 2016</th>\n",
       "      <th>Total DALYs globally, GBD round 5, year = 2016</th>\n",
       "      <th>DALYs per 100000  people globally, GBD round 5, year = 2016</th>\n",
       "      <th>Expenditure per person?</th>\n",
       "      <th>Unnamed: 16</th>\n",
       "      <th>Unnamed: 17</th>\n",
       "      <th>Unnamed: 18</th>\n",
       "    </tr>\n",
       "  </thead>\n",
       "  <tbody>\n",
       "    <tr>\n",
       "      <th>0</th>\n",
       "      <td>61</td>\n",
       "      <td>75</td>\n",
       "      <td>298.0</td>\n",
       "      <td>HIV/AIDS</td>\n",
       "      <td>NaN</td>\n",
       "      <td>NaN</td>\n",
       "      <td>NaN</td>\n",
       "      <td>NaN</td>\n",
       "      <td>NaN</td>\n",
       "      <td>53</td>\n",
       "      <td>*</td>\n",
       "      <td>4.099518e+05</td>\n",
       "      <td>126.970345</td>\n",
       "      <td>5.904798e+07</td>\n",
       "      <td>781.627137</td>\n",
       "      <td>NaN</td>\n",
       "      <td>NaN</td>\n",
       "      <td>NaN</td>\n",
       "      <td>NaN</td>\n",
       "    </tr>\n",
       "    <tr>\n",
       "      <th>1</th>\n",
       "      <td>0</td>\n",
       "      <td>1</td>\n",
       "      <td>587.0</td>\n",
       "      <td>Diabetes mellitus</td>\n",
       "      <td>Yes</td>\n",
       "      <td>NaN</td>\n",
       "      <td>694.0</td>\n",
       "      <td>553.0</td>\n",
       "      <td>Yes, proportion with foot ulcer</td>\n",
       "      <td>6</td>\n",
       "      <td>4</td>\n",
       "      <td>3.814559e+06</td>\n",
       "      <td>1181.445965</td>\n",
       "      <td>6.651521e+07</td>\n",
       "      <td>880.471923</td>\n",
       "      <td>NaN</td>\n",
       "      <td>NaN</td>\n",
       "      <td>Priority criteria</td>\n",
       "      <td>NaN</td>\n",
       "    </tr>\n",
       "    <tr>\n",
       "      <th>2</th>\n",
       "      <td>1</td>\n",
       "      <td>2</td>\n",
       "      <td>493.0</td>\n",
       "      <td>Ischemic heart disease</td>\n",
       "      <td>NaN</td>\n",
       "      <td>NaN</td>\n",
       "      <td>372.5</td>\n",
       "      <td>608.5</td>\n",
       "      <td>Yes</td>\n",
       "      <td>1</td>\n",
       "      <td>4</td>\n",
       "      <td>7.854095e+06</td>\n",
       "      <td>2432.571827</td>\n",
       "      <td>1.688977e+08</td>\n",
       "      <td>2235.725150</td>\n",
       "      <td>NaN</td>\n",
       "      <td>NaN</td>\n",
       "      <td>1</td>\n",
       "      <td>Top 60 spending ranking</td>\n",
       "    </tr>\n",
       "    <tr>\n",
       "      <th>3</th>\n",
       "      <td>3</td>\n",
       "      <td>5</td>\n",
       "      <td>697.0</td>\n",
       "      <td>Falls</td>\n",
       "      <td>Yes</td>\n",
       "      <td>NaN</td>\n",
       "      <td>352.5</td>\n",
       "      <td>30.0</td>\n",
       "      <td>Yes, % treated</td>\n",
       "      <td>18</td>\n",
       "      <td>4</td>\n",
       "      <td>1.899736e+06</td>\n",
       "      <td>588.386632</td>\n",
       "      <td>3.551392e+07</td>\n",
       "      <td>470.103220</td>\n",
       "      <td>NaN</td>\n",
       "      <td>NaN</td>\n",
       "      <td>1</td>\n",
       "      <td>Top 60 DALY ranking</td>\n",
       "    </tr>\n",
       "    <tr>\n",
       "      <th>4</th>\n",
       "      <td>9</td>\n",
       "      <td>12</td>\n",
       "      <td>509.0</td>\n",
       "      <td>Chronic obstructive pulmonary disease</td>\n",
       "      <td>Yes</td>\n",
       "      <td>NaN</td>\n",
       "      <td>532.5</td>\n",
       "      <td>353.0</td>\n",
       "      <td>Yes</td>\n",
       "      <td>4</td>\n",
       "      <td>4</td>\n",
       "      <td>4.613470e+06</td>\n",
       "      <td>1428.884710</td>\n",
       "      <td>8.059322e+07</td>\n",
       "      <td>1066.824645</td>\n",
       "      <td>NaN</td>\n",
       "      <td>NaN</td>\n",
       "      <td>1</td>\n",
       "      <td>CODEM model</td>\n",
       "    </tr>\n",
       "  </tbody>\n",
       "</table>\n",
       "</div>"
      ],
      "text/plain": [
       "   Unnamed: 0 DEX ranking by total expenditure  GBD cause_id  \\\n",
       "0          61                               75         298.0   \n",
       "1           0                                1         587.0   \n",
       "2           1                                2         493.0   \n",
       "3           3                                5         697.0   \n",
       "4           9                               12         509.0   \n",
       "\n",
       "                   DEX descriptive label  \\\n",
       "0                               HIV/AIDS   \n",
       "1                      Diabetes mellitus   \n",
       "2                 Ischemic heart disease   \n",
       "3                                  Falls   \n",
       "4  Chronic obstructive pulmonary disease   \n",
       "\n",
       "  Preliminary amenable burden analysis conducted  Comment  \\\n",
       "0                                             NaN     NaN   \n",
       "1                                             Yes     NaN   \n",
       "2                                             NaN     NaN   \n",
       "3                                             Yes     NaN   \n",
       "4                                             Yes     NaN   \n",
       "\n",
       "   Number of GBD round 5 global CODEM models in which HAQ index was included  \\\n",
       "0                                                NaN                           \n",
       "1                                              694.0                           \n",
       "2                                              372.5                           \n",
       "3                                              352.5                           \n",
       "4                                              532.5                           \n",
       "\n",
       "   Number of GBD round 5data rich CODEM models in which HAQ index was included  \\\n",
       "0                                                NaN                             \n",
       "1                                              553.0                             \n",
       "2                                              608.5                             \n",
       "3                                               30.0                             \n",
       "4                                              353.0                             \n",
       "\n",
       "  Was HAQ index included in nonfatal model?  Ranking DALYs in US Priority  \\\n",
       "0                                       NaN                   53        *   \n",
       "1           Yes, proportion with foot ulcer                    6        4   \n",
       "2                                       Yes                    1        4   \n",
       "3                           Yes, % treated                    18        4   \n",
       "4                                      Yes                     4        4   \n",
       "\n",
       "   Total DALYs in the United States, GBD round 5, year = 2016  \\\n",
       "0                                       4.099518e+05            \n",
       "1                                       3.814559e+06            \n",
       "2                                       7.854095e+06            \n",
       "3                                       1.899736e+06            \n",
       "4                                       4.613470e+06            \n",
       "\n",
       "   DALYs per 100,000 people in the United States, GBD round 5, year = 2016  \\\n",
       "0                                         126.970345                         \n",
       "1                                        1181.445965                         \n",
       "2                                        2432.571827                         \n",
       "3                                         588.386632                         \n",
       "4                                        1428.884710                         \n",
       "\n",
       "   Total DALYs globally, GBD round 5, year = 2016  \\\n",
       "0                                    5.904798e+07   \n",
       "1                                    6.651521e+07   \n",
       "2                                    1.688977e+08   \n",
       "3                                    3.551392e+07   \n",
       "4                                    8.059322e+07   \n",
       "\n",
       "   DALYs per 100000  people globally, GBD round 5, year = 2016  \\\n",
       "0                                         781.627137             \n",
       "1                                         880.471923             \n",
       "2                                        2235.725150             \n",
       "3                                         470.103220             \n",
       "4                                        1066.824645             \n",
       "\n",
       "   Expenditure per person?  Unnamed: 16        Unnamed: 17  \\\n",
       "0                      NaN          NaN                NaN   \n",
       "1                      NaN          NaN  Priority criteria   \n",
       "2                      NaN          NaN                  1   \n",
       "3                      NaN          NaN                  1   \n",
       "4                      NaN          NaN                  1   \n",
       "\n",
       "               Unnamed: 18  \n",
       "0                      NaN  \n",
       "1                      NaN  \n",
       "2  Top 60 spending ranking  \n",
       "3      Top 60 DALY ranking  \n",
       "4              CODEM model  "
      ]
     },
     "execution_count": 2,
     "metadata": {},
     "output_type": "execute_result"
    }
   ],
   "source": [
    "cause_list_final.head()"
   ]
  },
  {
   "cell_type": "code",
   "execution_count": 3,
   "metadata": {},
   "outputs": [
    {
     "data": {
      "text/plain": [
       "(149, 19)"
      ]
     },
     "execution_count": 3,
     "metadata": {},
     "output_type": "execute_result"
    }
   ],
   "source": [
    "cause_list_final.shape"
   ]
  },
  {
   "cell_type": "code",
   "execution_count": 4,
   "metadata": {},
   "outputs": [],
   "source": [
    "cause_ids_final = cause_list_final['GBD cause_id']"
   ]
  },
  {
   "cell_type": "code",
   "execution_count": 5,
   "metadata": {},
   "outputs": [],
   "source": [
    "cause_ids_final = cause_ids_final.dropna()"
   ]
  },
  {
   "cell_type": "code",
   "execution_count": 6,
   "metadata": {},
   "outputs": [],
   "source": [
    "cause_ids_final = cause_ids_final.astype('int')"
   ]
  },
  {
   "cell_type": "markdown",
   "metadata": {},
   "source": [
    "### getting the values computed earlier - for HAQ frontiers, Logit_SDIs and older DALYs (without cause IDs)"
   ]
  },
  {
   "cell_type": "code",
   "execution_count": 7,
   "metadata": {},
   "outputs": [],
   "source": [
    "haqFront_sdi_daly_data = pd.read_csv('/ihme/homes/arjuns13/notebooks/Documents/Data/haq_sdi_frontier_estimates_perAge_aggregatedCauses_allMostDetLocs.csv')"
   ]
  },
  {
   "cell_type": "code",
   "execution_count": 8,
   "metadata": {},
   "outputs": [
    {
     "data": {
      "text/html": [
       "<div>\n",
       "<style scoped>\n",
       "    .dataframe tbody tr th:only-of-type {\n",
       "        vertical-align: middle;\n",
       "    }\n",
       "\n",
       "    .dataframe tbody tr th {\n",
       "        vertical-align: top;\n",
       "    }\n",
       "\n",
       "    .dataframe thead th {\n",
       "        text-align: right;\n",
       "    }\n",
       "</style>\n",
       "<table border=\"1\" class=\"dataframe\">\n",
       "  <thead>\n",
       "    <tr style=\"text-align: right;\">\n",
       "      <th></th>\n",
       "      <th>Unnamed: 0</th>\n",
       "      <th>V1</th>\n",
       "      <th>location_id</th>\n",
       "      <th>logit_sdi</th>\n",
       "      <th>age_group_id</th>\n",
       "      <th>ln_haq</th>\n",
       "      <th>fit2</th>\n",
       "    </tr>\n",
       "  </thead>\n",
       "  <tbody>\n",
       "    <tr>\n",
       "      <th>0</th>\n",
       "      <td>1</td>\n",
       "      <td>0</td>\n",
       "      <td>7</td>\n",
       "      <td>0.110348</td>\n",
       "      <td>2</td>\n",
       "      <td>3.872641</td>\n",
       "      <td>4.091803</td>\n",
       "    </tr>\n",
       "    <tr>\n",
       "      <th>1</th>\n",
       "      <td>2</td>\n",
       "      <td>18</td>\n",
       "      <td>8</td>\n",
       "      <td>1.820419</td>\n",
       "      <td>2</td>\n",
       "      <td>4.471830</td>\n",
       "      <td>4.576822</td>\n",
       "    </tr>\n",
       "    <tr>\n",
       "      <th>2</th>\n",
       "      <td>3</td>\n",
       "      <td>36</td>\n",
       "      <td>10</td>\n",
       "      <td>-0.093432</td>\n",
       "      <td>2</td>\n",
       "      <td>3.840619</td>\n",
       "      <td>4.034006</td>\n",
       "    </tr>\n",
       "    <tr>\n",
       "      <th>3</th>\n",
       "      <td>4</td>\n",
       "      <td>54</td>\n",
       "      <td>12</td>\n",
       "      <td>0.046388</td>\n",
       "      <td>2</td>\n",
       "      <td>3.686257</td>\n",
       "      <td>4.073662</td>\n",
       "    </tr>\n",
       "    <tr>\n",
       "      <th>4</th>\n",
       "      <td>5</td>\n",
       "      <td>72</td>\n",
       "      <td>13</td>\n",
       "      <td>1.137170</td>\n",
       "      <td>2</td>\n",
       "      <td>4.346589</td>\n",
       "      <td>4.383035</td>\n",
       "    </tr>\n",
       "  </tbody>\n",
       "</table>\n",
       "</div>"
      ],
      "text/plain": [
       "   Unnamed: 0  V1  location_id  logit_sdi  age_group_id    ln_haq      fit2\n",
       "0           1   0            7   0.110348             2  3.872641  4.091803\n",
       "1           2  18            8   1.820419             2  4.471830  4.576822\n",
       "2           3  36           10  -0.093432             2  3.840619  4.034006\n",
       "3           4  54           12   0.046388             2  3.686257  4.073662\n",
       "4           5  72           13   1.137170             2  4.346589  4.383035"
      ]
     },
     "execution_count": 8,
     "metadata": {},
     "output_type": "execute_result"
    }
   ],
   "source": [
    "haqFront_sdi_daly_data.head()"
   ]
  },
  {
   "cell_type": "markdown",
   "metadata": {},
   "source": [
    "# Import and merge DALYs data"
   ]
  },
  {
   "cell_type": "code",
   "execution_count": 9,
   "metadata": {},
   "outputs": [],
   "source": [
    "final = haqFront_sdi_daly_data"
   ]
  },
  {
   "cell_type": "code",
   "execution_count": 10,
   "metadata": {},
   "outputs": [],
   "source": [
    "final['haq'] = 10**(final['ln_haq'])"
   ]
  },
  {
   "cell_type": "code",
   "execution_count": 11,
   "metadata": {},
   "outputs": [],
   "source": [
    "final['exp_fit'] = 10**(final['fit2'])"
   ]
  },
  {
   "cell_type": "code",
   "execution_count": 12,
   "metadata": {},
   "outputs": [],
   "source": [
    "final.loc[final['exp_fit'] > 100.0, 'exp_fit']=100\n"
   ]
  },
  {
   "cell_type": "code",
   "execution_count": 13,
   "metadata": {},
   "outputs": [
    {
     "data": {
      "text/plain": [
       "count    14814.0\n",
       "mean       100.0\n",
       "std          0.0\n",
       "min        100.0\n",
       "25%        100.0\n",
       "50%        100.0\n",
       "75%        100.0\n",
       "max        100.0\n",
       "Name: exp_fit, dtype: float64"
      ]
     },
     "execution_count": 13,
     "metadata": {},
     "output_type": "execute_result"
    }
   ],
   "source": [
    "final['exp_fit'].describe()"
   ]
  },
  {
   "cell_type": "code",
   "execution_count": 14,
   "metadata": {},
   "outputs": [],
   "source": [
    "final['haq_over_frontier'] = final['haq']/final['exp_fit']"
   ]
  },
  {
   "cell_type": "code",
   "execution_count": 15,
   "metadata": {},
   "outputs": [
    {
     "data": {
      "text/plain": [
       "array([], dtype=int64)"
      ]
     },
     "execution_count": 15,
     "metadata": {},
     "output_type": "execute_result"
    }
   ],
   "source": [
    "final[final['haq_over_frontier']==1].age_group_id.unique() ## make sure that HAQ over frontier = 1 for age group IDs > 19"
   ]
  },
  {
   "cell_type": "markdown",
   "metadata": {},
   "source": [
    "## End of the copied part from the previously done analysis"
   ]
  },
  {
   "cell_type": "code",
   "execution_count": 16,
   "metadata": {},
   "outputs": [
    {
     "data": {
      "text/html": [
       "<div>\n",
       "<style scoped>\n",
       "    .dataframe tbody tr th:only-of-type {\n",
       "        vertical-align: middle;\n",
       "    }\n",
       "\n",
       "    .dataframe tbody tr th {\n",
       "        vertical-align: top;\n",
       "    }\n",
       "\n",
       "    .dataframe thead th {\n",
       "        text-align: right;\n",
       "    }\n",
       "</style>\n",
       "<table border=\"1\" class=\"dataframe\">\n",
       "  <thead>\n",
       "    <tr style=\"text-align: right;\">\n",
       "      <th></th>\n",
       "      <th>Unnamed: 0</th>\n",
       "      <th>V1</th>\n",
       "      <th>location_id</th>\n",
       "      <th>logit_sdi</th>\n",
       "      <th>age_group_id</th>\n",
       "      <th>ln_haq</th>\n",
       "      <th>fit2</th>\n",
       "      <th>haq</th>\n",
       "      <th>exp_fit</th>\n",
       "      <th>haq_over_frontier</th>\n",
       "    </tr>\n",
       "  </thead>\n",
       "  <tbody>\n",
       "    <tr>\n",
       "      <th>0</th>\n",
       "      <td>1</td>\n",
       "      <td>0</td>\n",
       "      <td>7</td>\n",
       "      <td>0.110348</td>\n",
       "      <td>2</td>\n",
       "      <td>3.872641</td>\n",
       "      <td>4.091803</td>\n",
       "      <td>7458.314264</td>\n",
       "      <td>100.0</td>\n",
       "      <td>74.583143</td>\n",
       "    </tr>\n",
       "    <tr>\n",
       "      <th>1</th>\n",
       "      <td>2</td>\n",
       "      <td>18</td>\n",
       "      <td>8</td>\n",
       "      <td>1.820419</td>\n",
       "      <td>2</td>\n",
       "      <td>4.471830</td>\n",
       "      <td>4.576822</td>\n",
       "      <td>29636.708696</td>\n",
       "      <td>100.0</td>\n",
       "      <td>296.367087</td>\n",
       "    </tr>\n",
       "    <tr>\n",
       "      <th>2</th>\n",
       "      <td>3</td>\n",
       "      <td>36</td>\n",
       "      <td>10</td>\n",
       "      <td>-0.093432</td>\n",
       "      <td>2</td>\n",
       "      <td>3.840619</td>\n",
       "      <td>4.034006</td>\n",
       "      <td>6928.179020</td>\n",
       "      <td>100.0</td>\n",
       "      <td>69.281790</td>\n",
       "    </tr>\n",
       "    <tr>\n",
       "      <th>3</th>\n",
       "      <td>4</td>\n",
       "      <td>54</td>\n",
       "      <td>12</td>\n",
       "      <td>0.046388</td>\n",
       "      <td>2</td>\n",
       "      <td>3.686257</td>\n",
       "      <td>4.073662</td>\n",
       "      <td>4855.759529</td>\n",
       "      <td>100.0</td>\n",
       "      <td>48.557595</td>\n",
       "    </tr>\n",
       "    <tr>\n",
       "      <th>4</th>\n",
       "      <td>5</td>\n",
       "      <td>72</td>\n",
       "      <td>13</td>\n",
       "      <td>1.137170</td>\n",
       "      <td>2</td>\n",
       "      <td>4.346589</td>\n",
       "      <td>4.383035</td>\n",
       "      <td>22212.050613</td>\n",
       "      <td>100.0</td>\n",
       "      <td>222.120506</td>\n",
       "    </tr>\n",
       "  </tbody>\n",
       "</table>\n",
       "</div>"
      ],
      "text/plain": [
       "   Unnamed: 0  V1  location_id  logit_sdi  age_group_id    ln_haq      fit2  \\\n",
       "0           1   0            7   0.110348             2  3.872641  4.091803   \n",
       "1           2  18            8   1.820419             2  4.471830  4.576822   \n",
       "2           3  36           10  -0.093432             2  3.840619  4.034006   \n",
       "3           4  54           12   0.046388             2  3.686257  4.073662   \n",
       "4           5  72           13   1.137170             2  4.346589  4.383035   \n",
       "\n",
       "            haq  exp_fit  haq_over_frontier  \n",
       "0   7458.314264    100.0          74.583143  \n",
       "1  29636.708696    100.0         296.367087  \n",
       "2   6928.179020    100.0          69.281790  \n",
       "3   4855.759529    100.0          48.557595  \n",
       "4  22212.050613    100.0         222.120506  "
      ]
     },
     "execution_count": 16,
     "metadata": {},
     "output_type": "execute_result"
    }
   ],
   "source": [
    "final.head()"
   ]
  },
  {
   "cell_type": "markdown",
   "metadata": {},
   "source": [
    "## Getting SDI back from Logit SDI using the Expit function"
   ]
  },
  {
   "cell_type": "code",
   "execution_count": 17,
   "metadata": {},
   "outputs": [],
   "source": [
    "from scipy import special\n",
    "final['sdi'] = special.expit(final['logit_sdi'])"
   ]
  },
  {
   "cell_type": "markdown",
   "metadata": {},
   "source": [
    "## To be merged (on Location Id and Age Group ID) with the DALY data coming from the central funcs - here I end up keeping LogitSDI, rather than SDI, which is what I used for the 2nd June run"
   ]
  },
  {
   "cell_type": "code",
   "execution_count": 18,
   "metadata": {},
   "outputs": [],
   "source": [
    "haq_sdi = final[['location_id', 'age_group_id', 'logit_sdi','sdi','exp_fit','haq','haq_over_frontier']]"
   ]
  },
  {
   "cell_type": "code",
   "execution_count": 19,
   "metadata": {},
   "outputs": [
    {
     "data": {
      "text/html": [
       "<div>\n",
       "<style scoped>\n",
       "    .dataframe tbody tr th:only-of-type {\n",
       "        vertical-align: middle;\n",
       "    }\n",
       "\n",
       "    .dataframe tbody tr th {\n",
       "        vertical-align: top;\n",
       "    }\n",
       "\n",
       "    .dataframe thead th {\n",
       "        text-align: right;\n",
       "    }\n",
       "</style>\n",
       "<table border=\"1\" class=\"dataframe\">\n",
       "  <thead>\n",
       "    <tr style=\"text-align: right;\">\n",
       "      <th></th>\n",
       "      <th>location_id</th>\n",
       "      <th>age_group_id</th>\n",
       "      <th>logit_sdi</th>\n",
       "      <th>sdi</th>\n",
       "      <th>exp_fit</th>\n",
       "      <th>haq</th>\n",
       "      <th>haq_over_frontier</th>\n",
       "    </tr>\n",
       "  </thead>\n",
       "  <tbody>\n",
       "    <tr>\n",
       "      <th>0</th>\n",
       "      <td>7</td>\n",
       "      <td>2</td>\n",
       "      <td>0.110348</td>\n",
       "      <td>0.527559</td>\n",
       "      <td>100.0</td>\n",
       "      <td>7458.314264</td>\n",
       "      <td>74.583143</td>\n",
       "    </tr>\n",
       "    <tr>\n",
       "      <th>1</th>\n",
       "      <td>8</td>\n",
       "      <td>2</td>\n",
       "      <td>1.820419</td>\n",
       "      <td>0.860616</td>\n",
       "      <td>100.0</td>\n",
       "      <td>29636.708696</td>\n",
       "      <td>296.367087</td>\n",
       "    </tr>\n",
       "    <tr>\n",
       "      <th>2</th>\n",
       "      <td>10</td>\n",
       "      <td>2</td>\n",
       "      <td>-0.093432</td>\n",
       "      <td>0.476659</td>\n",
       "      <td>100.0</td>\n",
       "      <td>6928.179020</td>\n",
       "      <td>69.281790</td>\n",
       "    </tr>\n",
       "    <tr>\n",
       "      <th>3</th>\n",
       "      <td>12</td>\n",
       "      <td>2</td>\n",
       "      <td>0.046388</td>\n",
       "      <td>0.511595</td>\n",
       "      <td>100.0</td>\n",
       "      <td>4855.759529</td>\n",
       "      <td>48.557595</td>\n",
       "    </tr>\n",
       "    <tr>\n",
       "      <th>4</th>\n",
       "      <td>13</td>\n",
       "      <td>2</td>\n",
       "      <td>1.137170</td>\n",
       "      <td>0.757160</td>\n",
       "      <td>100.0</td>\n",
       "      <td>22212.050613</td>\n",
       "      <td>222.120506</td>\n",
       "    </tr>\n",
       "  </tbody>\n",
       "</table>\n",
       "</div>"
      ],
      "text/plain": [
       "   location_id  age_group_id  logit_sdi       sdi  exp_fit           haq  \\\n",
       "0            7             2   0.110348  0.527559    100.0   7458.314264   \n",
       "1            8             2   1.820419  0.860616    100.0  29636.708696   \n",
       "2           10             2  -0.093432  0.476659    100.0   6928.179020   \n",
       "3           12             2   0.046388  0.511595    100.0   4855.759529   \n",
       "4           13             2   1.137170  0.757160    100.0  22212.050613   \n",
       "\n",
       "   haq_over_frontier  \n",
       "0          74.583143  \n",
       "1         296.367087  \n",
       "2          69.281790  \n",
       "3          48.557595  \n",
       "4         222.120506  "
      ]
     },
     "execution_count": 19,
     "metadata": {},
     "output_type": "execute_result"
    }
   ],
   "source": [
    "haq_sdi.head()"
   ]
  },
  {
   "cell_type": "code",
   "execution_count": 20,
   "metadata": {},
   "outputs": [
    {
     "data": {
      "text/plain": [
       "(14814, 7)"
      ]
     },
     "execution_count": 20,
     "metadata": {},
     "output_type": "execute_result"
    }
   ],
   "source": [
    "haq_sdi.shape"
   ]
  },
  {
   "cell_type": "markdown",
   "metadata": {},
   "source": [
    "## Getting all the 823 locations and the 146 causes from above data to enter as input into the get_outputs central function"
   ]
  },
  {
   "cell_type": "code",
   "execution_count": 21,
   "metadata": {},
   "outputs": [],
   "source": [
    "location_list = list(haq_sdi.location_id.unique())"
   ]
  },
  {
   "cell_type": "code",
   "execution_count": 22,
   "metadata": {},
   "outputs": [
    {
     "data": {
      "text/plain": [
       "823"
      ]
     },
     "execution_count": 22,
     "metadata": {},
     "output_type": "execute_result"
    }
   ],
   "source": [
    "len(location_list)"
   ]
  },
  {
   "cell_type": "code",
   "execution_count": 23,
   "metadata": {},
   "outputs": [],
   "source": [
    "cause_list = list(cause_ids_final.unique())"
   ]
  },
  {
   "cell_type": "code",
   "execution_count": 24,
   "metadata": {},
   "outputs": [
    {
     "data": {
      "text/plain": [
       "146"
      ]
     },
     "execution_count": 24,
     "metadata": {},
     "output_type": "execute_result"
    }
   ],
   "source": [
    "len(cause_list)"
   ]
  },
  {
   "cell_type": "code",
   "execution_count": 25,
   "metadata": {
    "scrolled": true
   },
   "outputs": [
    {
     "data": {
      "text/html": [
       "<div>\n",
       "<style scoped>\n",
       "    .dataframe tbody tr th:only-of-type {\n",
       "        vertical-align: middle;\n",
       "    }\n",
       "\n",
       "    .dataframe tbody tr th {\n",
       "        vertical-align: top;\n",
       "    }\n",
       "\n",
       "    .dataframe thead th {\n",
       "        text-align: right;\n",
       "    }\n",
       "</style>\n",
       "<table border=\"1\" class=\"dataframe\">\n",
       "  <thead>\n",
       "    <tr style=\"text-align: right;\">\n",
       "      <th></th>\n",
       "      <th>age_group_id</th>\n",
       "      <th>cause_id</th>\n",
       "      <th>location_id</th>\n",
       "      <th>measure_id</th>\n",
       "      <th>metric_id</th>\n",
       "      <th>sex_id</th>\n",
       "      <th>year_id</th>\n",
       "      <th>acause</th>\n",
       "      <th>age_group_name</th>\n",
       "      <th>cause_name</th>\n",
       "      <th>expected</th>\n",
       "      <th>location_name</th>\n",
       "      <th>measure_name</th>\n",
       "      <th>metric_name</th>\n",
       "      <th>sex</th>\n",
       "      <th>val</th>\n",
       "      <th>upper</th>\n",
       "      <th>lower</th>\n",
       "    </tr>\n",
       "  </thead>\n",
       "  <tbody>\n",
       "    <tr>\n",
       "      <th>0</th>\n",
       "      <td>2</td>\n",
       "      <td>297</td>\n",
       "      <td>7</td>\n",
       "      <td>2</td>\n",
       "      <td>3</td>\n",
       "      <td>1</td>\n",
       "      <td>2016</td>\n",
       "      <td>tb</td>\n",
       "      <td>Early Neonatal</td>\n",
       "      <td>Tuberculosis</td>\n",
       "      <td>False</td>\n",
       "      <td>North Korea</td>\n",
       "      <td>DALYs (Disability-Adjusted Life Years)</td>\n",
       "      <td>Rate</td>\n",
       "      <td>Male</td>\n",
       "      <td>5.964052e-07</td>\n",
       "      <td>0.000001</td>\n",
       "      <td>2.937580e-07</td>\n",
       "    </tr>\n",
       "    <tr>\n",
       "      <th>1</th>\n",
       "      <td>2</td>\n",
       "      <td>298</td>\n",
       "      <td>7</td>\n",
       "      <td>2</td>\n",
       "      <td>3</td>\n",
       "      <td>1</td>\n",
       "      <td>2016</td>\n",
       "      <td>hiv</td>\n",
       "      <td>Early Neonatal</td>\n",
       "      <td>HIV/AIDS</td>\n",
       "      <td>False</td>\n",
       "      <td>North Korea</td>\n",
       "      <td>DALYs (Disability-Adjusted Life Years)</td>\n",
       "      <td>Rate</td>\n",
       "      <td>Male</td>\n",
       "      <td>8.583118e-06</td>\n",
       "      <td>0.000059</td>\n",
       "      <td>2.354980e-07</td>\n",
       "    </tr>\n",
       "    <tr>\n",
       "      <th>2</th>\n",
       "      <td>2</td>\n",
       "      <td>302</td>\n",
       "      <td>7</td>\n",
       "      <td>2</td>\n",
       "      <td>3</td>\n",
       "      <td>1</td>\n",
       "      <td>2016</td>\n",
       "      <td>diarrhea</td>\n",
       "      <td>Early Neonatal</td>\n",
       "      <td>Diarrheal diseases</td>\n",
       "      <td>False</td>\n",
       "      <td>North Korea</td>\n",
       "      <td>DALYs (Disability-Adjusted Life Years)</td>\n",
       "      <td>Rate</td>\n",
       "      <td>Male</td>\n",
       "      <td>5.872325e-02</td>\n",
       "      <td>0.108532</td>\n",
       "      <td>2.859224e-02</td>\n",
       "    </tr>\n",
       "    <tr>\n",
       "      <th>3</th>\n",
       "      <td>2</td>\n",
       "      <td>321</td>\n",
       "      <td>7</td>\n",
       "      <td>2</td>\n",
       "      <td>3</td>\n",
       "      <td>1</td>\n",
       "      <td>2016</td>\n",
       "      <td>intest_other</td>\n",
       "      <td>Early Neonatal</td>\n",
       "      <td>Other intestinal infectious diseases</td>\n",
       "      <td>False</td>\n",
       "      <td>North Korea</td>\n",
       "      <td>DALYs (Disability-Adjusted Life Years)</td>\n",
       "      <td>Rate</td>\n",
       "      <td>Male</td>\n",
       "      <td>0.000000e+00</td>\n",
       "      <td>0.000000</td>\n",
       "      <td>0.000000e+00</td>\n",
       "    </tr>\n",
       "    <tr>\n",
       "      <th>4</th>\n",
       "      <td>2</td>\n",
       "      <td>322</td>\n",
       "      <td>7</td>\n",
       "      <td>2</td>\n",
       "      <td>3</td>\n",
       "      <td>1</td>\n",
       "      <td>2016</td>\n",
       "      <td>lri</td>\n",
       "      <td>Early Neonatal</td>\n",
       "      <td>Lower respiratory infections</td>\n",
       "      <td>False</td>\n",
       "      <td>North Korea</td>\n",
       "      <td>DALYs (Disability-Adjusted Life Years)</td>\n",
       "      <td>Rate</td>\n",
       "      <td>Male</td>\n",
       "      <td>3.201836e+00</td>\n",
       "      <td>5.515528</td>\n",
       "      <td>1.658975e+00</td>\n",
       "    </tr>\n",
       "  </tbody>\n",
       "</table>\n",
       "</div>"
      ],
      "text/plain": [
       "   age_group_id  cause_id  location_id  measure_id  metric_id  sex_id  \\\n",
       "0             2       297            7           2          3       1   \n",
       "1             2       298            7           2          3       1   \n",
       "2             2       302            7           2          3       1   \n",
       "3             2       321            7           2          3       1   \n",
       "4             2       322            7           2          3       1   \n",
       "\n",
       "   year_id        acause  age_group_name  \\\n",
       "0     2016            tb  Early Neonatal   \n",
       "1     2016           hiv  Early Neonatal   \n",
       "2     2016      diarrhea  Early Neonatal   \n",
       "3     2016  intest_other  Early Neonatal   \n",
       "4     2016           lri  Early Neonatal   \n",
       "\n",
       "                             cause_name expected location_name  \\\n",
       "0                          Tuberculosis    False   North Korea   \n",
       "1                              HIV/AIDS    False   North Korea   \n",
       "2                    Diarrheal diseases    False   North Korea   \n",
       "3  Other intestinal infectious diseases    False   North Korea   \n",
       "4          Lower respiratory infections    False   North Korea   \n",
       "\n",
       "                             measure_name metric_name   sex           val  \\\n",
       "0  DALYs (Disability-Adjusted Life Years)        Rate  Male  5.964052e-07   \n",
       "1  DALYs (Disability-Adjusted Life Years)        Rate  Male  8.583118e-06   \n",
       "2  DALYs (Disability-Adjusted Life Years)        Rate  Male  5.872325e-02   \n",
       "3  DALYs (Disability-Adjusted Life Years)        Rate  Male  0.000000e+00   \n",
       "4  DALYs (Disability-Adjusted Life Years)        Rate  Male  3.201836e+00   \n",
       "\n",
       "      upper         lower  \n",
       "0  0.000001  2.937580e-07  \n",
       "1  0.000059  2.354980e-07  \n",
       "2  0.108532  2.859224e-02  \n",
       "3  0.000000  0.000000e+00  \n",
       "4  5.515528  1.658975e+00  "
      ]
     },
     "execution_count": 25,
     "metadata": {},
     "output_type": "execute_result"
    }
   ],
   "source": [
    "from db_queries import get_outputs as go \n",
    "dalys_per_cause_rate = go(\"cause\", cause_id=cause_list, metric_id=[3],\\\n",
    "                     measure_id=2, gbd_round_id=5,year_id=[2016],sex_id=[1,2],location_id=location_list,\\\n",
    "                    age_group_id = \"all\")\n",
    "dalys_per_cause_rate.head()"
   ]
  },
  {
   "cell_type": "code",
   "execution_count": 26,
   "metadata": {},
   "outputs": [
    {
     "data": {
      "text/html": [
       "<div>\n",
       "<style scoped>\n",
       "    .dataframe tbody tr th:only-of-type {\n",
       "        vertical-align: middle;\n",
       "    }\n",
       "\n",
       "    .dataframe tbody tr th {\n",
       "        vertical-align: top;\n",
       "    }\n",
       "\n",
       "    .dataframe thead th {\n",
       "        text-align: right;\n",
       "    }\n",
       "</style>\n",
       "<table border=\"1\" class=\"dataframe\">\n",
       "  <thead>\n",
       "    <tr style=\"text-align: right;\">\n",
       "      <th></th>\n",
       "      <th>age_group_id</th>\n",
       "      <th>cause_id</th>\n",
       "      <th>location_id</th>\n",
       "      <th>measure_id</th>\n",
       "      <th>metric_id</th>\n",
       "      <th>sex_id</th>\n",
       "      <th>year_id</th>\n",
       "      <th>acause</th>\n",
       "      <th>age_group_name</th>\n",
       "      <th>cause_name</th>\n",
       "      <th>expected</th>\n",
       "      <th>location_name</th>\n",
       "      <th>measure_name</th>\n",
       "      <th>metric_name</th>\n",
       "      <th>sex</th>\n",
       "      <th>val</th>\n",
       "      <th>upper</th>\n",
       "      <th>lower</th>\n",
       "    </tr>\n",
       "  </thead>\n",
       "  <tbody>\n",
       "    <tr>\n",
       "      <th>31311</th>\n",
       "      <td>17</td>\n",
       "      <td>493</td>\n",
       "      <td>13</td>\n",
       "      <td>2</td>\n",
       "      <td>3</td>\n",
       "      <td>1</td>\n",
       "      <td>2016</td>\n",
       "      <td>cvd_ihd</td>\n",
       "      <td>60 to 64</td>\n",
       "      <td>Ischemic heart disease</td>\n",
       "      <td>False</td>\n",
       "      <td>Malaysia</td>\n",
       "      <td>DALYs (Disability-Adjusted Life Years)</td>\n",
       "      <td>Rate</td>\n",
       "      <td>Male</td>\n",
       "      <td>0.142325</td>\n",
       "      <td>0.162359</td>\n",
       "      <td>0.124818</td>\n",
       "    </tr>\n",
       "    <tr>\n",
       "      <th>31457</th>\n",
       "      <td>17</td>\n",
       "      <td>493</td>\n",
       "      <td>13</td>\n",
       "      <td>2</td>\n",
       "      <td>3</td>\n",
       "      <td>2</td>\n",
       "      <td>2016</td>\n",
       "      <td>cvd_ihd</td>\n",
       "      <td>60 to 64</td>\n",
       "      <td>Ischemic heart disease</td>\n",
       "      <td>False</td>\n",
       "      <td>Malaysia</td>\n",
       "      <td>DALYs (Disability-Adjusted Life Years)</td>\n",
       "      <td>Rate</td>\n",
       "      <td>Female</td>\n",
       "      <td>0.058360</td>\n",
       "      <td>0.069562</td>\n",
       "      <td>0.049208</td>\n",
       "    </tr>\n",
       "  </tbody>\n",
       "</table>\n",
       "</div>"
      ],
      "text/plain": [
       "       age_group_id  cause_id  location_id  measure_id  metric_id  sex_id  \\\n",
       "31311            17       493           13           2          3       1   \n",
       "31457            17       493           13           2          3       2   \n",
       "\n",
       "       year_id   acause age_group_name              cause_name expected  \\\n",
       "31311     2016  cvd_ihd       60 to 64  Ischemic heart disease    False   \n",
       "31457     2016  cvd_ihd       60 to 64  Ischemic heart disease    False   \n",
       "\n",
       "      location_name                            measure_name metric_name  \\\n",
       "31311      Malaysia  DALYs (Disability-Adjusted Life Years)        Rate   \n",
       "31457      Malaysia  DALYs (Disability-Adjusted Life Years)        Rate   \n",
       "\n",
       "          sex       val     upper     lower  \n",
       "31311    Male  0.142325  0.162359  0.124818  \n",
       "31457  Female  0.058360  0.069562  0.049208  "
      ]
     },
     "execution_count": 26,
     "metadata": {},
     "output_type": "execute_result"
    }
   ],
   "source": [
    "dalys_per_cause_rate[(dalys_per_cause_rate.location_id == 13) & (dalys_per_cause_rate.age_group_id == 17)\\\n",
    "                    & (dalys_per_cause_rate.cause_id == 493)]"
   ]
  },
  {
   "cell_type": "markdown",
   "metadata": {},
   "source": [
    "### Dropping NaNs, renaming some variables"
   ]
  },
  {
   "cell_type": "code",
   "execution_count": 27,
   "metadata": {},
   "outputs": [],
   "source": [
    "dalys_per_cause_rate = dalys_per_cause_rate.dropna()"
   ]
  },
  {
   "cell_type": "code",
   "execution_count": 28,
   "metadata": {},
   "outputs": [
    {
     "data": {
      "text/plain": [
       "(5278722, 18)"
      ]
     },
     "execution_count": 28,
     "metadata": {},
     "output_type": "execute_result"
    }
   ],
   "source": [
    "dalys_per_cause_rate.shape"
   ]
  },
  {
   "cell_type": "code",
   "execution_count": 29,
   "metadata": {},
   "outputs": [],
   "source": [
    "dalys_per_cause_rate = dalys_per_cause_rate[['age_group_id','cause_id','location_id','sex_id','sex','age_group_name',\\\n",
    "                                   'cause_name','location_name','val']]"
   ]
  },
  {
   "cell_type": "code",
   "execution_count": 30,
   "metadata": {},
   "outputs": [],
   "source": [
    "dalys_per_cause_rate = dalys_per_cause_rate.rename(index=str, columns={\"val\": \"DALYs_per_capita\"})"
   ]
  },
  {
   "cell_type": "code",
   "execution_count": 31,
   "metadata": {
    "scrolled": true
   },
   "outputs": [
    {
     "data": {
      "text/html": [
       "<div>\n",
       "<style scoped>\n",
       "    .dataframe tbody tr th:only-of-type {\n",
       "        vertical-align: middle;\n",
       "    }\n",
       "\n",
       "    .dataframe tbody tr th {\n",
       "        vertical-align: top;\n",
       "    }\n",
       "\n",
       "    .dataframe thead th {\n",
       "        text-align: right;\n",
       "    }\n",
       "</style>\n",
       "<table border=\"1\" class=\"dataframe\">\n",
       "  <thead>\n",
       "    <tr style=\"text-align: right;\">\n",
       "      <th></th>\n",
       "      <th>age_group_id</th>\n",
       "      <th>cause_id</th>\n",
       "      <th>location_id</th>\n",
       "      <th>sex_id</th>\n",
       "      <th>sex</th>\n",
       "      <th>age_group_name</th>\n",
       "      <th>cause_name</th>\n",
       "      <th>location_name</th>\n",
       "      <th>DALYs_per_capita</th>\n",
       "    </tr>\n",
       "  </thead>\n",
       "  <tbody>\n",
       "    <tr>\n",
       "      <th>0</th>\n",
       "      <td>2</td>\n",
       "      <td>297</td>\n",
       "      <td>7</td>\n",
       "      <td>1</td>\n",
       "      <td>Male</td>\n",
       "      <td>Early Neonatal</td>\n",
       "      <td>Tuberculosis</td>\n",
       "      <td>North Korea</td>\n",
       "      <td>5.964052e-07</td>\n",
       "    </tr>\n",
       "    <tr>\n",
       "      <th>1</th>\n",
       "      <td>2</td>\n",
       "      <td>298</td>\n",
       "      <td>7</td>\n",
       "      <td>1</td>\n",
       "      <td>Male</td>\n",
       "      <td>Early Neonatal</td>\n",
       "      <td>HIV/AIDS</td>\n",
       "      <td>North Korea</td>\n",
       "      <td>8.583118e-06</td>\n",
       "    </tr>\n",
       "    <tr>\n",
       "      <th>2</th>\n",
       "      <td>2</td>\n",
       "      <td>302</td>\n",
       "      <td>7</td>\n",
       "      <td>1</td>\n",
       "      <td>Male</td>\n",
       "      <td>Early Neonatal</td>\n",
       "      <td>Diarrheal diseases</td>\n",
       "      <td>North Korea</td>\n",
       "      <td>5.872325e-02</td>\n",
       "    </tr>\n",
       "    <tr>\n",
       "      <th>3</th>\n",
       "      <td>2</td>\n",
       "      <td>321</td>\n",
       "      <td>7</td>\n",
       "      <td>1</td>\n",
       "      <td>Male</td>\n",
       "      <td>Early Neonatal</td>\n",
       "      <td>Other intestinal infectious diseases</td>\n",
       "      <td>North Korea</td>\n",
       "      <td>0.000000e+00</td>\n",
       "    </tr>\n",
       "    <tr>\n",
       "      <th>4</th>\n",
       "      <td>2</td>\n",
       "      <td>322</td>\n",
       "      <td>7</td>\n",
       "      <td>1</td>\n",
       "      <td>Male</td>\n",
       "      <td>Early Neonatal</td>\n",
       "      <td>Lower respiratory infections</td>\n",
       "      <td>North Korea</td>\n",
       "      <td>3.201836e+00</td>\n",
       "    </tr>\n",
       "  </tbody>\n",
       "</table>\n",
       "</div>"
      ],
      "text/plain": [
       "   age_group_id  cause_id  location_id  sex_id   sex  age_group_name  \\\n",
       "0             2       297            7       1  Male  Early Neonatal   \n",
       "1             2       298            7       1  Male  Early Neonatal   \n",
       "2             2       302            7       1  Male  Early Neonatal   \n",
       "3             2       321            7       1  Male  Early Neonatal   \n",
       "4             2       322            7       1  Male  Early Neonatal   \n",
       "\n",
       "                             cause_name location_name  DALYs_per_capita  \n",
       "0                          Tuberculosis   North Korea      5.964052e-07  \n",
       "1                              HIV/AIDS   North Korea      8.583118e-06  \n",
       "2                    Diarrheal diseases   North Korea      5.872325e-02  \n",
       "3  Other intestinal infectious diseases   North Korea      0.000000e+00  \n",
       "4          Lower respiratory infections   North Korea      3.201836e+00  "
      ]
     },
     "execution_count": 31,
     "metadata": {},
     "output_type": "execute_result"
    }
   ],
   "source": [
    "dalys_per_cause_rate.head()"
   ]
  },
  {
   "cell_type": "code",
   "execution_count": 32,
   "metadata": {},
   "outputs": [
    {
     "data": {
      "text/plain": [
       "(5278722, 9)"
      ]
     },
     "execution_count": 32,
     "metadata": {},
     "output_type": "execute_result"
    }
   ],
   "source": [
    "dalys_per_cause_rate.shape"
   ]
  },
  {
   "cell_type": "code",
   "execution_count": 33,
   "metadata": {},
   "outputs": [],
   "source": [
    "dalys_per_cause = dalys_per_cause_rate"
   ]
  },
  {
   "cell_type": "code",
   "execution_count": 34,
   "metadata": {},
   "outputs": [
    {
     "data": {
      "text/plain": [
       "(5278722, 9)"
      ]
     },
     "execution_count": 34,
     "metadata": {},
     "output_type": "execute_result"
    }
   ],
   "source": [
    "dalys_per_cause.shape"
   ]
  },
  {
   "cell_type": "markdown",
   "metadata": {},
   "source": [
    "## Don't need entries where the DALYs are zero"
   ]
  },
  {
   "cell_type": "code",
   "execution_count": 36,
   "metadata": {},
   "outputs": [],
   "source": [
    "dalys_per_cause = dalys_per_cause[dalys_per_cause['DALYs_per_capita'] > 0]"
   ]
  },
  {
   "cell_type": "markdown",
   "metadata": {},
   "source": [
    "## Merging the DALYs data with the HAQ-SDI data"
   ]
  },
  {
   "cell_type": "code",
   "execution_count": 37,
   "metadata": {},
   "outputs": [],
   "source": [
    "dalys_haq_sdi_withCauses = pd.merge(dalys_per_cause, haq_sdi, on=['location_id', 'age_group_id'])"
   ]
  },
  {
   "cell_type": "code",
   "execution_count": 38,
   "metadata": {},
   "outputs": [
    {
     "data": {
      "text/plain": [
       "(3386975, 14)"
      ]
     },
     "execution_count": 38,
     "metadata": {},
     "output_type": "execute_result"
    }
   ],
   "source": [
    "dalys_haq_sdi_withCauses.shape"
   ]
  },
  {
   "cell_type": "code",
   "execution_count": 39,
   "metadata": {},
   "outputs": [
    {
     "data": {
      "text/html": [
       "<div>\n",
       "<style scoped>\n",
       "    .dataframe tbody tr th:only-of-type {\n",
       "        vertical-align: middle;\n",
       "    }\n",
       "\n",
       "    .dataframe tbody tr th {\n",
       "        vertical-align: top;\n",
       "    }\n",
       "\n",
       "    .dataframe thead th {\n",
       "        text-align: right;\n",
       "    }\n",
       "</style>\n",
       "<table border=\"1\" class=\"dataframe\">\n",
       "  <thead>\n",
       "    <tr style=\"text-align: right;\">\n",
       "      <th></th>\n",
       "      <th>age_group_id</th>\n",
       "      <th>cause_id</th>\n",
       "      <th>location_id</th>\n",
       "      <th>sex_id</th>\n",
       "      <th>sex</th>\n",
       "      <th>age_group_name</th>\n",
       "      <th>cause_name</th>\n",
       "      <th>location_name</th>\n",
       "      <th>DALYs_per_capita</th>\n",
       "      <th>logit_sdi</th>\n",
       "      <th>sdi</th>\n",
       "      <th>exp_fit</th>\n",
       "      <th>haq</th>\n",
       "      <th>haq_over_frontier</th>\n",
       "    </tr>\n",
       "  </thead>\n",
       "  <tbody>\n",
       "    <tr>\n",
       "      <th>0</th>\n",
       "      <td>2</td>\n",
       "      <td>297</td>\n",
       "      <td>7</td>\n",
       "      <td>1</td>\n",
       "      <td>Male</td>\n",
       "      <td>Early Neonatal</td>\n",
       "      <td>Tuberculosis</td>\n",
       "      <td>North Korea</td>\n",
       "      <td>5.964052e-07</td>\n",
       "      <td>0.110348</td>\n",
       "      <td>0.527559</td>\n",
       "      <td>100.0</td>\n",
       "      <td>7458.314264</td>\n",
       "      <td>74.583143</td>\n",
       "    </tr>\n",
       "    <tr>\n",
       "      <th>1</th>\n",
       "      <td>2</td>\n",
       "      <td>298</td>\n",
       "      <td>7</td>\n",
       "      <td>1</td>\n",
       "      <td>Male</td>\n",
       "      <td>Early Neonatal</td>\n",
       "      <td>HIV/AIDS</td>\n",
       "      <td>North Korea</td>\n",
       "      <td>8.583118e-06</td>\n",
       "      <td>0.110348</td>\n",
       "      <td>0.527559</td>\n",
       "      <td>100.0</td>\n",
       "      <td>7458.314264</td>\n",
       "      <td>74.583143</td>\n",
       "    </tr>\n",
       "    <tr>\n",
       "      <th>2</th>\n",
       "      <td>2</td>\n",
       "      <td>302</td>\n",
       "      <td>7</td>\n",
       "      <td>1</td>\n",
       "      <td>Male</td>\n",
       "      <td>Early Neonatal</td>\n",
       "      <td>Diarrheal diseases</td>\n",
       "      <td>North Korea</td>\n",
       "      <td>5.872325e-02</td>\n",
       "      <td>0.110348</td>\n",
       "      <td>0.527559</td>\n",
       "      <td>100.0</td>\n",
       "      <td>7458.314264</td>\n",
       "      <td>74.583143</td>\n",
       "    </tr>\n",
       "    <tr>\n",
       "      <th>3</th>\n",
       "      <td>2</td>\n",
       "      <td>322</td>\n",
       "      <td>7</td>\n",
       "      <td>1</td>\n",
       "      <td>Male</td>\n",
       "      <td>Early Neonatal</td>\n",
       "      <td>Lower respiratory infections</td>\n",
       "      <td>North Korea</td>\n",
       "      <td>3.201836e+00</td>\n",
       "      <td>0.110348</td>\n",
       "      <td>0.527559</td>\n",
       "      <td>100.0</td>\n",
       "      <td>7458.314264</td>\n",
       "      <td>74.583143</td>\n",
       "    </tr>\n",
       "    <tr>\n",
       "      <th>4</th>\n",
       "      <td>2</td>\n",
       "      <td>328</td>\n",
       "      <td>7</td>\n",
       "      <td>1</td>\n",
       "      <td>Male</td>\n",
       "      <td>Early Neonatal</td>\n",
       "      <td>Upper respiratory infections</td>\n",
       "      <td>North Korea</td>\n",
       "      <td>7.761692e-03</td>\n",
       "      <td>0.110348</td>\n",
       "      <td>0.527559</td>\n",
       "      <td>100.0</td>\n",
       "      <td>7458.314264</td>\n",
       "      <td>74.583143</td>\n",
       "    </tr>\n",
       "  </tbody>\n",
       "</table>\n",
       "</div>"
      ],
      "text/plain": [
       "   age_group_id  cause_id  location_id  sex_id   sex  age_group_name  \\\n",
       "0             2       297            7       1  Male  Early Neonatal   \n",
       "1             2       298            7       1  Male  Early Neonatal   \n",
       "2             2       302            7       1  Male  Early Neonatal   \n",
       "3             2       322            7       1  Male  Early Neonatal   \n",
       "4             2       328            7       1  Male  Early Neonatal   \n",
       "\n",
       "                     cause_name location_name  DALYs_per_capita  logit_sdi  \\\n",
       "0                  Tuberculosis   North Korea      5.964052e-07   0.110348   \n",
       "1                      HIV/AIDS   North Korea      8.583118e-06   0.110348   \n",
       "2            Diarrheal diseases   North Korea      5.872325e-02   0.110348   \n",
       "3  Lower respiratory infections   North Korea      3.201836e+00   0.110348   \n",
       "4  Upper respiratory infections   North Korea      7.761692e-03   0.110348   \n",
       "\n",
       "        sdi  exp_fit          haq  haq_over_frontier  \n",
       "0  0.527559    100.0  7458.314264          74.583143  \n",
       "1  0.527559    100.0  7458.314264          74.583143  \n",
       "2  0.527559    100.0  7458.314264          74.583143  \n",
       "3  0.527559    100.0  7458.314264          74.583143  \n",
       "4  0.527559    100.0  7458.314264          74.583143  "
      ]
     },
     "execution_count": 39,
     "metadata": {},
     "output_type": "execute_result"
    }
   ],
   "source": [
    "dalys_haq_sdi_withCauses.head()"
   ]
  },
  {
   "cell_type": "code",
   "execution_count": 40,
   "metadata": {},
   "outputs": [],
   "source": [
    "dalys_haq_sdi_withCauses_distinct = dalys_haq_sdi_withCauses[['age_group_id','age_group_name','cause_id','cause_name', \\\n",
    "                                                             'sex_id', 'sex']].drop_duplicates()"
   ]
  },
  {
   "cell_type": "markdown",
   "metadata": {},
   "source": [
    "### Removing the nominal variables before running the regressions"
   ]
  },
  {
   "cell_type": "markdown",
   "metadata": {},
   "source": [
    "## Running first only for SDI"
   ]
  },
  {
   "cell_type": "code",
   "execution_count": 46,
   "metadata": {},
   "outputs": [],
   "source": [
    "dalys_haq_sdi_withCauses_forAnalysis = dalys_haq_sdi_withCauses[['age_group_id','cause_id','location_id','sex_id',\\\n",
    "                                                                 'DALYs_per_capita', 'sdi','exp_fit','haq',\\\n",
    "                                                                 'haq_over_frontier']]"
   ]
  },
  {
   "cell_type": "code",
   "execution_count": 47,
   "metadata": {
    "scrolled": true
   },
   "outputs": [
    {
     "data": {
      "text/html": [
       "<div>\n",
       "<style scoped>\n",
       "    .dataframe tbody tr th:only-of-type {\n",
       "        vertical-align: middle;\n",
       "    }\n",
       "\n",
       "    .dataframe tbody tr th {\n",
       "        vertical-align: top;\n",
       "    }\n",
       "\n",
       "    .dataframe thead th {\n",
       "        text-align: right;\n",
       "    }\n",
       "</style>\n",
       "<table border=\"1\" class=\"dataframe\">\n",
       "  <thead>\n",
       "    <tr style=\"text-align: right;\">\n",
       "      <th></th>\n",
       "      <th>age_group_id</th>\n",
       "      <th>cause_id</th>\n",
       "      <th>location_id</th>\n",
       "      <th>sex_id</th>\n",
       "      <th>DALYs_per_capita</th>\n",
       "      <th>sdi</th>\n",
       "      <th>exp_fit</th>\n",
       "      <th>haq</th>\n",
       "      <th>haq_over_frontier</th>\n",
       "    </tr>\n",
       "  </thead>\n",
       "  <tbody>\n",
       "    <tr>\n",
       "      <th>0</th>\n",
       "      <td>2</td>\n",
       "      <td>297</td>\n",
       "      <td>7</td>\n",
       "      <td>1</td>\n",
       "      <td>5.964052e-07</td>\n",
       "      <td>0.527559</td>\n",
       "      <td>100.0</td>\n",
       "      <td>7458.314264</td>\n",
       "      <td>74.583143</td>\n",
       "    </tr>\n",
       "    <tr>\n",
       "      <th>1</th>\n",
       "      <td>2</td>\n",
       "      <td>298</td>\n",
       "      <td>7</td>\n",
       "      <td>1</td>\n",
       "      <td>8.583118e-06</td>\n",
       "      <td>0.527559</td>\n",
       "      <td>100.0</td>\n",
       "      <td>7458.314264</td>\n",
       "      <td>74.583143</td>\n",
       "    </tr>\n",
       "    <tr>\n",
       "      <th>2</th>\n",
       "      <td>2</td>\n",
       "      <td>302</td>\n",
       "      <td>7</td>\n",
       "      <td>1</td>\n",
       "      <td>5.872325e-02</td>\n",
       "      <td>0.527559</td>\n",
       "      <td>100.0</td>\n",
       "      <td>7458.314264</td>\n",
       "      <td>74.583143</td>\n",
       "    </tr>\n",
       "    <tr>\n",
       "      <th>3</th>\n",
       "      <td>2</td>\n",
       "      <td>322</td>\n",
       "      <td>7</td>\n",
       "      <td>1</td>\n",
       "      <td>3.201836e+00</td>\n",
       "      <td>0.527559</td>\n",
       "      <td>100.0</td>\n",
       "      <td>7458.314264</td>\n",
       "      <td>74.583143</td>\n",
       "    </tr>\n",
       "    <tr>\n",
       "      <th>4</th>\n",
       "      <td>2</td>\n",
       "      <td>328</td>\n",
       "      <td>7</td>\n",
       "      <td>1</td>\n",
       "      <td>7.761692e-03</td>\n",
       "      <td>0.527559</td>\n",
       "      <td>100.0</td>\n",
       "      <td>7458.314264</td>\n",
       "      <td>74.583143</td>\n",
       "    </tr>\n",
       "  </tbody>\n",
       "</table>\n",
       "</div>"
      ],
      "text/plain": [
       "   age_group_id  cause_id  location_id  sex_id  DALYs_per_capita       sdi  \\\n",
       "0             2       297            7       1      5.964052e-07  0.527559   \n",
       "1             2       298            7       1      8.583118e-06  0.527559   \n",
       "2             2       302            7       1      5.872325e-02  0.527559   \n",
       "3             2       322            7       1      3.201836e+00  0.527559   \n",
       "4             2       328            7       1      7.761692e-03  0.527559   \n",
       "\n",
       "   exp_fit          haq  haq_over_frontier  \n",
       "0    100.0  7458.314264          74.583143  \n",
       "1    100.0  7458.314264          74.583143  \n",
       "2    100.0  7458.314264          74.583143  \n",
       "3    100.0  7458.314264          74.583143  \n",
       "4    100.0  7458.314264          74.583143  "
      ]
     },
     "execution_count": 47,
     "metadata": {},
     "output_type": "execute_result"
    }
   ],
   "source": [
    "dalys_haq_sdi_withCauses_forAnalysis.head()"
   ]
  },
  {
   "cell_type": "markdown",
   "metadata": {},
   "source": [
    "## Capping exp_fit2 to 100 for the corresponding values of exp_fit"
   ]
  },
  {
   "cell_type": "code",
   "execution_count": 48,
   "metadata": {},
   "outputs": [],
   "source": [
    "dalys_haq_sdi_withCauses_forAnalysis.loc[dalys_haq_sdi_withCauses_forAnalysis['exp_fit'] > 100.0, 'exp_fit']=100"
   ]
  },
  {
   "cell_type": "code",
   "execution_count": 49,
   "metadata": {},
   "outputs": [
    {
     "data": {
      "text/plain": [
       "array([ 74.58314264,  83.12084018,  62.59990697, ..., 336.41183815,\n",
       "       325.49014327, 293.76453005])"
      ]
     },
     "execution_count": 49,
     "metadata": {},
     "output_type": "execute_result"
    }
   ],
   "source": [
    "dalys_haq_sdi_withCauses_forAnalysis.haq_over_frontier.unique()"
   ]
  },
  {
   "cell_type": "markdown",
   "metadata": {},
   "source": [
    "### Creating the groups (Cause-Id, Age-Group, Sex-Id)"
   ]
  },
  {
   "cell_type": "code",
   "execution_count": 50,
   "metadata": {},
   "outputs": [],
   "source": [
    "dalys_haq_sdi_grouped =  \\\n",
    "dict(tuple(dalys_haq_sdi_withCauses_forAnalysis.groupby(['cause_id','age_group_id', 'sex_id'])))"
   ]
  },
  {
   "cell_type": "markdown",
   "metadata": {},
   "source": [
    "### This is just how the data looks for the cause 530, age group 2, and sex 1, just as an example"
   ]
  },
  {
   "cell_type": "code",
   "execution_count": 51,
   "metadata": {},
   "outputs": [
    {
     "data": {
      "text/html": [
       "<div>\n",
       "<style scoped>\n",
       "    .dataframe tbody tr th:only-of-type {\n",
       "        vertical-align: middle;\n",
       "    }\n",
       "\n",
       "    .dataframe tbody tr th {\n",
       "        vertical-align: top;\n",
       "    }\n",
       "\n",
       "    .dataframe thead th {\n",
       "        text-align: right;\n",
       "    }\n",
       "</style>\n",
       "<table border=\"1\" class=\"dataframe\">\n",
       "  <thead>\n",
       "    <tr style=\"text-align: right;\">\n",
       "      <th></th>\n",
       "      <th>age_group_id</th>\n",
       "      <th>cause_id</th>\n",
       "      <th>location_id</th>\n",
       "      <th>sex_id</th>\n",
       "      <th>DALYs_per_capita</th>\n",
       "      <th>sdi</th>\n",
       "      <th>exp_fit</th>\n",
       "      <th>haq</th>\n",
       "      <th>haq_over_frontier</th>\n",
       "    </tr>\n",
       "  </thead>\n",
       "  <tbody>\n",
       "    <tr>\n",
       "      <th>35</th>\n",
       "      <td>2</td>\n",
       "      <td>530</td>\n",
       "      <td>7</td>\n",
       "      <td>1</td>\n",
       "      <td>0.131228</td>\n",
       "      <td>0.527559</td>\n",
       "      <td>100.0</td>\n",
       "      <td>7458.314264</td>\n",
       "      <td>74.583143</td>\n",
       "    </tr>\n",
       "    <tr>\n",
       "      <th>4134</th>\n",
       "      <td>2</td>\n",
       "      <td>530</td>\n",
       "      <td>8</td>\n",
       "      <td>1</td>\n",
       "      <td>0.002186</td>\n",
       "      <td>0.860616</td>\n",
       "      <td>100.0</td>\n",
       "      <td>29636.708696</td>\n",
       "      <td>296.367087</td>\n",
       "    </tr>\n",
       "    <tr>\n",
       "      <th>8235</th>\n",
       "      <td>2</td>\n",
       "      <td>530</td>\n",
       "      <td>10</td>\n",
       "      <td>1</td>\n",
       "      <td>0.141341</td>\n",
       "      <td>0.476659</td>\n",
       "      <td>100.0</td>\n",
       "      <td>6928.179020</td>\n",
       "      <td>69.281790</td>\n",
       "    </tr>\n",
       "    <tr>\n",
       "      <th>12376</th>\n",
       "      <td>2</td>\n",
       "      <td>530</td>\n",
       "      <td>12</td>\n",
       "      <td>1</td>\n",
       "      <td>0.087819</td>\n",
       "      <td>0.511595</td>\n",
       "      <td>100.0</td>\n",
       "      <td>4855.759529</td>\n",
       "      <td>48.557595</td>\n",
       "    </tr>\n",
       "    <tr>\n",
       "      <th>16523</th>\n",
       "      <td>2</td>\n",
       "      <td>530</td>\n",
       "      <td>13</td>\n",
       "      <td>1</td>\n",
       "      <td>0.007450</td>\n",
       "      <td>0.757160</td>\n",
       "      <td>100.0</td>\n",
       "      <td>22212.050613</td>\n",
       "      <td>222.120506</td>\n",
       "    </tr>\n",
       "  </tbody>\n",
       "</table>\n",
       "</div>"
      ],
      "text/plain": [
       "       age_group_id  cause_id  location_id  sex_id  DALYs_per_capita  \\\n",
       "35                2       530            7       1          0.131228   \n",
       "4134              2       530            8       1          0.002186   \n",
       "8235              2       530           10       1          0.141341   \n",
       "12376             2       530           12       1          0.087819   \n",
       "16523             2       530           13       1          0.007450   \n",
       "\n",
       "            sdi  exp_fit           haq  haq_over_frontier  \n",
       "35     0.527559    100.0   7458.314264          74.583143  \n",
       "4134   0.860616    100.0  29636.708696         296.367087  \n",
       "8235   0.476659    100.0   6928.179020          69.281790  \n",
       "12376  0.511595    100.0   4855.759529          48.557595  \n",
       "16523  0.757160    100.0  22212.050613         222.120506  "
      ]
     },
     "execution_count": 51,
     "metadata": {},
     "output_type": "execute_result"
    }
   ],
   "source": [
    "dalys_haq_sdi_grouped[530,2,1].head()"
   ]
  },
  {
   "cell_type": "code",
   "execution_count": 52,
   "metadata": {},
   "outputs": [
    {
     "data": {
      "text/plain": [
       "4152"
      ]
     },
     "execution_count": 52,
     "metadata": {},
     "output_type": "execute_result"
    }
   ],
   "source": [
    "len(dalys_haq_sdi_grouped)"
   ]
  },
  {
   "cell_type": "markdown",
   "metadata": {},
   "source": [
    "# Set HAQ frontier to 0 for predictions dataframe"
   ]
  },
  {
   "cell_type": "code",
   "execution_count": 53,
   "metadata": {},
   "outputs": [
    {
     "data": {
      "text/html": [
       "<div>\n",
       "<style scoped>\n",
       "    .dataframe tbody tr th:only-of-type {\n",
       "        vertical-align: middle;\n",
       "    }\n",
       "\n",
       "    .dataframe tbody tr th {\n",
       "        vertical-align: top;\n",
       "    }\n",
       "\n",
       "    .dataframe thead th {\n",
       "        text-align: right;\n",
       "    }\n",
       "</style>\n",
       "<table border=\"1\" class=\"dataframe\">\n",
       "  <thead>\n",
       "    <tr style=\"text-align: right;\">\n",
       "      <th></th>\n",
       "      <th>age_group_id</th>\n",
       "      <th>cause_id</th>\n",
       "      <th>location_id</th>\n",
       "      <th>sex_id</th>\n",
       "      <th>DALYs_per_capita</th>\n",
       "      <th>sdi</th>\n",
       "      <th>exp_fit</th>\n",
       "      <th>haq</th>\n",
       "      <th>haq_over_frontier</th>\n",
       "    </tr>\n",
       "  </thead>\n",
       "  <tbody>\n",
       "    <tr>\n",
       "      <th>0</th>\n",
       "      <td>2</td>\n",
       "      <td>297</td>\n",
       "      <td>7</td>\n",
       "      <td>1</td>\n",
       "      <td>5.964052e-07</td>\n",
       "      <td>0.527559</td>\n",
       "      <td>100.0</td>\n",
       "      <td>7458.314264</td>\n",
       "      <td>0</td>\n",
       "    </tr>\n",
       "    <tr>\n",
       "      <th>1</th>\n",
       "      <td>2</td>\n",
       "      <td>298</td>\n",
       "      <td>7</td>\n",
       "      <td>1</td>\n",
       "      <td>8.583118e-06</td>\n",
       "      <td>0.527559</td>\n",
       "      <td>100.0</td>\n",
       "      <td>7458.314264</td>\n",
       "      <td>0</td>\n",
       "    </tr>\n",
       "    <tr>\n",
       "      <th>2</th>\n",
       "      <td>2</td>\n",
       "      <td>302</td>\n",
       "      <td>7</td>\n",
       "      <td>1</td>\n",
       "      <td>5.872325e-02</td>\n",
       "      <td>0.527559</td>\n",
       "      <td>100.0</td>\n",
       "      <td>7458.314264</td>\n",
       "      <td>0</td>\n",
       "    </tr>\n",
       "    <tr>\n",
       "      <th>3</th>\n",
       "      <td>2</td>\n",
       "      <td>322</td>\n",
       "      <td>7</td>\n",
       "      <td>1</td>\n",
       "      <td>3.201836e+00</td>\n",
       "      <td>0.527559</td>\n",
       "      <td>100.0</td>\n",
       "      <td>7458.314264</td>\n",
       "      <td>0</td>\n",
       "    </tr>\n",
       "    <tr>\n",
       "      <th>4</th>\n",
       "      <td>2</td>\n",
       "      <td>328</td>\n",
       "      <td>7</td>\n",
       "      <td>1</td>\n",
       "      <td>7.761692e-03</td>\n",
       "      <td>0.527559</td>\n",
       "      <td>100.0</td>\n",
       "      <td>7458.314264</td>\n",
       "      <td>0</td>\n",
       "    </tr>\n",
       "  </tbody>\n",
       "</table>\n",
       "</div>"
      ],
      "text/plain": [
       "   age_group_id  cause_id  location_id  sex_id  DALYs_per_capita       sdi  \\\n",
       "0             2       297            7       1      5.964052e-07  0.527559   \n",
       "1             2       298            7       1      8.583118e-06  0.527559   \n",
       "2             2       302            7       1      5.872325e-02  0.527559   \n",
       "3             2       322            7       1      3.201836e+00  0.527559   \n",
       "4             2       328            7       1      7.761692e-03  0.527559   \n",
       "\n",
       "   exp_fit          haq  haq_over_frontier  \n",
       "0    100.0  7458.314264                  0  \n",
       "1    100.0  7458.314264                  0  \n",
       "2    100.0  7458.314264                  0  \n",
       "3    100.0  7458.314264                  0  \n",
       "4    100.0  7458.314264                  0  "
      ]
     },
     "execution_count": 53,
     "metadata": {},
     "output_type": "execute_result"
    }
   ],
   "source": [
    "# Create df for predictions where haq_frontier is set to 0\n",
    "df_predictions = dalys_haq_sdi_withCauses_forAnalysis.copy()\n",
    "df_predictions['haq_over_frontier'] = 0\n",
    "df_predictions.head()"
   ]
  },
  {
   "cell_type": "code",
   "execution_count": 54,
   "metadata": {},
   "outputs": [],
   "source": [
    "grouped_for_predictions =  dict(tuple(df_predictions.groupby(['cause_id','age_group_id', 'sex_id'])))"
   ]
  },
  {
   "cell_type": "markdown",
   "metadata": {},
   "source": [
    "## Next we create a DataFrame where all the final regression results would be stored"
   ]
  },
  {
   "cell_type": "code",
   "execution_count": 55,
   "metadata": {},
   "outputs": [],
   "source": [
    "dalys_haq_sdi_answers = pd.DataFrame(columns=['cause_id','age_group_id', 'sex_id',\\\n",
    "                                              'intercept','intercept_pValue','haq_over_frontier_coef',\\\n",
    "                                              'haq_over_frontier_coef_pValue','sdi_coef',\\\n",
    "                                              'sdi_coef_pValue','r2',])"
   ]
  },
  {
   "cell_type": "code",
   "execution_count": 56,
   "metadata": {},
   "outputs": [
    {
     "name": "stderr",
     "output_type": "stream",
     "text": [
      "/ihme/homes/arjuns13/miniconda3/lib/python3.7/site-packages/statsmodels/regression/linear_model.py:1510: RuntimeWarning: divide by zero encountered in double_scalars\n",
      "  return np.dot(wresid, wresid) / self.df_resid\n",
      "/ihme/homes/arjuns13/miniconda3/lib/python3.7/site-packages/statsmodels/regression/linear_model.py:1543: RuntimeWarning: divide by zero encountered in double_scalars\n",
      "  return 1 - self.ssr/self.centered_tss\n"
     ]
    }
   ],
   "source": [
    "import statsmodels.formula.api as smf\n",
    "i=0\n",
    "for g in dalys_haq_sdi_grouped:\n",
    "    df=dalys_haq_sdi_grouped[g]\n",
    "    linear_reg = smf.ols(\"DALYs_per_capita ~ haq_over_frontier + sdi\", \\\n",
    "                      data = df)\n",
    "    linear_reg_fit = linear_reg.fit()\n",
    "    \n",
    "    dalys_haq_sdi_answers.loc[i] = [g[0],g[1],g[2],linear_reg_fit.params[0],linear_reg_fit.pvalues.Intercept,\\\n",
    "                                    linear_reg_fit.params[1],linear_reg_fit.pvalues.haq_over_frontier,\\\n",
    "                                    linear_reg_fit.params[2],linear_reg_fit.pvalues.sdi,\\\n",
    "                                    linear_reg_fit.rsquared]\n",
    "    i+=1\n",
    "   # print(\"Current iteration:\" + str(i))"
   ]
  },
  {
   "cell_type": "markdown",
   "metadata": {},
   "source": [
    "## The next step is taken so that we can look at data using cause names rather than cause IDs and age group names rather than age group IDs"
   ]
  },
  {
   "cell_type": "code",
   "execution_count": 57,
   "metadata": {},
   "outputs": [],
   "source": [
    "dalys_haq_sdi_answers = dalys_haq_sdi_answers.merge(dalys_haq_sdi_withCauses_distinct, how='left')"
   ]
  },
  {
   "cell_type": "code",
   "execution_count": 58,
   "metadata": {
    "scrolled": true
   },
   "outputs": [
    {
     "data": {
      "text/html": [
       "<div>\n",
       "<style scoped>\n",
       "    .dataframe tbody tr th:only-of-type {\n",
       "        vertical-align: middle;\n",
       "    }\n",
       "\n",
       "    .dataframe tbody tr th {\n",
       "        vertical-align: top;\n",
       "    }\n",
       "\n",
       "    .dataframe thead th {\n",
       "        text-align: right;\n",
       "    }\n",
       "</style>\n",
       "<table border=\"1\" class=\"dataframe\">\n",
       "  <thead>\n",
       "    <tr style=\"text-align: right;\">\n",
       "      <th></th>\n",
       "      <th>cause_id</th>\n",
       "      <th>age_group_id</th>\n",
       "      <th>sex_id</th>\n",
       "      <th>intercept</th>\n",
       "      <th>intercept_pValue</th>\n",
       "      <th>haq_over_frontier_coef</th>\n",
       "      <th>haq_over_frontier_coef_pValue</th>\n",
       "      <th>sdi_coef</th>\n",
       "      <th>sdi_coef_pValue</th>\n",
       "      <th>r2</th>\n",
       "      <th>age_group_name</th>\n",
       "      <th>cause_name</th>\n",
       "      <th>sex</th>\n",
       "    </tr>\n",
       "  </thead>\n",
       "  <tbody>\n",
       "    <tr>\n",
       "      <th>0</th>\n",
       "      <td>297.0</td>\n",
       "      <td>2.0</td>\n",
       "      <td>1.0</td>\n",
       "      <td>0.000002</td>\n",
       "      <td>1.728461e-34</td>\n",
       "      <td>6.282755e-11</td>\n",
       "      <td>0.885970</td>\n",
       "      <td>-0.000002</td>\n",
       "      <td>4.391562e-11</td>\n",
       "      <td>0.158091</td>\n",
       "      <td>Early Neonatal</td>\n",
       "      <td>Tuberculosis</td>\n",
       "      <td>Male</td>\n",
       "    </tr>\n",
       "    <tr>\n",
       "      <th>1</th>\n",
       "      <td>297.0</td>\n",
       "      <td>2.0</td>\n",
       "      <td>2.0</td>\n",
       "      <td>0.000003</td>\n",
       "      <td>1.847385e-43</td>\n",
       "      <td>1.296994e-10</td>\n",
       "      <td>0.850523</td>\n",
       "      <td>-0.000003</td>\n",
       "      <td>1.211254e-14</td>\n",
       "      <td>0.205579</td>\n",
       "      <td>Early Neonatal</td>\n",
       "      <td>Tuberculosis</td>\n",
       "      <td>Female</td>\n",
       "    </tr>\n",
       "    <tr>\n",
       "      <th>2</th>\n",
       "      <td>297.0</td>\n",
       "      <td>3.0</td>\n",
       "      <td>1.0</td>\n",
       "      <td>0.000019</td>\n",
       "      <td>7.199336e-65</td>\n",
       "      <td>-4.952596e-09</td>\n",
       "      <td>0.251701</td>\n",
       "      <td>-0.000020</td>\n",
       "      <td>4.835334e-18</td>\n",
       "      <td>0.299019</td>\n",
       "      <td>Late Neonatal</td>\n",
       "      <td>Tuberculosis</td>\n",
       "      <td>Male</td>\n",
       "    </tr>\n",
       "    <tr>\n",
       "      <th>3</th>\n",
       "      <td>297.0</td>\n",
       "      <td>3.0</td>\n",
       "      <td>2.0</td>\n",
       "      <td>0.000034</td>\n",
       "      <td>1.914166e-75</td>\n",
       "      <td>-4.969716e-09</td>\n",
       "      <td>0.478363</td>\n",
       "      <td>-0.000038</td>\n",
       "      <td>3.822367e-23</td>\n",
       "      <td>0.339798</td>\n",
       "      <td>Late Neonatal</td>\n",
       "      <td>Tuberculosis</td>\n",
       "      <td>Female</td>\n",
       "    </tr>\n",
       "    <tr>\n",
       "      <th>4</th>\n",
       "      <td>297.0</td>\n",
       "      <td>4.0</td>\n",
       "      <td>1.0</td>\n",
       "      <td>0.060871</td>\n",
       "      <td>4.459270e-79</td>\n",
       "      <td>-2.757724e-05</td>\n",
       "      <td>0.025880</td>\n",
       "      <td>-0.067235</td>\n",
       "      <td>1.766405e-25</td>\n",
       "      <td>0.455109</td>\n",
       "      <td>Post Neonatal</td>\n",
       "      <td>Tuberculosis</td>\n",
       "      <td>Male</td>\n",
       "    </tr>\n",
       "  </tbody>\n",
       "</table>\n",
       "</div>"
      ],
      "text/plain": [
       "   cause_id  age_group_id  sex_id  intercept  intercept_pValue  \\\n",
       "0     297.0           2.0     1.0   0.000002      1.728461e-34   \n",
       "1     297.0           2.0     2.0   0.000003      1.847385e-43   \n",
       "2     297.0           3.0     1.0   0.000019      7.199336e-65   \n",
       "3     297.0           3.0     2.0   0.000034      1.914166e-75   \n",
       "4     297.0           4.0     1.0   0.060871      4.459270e-79   \n",
       "\n",
       "   haq_over_frontier_coef  haq_over_frontier_coef_pValue  sdi_coef  \\\n",
       "0            6.282755e-11                       0.885970 -0.000002   \n",
       "1            1.296994e-10                       0.850523 -0.000003   \n",
       "2           -4.952596e-09                       0.251701 -0.000020   \n",
       "3           -4.969716e-09                       0.478363 -0.000038   \n",
       "4           -2.757724e-05                       0.025880 -0.067235   \n",
       "\n",
       "   sdi_coef_pValue        r2  age_group_name    cause_name     sex  \n",
       "0     4.391562e-11  0.158091  Early Neonatal  Tuberculosis    Male  \n",
       "1     1.211254e-14  0.205579  Early Neonatal  Tuberculosis  Female  \n",
       "2     4.835334e-18  0.299019   Late Neonatal  Tuberculosis    Male  \n",
       "3     3.822367e-23  0.339798   Late Neonatal  Tuberculosis  Female  \n",
       "4     1.766405e-25  0.455109   Post Neonatal  Tuberculosis    Male  "
      ]
     },
     "execution_count": 58,
     "metadata": {},
     "output_type": "execute_result"
    }
   ],
   "source": [
    "dalys_haq_sdi_answers.head()"
   ]
  },
  {
   "cell_type": "markdown",
   "metadata": {},
   "source": [
    "## Below code was run for sdi"
   ]
  },
  {
   "cell_type": "code",
   "execution_count": 59,
   "metadata": {},
   "outputs": [],
   "source": [
    "dalys_haq_sdi_answers_out = dalys_haq_sdi_answers[['cause_name', 'age_group_name', 'sex', \\\n",
    "                                                   'intercept', 'intercept_pValue', \\\n",
    "                                                   'haq_over_frontier_coef', 'haq_over_frontier_coef_pValue',\\\n",
    "                                                   'sdi_coef', 'sdi_coef_pValue', 'r2']]"
   ]
  },
  {
   "cell_type": "code",
   "execution_count": 60,
   "metadata": {},
   "outputs": [
    {
     "data": {
      "text/html": [
       "<div>\n",
       "<style scoped>\n",
       "    .dataframe tbody tr th:only-of-type {\n",
       "        vertical-align: middle;\n",
       "    }\n",
       "\n",
       "    .dataframe tbody tr th {\n",
       "        vertical-align: top;\n",
       "    }\n",
       "\n",
       "    .dataframe thead th {\n",
       "        text-align: right;\n",
       "    }\n",
       "</style>\n",
       "<table border=\"1\" class=\"dataframe\">\n",
       "  <thead>\n",
       "    <tr style=\"text-align: right;\">\n",
       "      <th></th>\n",
       "      <th>cause_name</th>\n",
       "      <th>age_group_name</th>\n",
       "      <th>sex</th>\n",
       "      <th>intercept</th>\n",
       "      <th>intercept_pValue</th>\n",
       "      <th>haq_over_frontier_coef</th>\n",
       "      <th>haq_over_frontier_coef_pValue</th>\n",
       "      <th>sdi_coef</th>\n",
       "      <th>sdi_coef_pValue</th>\n",
       "      <th>r2</th>\n",
       "    </tr>\n",
       "  </thead>\n",
       "  <tbody>\n",
       "    <tr>\n",
       "      <th>0</th>\n",
       "      <td>Tuberculosis</td>\n",
       "      <td>Early Neonatal</td>\n",
       "      <td>Male</td>\n",
       "      <td>0.000002</td>\n",
       "      <td>1.728461e-34</td>\n",
       "      <td>6.282755e-11</td>\n",
       "      <td>0.885970</td>\n",
       "      <td>-0.000002</td>\n",
       "      <td>4.391562e-11</td>\n",
       "      <td>0.158091</td>\n",
       "    </tr>\n",
       "    <tr>\n",
       "      <th>1</th>\n",
       "      <td>Tuberculosis</td>\n",
       "      <td>Early Neonatal</td>\n",
       "      <td>Female</td>\n",
       "      <td>0.000003</td>\n",
       "      <td>1.847385e-43</td>\n",
       "      <td>1.296994e-10</td>\n",
       "      <td>0.850523</td>\n",
       "      <td>-0.000003</td>\n",
       "      <td>1.211254e-14</td>\n",
       "      <td>0.205579</td>\n",
       "    </tr>\n",
       "    <tr>\n",
       "      <th>2</th>\n",
       "      <td>Tuberculosis</td>\n",
       "      <td>Late Neonatal</td>\n",
       "      <td>Male</td>\n",
       "      <td>0.000019</td>\n",
       "      <td>7.199336e-65</td>\n",
       "      <td>-4.952596e-09</td>\n",
       "      <td>0.251701</td>\n",
       "      <td>-0.000020</td>\n",
       "      <td>4.835334e-18</td>\n",
       "      <td>0.299019</td>\n",
       "    </tr>\n",
       "    <tr>\n",
       "      <th>3</th>\n",
       "      <td>Tuberculosis</td>\n",
       "      <td>Late Neonatal</td>\n",
       "      <td>Female</td>\n",
       "      <td>0.000034</td>\n",
       "      <td>1.914166e-75</td>\n",
       "      <td>-4.969716e-09</td>\n",
       "      <td>0.478363</td>\n",
       "      <td>-0.000038</td>\n",
       "      <td>3.822367e-23</td>\n",
       "      <td>0.339798</td>\n",
       "    </tr>\n",
       "    <tr>\n",
       "      <th>4</th>\n",
       "      <td>Tuberculosis</td>\n",
       "      <td>Post Neonatal</td>\n",
       "      <td>Male</td>\n",
       "      <td>0.060871</td>\n",
       "      <td>4.459270e-79</td>\n",
       "      <td>-2.757724e-05</td>\n",
       "      <td>0.025880</td>\n",
       "      <td>-0.067235</td>\n",
       "      <td>1.766405e-25</td>\n",
       "      <td>0.455109</td>\n",
       "    </tr>\n",
       "  </tbody>\n",
       "</table>\n",
       "</div>"
      ],
      "text/plain": [
       "     cause_name  age_group_name     sex  intercept  intercept_pValue  \\\n",
       "0  Tuberculosis  Early Neonatal    Male   0.000002      1.728461e-34   \n",
       "1  Tuberculosis  Early Neonatal  Female   0.000003      1.847385e-43   \n",
       "2  Tuberculosis   Late Neonatal    Male   0.000019      7.199336e-65   \n",
       "3  Tuberculosis   Late Neonatal  Female   0.000034      1.914166e-75   \n",
       "4  Tuberculosis   Post Neonatal    Male   0.060871      4.459270e-79   \n",
       "\n",
       "   haq_over_frontier_coef  haq_over_frontier_coef_pValue  sdi_coef  \\\n",
       "0            6.282755e-11                       0.885970 -0.000002   \n",
       "1            1.296994e-10                       0.850523 -0.000003   \n",
       "2           -4.952596e-09                       0.251701 -0.000020   \n",
       "3           -4.969716e-09                       0.478363 -0.000038   \n",
       "4           -2.757724e-05                       0.025880 -0.067235   \n",
       "\n",
       "   sdi_coef_pValue        r2  \n",
       "0     4.391562e-11  0.158091  \n",
       "1     1.211254e-14  0.205579  \n",
       "2     4.835334e-18  0.299019  \n",
       "3     3.822367e-23  0.339798  \n",
       "4     1.766405e-25  0.455109  "
      ]
     },
     "execution_count": 60,
     "metadata": {},
     "output_type": "execute_result"
    }
   ],
   "source": [
    "dalys_haq_sdi_answers_out.head()"
   ]
  },
  {
   "cell_type": "code",
   "execution_count": 61,
   "metadata": {},
   "outputs": [
    {
     "data": {
      "text/plain": [
       "(4152, 10)"
      ]
     },
     "execution_count": 61,
     "metadata": {},
     "output_type": "execute_result"
    }
   ],
   "source": [
    "dalys_haq_sdi_answers_out.shape"
   ]
  },
  {
   "cell_type": "code",
   "execution_count": 62,
   "metadata": {},
   "outputs": [],
   "source": [
    "dalys_haq_sdi_answers_out = dalys_haq_sdi_answers_out.dropna()"
   ]
  },
  {
   "cell_type": "code",
   "execution_count": 63,
   "metadata": {},
   "outputs": [
    {
     "data": {
      "text/plain": [
       "(4151, 10)"
      ]
     },
     "execution_count": 63,
     "metadata": {},
     "output_type": "execute_result"
    }
   ],
   "source": [
    "dalys_haq_sdi_answers_out.shape"
   ]
  },
  {
   "cell_type": "code",
   "execution_count": 64,
   "metadata": {},
   "outputs": [],
   "source": [
    "dalys_haq_sdi_answers_out_significant = dalys_haq_sdi_answers[dalys_haq_sdi_answers['haq_over_frontier_coef_pValue'] < 0.05]\n",
    "dalys_haq_sdi_answers_out_significant = dalys_haq_sdi_answers_out_significant[dalys_haq_sdi_answers_out_significant['sdi_coef_pValue'] < 0.05]\n",
    "             "
   ]
  },
  {
   "cell_type": "code",
   "execution_count": 65,
   "metadata": {},
   "outputs": [
    {
     "data": {
      "text/plain": [
       "(2595, 13)"
      ]
     },
     "execution_count": 65,
     "metadata": {},
     "output_type": "execute_result"
    }
   ],
   "source": [
    "dalys_haq_sdi_answers_out_significant.shape"
   ]
  },
  {
   "cell_type": "code",
   "execution_count": 66,
   "metadata": {},
   "outputs": [],
   "source": [
    "dalys_haq_sdi_answers_out_significant['cause_id'] = dalys_haq_sdi_answers_out_significant['cause_id'].astype('int64')"
   ]
  },
  {
   "cell_type": "code",
   "execution_count": 67,
   "metadata": {},
   "outputs": [],
   "source": [
    "dalys_haq_sdi_answers_out_significant['age_group_id'] = dalys_haq_sdi_answers_out_significant['age_group_id'].astype('int64')"
   ]
  },
  {
   "cell_type": "code",
   "execution_count": 68,
   "metadata": {},
   "outputs": [],
   "source": [
    "dalys_haq_sdi_answers_out_significant['sex_id'] = dalys_haq_sdi_answers_out_significant['sex_id'].astype('int64')"
   ]
  },
  {
   "cell_type": "code",
   "execution_count": 69,
   "metadata": {},
   "outputs": [
    {
     "data": {
      "text/html": [
       "<div>\n",
       "<style scoped>\n",
       "    .dataframe tbody tr th:only-of-type {\n",
       "        vertical-align: middle;\n",
       "    }\n",
       "\n",
       "    .dataframe tbody tr th {\n",
       "        vertical-align: top;\n",
       "    }\n",
       "\n",
       "    .dataframe thead th {\n",
       "        text-align: right;\n",
       "    }\n",
       "</style>\n",
       "<table border=\"1\" class=\"dataframe\">\n",
       "  <thead>\n",
       "    <tr style=\"text-align: right;\">\n",
       "      <th></th>\n",
       "      <th>cause_id</th>\n",
       "      <th>age_group_id</th>\n",
       "      <th>sex_id</th>\n",
       "      <th>intercept</th>\n",
       "      <th>intercept_pValue</th>\n",
       "      <th>haq_over_frontier_coef</th>\n",
       "      <th>haq_over_frontier_coef_pValue</th>\n",
       "      <th>sdi_coef</th>\n",
       "      <th>sdi_coef_pValue</th>\n",
       "      <th>r2</th>\n",
       "      <th>age_group_name</th>\n",
       "      <th>cause_name</th>\n",
       "      <th>sex</th>\n",
       "    </tr>\n",
       "  </thead>\n",
       "  <tbody>\n",
       "    <tr>\n",
       "      <th>4</th>\n",
       "      <td>297</td>\n",
       "      <td>4</td>\n",
       "      <td>1</td>\n",
       "      <td>0.060871</td>\n",
       "      <td>4.459270e-79</td>\n",
       "      <td>-0.000028</td>\n",
       "      <td>2.587950e-02</td>\n",
       "      <td>-0.067235</td>\n",
       "      <td>1.766405e-25</td>\n",
       "      <td>0.455109</td>\n",
       "      <td>Post Neonatal</td>\n",
       "      <td>Tuberculosis</td>\n",
       "      <td>Male</td>\n",
       "    </tr>\n",
       "    <tr>\n",
       "      <th>6</th>\n",
       "      <td>297</td>\n",
       "      <td>5</td>\n",
       "      <td>1</td>\n",
       "      <td>0.010860</td>\n",
       "      <td>2.725692e-72</td>\n",
       "      <td>-0.000026</td>\n",
       "      <td>1.174309e-15</td>\n",
       "      <td>-0.005086</td>\n",
       "      <td>7.439583e-04</td>\n",
       "      <td>0.442498</td>\n",
       "      <td>1 to 4</td>\n",
       "      <td>Tuberculosis</td>\n",
       "      <td>Male</td>\n",
       "    </tr>\n",
       "    <tr>\n",
       "      <th>7</th>\n",
       "      <td>297</td>\n",
       "      <td>5</td>\n",
       "      <td>2</td>\n",
       "      <td>0.011697</td>\n",
       "      <td>1.458856e-76</td>\n",
       "      <td>-0.000021</td>\n",
       "      <td>2.641024e-10</td>\n",
       "      <td>-0.007747</td>\n",
       "      <td>8.454568e-07</td>\n",
       "      <td>0.432111</td>\n",
       "      <td>1 to 4</td>\n",
       "      <td>Tuberculosis</td>\n",
       "      <td>Female</td>\n",
       "    </tr>\n",
       "    <tr>\n",
       "      <th>8</th>\n",
       "      <td>297</td>\n",
       "      <td>6</td>\n",
       "      <td>1</td>\n",
       "      <td>0.002171</td>\n",
       "      <td>3.421053e-47</td>\n",
       "      <td>-0.000005</td>\n",
       "      <td>7.508719e-13</td>\n",
       "      <td>-0.000805</td>\n",
       "      <td>3.499241e-02</td>\n",
       "      <td>0.371666</td>\n",
       "      <td>5 to 9</td>\n",
       "      <td>Tuberculosis</td>\n",
       "      <td>Male</td>\n",
       "    </tr>\n",
       "    <tr>\n",
       "      <th>9</th>\n",
       "      <td>297</td>\n",
       "      <td>6</td>\n",
       "      <td>2</td>\n",
       "      <td>0.002506</td>\n",
       "      <td>8.418546e-79</td>\n",
       "      <td>-0.000005</td>\n",
       "      <td>2.172058e-16</td>\n",
       "      <td>-0.001259</td>\n",
       "      <td>1.019714e-04</td>\n",
       "      <td>0.500906</td>\n",
       "      <td>5 to 9</td>\n",
       "      <td>Tuberculosis</td>\n",
       "      <td>Female</td>\n",
       "    </tr>\n",
       "  </tbody>\n",
       "</table>\n",
       "</div>"
      ],
      "text/plain": [
       "   cause_id  age_group_id  sex_id  intercept  intercept_pValue  \\\n",
       "4       297             4       1   0.060871      4.459270e-79   \n",
       "6       297             5       1   0.010860      2.725692e-72   \n",
       "7       297             5       2   0.011697      1.458856e-76   \n",
       "8       297             6       1   0.002171      3.421053e-47   \n",
       "9       297             6       2   0.002506      8.418546e-79   \n",
       "\n",
       "   haq_over_frontier_coef  haq_over_frontier_coef_pValue  sdi_coef  \\\n",
       "4               -0.000028                   2.587950e-02 -0.067235   \n",
       "6               -0.000026                   1.174309e-15 -0.005086   \n",
       "7               -0.000021                   2.641024e-10 -0.007747   \n",
       "8               -0.000005                   7.508719e-13 -0.000805   \n",
       "9               -0.000005                   2.172058e-16 -0.001259   \n",
       "\n",
       "   sdi_coef_pValue        r2 age_group_name    cause_name     sex  \n",
       "4     1.766405e-25  0.455109  Post Neonatal  Tuberculosis    Male  \n",
       "6     7.439583e-04  0.442498         1 to 4  Tuberculosis    Male  \n",
       "7     8.454568e-07  0.432111         1 to 4  Tuberculosis  Female  \n",
       "8     3.499241e-02  0.371666         5 to 9  Tuberculosis    Male  \n",
       "9     1.019714e-04  0.500906         5 to 9  Tuberculosis  Female  "
      ]
     },
     "execution_count": 69,
     "metadata": {},
     "output_type": "execute_result"
    }
   ],
   "source": [
    "dalys_haq_sdi_answers_out_significant.head()"
   ]
  },
  {
   "cell_type": "markdown",
   "metadata": {},
   "source": [
    "## Above code was run for sdi"
   ]
  },
  {
   "cell_type": "code",
   "execution_count": null,
   "metadata": {},
   "outputs": [],
   "source": []
  },
  {
   "cell_type": "code",
   "execution_count": null,
   "metadata": {},
   "outputs": [],
   "source": []
  },
  {
   "cell_type": "markdown",
   "metadata": {},
   "source": [
    "## Below code was run for logit_sdi"
   ]
  },
  {
   "cell_type": "markdown",
   "metadata": {},
   "source": [
    "## Running next for LOGIT_SDI"
   ]
  },
  {
   "cell_type": "code",
   "execution_count": 70,
   "metadata": {},
   "outputs": [],
   "source": [
    "dalys_haq_logit_sdi_withCauses_forAnalysis = dalys_haq_sdi_withCauses[['age_group_id','cause_id','location_id','sex_id',\\\n",
    "                                                                 'DALYs_per_capita', 'logit_sdi','exp_fit','haq',\\\n",
    "                                                                 'haq_over_frontier']]"
   ]
  },
  {
   "cell_type": "code",
   "execution_count": 71,
   "metadata": {
    "scrolled": true
   },
   "outputs": [
    {
     "data": {
      "text/html": [
       "<div>\n",
       "<style scoped>\n",
       "    .dataframe tbody tr th:only-of-type {\n",
       "        vertical-align: middle;\n",
       "    }\n",
       "\n",
       "    .dataframe tbody tr th {\n",
       "        vertical-align: top;\n",
       "    }\n",
       "\n",
       "    .dataframe thead th {\n",
       "        text-align: right;\n",
       "    }\n",
       "</style>\n",
       "<table border=\"1\" class=\"dataframe\">\n",
       "  <thead>\n",
       "    <tr style=\"text-align: right;\">\n",
       "      <th></th>\n",
       "      <th>age_group_id</th>\n",
       "      <th>cause_id</th>\n",
       "      <th>location_id</th>\n",
       "      <th>sex_id</th>\n",
       "      <th>DALYs_per_capita</th>\n",
       "      <th>logit_sdi</th>\n",
       "      <th>exp_fit</th>\n",
       "      <th>haq</th>\n",
       "      <th>haq_over_frontier</th>\n",
       "    </tr>\n",
       "  </thead>\n",
       "  <tbody>\n",
       "    <tr>\n",
       "      <th>0</th>\n",
       "      <td>2</td>\n",
       "      <td>297</td>\n",
       "      <td>7</td>\n",
       "      <td>1</td>\n",
       "      <td>5.964052e-07</td>\n",
       "      <td>0.110348</td>\n",
       "      <td>100.0</td>\n",
       "      <td>7458.314264</td>\n",
       "      <td>74.583143</td>\n",
       "    </tr>\n",
       "    <tr>\n",
       "      <th>1</th>\n",
       "      <td>2</td>\n",
       "      <td>298</td>\n",
       "      <td>7</td>\n",
       "      <td>1</td>\n",
       "      <td>8.583118e-06</td>\n",
       "      <td>0.110348</td>\n",
       "      <td>100.0</td>\n",
       "      <td>7458.314264</td>\n",
       "      <td>74.583143</td>\n",
       "    </tr>\n",
       "    <tr>\n",
       "      <th>2</th>\n",
       "      <td>2</td>\n",
       "      <td>302</td>\n",
       "      <td>7</td>\n",
       "      <td>1</td>\n",
       "      <td>5.872325e-02</td>\n",
       "      <td>0.110348</td>\n",
       "      <td>100.0</td>\n",
       "      <td>7458.314264</td>\n",
       "      <td>74.583143</td>\n",
       "    </tr>\n",
       "    <tr>\n",
       "      <th>3</th>\n",
       "      <td>2</td>\n",
       "      <td>322</td>\n",
       "      <td>7</td>\n",
       "      <td>1</td>\n",
       "      <td>3.201836e+00</td>\n",
       "      <td>0.110348</td>\n",
       "      <td>100.0</td>\n",
       "      <td>7458.314264</td>\n",
       "      <td>74.583143</td>\n",
       "    </tr>\n",
       "    <tr>\n",
       "      <th>4</th>\n",
       "      <td>2</td>\n",
       "      <td>328</td>\n",
       "      <td>7</td>\n",
       "      <td>1</td>\n",
       "      <td>7.761692e-03</td>\n",
       "      <td>0.110348</td>\n",
       "      <td>100.0</td>\n",
       "      <td>7458.314264</td>\n",
       "      <td>74.583143</td>\n",
       "    </tr>\n",
       "  </tbody>\n",
       "</table>\n",
       "</div>"
      ],
      "text/plain": [
       "   age_group_id  cause_id  location_id  sex_id  DALYs_per_capita  logit_sdi  \\\n",
       "0             2       297            7       1      5.964052e-07   0.110348   \n",
       "1             2       298            7       1      8.583118e-06   0.110348   \n",
       "2             2       302            7       1      5.872325e-02   0.110348   \n",
       "3             2       322            7       1      3.201836e+00   0.110348   \n",
       "4             2       328            7       1      7.761692e-03   0.110348   \n",
       "\n",
       "   exp_fit          haq  haq_over_frontier  \n",
       "0    100.0  7458.314264          74.583143  \n",
       "1    100.0  7458.314264          74.583143  \n",
       "2    100.0  7458.314264          74.583143  \n",
       "3    100.0  7458.314264          74.583143  \n",
       "4    100.0  7458.314264          74.583143  "
      ]
     },
     "execution_count": 71,
     "metadata": {},
     "output_type": "execute_result"
    }
   ],
   "source": [
    "dalys_haq_logit_sdi_withCauses_forAnalysis.head()"
   ]
  },
  {
   "cell_type": "markdown",
   "metadata": {},
   "source": [
    "## Capping exp_fit2 to 100 for the corresponding values of exp_fit"
   ]
  },
  {
   "cell_type": "code",
   "execution_count": 72,
   "metadata": {},
   "outputs": [
    {
     "name": "stderr",
     "output_type": "stream",
     "text": [
      "/ihme/homes/arjuns13/miniconda3/lib/python3.7/site-packages/pandas/core/indexing.py:543: SettingWithCopyWarning: \n",
      "A value is trying to be set on a copy of a slice from a DataFrame.\n",
      "Try using .loc[row_indexer,col_indexer] = value instead\n",
      "\n",
      "See the caveats in the documentation: http://pandas.pydata.org/pandas-docs/stable/indexing.html#indexing-view-versus-copy\n",
      "  self.obj[item] = s\n"
     ]
    }
   ],
   "source": [
    "dalys_haq_logit_sdi_withCauses_forAnalysis.loc[dalys_haq_logit_sdi_withCauses_forAnalysis['exp_fit'] > 100.0, 'exp_fit']=100"
   ]
  },
  {
   "cell_type": "code",
   "execution_count": 73,
   "metadata": {},
   "outputs": [
    {
     "data": {
      "text/plain": [
       "array([ 74.58314264,  83.12084018,  62.59990697, ..., 336.41183815,\n",
       "       325.49014327, 293.76453005])"
      ]
     },
     "execution_count": 73,
     "metadata": {},
     "output_type": "execute_result"
    }
   ],
   "source": [
    "dalys_haq_logit_sdi_withCauses_forAnalysis.haq_over_frontier.unique()"
   ]
  },
  {
   "cell_type": "markdown",
   "metadata": {},
   "source": [
    "### Creating the groups (Cause-Id, Age-Group, Sex-Id)"
   ]
  },
  {
   "cell_type": "code",
   "execution_count": 74,
   "metadata": {},
   "outputs": [],
   "source": [
    "dalys_haq_logit_sdi_grouped =  \\\n",
    "dict(tuple(dalys_haq_logit_sdi_withCauses_forAnalysis.groupby(['cause_id','age_group_id', 'sex_id'])))"
   ]
  },
  {
   "cell_type": "markdown",
   "metadata": {},
   "source": [
    "### This is just how the data looks for the cause 530, age group 2, and sex 1, just as an example"
   ]
  },
  {
   "cell_type": "code",
   "execution_count": 75,
   "metadata": {},
   "outputs": [
    {
     "data": {
      "text/html": [
       "<div>\n",
       "<style scoped>\n",
       "    .dataframe tbody tr th:only-of-type {\n",
       "        vertical-align: middle;\n",
       "    }\n",
       "\n",
       "    .dataframe tbody tr th {\n",
       "        vertical-align: top;\n",
       "    }\n",
       "\n",
       "    .dataframe thead th {\n",
       "        text-align: right;\n",
       "    }\n",
       "</style>\n",
       "<table border=\"1\" class=\"dataframe\">\n",
       "  <thead>\n",
       "    <tr style=\"text-align: right;\">\n",
       "      <th></th>\n",
       "      <th>age_group_id</th>\n",
       "      <th>cause_id</th>\n",
       "      <th>location_id</th>\n",
       "      <th>sex_id</th>\n",
       "      <th>DALYs_per_capita</th>\n",
       "      <th>logit_sdi</th>\n",
       "      <th>exp_fit</th>\n",
       "      <th>haq</th>\n",
       "      <th>haq_over_frontier</th>\n",
       "    </tr>\n",
       "  </thead>\n",
       "  <tbody>\n",
       "    <tr>\n",
       "      <th>35</th>\n",
       "      <td>2</td>\n",
       "      <td>530</td>\n",
       "      <td>7</td>\n",
       "      <td>1</td>\n",
       "      <td>0.131228</td>\n",
       "      <td>0.110348</td>\n",
       "      <td>100.0</td>\n",
       "      <td>7458.314264</td>\n",
       "      <td>74.583143</td>\n",
       "    </tr>\n",
       "    <tr>\n",
       "      <th>4134</th>\n",
       "      <td>2</td>\n",
       "      <td>530</td>\n",
       "      <td>8</td>\n",
       "      <td>1</td>\n",
       "      <td>0.002186</td>\n",
       "      <td>1.820419</td>\n",
       "      <td>100.0</td>\n",
       "      <td>29636.708696</td>\n",
       "      <td>296.367087</td>\n",
       "    </tr>\n",
       "    <tr>\n",
       "      <th>8235</th>\n",
       "      <td>2</td>\n",
       "      <td>530</td>\n",
       "      <td>10</td>\n",
       "      <td>1</td>\n",
       "      <td>0.141341</td>\n",
       "      <td>-0.093432</td>\n",
       "      <td>100.0</td>\n",
       "      <td>6928.179020</td>\n",
       "      <td>69.281790</td>\n",
       "    </tr>\n",
       "    <tr>\n",
       "      <th>12376</th>\n",
       "      <td>2</td>\n",
       "      <td>530</td>\n",
       "      <td>12</td>\n",
       "      <td>1</td>\n",
       "      <td>0.087819</td>\n",
       "      <td>0.046388</td>\n",
       "      <td>100.0</td>\n",
       "      <td>4855.759529</td>\n",
       "      <td>48.557595</td>\n",
       "    </tr>\n",
       "    <tr>\n",
       "      <th>16523</th>\n",
       "      <td>2</td>\n",
       "      <td>530</td>\n",
       "      <td>13</td>\n",
       "      <td>1</td>\n",
       "      <td>0.007450</td>\n",
       "      <td>1.137170</td>\n",
       "      <td>100.0</td>\n",
       "      <td>22212.050613</td>\n",
       "      <td>222.120506</td>\n",
       "    </tr>\n",
       "  </tbody>\n",
       "</table>\n",
       "</div>"
      ],
      "text/plain": [
       "       age_group_id  cause_id  location_id  sex_id  DALYs_per_capita  \\\n",
       "35                2       530            7       1          0.131228   \n",
       "4134              2       530            8       1          0.002186   \n",
       "8235              2       530           10       1          0.141341   \n",
       "12376             2       530           12       1          0.087819   \n",
       "16523             2       530           13       1          0.007450   \n",
       "\n",
       "       logit_sdi  exp_fit           haq  haq_over_frontier  \n",
       "35      0.110348    100.0   7458.314264          74.583143  \n",
       "4134    1.820419    100.0  29636.708696         296.367087  \n",
       "8235   -0.093432    100.0   6928.179020          69.281790  \n",
       "12376   0.046388    100.0   4855.759529          48.557595  \n",
       "16523   1.137170    100.0  22212.050613         222.120506  "
      ]
     },
     "execution_count": 75,
     "metadata": {},
     "output_type": "execute_result"
    }
   ],
   "source": [
    "dalys_haq_logit_sdi_grouped[530,2,1].head()"
   ]
  },
  {
   "cell_type": "code",
   "execution_count": 76,
   "metadata": {},
   "outputs": [
    {
     "data": {
      "text/plain": [
       "4152"
      ]
     },
     "execution_count": 76,
     "metadata": {},
     "output_type": "execute_result"
    }
   ],
   "source": [
    "len(dalys_haq_logit_sdi_grouped)"
   ]
  },
  {
   "cell_type": "markdown",
   "metadata": {},
   "source": [
    "# Set HAQ frontier to 0 for predictions dataframe"
   ]
  },
  {
   "cell_type": "code",
   "execution_count": 77,
   "metadata": {},
   "outputs": [
    {
     "data": {
      "text/html": [
       "<div>\n",
       "<style scoped>\n",
       "    .dataframe tbody tr th:only-of-type {\n",
       "        vertical-align: middle;\n",
       "    }\n",
       "\n",
       "    .dataframe tbody tr th {\n",
       "        vertical-align: top;\n",
       "    }\n",
       "\n",
       "    .dataframe thead th {\n",
       "        text-align: right;\n",
       "    }\n",
       "</style>\n",
       "<table border=\"1\" class=\"dataframe\">\n",
       "  <thead>\n",
       "    <tr style=\"text-align: right;\">\n",
       "      <th></th>\n",
       "      <th>age_group_id</th>\n",
       "      <th>cause_id</th>\n",
       "      <th>location_id</th>\n",
       "      <th>sex_id</th>\n",
       "      <th>DALYs_per_capita</th>\n",
       "      <th>logit_sdi</th>\n",
       "      <th>exp_fit</th>\n",
       "      <th>haq</th>\n",
       "      <th>haq_over_frontier</th>\n",
       "    </tr>\n",
       "  </thead>\n",
       "  <tbody>\n",
       "    <tr>\n",
       "      <th>0</th>\n",
       "      <td>2</td>\n",
       "      <td>297</td>\n",
       "      <td>7</td>\n",
       "      <td>1</td>\n",
       "      <td>5.964052e-07</td>\n",
       "      <td>0.110348</td>\n",
       "      <td>100.0</td>\n",
       "      <td>7458.314264</td>\n",
       "      <td>0</td>\n",
       "    </tr>\n",
       "    <tr>\n",
       "      <th>1</th>\n",
       "      <td>2</td>\n",
       "      <td>298</td>\n",
       "      <td>7</td>\n",
       "      <td>1</td>\n",
       "      <td>8.583118e-06</td>\n",
       "      <td>0.110348</td>\n",
       "      <td>100.0</td>\n",
       "      <td>7458.314264</td>\n",
       "      <td>0</td>\n",
       "    </tr>\n",
       "    <tr>\n",
       "      <th>2</th>\n",
       "      <td>2</td>\n",
       "      <td>302</td>\n",
       "      <td>7</td>\n",
       "      <td>1</td>\n",
       "      <td>5.872325e-02</td>\n",
       "      <td>0.110348</td>\n",
       "      <td>100.0</td>\n",
       "      <td>7458.314264</td>\n",
       "      <td>0</td>\n",
       "    </tr>\n",
       "    <tr>\n",
       "      <th>3</th>\n",
       "      <td>2</td>\n",
       "      <td>322</td>\n",
       "      <td>7</td>\n",
       "      <td>1</td>\n",
       "      <td>3.201836e+00</td>\n",
       "      <td>0.110348</td>\n",
       "      <td>100.0</td>\n",
       "      <td>7458.314264</td>\n",
       "      <td>0</td>\n",
       "    </tr>\n",
       "    <tr>\n",
       "      <th>4</th>\n",
       "      <td>2</td>\n",
       "      <td>328</td>\n",
       "      <td>7</td>\n",
       "      <td>1</td>\n",
       "      <td>7.761692e-03</td>\n",
       "      <td>0.110348</td>\n",
       "      <td>100.0</td>\n",
       "      <td>7458.314264</td>\n",
       "      <td>0</td>\n",
       "    </tr>\n",
       "  </tbody>\n",
       "</table>\n",
       "</div>"
      ],
      "text/plain": [
       "   age_group_id  cause_id  location_id  sex_id  DALYs_per_capita  logit_sdi  \\\n",
       "0             2       297            7       1      5.964052e-07   0.110348   \n",
       "1             2       298            7       1      8.583118e-06   0.110348   \n",
       "2             2       302            7       1      5.872325e-02   0.110348   \n",
       "3             2       322            7       1      3.201836e+00   0.110348   \n",
       "4             2       328            7       1      7.761692e-03   0.110348   \n",
       "\n",
       "   exp_fit          haq  haq_over_frontier  \n",
       "0    100.0  7458.314264                  0  \n",
       "1    100.0  7458.314264                  0  \n",
       "2    100.0  7458.314264                  0  \n",
       "3    100.0  7458.314264                  0  \n",
       "4    100.0  7458.314264                  0  "
      ]
     },
     "execution_count": 77,
     "metadata": {},
     "output_type": "execute_result"
    }
   ],
   "source": [
    "# Create df for predictions where haq_frontier is set to 0\n",
    "df_predictions = dalys_haq_logit_sdi_withCauses_forAnalysis.copy()\n",
    "df_predictions['haq_over_frontier'] = 0\n",
    "df_predictions.head()"
   ]
  },
  {
   "cell_type": "code",
   "execution_count": 78,
   "metadata": {},
   "outputs": [],
   "source": [
    "grouped_for_predictions =  dict(tuple(df_predictions.groupby(['cause_id','age_group_id', 'sex_id'])))"
   ]
  },
  {
   "cell_type": "markdown",
   "metadata": {},
   "source": [
    "## Next we create a DataFrame where all the final regression results would be stored"
   ]
  },
  {
   "cell_type": "code",
   "execution_count": 82,
   "metadata": {},
   "outputs": [],
   "source": [
    "dalys_haq_logit_sdi_answers = pd.DataFrame(columns=['cause_id','age_group_id', 'sex_id',\\\n",
    "                                              'intercept','intercept_pValue','haq_over_frontier_coef',\\\n",
    "                                              'haq_over_frontier_coef_pValue','logit_sdi_coef',\\\n",
    "                                              'logit_sdi_coef_pValue','r2',])"
   ]
  },
  {
   "cell_type": "code",
   "execution_count": 83,
   "metadata": {},
   "outputs": [],
   "source": [
    "import statsmodels.formula.api as smf\n",
    "i=0\n",
    "for g in dalys_haq_logit_sdi_grouped:\n",
    "    df=dalys_haq_logit_sdi_grouped[g]\n",
    "    linear_reg = smf.ols(\"DALYs_per_capita ~ haq_over_frontier + logit_sdi\", \\\n",
    "                      data = df)\n",
    "    linear_reg_fit = linear_reg.fit()\n",
    "    \n",
    "    dalys_haq_logit_sdi_answers.loc[i] = [g[0],g[1],g[2],linear_reg_fit.params[0],linear_reg_fit.pvalues.Intercept,\\\n",
    "                                    linear_reg_fit.params[1],linear_reg_fit.pvalues.haq_over_frontier,\\\n",
    "                                    linear_reg_fit.params[2],linear_reg_fit.pvalues.logit_sdi,\\\n",
    "                                    linear_reg_fit.rsquared]\n",
    "    i+=1\n",
    "   # print(\"Current iteration:\" + str(i))"
   ]
  },
  {
   "cell_type": "markdown",
   "metadata": {},
   "source": [
    "## The next step is taken so that we can look at data using cause names rather than cause IDs and age group names rather than age group IDs"
   ]
  },
  {
   "cell_type": "code",
   "execution_count": 84,
   "metadata": {},
   "outputs": [],
   "source": [
    "dalys_haq_logit_sdi_answers = dalys_haq_logit_sdi_answers.merge(dalys_haq_sdi_withCauses_distinct, how='left')"
   ]
  },
  {
   "cell_type": "code",
   "execution_count": 85,
   "metadata": {
    "scrolled": true
   },
   "outputs": [
    {
     "data": {
      "text/html": [
       "<div>\n",
       "<style scoped>\n",
       "    .dataframe tbody tr th:only-of-type {\n",
       "        vertical-align: middle;\n",
       "    }\n",
       "\n",
       "    .dataframe tbody tr th {\n",
       "        vertical-align: top;\n",
       "    }\n",
       "\n",
       "    .dataframe thead th {\n",
       "        text-align: right;\n",
       "    }\n",
       "</style>\n",
       "<table border=\"1\" class=\"dataframe\">\n",
       "  <thead>\n",
       "    <tr style=\"text-align: right;\">\n",
       "      <th></th>\n",
       "      <th>cause_id</th>\n",
       "      <th>age_group_id</th>\n",
       "      <th>sex_id</th>\n",
       "      <th>intercept</th>\n",
       "      <th>intercept_pValue</th>\n",
       "      <th>haq_over_frontier_coef</th>\n",
       "      <th>haq_over_frontier_coef_pValue</th>\n",
       "      <th>logit_sdi_coef</th>\n",
       "      <th>logit_sdi_coef_pValue</th>\n",
       "      <th>r2</th>\n",
       "      <th>age_group_name</th>\n",
       "      <th>cause_name</th>\n",
       "      <th>sex</th>\n",
       "    </tr>\n",
       "  </thead>\n",
       "  <tbody>\n",
       "    <tr>\n",
       "      <th>0</th>\n",
       "      <td>297.0</td>\n",
       "      <td>2.0</td>\n",
       "      <td>1.0</td>\n",
       "      <td>7.200275e-07</td>\n",
       "      <td>7.791012e-37</td>\n",
       "      <td>-2.238811e-10</td>\n",
       "      <td>0.629235</td>\n",
       "      <td>-3.041925e-07</td>\n",
       "      <td>5.465110e-08</td>\n",
       "      <td>0.143703</td>\n",
       "      <td>Early Neonatal</td>\n",
       "      <td>Tuberculosis</td>\n",
       "      <td>Male</td>\n",
       "    </tr>\n",
       "    <tr>\n",
       "      <th>1</th>\n",
       "      <td>297.0</td>\n",
       "      <td>2.0</td>\n",
       "      <td>2.0</td>\n",
       "      <td>1.248550e-06</td>\n",
       "      <td>2.116985e-43</td>\n",
       "      <td>-4.273413e-10</td>\n",
       "      <td>0.558854</td>\n",
       "      <td>-5.584279e-07</td>\n",
       "      <td>2.800577e-10</td>\n",
       "      <td>0.186241</td>\n",
       "      <td>Early Neonatal</td>\n",
       "      <td>Tuberculosis</td>\n",
       "      <td>Female</td>\n",
       "    </tr>\n",
       "    <tr>\n",
       "      <th>2</th>\n",
       "      <td>297.0</td>\n",
       "      <td>3.0</td>\n",
       "      <td>1.0</td>\n",
       "      <td>8.953444e-06</td>\n",
       "      <td>5.284015e-46</td>\n",
       "      <td>-9.665768e-09</td>\n",
       "      <td>0.034927</td>\n",
       "      <td>-3.433438e-06</td>\n",
       "      <td>3.957739e-12</td>\n",
       "      <td>0.275714</td>\n",
       "      <td>Late Neonatal</td>\n",
       "      <td>Tuberculosis</td>\n",
       "      <td>Male</td>\n",
       "    </tr>\n",
       "    <tr>\n",
       "      <th>3</th>\n",
       "      <td>297.0</td>\n",
       "      <td>3.0</td>\n",
       "      <td>2.0</td>\n",
       "      <td>1.506767e-05</td>\n",
       "      <td>1.826002e-48</td>\n",
       "      <td>-1.406412e-08</td>\n",
       "      <td>0.059979</td>\n",
       "      <td>-6.389163e-06</td>\n",
       "      <td>3.339325e-15</td>\n",
       "      <td>0.310046</td>\n",
       "      <td>Late Neonatal</td>\n",
       "      <td>Tuberculosis</td>\n",
       "      <td>Female</td>\n",
       "    </tr>\n",
       "    <tr>\n",
       "      <th>4</th>\n",
       "      <td>297.0</td>\n",
       "      <td>4.0</td>\n",
       "      <td>1.0</td>\n",
       "      <td>2.766834e-02</td>\n",
       "      <td>6.774145e-86</td>\n",
       "      <td>-5.457887e-05</td>\n",
       "      <td>0.000056</td>\n",
       "      <td>-1.011217e-02</td>\n",
       "      <td>1.885046e-13</td>\n",
       "      <td>0.417490</td>\n",
       "      <td>Post Neonatal</td>\n",
       "      <td>Tuberculosis</td>\n",
       "      <td>Male</td>\n",
       "    </tr>\n",
       "  </tbody>\n",
       "</table>\n",
       "</div>"
      ],
      "text/plain": [
       "   cause_id  age_group_id  sex_id     intercept  intercept_pValue  \\\n",
       "0     297.0           2.0     1.0  7.200275e-07      7.791012e-37   \n",
       "1     297.0           2.0     2.0  1.248550e-06      2.116985e-43   \n",
       "2     297.0           3.0     1.0  8.953444e-06      5.284015e-46   \n",
       "3     297.0           3.0     2.0  1.506767e-05      1.826002e-48   \n",
       "4     297.0           4.0     1.0  2.766834e-02      6.774145e-86   \n",
       "\n",
       "   haq_over_frontier_coef  haq_over_frontier_coef_pValue  logit_sdi_coef  \\\n",
       "0           -2.238811e-10                       0.629235   -3.041925e-07   \n",
       "1           -4.273413e-10                       0.558854   -5.584279e-07   \n",
       "2           -9.665768e-09                       0.034927   -3.433438e-06   \n",
       "3           -1.406412e-08                       0.059979   -6.389163e-06   \n",
       "4           -5.457887e-05                       0.000056   -1.011217e-02   \n",
       "\n",
       "   logit_sdi_coef_pValue        r2  age_group_name    cause_name     sex  \n",
       "0           5.465110e-08  0.143703  Early Neonatal  Tuberculosis    Male  \n",
       "1           2.800577e-10  0.186241  Early Neonatal  Tuberculosis  Female  \n",
       "2           3.957739e-12  0.275714   Late Neonatal  Tuberculosis    Male  \n",
       "3           3.339325e-15  0.310046   Late Neonatal  Tuberculosis  Female  \n",
       "4           1.885046e-13  0.417490   Post Neonatal  Tuberculosis    Male  "
      ]
     },
     "execution_count": 85,
     "metadata": {},
     "output_type": "execute_result"
    }
   ],
   "source": [
    "dalys_haq_logit_sdi_answers.head()"
   ]
  },
  {
   "cell_type": "code",
   "execution_count": null,
   "metadata": {},
   "outputs": [],
   "source": []
  },
  {
   "cell_type": "markdown",
   "metadata": {},
   "source": [
    "## Filtering to keep only columns we're interested in, dropping NaNs, and then keeping only those rows where the coefficient for HAQ_over_Frontier as well SDI is statistically significant according to our model above"
   ]
  },
  {
   "cell_type": "code",
   "execution_count": 86,
   "metadata": {},
   "outputs": [],
   "source": [
    "dalys_haq_logit_sdi_answers_out = dalys_haq_logit_sdi_answers[['cause_name', 'age_group_name', 'sex', \\\n",
    "                                                   'intercept', 'intercept_pValue', \\\n",
    "                                                   'haq_over_frontier_coef', 'haq_over_frontier_coef_pValue',\\\n",
    "                                                   'logit_sdi_coef', 'logit_sdi_coef_pValue', 'r2']]"
   ]
  },
  {
   "cell_type": "code",
   "execution_count": 87,
   "metadata": {},
   "outputs": [
    {
     "data": {
      "text/html": [
       "<div>\n",
       "<style scoped>\n",
       "    .dataframe tbody tr th:only-of-type {\n",
       "        vertical-align: middle;\n",
       "    }\n",
       "\n",
       "    .dataframe tbody tr th {\n",
       "        vertical-align: top;\n",
       "    }\n",
       "\n",
       "    .dataframe thead th {\n",
       "        text-align: right;\n",
       "    }\n",
       "</style>\n",
       "<table border=\"1\" class=\"dataframe\">\n",
       "  <thead>\n",
       "    <tr style=\"text-align: right;\">\n",
       "      <th></th>\n",
       "      <th>cause_name</th>\n",
       "      <th>age_group_name</th>\n",
       "      <th>sex</th>\n",
       "      <th>intercept</th>\n",
       "      <th>intercept_pValue</th>\n",
       "      <th>haq_over_frontier_coef</th>\n",
       "      <th>haq_over_frontier_coef_pValue</th>\n",
       "      <th>logit_sdi_coef</th>\n",
       "      <th>logit_sdi_coef_pValue</th>\n",
       "      <th>r2</th>\n",
       "    </tr>\n",
       "  </thead>\n",
       "  <tbody>\n",
       "    <tr>\n",
       "      <th>0</th>\n",
       "      <td>Tuberculosis</td>\n",
       "      <td>Early Neonatal</td>\n",
       "      <td>Male</td>\n",
       "      <td>7.200275e-07</td>\n",
       "      <td>7.791012e-37</td>\n",
       "      <td>-2.238811e-10</td>\n",
       "      <td>0.629235</td>\n",
       "      <td>-3.041925e-07</td>\n",
       "      <td>5.465110e-08</td>\n",
       "      <td>0.143703</td>\n",
       "    </tr>\n",
       "    <tr>\n",
       "      <th>1</th>\n",
       "      <td>Tuberculosis</td>\n",
       "      <td>Early Neonatal</td>\n",
       "      <td>Female</td>\n",
       "      <td>1.248550e-06</td>\n",
       "      <td>2.116985e-43</td>\n",
       "      <td>-4.273413e-10</td>\n",
       "      <td>0.558854</td>\n",
       "      <td>-5.584279e-07</td>\n",
       "      <td>2.800577e-10</td>\n",
       "      <td>0.186241</td>\n",
       "    </tr>\n",
       "    <tr>\n",
       "      <th>2</th>\n",
       "      <td>Tuberculosis</td>\n",
       "      <td>Late Neonatal</td>\n",
       "      <td>Male</td>\n",
       "      <td>8.953444e-06</td>\n",
       "      <td>5.284015e-46</td>\n",
       "      <td>-9.665768e-09</td>\n",
       "      <td>0.034927</td>\n",
       "      <td>-3.433438e-06</td>\n",
       "      <td>3.957739e-12</td>\n",
       "      <td>0.275714</td>\n",
       "    </tr>\n",
       "    <tr>\n",
       "      <th>3</th>\n",
       "      <td>Tuberculosis</td>\n",
       "      <td>Late Neonatal</td>\n",
       "      <td>Female</td>\n",
       "      <td>1.506767e-05</td>\n",
       "      <td>1.826002e-48</td>\n",
       "      <td>-1.406412e-08</td>\n",
       "      <td>0.059979</td>\n",
       "      <td>-6.389163e-06</td>\n",
       "      <td>3.339325e-15</td>\n",
       "      <td>0.310046</td>\n",
       "    </tr>\n",
       "    <tr>\n",
       "      <th>4</th>\n",
       "      <td>Tuberculosis</td>\n",
       "      <td>Post Neonatal</td>\n",
       "      <td>Male</td>\n",
       "      <td>2.766834e-02</td>\n",
       "      <td>6.774145e-86</td>\n",
       "      <td>-5.457887e-05</td>\n",
       "      <td>0.000056</td>\n",
       "      <td>-1.011217e-02</td>\n",
       "      <td>1.885046e-13</td>\n",
       "      <td>0.417490</td>\n",
       "    </tr>\n",
       "  </tbody>\n",
       "</table>\n",
       "</div>"
      ],
      "text/plain": [
       "     cause_name  age_group_name     sex     intercept  intercept_pValue  \\\n",
       "0  Tuberculosis  Early Neonatal    Male  7.200275e-07      7.791012e-37   \n",
       "1  Tuberculosis  Early Neonatal  Female  1.248550e-06      2.116985e-43   \n",
       "2  Tuberculosis   Late Neonatal    Male  8.953444e-06      5.284015e-46   \n",
       "3  Tuberculosis   Late Neonatal  Female  1.506767e-05      1.826002e-48   \n",
       "4  Tuberculosis   Post Neonatal    Male  2.766834e-02      6.774145e-86   \n",
       "\n",
       "   haq_over_frontier_coef  haq_over_frontier_coef_pValue  logit_sdi_coef  \\\n",
       "0           -2.238811e-10                       0.629235   -3.041925e-07   \n",
       "1           -4.273413e-10                       0.558854   -5.584279e-07   \n",
       "2           -9.665768e-09                       0.034927   -3.433438e-06   \n",
       "3           -1.406412e-08                       0.059979   -6.389163e-06   \n",
       "4           -5.457887e-05                       0.000056   -1.011217e-02   \n",
       "\n",
       "   logit_sdi_coef_pValue        r2  \n",
       "0           5.465110e-08  0.143703  \n",
       "1           2.800577e-10  0.186241  \n",
       "2           3.957739e-12  0.275714  \n",
       "3           3.339325e-15  0.310046  \n",
       "4           1.885046e-13  0.417490  "
      ]
     },
     "execution_count": 87,
     "metadata": {},
     "output_type": "execute_result"
    }
   ],
   "source": [
    "dalys_haq_logit_sdi_answers_out.head()"
   ]
  },
  {
   "cell_type": "code",
   "execution_count": 88,
   "metadata": {},
   "outputs": [
    {
     "data": {
      "text/plain": [
       "(4152, 10)"
      ]
     },
     "execution_count": 88,
     "metadata": {},
     "output_type": "execute_result"
    }
   ],
   "source": [
    "dalys_haq_logit_sdi_answers_out.shape"
   ]
  },
  {
   "cell_type": "code",
   "execution_count": 89,
   "metadata": {},
   "outputs": [],
   "source": [
    "dalys_haq_logit_sdi_answers_out = dalys_haq_logit_sdi_answers_out.dropna()"
   ]
  },
  {
   "cell_type": "code",
   "execution_count": 90,
   "metadata": {},
   "outputs": [
    {
     "data": {
      "text/plain": [
       "(4151, 10)"
      ]
     },
     "execution_count": 90,
     "metadata": {},
     "output_type": "execute_result"
    }
   ],
   "source": [
    "dalys_haq_logit_sdi_answers_out.shape"
   ]
  },
  {
   "cell_type": "code",
   "execution_count": 91,
   "metadata": {},
   "outputs": [],
   "source": [
    "dalys_haq_logit_sdi_answers_out_significant = dalys_haq_logit_sdi_answers[dalys_haq_logit_sdi_answers['haq_over_frontier_coef_pValue'] < 0.05]\n",
    "dalys_haq_logit_sdi_answers_out_significant = dalys_haq_logit_sdi_answers_out_significant[dalys_haq_logit_sdi_answers_out_significant['logit_sdi_coef_pValue'] < 0.05]\n",
    "             "
   ]
  },
  {
   "cell_type": "code",
   "execution_count": 92,
   "metadata": {},
   "outputs": [
    {
     "data": {
      "text/plain": [
       "(2548, 13)"
      ]
     },
     "execution_count": 92,
     "metadata": {},
     "output_type": "execute_result"
    }
   ],
   "source": [
    "dalys_haq_logit_sdi_answers_out_significant.shape"
   ]
  },
  {
   "cell_type": "code",
   "execution_count": 93,
   "metadata": {},
   "outputs": [],
   "source": [
    "dalys_haq_logit_sdi_answers_out_significant['cause_id'] = dalys_haq_logit_sdi_answers_out_significant['cause_id'].astype('int64')"
   ]
  },
  {
   "cell_type": "code",
   "execution_count": 94,
   "metadata": {},
   "outputs": [],
   "source": [
    "dalys_haq_logit_sdi_answers_out_significant['age_group_id'] = dalys_haq_logit_sdi_answers_out_significant['age_group_id'].astype('int64')"
   ]
  },
  {
   "cell_type": "code",
   "execution_count": 95,
   "metadata": {},
   "outputs": [],
   "source": [
    "dalys_haq_logit_sdi_answers_out_significant['sex_id'] = dalys_haq_logit_sdi_answers_out_significant['sex_id'].astype('int64')"
   ]
  },
  {
   "cell_type": "code",
   "execution_count": 96,
   "metadata": {},
   "outputs": [
    {
     "data": {
      "text/html": [
       "<div>\n",
       "<style scoped>\n",
       "    .dataframe tbody tr th:only-of-type {\n",
       "        vertical-align: middle;\n",
       "    }\n",
       "\n",
       "    .dataframe tbody tr th {\n",
       "        vertical-align: top;\n",
       "    }\n",
       "\n",
       "    .dataframe thead th {\n",
       "        text-align: right;\n",
       "    }\n",
       "</style>\n",
       "<table border=\"1\" class=\"dataframe\">\n",
       "  <thead>\n",
       "    <tr style=\"text-align: right;\">\n",
       "      <th></th>\n",
       "      <th>cause_id</th>\n",
       "      <th>age_group_id</th>\n",
       "      <th>sex_id</th>\n",
       "      <th>intercept</th>\n",
       "      <th>intercept_pValue</th>\n",
       "      <th>haq_over_frontier_coef</th>\n",
       "      <th>haq_over_frontier_coef_pValue</th>\n",
       "      <th>logit_sdi_coef</th>\n",
       "      <th>logit_sdi_coef_pValue</th>\n",
       "      <th>r2</th>\n",
       "      <th>age_group_name</th>\n",
       "      <th>cause_name</th>\n",
       "      <th>sex</th>\n",
       "    </tr>\n",
       "  </thead>\n",
       "  <tbody>\n",
       "    <tr>\n",
       "      <th>2</th>\n",
       "      <td>297</td>\n",
       "      <td>3</td>\n",
       "      <td>1</td>\n",
       "      <td>0.000009</td>\n",
       "      <td>5.284015e-46</td>\n",
       "      <td>-9.665768e-09</td>\n",
       "      <td>3.492709e-02</td>\n",
       "      <td>-0.000003</td>\n",
       "      <td>3.957739e-12</td>\n",
       "      <td>0.275714</td>\n",
       "      <td>Late Neonatal</td>\n",
       "      <td>Tuberculosis</td>\n",
       "      <td>Male</td>\n",
       "    </tr>\n",
       "    <tr>\n",
       "      <th>4</th>\n",
       "      <td>297</td>\n",
       "      <td>4</td>\n",
       "      <td>1</td>\n",
       "      <td>0.027668</td>\n",
       "      <td>6.774145e-86</td>\n",
       "      <td>-5.457887e-05</td>\n",
       "      <td>5.580139e-05</td>\n",
       "      <td>-0.010112</td>\n",
       "      <td>1.885046e-13</td>\n",
       "      <td>0.417490</td>\n",
       "      <td>Post Neonatal</td>\n",
       "      <td>Tuberculosis</td>\n",
       "      <td>Male</td>\n",
       "    </tr>\n",
       "    <tr>\n",
       "      <th>5</th>\n",
       "      <td>297</td>\n",
       "      <td>4</td>\n",
       "      <td>2</td>\n",
       "      <td>0.025806</td>\n",
       "      <td>9.686691e-87</td>\n",
       "      <td>-3.660792e-05</td>\n",
       "      <td>3.464205e-03</td>\n",
       "      <td>-0.011487</td>\n",
       "      <td>3.724254e-19</td>\n",
       "      <td>0.443689</td>\n",
       "      <td>Post Neonatal</td>\n",
       "      <td>Tuberculosis</td>\n",
       "      <td>Female</td>\n",
       "    </tr>\n",
       "    <tr>\n",
       "      <th>11</th>\n",
       "      <td>297</td>\n",
       "      <td>7</td>\n",
       "      <td>2</td>\n",
       "      <td>0.002051</td>\n",
       "      <td>5.239097e-94</td>\n",
       "      <td>-6.639750e-06</td>\n",
       "      <td>2.607298e-24</td>\n",
       "      <td>-0.000139</td>\n",
       "      <td>2.553868e-02</td>\n",
       "      <td>0.532072</td>\n",
       "      <td>10 to 14</td>\n",
       "      <td>Tuberculosis</td>\n",
       "      <td>Female</td>\n",
       "    </tr>\n",
       "    <tr>\n",
       "      <th>12</th>\n",
       "      <td>297</td>\n",
       "      <td>8</td>\n",
       "      <td>1</td>\n",
       "      <td>0.004141</td>\n",
       "      <td>3.339956e-72</td>\n",
       "      <td>-5.530918e-06</td>\n",
       "      <td>1.275914e-03</td>\n",
       "      <td>-0.001596</td>\n",
       "      <td>2.875391e-12</td>\n",
       "      <td>0.423154</td>\n",
       "      <td>15 to 19</td>\n",
       "      <td>Tuberculosis</td>\n",
       "      <td>Male</td>\n",
       "    </tr>\n",
       "  </tbody>\n",
       "</table>\n",
       "</div>"
      ],
      "text/plain": [
       "    cause_id  age_group_id  sex_id  intercept  intercept_pValue  \\\n",
       "2        297             3       1   0.000009      5.284015e-46   \n",
       "4        297             4       1   0.027668      6.774145e-86   \n",
       "5        297             4       2   0.025806      9.686691e-87   \n",
       "11       297             7       2   0.002051      5.239097e-94   \n",
       "12       297             8       1   0.004141      3.339956e-72   \n",
       "\n",
       "    haq_over_frontier_coef  haq_over_frontier_coef_pValue  logit_sdi_coef  \\\n",
       "2            -9.665768e-09                   3.492709e-02       -0.000003   \n",
       "4            -5.457887e-05                   5.580139e-05       -0.010112   \n",
       "5            -3.660792e-05                   3.464205e-03       -0.011487   \n",
       "11           -6.639750e-06                   2.607298e-24       -0.000139   \n",
       "12           -5.530918e-06                   1.275914e-03       -0.001596   \n",
       "\n",
       "    logit_sdi_coef_pValue        r2 age_group_name    cause_name     sex  \n",
       "2            3.957739e-12  0.275714  Late Neonatal  Tuberculosis    Male  \n",
       "4            1.885046e-13  0.417490  Post Neonatal  Tuberculosis    Male  \n",
       "5            3.724254e-19  0.443689  Post Neonatal  Tuberculosis  Female  \n",
       "11           2.553868e-02  0.532072       10 to 14  Tuberculosis  Female  \n",
       "12           2.875391e-12  0.423154       15 to 19  Tuberculosis    Male  "
      ]
     },
     "execution_count": 96,
     "metadata": {},
     "output_type": "execute_result"
    }
   ],
   "source": [
    "dalys_haq_logit_sdi_answers_out_significant.head()"
   ]
  },
  {
   "cell_type": "code",
   "execution_count": 104,
   "metadata": {},
   "outputs": [],
   "source": [
    "combined_results = pd.merge(dalys_haq_logit_sdi_answers_out_significant, dalys_haq_sdi_answers_out_significant,\\\n",
    "                            on=['cause_id', 'age_group_id', 'sex_id' ] )"
   ]
  },
  {
   "cell_type": "code",
   "execution_count": 107,
   "metadata": {},
   "outputs": [],
   "source": [
    "combined_results = combined_results[['haq_over_frontier_coef_x', 'haq_over_frontier_coef_y']]"
   ]
  },
  {
   "cell_type": "code",
   "execution_count": 109,
   "metadata": {},
   "outputs": [
    {
     "data": {
      "text/html": [
       "<div>\n",
       "<style scoped>\n",
       "    .dataframe tbody tr th:only-of-type {\n",
       "        vertical-align: middle;\n",
       "    }\n",
       "\n",
       "    .dataframe tbody tr th {\n",
       "        vertical-align: top;\n",
       "    }\n",
       "\n",
       "    .dataframe thead th {\n",
       "        text-align: right;\n",
       "    }\n",
       "</style>\n",
       "<table border=\"1\" class=\"dataframe\">\n",
       "  <thead>\n",
       "    <tr style=\"text-align: right;\">\n",
       "      <th></th>\n",
       "      <th>haq_over_frontier_coef_x</th>\n",
       "      <th>haq_over_frontier_coef_y</th>\n",
       "    </tr>\n",
       "  </thead>\n",
       "  <tbody>\n",
       "    <tr>\n",
       "      <th>0</th>\n",
       "      <td>-0.000055</td>\n",
       "      <td>-0.000028</td>\n",
       "    </tr>\n",
       "    <tr>\n",
       "      <th>1</th>\n",
       "      <td>-0.000007</td>\n",
       "      <td>-0.000005</td>\n",
       "    </tr>\n",
       "    <tr>\n",
       "      <th>2</th>\n",
       "      <td>-0.000010</td>\n",
       "      <td>-0.000007</td>\n",
       "    </tr>\n",
       "    <tr>\n",
       "      <th>3</th>\n",
       "      <td>-0.000022</td>\n",
       "      <td>-0.000013</td>\n",
       "    </tr>\n",
       "    <tr>\n",
       "      <th>4</th>\n",
       "      <td>-0.000017</td>\n",
       "      <td>-0.000011</td>\n",
       "    </tr>\n",
       "  </tbody>\n",
       "</table>\n",
       "</div>"
      ],
      "text/plain": [
       "   haq_over_frontier_coef_x  haq_over_frontier_coef_y\n",
       "0                 -0.000055                 -0.000028\n",
       "1                 -0.000007                 -0.000005\n",
       "2                 -0.000010                 -0.000007\n",
       "3                 -0.000022                 -0.000013\n",
       "4                 -0.000017                 -0.000011"
      ]
     },
     "execution_count": 109,
     "metadata": {},
     "output_type": "execute_result"
    }
   ],
   "source": [
    "combined_results.head()"
   ]
  },
  {
   "cell_type": "code",
   "execution_count": 108,
   "metadata": {},
   "outputs": [
    {
     "data": {
      "text/plain": [
       "(2190, 2)"
      ]
     },
     "execution_count": 108,
     "metadata": {},
     "output_type": "execute_result"
    }
   ],
   "source": [
    "combined_results.shape"
   ]
  },
  {
   "cell_type": "code",
   "execution_count": 115,
   "metadata": {},
   "outputs": [
    {
     "data": {
      "image/png": "[encoded data removed]",
      "text/plain": [
       "<Figure size 432x288 with 1 Axes>"
      ]
     },
     "metadata": {
      "needs_background": "light"
     },
     "output_type": "display_data"
    }
   ],
   "source": [
    "import matplotlib.pyplot as plt\n",
    "x = combined_results[['haq_over_frontier_coef_x']]\n",
    "y = combined_results[['haq_over_frontier_coef_y']]\n",
    "plt1 = plt.scatter(x, y,alpha=0.5)\n",
    "plt.title('Scatter plot between HAQ-over-frontier coefficients with SDI vs logit_SDI')\n",
    "plt.xlabel('Using Logit SDI')\n",
    "plt.ylabel('Using SDI')\n",
    "\n",
    "plt.show()"
   ]
  },
  {
   "cell_type": "code",
   "execution_count": null,
   "metadata": {},
   "outputs": [],
   "source": []
  },
  {
   "cell_type": "code",
   "execution_count": 97,
   "metadata": {
    "scrolled": true
   },
   "outputs": [],
   "source": [
    "dalys_haq_sdi_answers_out_significant.to_csv('J:\\\\Project\\\\Cost_Effectiveness\\\\NPC\\\\Regression_Analysis\\\\dalys_haq_sdi_allcauses_10Jun19.csv')"
   ]
  },
  {
   "cell_type": "code",
   "execution_count": 98,
   "metadata": {},
   "outputs": [],
   "source": [
    "dalys_haq_sdi_answers_out_significant.to_csv('/ihme/homes/arjuns13/notebooks/Documents/Data/dalys_haq_sdi_allcauses_10Jun19.csv')"
   ]
  },
  {
   "cell_type": "code",
   "execution_count": 99,
   "metadata": {
    "scrolled": true
   },
   "outputs": [],
   "source": [
    "dalys_haq_logit_sdi_answers_out_significant.to_csv('J:\\\\Project\\\\Cost_Effectiveness\\\\NPC\\\\Regression_Analysis\\\\dalys_haq_logit_sdi_allcauses_10Jun19.csv')"
   ]
  },
  {
   "cell_type": "code",
   "execution_count": 100,
   "metadata": {},
   "outputs": [],
   "source": [
    "dalys_haq_logit_sdi_answers_out_significant.to_csv('/ihme/homes/arjuns13/notebooks/Documents/Data/dalys_haq_logit_sdi_allcauses_10Jun19.csv')"
   ]
  },
  {
   "cell_type": "code",
   "execution_count": null,
   "metadata": {},
   "outputs": [],
   "source": []
  }
 ],
 "metadata": {
  "kernelspec": {
   "display_name": "Python 3",
   "language": "python",
   "name": "python3"
  },
  "language_info": {
   "codemirror_mode": {
    "name": "ipython",
    "version": 3
   },
   "file_extension": ".py",
   "mimetype": "text/x-python",
   "name": "python",
   "nbconvert_exporter": "python",
   "pygments_lexer": "ipython3",
   "version": "3.7.1"
  }
 },
 "nbformat": 4,
 "nbformat_minor": 2
}
