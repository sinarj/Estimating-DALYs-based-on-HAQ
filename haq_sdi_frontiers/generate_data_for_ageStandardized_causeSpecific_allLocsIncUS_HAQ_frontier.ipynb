{
 "cells": [
  {
   "cell_type": "markdown",
   "metadata": {},
   "source": [
    "## This generates the HAQ-SDI data to be used for the HAQ-Frontier Analysis. Current notebook is for all most detailed locations and the US and age standardized data.\n"
   ]
  },
  {
   "cell_type": "code",
   "execution_count": 1,
   "metadata": {},
   "outputs": [
    {
     "data": {
      "text/html": [
       "<style>.container { width:100% !important; }</style>"
      ],
      "text/plain": [
       "<IPython.core.display.HTML object>"
      ]
     },
     "metadata": {},
     "output_type": "display_data"
    }
   ],
   "source": [
    "from IPython.core.display import display, HTML\n",
    "display(HTML(\"<style>.container { width:100% !important; }</style>\"))"
   ]
  },
  {
   "cell_type": "code",
   "execution_count": 2,
   "metadata": {},
   "outputs": [],
   "source": [
    "import pandas as pd\n",
    "import numpy as np\n",
    "\n",
    "from numpy import sign, abs, log10\n",
    "from scipy.special import logit"
   ]
  },
  {
   "cell_type": "markdown",
   "metadata": {},
   "source": [
    "# SDI"
   ]
  },
  {
   "cell_type": "code",
   "execution_count": 3,
   "metadata": {},
   "outputs": [],
   "source": [
    "#sdi = pd.read_csv('J:\\\\Project\\\\Cost_Effectiveness\\\\DCPN_DataViz\\\\Data\\\\GBD_data\\\\covariates\\\\2018_04_20_sdi.csv')\n",
    "sdi = pd.read_csv('/snfs1/Project/Cost_Effectiveness/DCPN_DataViz/Data/GBD_data/covariates/2018_04_20_sdi.csv')"
   ]
  },
  {
   "cell_type": "code",
   "execution_count": 4,
   "metadata": {},
   "outputs": [
    {
     "data": {
      "text/html": [
       "<div>\n",
       "<style scoped>\n",
       "    .dataframe tbody tr th:only-of-type {\n",
       "        vertical-align: middle;\n",
       "    }\n",
       "\n",
       "    .dataframe tbody tr th {\n",
       "        vertical-align: top;\n",
       "    }\n",
       "\n",
       "    .dataframe thead th {\n",
       "        text-align: right;\n",
       "    }\n",
       "</style>\n",
       "<table border=\"1\" class=\"dataframe\">\n",
       "  <thead>\n",
       "    <tr style=\"text-align: right;\">\n",
       "      <th></th>\n",
       "      <th>Unnamed: 0</th>\n",
       "      <th>model_version_id</th>\n",
       "      <th>covariate_id</th>\n",
       "      <th>covariate_name_short</th>\n",
       "      <th>location_id</th>\n",
       "      <th>location_name</th>\n",
       "      <th>year_id</th>\n",
       "      <th>age_group_id</th>\n",
       "      <th>age_group_name</th>\n",
       "      <th>sex_id</th>\n",
       "      <th>mean_value</th>\n",
       "      <th>lower_value</th>\n",
       "      <th>upper_value</th>\n",
       "    </tr>\n",
       "  </thead>\n",
       "  <tbody>\n",
       "    <tr>\n",
       "      <th>0</th>\n",
       "      <td>1</td>\n",
       "      <td>23297</td>\n",
       "      <td>881</td>\n",
       "      <td>sdi</td>\n",
       "      <td>1</td>\n",
       "      <td>Global</td>\n",
       "      <td>2016</td>\n",
       "      <td>22</td>\n",
       "      <td>All Ages</td>\n",
       "      <td>3</td>\n",
       "      <td>0.649754</td>\n",
       "      <td>0.649754</td>\n",
       "      <td>0.649754</td>\n",
       "    </tr>\n",
       "    <tr>\n",
       "      <th>1</th>\n",
       "      <td>2</td>\n",
       "      <td>23297</td>\n",
       "      <td>881</td>\n",
       "      <td>sdi</td>\n",
       "      <td>4</td>\n",
       "      <td>Southeast Asia, East Asia, and Oceania</td>\n",
       "      <td>2016</td>\n",
       "      <td>22</td>\n",
       "      <td>All Ages</td>\n",
       "      <td>3</td>\n",
       "      <td>0.683368</td>\n",
       "      <td>0.683368</td>\n",
       "      <td>0.683368</td>\n",
       "    </tr>\n",
       "    <tr>\n",
       "      <th>2</th>\n",
       "      <td>3</td>\n",
       "      <td>23297</td>\n",
       "      <td>881</td>\n",
       "      <td>sdi</td>\n",
       "      <td>5</td>\n",
       "      <td>East Asia</td>\n",
       "      <td>2016</td>\n",
       "      <td>22</td>\n",
       "      <td>All Ages</td>\n",
       "      <td>3</td>\n",
       "      <td>0.712705</td>\n",
       "      <td>0.712705</td>\n",
       "      <td>0.712705</td>\n",
       "    </tr>\n",
       "    <tr>\n",
       "      <th>3</th>\n",
       "      <td>4</td>\n",
       "      <td>23297</td>\n",
       "      <td>881</td>\n",
       "      <td>sdi</td>\n",
       "      <td>6</td>\n",
       "      <td>China</td>\n",
       "      <td>2016</td>\n",
       "      <td>22</td>\n",
       "      <td>All Ages</td>\n",
       "      <td>3</td>\n",
       "      <td>0.712014</td>\n",
       "      <td>0.712014</td>\n",
       "      <td>0.712014</td>\n",
       "    </tr>\n",
       "    <tr>\n",
       "      <th>4</th>\n",
       "      <td>5</td>\n",
       "      <td>23297</td>\n",
       "      <td>881</td>\n",
       "      <td>sdi</td>\n",
       "      <td>7</td>\n",
       "      <td>North Korea</td>\n",
       "      <td>2016</td>\n",
       "      <td>22</td>\n",
       "      <td>All Ages</td>\n",
       "      <td>3</td>\n",
       "      <td>0.527559</td>\n",
       "      <td>0.527559</td>\n",
       "      <td>0.527559</td>\n",
       "    </tr>\n",
       "  </tbody>\n",
       "</table>\n",
       "</div>"
      ],
      "text/plain": [
       "   Unnamed: 0  model_version_id  covariate_id covariate_name_short  \\\n",
       "0           1             23297           881                  sdi   \n",
       "1           2             23297           881                  sdi   \n",
       "2           3             23297           881                  sdi   \n",
       "3           4             23297           881                  sdi   \n",
       "4           5             23297           881                  sdi   \n",
       "\n",
       "   location_id                           location_name  year_id  age_group_id  \\\n",
       "0            1                                  Global     2016            22   \n",
       "1            4  Southeast Asia, East Asia, and Oceania     2016            22   \n",
       "2            5                               East Asia     2016            22   \n",
       "3            6                                   China     2016            22   \n",
       "4            7                             North Korea     2016            22   \n",
       "\n",
       "  age_group_name  sex_id  mean_value  lower_value  upper_value  \n",
       "0       All Ages       3    0.649754     0.649754     0.649754  \n",
       "1       All Ages       3    0.683368     0.683368     0.683368  \n",
       "2       All Ages       3    0.712705     0.712705     0.712705  \n",
       "3       All Ages       3    0.712014     0.712014     0.712014  \n",
       "4       All Ages       3    0.527559     0.527559     0.527559  "
      ]
     },
     "execution_count": 4,
     "metadata": {},
     "output_type": "execute_result"
    }
   ],
   "source": [
    "sdi.head()"
   ]
  },
  {
   "cell_type": "code",
   "execution_count": 5,
   "metadata": {},
   "outputs": [
    {
     "data": {
      "text/plain": [
       "array(['All Ages'], dtype=object)"
      ]
     },
     "execution_count": 5,
     "metadata": {},
     "output_type": "execute_result"
    }
   ],
   "source": [
    "sdi['age_group_name'].unique()"
   ]
  },
  {
   "cell_type": "code",
   "execution_count": 6,
   "metadata": {},
   "outputs": [],
   "source": [
    "sdi_1 = sdi[['location_id', 'mean_value']]\n",
    "sdi_1 = sdi_1.rename(columns = {'mean_value': 'sdi'})"
   ]
  },
  {
   "cell_type": "code",
   "execution_count": 7,
   "metadata": {},
   "outputs": [
    {
     "data": {
      "text/plain": [
       "(919, 2)"
      ]
     },
     "execution_count": 7,
     "metadata": {},
     "output_type": "execute_result"
    }
   ],
   "source": [
    "sdi_1.shape"
   ]
  },
  {
   "cell_type": "code",
   "execution_count": 8,
   "metadata": {},
   "outputs": [],
   "source": [
    "sbp = sdi.boxplot(column='mean_value',by='age_group_name')"
   ]
  },
  {
   "cell_type": "code",
   "execution_count": 9,
   "metadata": {
    "scrolled": true
   },
   "outputs": [
    {
     "data": {
      "text/html": [
       "<div>\n",
       "<style scoped>\n",
       "    .dataframe tbody tr th:only-of-type {\n",
       "        vertical-align: middle;\n",
       "    }\n",
       "\n",
       "    .dataframe tbody tr th {\n",
       "        vertical-align: top;\n",
       "    }\n",
       "\n",
       "    .dataframe thead th {\n",
       "        text-align: right;\n",
       "    }\n",
       "</style>\n",
       "<table border=\"1\" class=\"dataframe\">\n",
       "  <thead>\n",
       "    <tr style=\"text-align: right;\">\n",
       "      <th></th>\n",
       "      <th>location_id</th>\n",
       "      <th>sdi</th>\n",
       "    </tr>\n",
       "  </thead>\n",
       "  <tbody>\n",
       "    <tr>\n",
       "      <th>0</th>\n",
       "      <td>1</td>\n",
       "      <td>0.649754</td>\n",
       "    </tr>\n",
       "    <tr>\n",
       "      <th>1</th>\n",
       "      <td>4</td>\n",
       "      <td>0.683368</td>\n",
       "    </tr>\n",
       "    <tr>\n",
       "      <th>2</th>\n",
       "      <td>5</td>\n",
       "      <td>0.712705</td>\n",
       "    </tr>\n",
       "    <tr>\n",
       "      <th>3</th>\n",
       "      <td>6</td>\n",
       "      <td>0.712014</td>\n",
       "    </tr>\n",
       "    <tr>\n",
       "      <th>4</th>\n",
       "      <td>7</td>\n",
       "      <td>0.527559</td>\n",
       "    </tr>\n",
       "  </tbody>\n",
       "</table>\n",
       "</div>"
      ],
      "text/plain": [
       "   location_id       sdi\n",
       "0            1  0.649754\n",
       "1            4  0.683368\n",
       "2            5  0.712705\n",
       "3            6  0.712014\n",
       "4            7  0.527559"
      ]
     },
     "execution_count": 9,
     "metadata": {},
     "output_type": "execute_result"
    }
   ],
   "source": [
    "sdi_1.head()"
   ]
  },
  {
   "cell_type": "code",
   "execution_count": 10,
   "metadata": {},
   "outputs": [
    {
     "data": {
      "text/html": [
       "<div>\n",
       "<style scoped>\n",
       "    .dataframe tbody tr th:only-of-type {\n",
       "        vertical-align: middle;\n",
       "    }\n",
       "\n",
       "    .dataframe tbody tr th {\n",
       "        vertical-align: top;\n",
       "    }\n",
       "\n",
       "    .dataframe thead th {\n",
       "        text-align: right;\n",
       "    }\n",
       "</style>\n",
       "<table border=\"1\" class=\"dataframe\">\n",
       "  <thead>\n",
       "    <tr style=\"text-align: right;\">\n",
       "      <th></th>\n",
       "      <th>location_id</th>\n",
       "      <th>sdi</th>\n",
       "    </tr>\n",
       "  </thead>\n",
       "  <tbody>\n",
       "    <tr>\n",
       "      <th>92</th>\n",
       "      <td>95</td>\n",
       "      <td>0.840568</td>\n",
       "    </tr>\n",
       "  </tbody>\n",
       "</table>\n",
       "</div>"
      ],
      "text/plain": [
       "    location_id       sdi\n",
       "92           95  0.840568"
      ]
     },
     "execution_count": 10,
     "metadata": {},
     "output_type": "execute_result"
    }
   ],
   "source": [
    "# Make sure UK is in data (this location is often problematic because it is usually disaggregated)\n",
    "sdi_1.query('location_id == 95')"
   ]
  },
  {
   "cell_type": "code",
   "execution_count": 11,
   "metadata": {},
   "outputs": [],
   "source": [
    "# logit transformation \n",
    "\n",
    "sdi_1['logit_sdi'] = logit(sdi_1['sdi'])"
   ]
  },
  {
   "cell_type": "code",
   "execution_count": 12,
   "metadata": {},
   "outputs": [
    {
     "data": {
      "text/html": [
       "<div>\n",
       "<style scoped>\n",
       "    .dataframe tbody tr th:only-of-type {\n",
       "        vertical-align: middle;\n",
       "    }\n",
       "\n",
       "    .dataframe tbody tr th {\n",
       "        vertical-align: top;\n",
       "    }\n",
       "\n",
       "    .dataframe thead th {\n",
       "        text-align: right;\n",
       "    }\n",
       "</style>\n",
       "<table border=\"1\" class=\"dataframe\">\n",
       "  <thead>\n",
       "    <tr style=\"text-align: right;\">\n",
       "      <th></th>\n",
       "      <th>location_id</th>\n",
       "      <th>sdi</th>\n",
       "      <th>logit_sdi</th>\n",
       "    </tr>\n",
       "  </thead>\n",
       "  <tbody>\n",
       "    <tr>\n",
       "      <th>0</th>\n",
       "      <td>1</td>\n",
       "      <td>0.649754</td>\n",
       "      <td>0.617958</td>\n",
       "    </tr>\n",
       "    <tr>\n",
       "      <th>1</th>\n",
       "      <td>4</td>\n",
       "      <td>0.683368</td>\n",
       "      <td>0.769294</td>\n",
       "    </tr>\n",
       "    <tr>\n",
       "      <th>2</th>\n",
       "      <td>5</td>\n",
       "      <td>0.712705</td>\n",
       "      <td>0.908556</td>\n",
       "    </tr>\n",
       "    <tr>\n",
       "      <th>3</th>\n",
       "      <td>6</td>\n",
       "      <td>0.712014</td>\n",
       "      <td>0.905187</td>\n",
       "    </tr>\n",
       "    <tr>\n",
       "      <th>4</th>\n",
       "      <td>7</td>\n",
       "      <td>0.527559</td>\n",
       "      <td>0.110348</td>\n",
       "    </tr>\n",
       "  </tbody>\n",
       "</table>\n",
       "</div>"
      ],
      "text/plain": [
       "   location_id       sdi  logit_sdi\n",
       "0            1  0.649754   0.617958\n",
       "1            4  0.683368   0.769294\n",
       "2            5  0.712705   0.908556\n",
       "3            6  0.712014   0.905187\n",
       "4            7  0.527559   0.110348"
      ]
     },
     "execution_count": 12,
     "metadata": {},
     "output_type": "execute_result"
    }
   ],
   "source": [
    "sdi_1.head()"
   ]
  },
  {
   "cell_type": "code",
   "execution_count": 13,
   "metadata": {},
   "outputs": [
    {
     "data": {
      "text/plain": [
       "(919, 3)"
      ]
     },
     "execution_count": 13,
     "metadata": {},
     "output_type": "execute_result"
    }
   ],
   "source": [
    "sdi_1.shape"
   ]
  },
  {
   "cell_type": "code",
   "execution_count": 14,
   "metadata": {},
   "outputs": [
    {
     "data": {
      "text/html": [
       "<div>\n",
       "<style scoped>\n",
       "    .dataframe tbody tr th:only-of-type {\n",
       "        vertical-align: middle;\n",
       "    }\n",
       "\n",
       "    .dataframe tbody tr th {\n",
       "        vertical-align: top;\n",
       "    }\n",
       "\n",
       "    .dataframe thead th {\n",
       "        text-align: right;\n",
       "    }\n",
       "</style>\n",
       "<table border=\"1\" class=\"dataframe\">\n",
       "  <thead>\n",
       "    <tr style=\"text-align: right;\">\n",
       "      <th></th>\n",
       "      <th>location_id</th>\n",
       "      <th>sdi</th>\n",
       "      <th>logit_sdi</th>\n",
       "    </tr>\n",
       "  </thead>\n",
       "  <tbody>\n",
       "    <tr>\n",
       "      <th>count</th>\n",
       "      <td>919.000000</td>\n",
       "      <td>919.000000</td>\n",
       "      <td>919.000000</td>\n",
       "    </tr>\n",
       "    <tr>\n",
       "      <th>mean</th>\n",
       "      <td>21679.757345</td>\n",
       "      <td>0.700113</td>\n",
       "      <td>0.955602</td>\n",
       "    </tr>\n",
       "    <tr>\n",
       "      <th>std</th>\n",
       "      <td>20759.983582</td>\n",
       "      <td>0.156078</td>\n",
       "      <td>0.783099</td>\n",
       "    </tr>\n",
       "    <tr>\n",
       "      <th>min</th>\n",
       "      <td>1.000000</td>\n",
       "      <td>0.194042</td>\n",
       "      <td>-1.423959</td>\n",
       "    </tr>\n",
       "    <tr>\n",
       "      <th>25%</th>\n",
       "      <td>484.500000</td>\n",
       "      <td>0.605473</td>\n",
       "      <td>0.428324</td>\n",
       "    </tr>\n",
       "    <tr>\n",
       "      <th>50%</th>\n",
       "      <td>4916.000000</td>\n",
       "      <td>0.731881</td>\n",
       "      <td>1.004186</td>\n",
       "    </tr>\n",
       "    <tr>\n",
       "      <th>75%</th>\n",
       "      <td>44701.500000</td>\n",
       "      <td>0.833526</td>\n",
       "      <td>1.610826</td>\n",
       "    </tr>\n",
       "    <tr>\n",
       "      <th>max</th>\n",
       "      <td>53432.000000</td>\n",
       "      <td>0.939852</td>\n",
       "      <td>2.748912</td>\n",
       "    </tr>\n",
       "  </tbody>\n",
       "</table>\n",
       "</div>"
      ],
      "text/plain": [
       "        location_id         sdi   logit_sdi\n",
       "count    919.000000  919.000000  919.000000\n",
       "mean   21679.757345    0.700113    0.955602\n",
       "std    20759.983582    0.156078    0.783099\n",
       "min        1.000000    0.194042   -1.423959\n",
       "25%      484.500000    0.605473    0.428324\n",
       "50%     4916.000000    0.731881    1.004186\n",
       "75%    44701.500000    0.833526    1.610826\n",
       "max    53432.000000    0.939852    2.748912"
      ]
     },
     "execution_count": 14,
     "metadata": {},
     "output_type": "execute_result"
    }
   ],
   "source": [
    "sdi_1.describe()"
   ]
  },
  {
   "cell_type": "markdown",
   "metadata": {},
   "source": [
    "# Age-standardized HAQ across all of the 823 most detailed locations for aggregated cause_id=100"
   ]
  },
  {
   "cell_type": "code",
   "execution_count": 15,
   "metadata": {},
   "outputs": [],
   "source": [
    "#haq_by_age = pd.read_csv('J:\\\\Project\\\\Cost_Effectiveness\\\\Access_to_care\\\\temp\\\\haq_by_age_7.20.18.csv')\n",
    "#haq_by_age = pd.read_csv('/snfs1/Project/Cost_Effectiveness/Access_to_care/temp/haq_by_age_7.20.18.csv')\n",
    "import pandas as pd\n",
    "haq_by_ageStd_cause_USonly = pd.read_csv('/share/scratch/projects/hssa/haq/HAQ_2017/haq_US/results/haq_2016_by_allcause_ageStd_USonly.csv')"
   ]
  },
  {
   "cell_type": "code",
   "execution_count": 16,
   "metadata": {},
   "outputs": [],
   "source": [
    "haq_by_ageStd_cause_USonly = haq_by_ageStd_cause_USonly.drop(columns=['index_mean', 'index_geom_mean'])"
   ]
  },
  {
   "cell_type": "code",
   "execution_count": 17,
   "metadata": {},
   "outputs": [
    {
     "data": {
      "text/plain": [
       "(1, 8)"
      ]
     },
     "execution_count": 17,
     "metadata": {},
     "output_type": "execute_result"
    }
   ],
   "source": [
    "haq_by_ageStd_cause_USonly.shape"
   ]
  },
  {
   "cell_type": "code",
   "execution_count": 18,
   "metadata": {},
   "outputs": [
    {
     "data": {
      "text/html": [
       "<div>\n",
       "<style scoped>\n",
       "    .dataframe tbody tr th:only-of-type {\n",
       "        vertical-align: middle;\n",
       "    }\n",
       "\n",
       "    .dataframe tbody tr th {\n",
       "        vertical-align: top;\n",
       "    }\n",
       "\n",
       "    .dataframe thead th {\n",
       "        text-align: right;\n",
       "    }\n",
       "</style>\n",
       "<table border=\"1\" class=\"dataframe\">\n",
       "  <thead>\n",
       "    <tr style=\"text-align: right;\">\n",
       "      <th></th>\n",
       "      <th>Unnamed: 0</th>\n",
       "      <th>location_id</th>\n",
       "      <th>age_group_id</th>\n",
       "      <th>year_id</th>\n",
       "      <th>cause_id</th>\n",
       "      <th>index</th>\n",
       "      <th>index_lval</th>\n",
       "      <th>index_uval</th>\n",
       "    </tr>\n",
       "  </thead>\n",
       "  <tbody>\n",
       "    <tr>\n",
       "      <th>0</th>\n",
       "      <td>1</td>\n",
       "      <td>102</td>\n",
       "      <td>27</td>\n",
       "      <td>2016</td>\n",
       "      <td>100</td>\n",
       "      <td>79.405234</td>\n",
       "      <td>78.752879</td>\n",
       "      <td>80.120362</td>\n",
       "    </tr>\n",
       "  </tbody>\n",
       "</table>\n",
       "</div>"
      ],
      "text/plain": [
       "   Unnamed: 0  location_id  age_group_id  year_id  cause_id      index  \\\n",
       "0           1          102            27     2016       100  79.405234   \n",
       "\n",
       "   index_lval  index_uval  \n",
       "0   78.752879   80.120362  "
      ]
     },
     "execution_count": 18,
     "metadata": {},
     "output_type": "execute_result"
    }
   ],
   "source": [
    "haq_by_ageStd_cause_USonly.head()"
   ]
  },
  {
   "cell_type": "code",
   "execution_count": 19,
   "metadata": {},
   "outputs": [
    {
     "data": {
      "text/html": [
       "<div>\n",
       "<style scoped>\n",
       "    .dataframe tbody tr th:only-of-type {\n",
       "        vertical-align: middle;\n",
       "    }\n",
       "\n",
       "    .dataframe tbody tr th {\n",
       "        vertical-align: top;\n",
       "    }\n",
       "\n",
       "    .dataframe thead th {\n",
       "        text-align: right;\n",
       "    }\n",
       "</style>\n",
       "<table border=\"1\" class=\"dataframe\">\n",
       "  <thead>\n",
       "    <tr style=\"text-align: right;\">\n",
       "      <th></th>\n",
       "      <th>Unnamed: 0</th>\n",
       "      <th>location_id</th>\n",
       "      <th>age_group_id</th>\n",
       "      <th>year_id</th>\n",
       "      <th>cause_id</th>\n",
       "      <th>index</th>\n",
       "      <th>index_lval</th>\n",
       "      <th>index_uval</th>\n",
       "    </tr>\n",
       "  </thead>\n",
       "  <tbody>\n",
       "    <tr>\n",
       "      <th>count</th>\n",
       "      <td>1.0</td>\n",
       "      <td>1.0</td>\n",
       "      <td>1.0</td>\n",
       "      <td>1.0</td>\n",
       "      <td>1.0</td>\n",
       "      <td>1.000000</td>\n",
       "      <td>1.000000</td>\n",
       "      <td>1.000000</td>\n",
       "    </tr>\n",
       "    <tr>\n",
       "      <th>mean</th>\n",
       "      <td>1.0</td>\n",
       "      <td>102.0</td>\n",
       "      <td>27.0</td>\n",
       "      <td>2016.0</td>\n",
       "      <td>100.0</td>\n",
       "      <td>79.405234</td>\n",
       "      <td>78.752879</td>\n",
       "      <td>80.120362</td>\n",
       "    </tr>\n",
       "    <tr>\n",
       "      <th>std</th>\n",
       "      <td>NaN</td>\n",
       "      <td>NaN</td>\n",
       "      <td>NaN</td>\n",
       "      <td>NaN</td>\n",
       "      <td>NaN</td>\n",
       "      <td>NaN</td>\n",
       "      <td>NaN</td>\n",
       "      <td>NaN</td>\n",
       "    </tr>\n",
       "    <tr>\n",
       "      <th>min</th>\n",
       "      <td>1.0</td>\n",
       "      <td>102.0</td>\n",
       "      <td>27.0</td>\n",
       "      <td>2016.0</td>\n",
       "      <td>100.0</td>\n",
       "      <td>79.405234</td>\n",
       "      <td>78.752879</td>\n",
       "      <td>80.120362</td>\n",
       "    </tr>\n",
       "    <tr>\n",
       "      <th>25%</th>\n",
       "      <td>1.0</td>\n",
       "      <td>102.0</td>\n",
       "      <td>27.0</td>\n",
       "      <td>2016.0</td>\n",
       "      <td>100.0</td>\n",
       "      <td>79.405234</td>\n",
       "      <td>78.752879</td>\n",
       "      <td>80.120362</td>\n",
       "    </tr>\n",
       "    <tr>\n",
       "      <th>50%</th>\n",
       "      <td>1.0</td>\n",
       "      <td>102.0</td>\n",
       "      <td>27.0</td>\n",
       "      <td>2016.0</td>\n",
       "      <td>100.0</td>\n",
       "      <td>79.405234</td>\n",
       "      <td>78.752879</td>\n",
       "      <td>80.120362</td>\n",
       "    </tr>\n",
       "    <tr>\n",
       "      <th>75%</th>\n",
       "      <td>1.0</td>\n",
       "      <td>102.0</td>\n",
       "      <td>27.0</td>\n",
       "      <td>2016.0</td>\n",
       "      <td>100.0</td>\n",
       "      <td>79.405234</td>\n",
       "      <td>78.752879</td>\n",
       "      <td>80.120362</td>\n",
       "    </tr>\n",
       "    <tr>\n",
       "      <th>max</th>\n",
       "      <td>1.0</td>\n",
       "      <td>102.0</td>\n",
       "      <td>27.0</td>\n",
       "      <td>2016.0</td>\n",
       "      <td>100.0</td>\n",
       "      <td>79.405234</td>\n",
       "      <td>78.752879</td>\n",
       "      <td>80.120362</td>\n",
       "    </tr>\n",
       "  </tbody>\n",
       "</table>\n",
       "</div>"
      ],
      "text/plain": [
       "       Unnamed: 0  location_id  age_group_id  year_id  cause_id      index  \\\n",
       "count         1.0          1.0           1.0      1.0       1.0   1.000000   \n",
       "mean          1.0        102.0          27.0   2016.0     100.0  79.405234   \n",
       "std           NaN          NaN           NaN      NaN       NaN        NaN   \n",
       "min           1.0        102.0          27.0   2016.0     100.0  79.405234   \n",
       "25%           1.0        102.0          27.0   2016.0     100.0  79.405234   \n",
       "50%           1.0        102.0          27.0   2016.0     100.0  79.405234   \n",
       "75%           1.0        102.0          27.0   2016.0     100.0  79.405234   \n",
       "max           1.0        102.0          27.0   2016.0     100.0  79.405234   \n",
       "\n",
       "       index_lval  index_uval  \n",
       "count    1.000000    1.000000  \n",
       "mean    78.752879   80.120362  \n",
       "std           NaN         NaN  \n",
       "min     78.752879   80.120362  \n",
       "25%     78.752879   80.120362  \n",
       "50%     78.752879   80.120362  \n",
       "75%     78.752879   80.120362  \n",
       "max     78.752879   80.120362  "
      ]
     },
     "execution_count": 19,
     "metadata": {},
     "output_type": "execute_result"
    }
   ],
   "source": [
    "haq_by_ageStd_cause_USonly.describe()"
   ]
  },
  {
   "cell_type": "code",
   "execution_count": 22,
   "metadata": {},
   "outputs": [],
   "source": [
    "# Log transformation\n",
    "haq_by_ageStd_cause_USonly['ln_haq'] = np.log(haq_by_ageStd_cause_USonly['index'])"
   ]
  },
  {
   "cell_type": "markdown",
   "metadata": {},
   "source": [
    "# Merge SDI and age-specific HAQ"
   ]
  },
  {
   "cell_type": "code",
   "execution_count": 23,
   "metadata": {},
   "outputs": [],
   "source": [
    "haq_sdi = pd.merge(sdi_1[['location_id', 'logit_sdi']],\\\n",
    "                   haq_by_ageStd_cause_USonly[['location_id', 'age_group_id', 'ln_haq']], on='location_id')"
   ]
  },
  {
   "cell_type": "code",
   "execution_count": 24,
   "metadata": {},
   "outputs": [
    {
     "data": {
      "text/plain": [
       "(1, 4)"
      ]
     },
     "execution_count": 24,
     "metadata": {},
     "output_type": "execute_result"
    }
   ],
   "source": [
    "haq_sdi.shape"
   ]
  },
  {
   "cell_type": "code",
   "execution_count": 25,
   "metadata": {},
   "outputs": [
    {
     "data": {
      "text/html": [
       "<div>\n",
       "<style scoped>\n",
       "    .dataframe tbody tr th:only-of-type {\n",
       "        vertical-align: middle;\n",
       "    }\n",
       "\n",
       "    .dataframe tbody tr th {\n",
       "        vertical-align: top;\n",
       "    }\n",
       "\n",
       "    .dataframe thead th {\n",
       "        text-align: right;\n",
       "    }\n",
       "</style>\n",
       "<table border=\"1\" class=\"dataframe\">\n",
       "  <thead>\n",
       "    <tr style=\"text-align: right;\">\n",
       "      <th></th>\n",
       "      <th>location_id</th>\n",
       "      <th>logit_sdi</th>\n",
       "      <th>age_group_id</th>\n",
       "      <th>ln_haq</th>\n",
       "    </tr>\n",
       "  </thead>\n",
       "  <tbody>\n",
       "    <tr>\n",
       "      <th>0</th>\n",
       "      <td>102</td>\n",
       "      <td>1.86831</td>\n",
       "      <td>27</td>\n",
       "      <td>4.374564</td>\n",
       "    </tr>\n",
       "  </tbody>\n",
       "</table>\n",
       "</div>"
      ],
      "text/plain": [
       "   location_id  logit_sdi  age_group_id    ln_haq\n",
       "0          102    1.86831            27  4.374564"
      ]
     },
     "execution_count": 25,
     "metadata": {},
     "output_type": "execute_result"
    }
   ],
   "source": [
    "haq_sdi.head()"
   ]
  },
  {
   "cell_type": "code",
   "execution_count": 26,
   "metadata": {},
   "outputs": [
    {
     "data": {
      "text/plain": [
       "array([27])"
      ]
     },
     "execution_count": 26,
     "metadata": {},
     "output_type": "execute_result"
    }
   ],
   "source": [
    "haq_sdi['age_group_id'].unique()"
   ]
  },
  {
   "cell_type": "code",
   "execution_count": 27,
   "metadata": {},
   "outputs": [
    {
     "data": {
      "text/plain": [
       "1"
      ]
     },
     "execution_count": 27,
     "metadata": {},
     "output_type": "execute_result"
    }
   ],
   "source": [
    "len(haq_sdi['location_id'].unique())"
   ]
  },
  {
   "cell_type": "code",
   "execution_count": 28,
   "metadata": {},
   "outputs": [],
   "source": [
    "haq_sdi_ageStd_allMostDetLocs = pd.read_csv('/ihme/homes/arjuns13/notebooks/Documents/Data/haq_sdi_ageStd_aggregatedCauses_allMostDetLocs.csv')"
   ]
  },
  {
   "cell_type": "code",
   "execution_count": 29,
   "metadata": {},
   "outputs": [],
   "source": [
    "haq_sdi_ageStd_allMostDetLocs = haq_sdi_ageStd_allMostDetLocs.drop(columns='Unnamed: 0')"
   ]
  },
  {
   "cell_type": "code",
   "execution_count": 31,
   "metadata": {},
   "outputs": [
    {
     "data": {
      "text/html": [
       "<div>\n",
       "<style scoped>\n",
       "    .dataframe tbody tr th:only-of-type {\n",
       "        vertical-align: middle;\n",
       "    }\n",
       "\n",
       "    .dataframe tbody tr th {\n",
       "        vertical-align: top;\n",
       "    }\n",
       "\n",
       "    .dataframe thead th {\n",
       "        text-align: right;\n",
       "    }\n",
       "</style>\n",
       "<table border=\"1\" class=\"dataframe\">\n",
       "  <thead>\n",
       "    <tr style=\"text-align: right;\">\n",
       "      <th></th>\n",
       "      <th>location_id</th>\n",
       "      <th>logit_sdi</th>\n",
       "      <th>age_group_id</th>\n",
       "      <th>ln_haq</th>\n",
       "    </tr>\n",
       "  </thead>\n",
       "  <tbody>\n",
       "    <tr>\n",
       "      <th>0</th>\n",
       "      <td>7</td>\n",
       "      <td>0.110348</td>\n",
       "      <td>27</td>\n",
       "      <td>3.792486</td>\n",
       "    </tr>\n",
       "    <tr>\n",
       "      <th>1</th>\n",
       "      <td>8</td>\n",
       "      <td>1.820419</td>\n",
       "      <td>27</td>\n",
       "      <td>4.367523</td>\n",
       "    </tr>\n",
       "    <tr>\n",
       "      <th>2</th>\n",
       "      <td>10</td>\n",
       "      <td>-0.093432</td>\n",
       "      <td>27</td>\n",
       "      <td>3.509703</td>\n",
       "    </tr>\n",
       "    <tr>\n",
       "      <th>3</th>\n",
       "      <td>12</td>\n",
       "      <td>0.046388</td>\n",
       "      <td>27</td>\n",
       "      <td>3.245486</td>\n",
       "    </tr>\n",
       "    <tr>\n",
       "      <th>4</th>\n",
       "      <td>13</td>\n",
       "      <td>1.137170</td>\n",
       "      <td>27</td>\n",
       "      <td>4.000794</td>\n",
       "    </tr>\n",
       "  </tbody>\n",
       "</table>\n",
       "</div>"
      ],
      "text/plain": [
       "   location_id  logit_sdi  age_group_id    ln_haq\n",
       "0            7   0.110348            27  3.792486\n",
       "1            8   1.820419            27  4.367523\n",
       "2           10  -0.093432            27  3.509703\n",
       "3           12   0.046388            27  3.245486\n",
       "4           13   1.137170            27  4.000794"
      ]
     },
     "execution_count": 31,
     "metadata": {},
     "output_type": "execute_result"
    }
   ],
   "source": [
    "haq_sdi_ageStd_allMostDetLocs.head()"
   ]
  },
  {
   "cell_type": "code",
   "execution_count": 32,
   "metadata": {},
   "outputs": [
    {
     "data": {
      "text/plain": [
       "(823, 4)"
      ]
     },
     "execution_count": 32,
     "metadata": {},
     "output_type": "execute_result"
    }
   ],
   "source": [
    "haq_sdi_ageStd_allMostDetLocs.shape"
   ]
  },
  {
   "cell_type": "code",
   "execution_count": 33,
   "metadata": {},
   "outputs": [],
   "source": [
    "haq_sdi_all = pd.concat([haq_sdi_ageStd_allMostDetLocs, haq_sdi])"
   ]
  },
  {
   "cell_type": "code",
   "execution_count": 34,
   "metadata": {},
   "outputs": [
    {
     "data": {
      "text/html": [
       "<div>\n",
       "<style scoped>\n",
       "    .dataframe tbody tr th:only-of-type {\n",
       "        vertical-align: middle;\n",
       "    }\n",
       "\n",
       "    .dataframe tbody tr th {\n",
       "        vertical-align: top;\n",
       "    }\n",
       "\n",
       "    .dataframe thead th {\n",
       "        text-align: right;\n",
       "    }\n",
       "</style>\n",
       "<table border=\"1\" class=\"dataframe\">\n",
       "  <thead>\n",
       "    <tr style=\"text-align: right;\">\n",
       "      <th></th>\n",
       "      <th>location_id</th>\n",
       "      <th>logit_sdi</th>\n",
       "      <th>age_group_id</th>\n",
       "      <th>ln_haq</th>\n",
       "    </tr>\n",
       "  </thead>\n",
       "  <tbody>\n",
       "    <tr>\n",
       "      <th>0</th>\n",
       "      <td>7</td>\n",
       "      <td>0.110348</td>\n",
       "      <td>27</td>\n",
       "      <td>3.792486</td>\n",
       "    </tr>\n",
       "    <tr>\n",
       "      <th>1</th>\n",
       "      <td>8</td>\n",
       "      <td>1.820419</td>\n",
       "      <td>27</td>\n",
       "      <td>4.367523</td>\n",
       "    </tr>\n",
       "    <tr>\n",
       "      <th>2</th>\n",
       "      <td>10</td>\n",
       "      <td>-0.093432</td>\n",
       "      <td>27</td>\n",
       "      <td>3.509703</td>\n",
       "    </tr>\n",
       "    <tr>\n",
       "      <th>3</th>\n",
       "      <td>12</td>\n",
       "      <td>0.046388</td>\n",
       "      <td>27</td>\n",
       "      <td>3.245486</td>\n",
       "    </tr>\n",
       "    <tr>\n",
       "      <th>4</th>\n",
       "      <td>13</td>\n",
       "      <td>1.137170</td>\n",
       "      <td>27</td>\n",
       "      <td>4.000794</td>\n",
       "    </tr>\n",
       "  </tbody>\n",
       "</table>\n",
       "</div>"
      ],
      "text/plain": [
       "   location_id  logit_sdi  age_group_id    ln_haq\n",
       "0            7   0.110348            27  3.792486\n",
       "1            8   1.820419            27  4.367523\n",
       "2           10  -0.093432            27  3.509703\n",
       "3           12   0.046388            27  3.245486\n",
       "4           13   1.137170            27  4.000794"
      ]
     },
     "execution_count": 34,
     "metadata": {},
     "output_type": "execute_result"
    }
   ],
   "source": [
    "haq_sdi_all.head()"
   ]
  },
  {
   "cell_type": "code",
   "execution_count": 35,
   "metadata": {},
   "outputs": [
    {
     "data": {
      "text/plain": [
       "(824, 4)"
      ]
     },
     "execution_count": 35,
     "metadata": {},
     "output_type": "execute_result"
    }
   ],
   "source": [
    "haq_sdi_all.shape"
   ]
  },
  {
   "cell_type": "code",
   "execution_count": 36,
   "metadata": {},
   "outputs": [],
   "source": [
    "# Write out data to CSV \n",
    "haq_sdi_all.to_csv('/ihme/homes/arjuns13/notebooks/Documents/Data/haq_sdi_ageStd_aggregatedCauses_allLocsIncUS.csv')"
   ]
  },
  {
   "cell_type": "code",
   "execution_count": 37,
   "metadata": {},
   "outputs": [],
   "source": [
    "haq_sdi_all.to_csv('J:\\\\Project\\\\Cost_Effectiveness\\\\NPC\\\\Regression_Analysis\\\\haq_sdi_ageStd_aggregatedCauses_allLocsIncUS.csv')"
   ]
  },
  {
   "cell_type": "code",
   "execution_count": null,
   "metadata": {},
   "outputs": [],
   "source": []
  }
 ],
 "metadata": {
  "kernelspec": {
   "display_name": "Python 3",
   "language": "python",
   "name": "python3"
  },
  "language_info": {
   "codemirror_mode": {
    "name": "ipython",
    "version": 3
   },
   "file_extension": ".py",
   "mimetype": "text/x-python",
   "name": "python",
   "nbconvert_exporter": "python",
   "pygments_lexer": "ipython3",
   "version": "3.7.1"
  }
 },
 "nbformat": 4,
 "nbformat_minor": 2
}
