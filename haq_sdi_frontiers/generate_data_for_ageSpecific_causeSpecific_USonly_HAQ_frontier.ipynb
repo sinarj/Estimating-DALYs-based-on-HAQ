{
 "cells": [
  {
   "cell_type": "markdown",
   "metadata": {},
   "source": [
    "## This generates the HAQ-SDI data to be used for the HAQ-Frontier Analysis. Current notebook is for all only the US and age specific data.\n"
   ]
  },
  {
   "cell_type": "code",
   "execution_count": 1,
   "metadata": {},
   "outputs": [
    {
     "data": {
      "text/html": [
       "<style>.container { width:100% !important; }</style>"
      ],
      "text/plain": [
       "<IPython.core.display.HTML object>"
      ]
     },
     "metadata": {},
     "output_type": "display_data"
    }
   ],
   "source": [
    "from IPython.core.display import display, HTML\n",
    "display(HTML(\"<style>.container { width:100% !important; }</style>\"))"
   ]
  },
  {
   "cell_type": "code",
   "execution_count": 2,
   "metadata": {},
   "outputs": [],
   "source": [
    "import pandas as pd\n",
    "import numpy as np\n",
    "\n",
    "from numpy import sign, abs, log10\n",
    "from scipy.special import logit"
   ]
  },
  {
   "cell_type": "markdown",
   "metadata": {},
   "source": [
    "# SDI"
   ]
  },
  {
   "cell_type": "code",
   "execution_count": 3,
   "metadata": {},
   "outputs": [],
   "source": [
    "#sdi = pd.read_csv('J:\\\\Project\\\\Cost_Effectiveness\\\\DCPN_DataViz\\\\Data\\\\GBD_data\\\\covariates\\\\2018_04_20_sdi.csv')\n",
    "sdi = pd.read_csv('/snfs1/Project/Cost_Effectiveness/DCPN_DataViz/Data/GBD_data/covariates/2018_04_20_sdi.csv')"
   ]
  },
  {
   "cell_type": "code",
   "execution_count": 4,
   "metadata": {},
   "outputs": [
    {
     "data": {
      "text/html": [
       "<div>\n",
       "<style scoped>\n",
       "    .dataframe tbody tr th:only-of-type {\n",
       "        vertical-align: middle;\n",
       "    }\n",
       "\n",
       "    .dataframe tbody tr th {\n",
       "        vertical-align: top;\n",
       "    }\n",
       "\n",
       "    .dataframe thead th {\n",
       "        text-align: right;\n",
       "    }\n",
       "</style>\n",
       "<table border=\"1\" class=\"dataframe\">\n",
       "  <thead>\n",
       "    <tr style=\"text-align: right;\">\n",
       "      <th></th>\n",
       "      <th>Unnamed: 0</th>\n",
       "      <th>model_version_id</th>\n",
       "      <th>covariate_id</th>\n",
       "      <th>covariate_name_short</th>\n",
       "      <th>location_id</th>\n",
       "      <th>location_name</th>\n",
       "      <th>year_id</th>\n",
       "      <th>age_group_id</th>\n",
       "      <th>age_group_name</th>\n",
       "      <th>sex_id</th>\n",
       "      <th>mean_value</th>\n",
       "      <th>lower_value</th>\n",
       "      <th>upper_value</th>\n",
       "    </tr>\n",
       "  </thead>\n",
       "  <tbody>\n",
       "    <tr>\n",
       "      <th>0</th>\n",
       "      <td>1</td>\n",
       "      <td>23297</td>\n",
       "      <td>881</td>\n",
       "      <td>sdi</td>\n",
       "      <td>1</td>\n",
       "      <td>Global</td>\n",
       "      <td>2016</td>\n",
       "      <td>22</td>\n",
       "      <td>All Ages</td>\n",
       "      <td>3</td>\n",
       "      <td>0.649754</td>\n",
       "      <td>0.649754</td>\n",
       "      <td>0.649754</td>\n",
       "    </tr>\n",
       "    <tr>\n",
       "      <th>1</th>\n",
       "      <td>2</td>\n",
       "      <td>23297</td>\n",
       "      <td>881</td>\n",
       "      <td>sdi</td>\n",
       "      <td>4</td>\n",
       "      <td>Southeast Asia, East Asia, and Oceania</td>\n",
       "      <td>2016</td>\n",
       "      <td>22</td>\n",
       "      <td>All Ages</td>\n",
       "      <td>3</td>\n",
       "      <td>0.683368</td>\n",
       "      <td>0.683368</td>\n",
       "      <td>0.683368</td>\n",
       "    </tr>\n",
       "    <tr>\n",
       "      <th>2</th>\n",
       "      <td>3</td>\n",
       "      <td>23297</td>\n",
       "      <td>881</td>\n",
       "      <td>sdi</td>\n",
       "      <td>5</td>\n",
       "      <td>East Asia</td>\n",
       "      <td>2016</td>\n",
       "      <td>22</td>\n",
       "      <td>All Ages</td>\n",
       "      <td>3</td>\n",
       "      <td>0.712705</td>\n",
       "      <td>0.712705</td>\n",
       "      <td>0.712705</td>\n",
       "    </tr>\n",
       "    <tr>\n",
       "      <th>3</th>\n",
       "      <td>4</td>\n",
       "      <td>23297</td>\n",
       "      <td>881</td>\n",
       "      <td>sdi</td>\n",
       "      <td>6</td>\n",
       "      <td>China</td>\n",
       "      <td>2016</td>\n",
       "      <td>22</td>\n",
       "      <td>All Ages</td>\n",
       "      <td>3</td>\n",
       "      <td>0.712014</td>\n",
       "      <td>0.712014</td>\n",
       "      <td>0.712014</td>\n",
       "    </tr>\n",
       "    <tr>\n",
       "      <th>4</th>\n",
       "      <td>5</td>\n",
       "      <td>23297</td>\n",
       "      <td>881</td>\n",
       "      <td>sdi</td>\n",
       "      <td>7</td>\n",
       "      <td>North Korea</td>\n",
       "      <td>2016</td>\n",
       "      <td>22</td>\n",
       "      <td>All Ages</td>\n",
       "      <td>3</td>\n",
       "      <td>0.527559</td>\n",
       "      <td>0.527559</td>\n",
       "      <td>0.527559</td>\n",
       "    </tr>\n",
       "  </tbody>\n",
       "</table>\n",
       "</div>"
      ],
      "text/plain": [
       "   Unnamed: 0  model_version_id  covariate_id covariate_name_short  \\\n",
       "0           1             23297           881                  sdi   \n",
       "1           2             23297           881                  sdi   \n",
       "2           3             23297           881                  sdi   \n",
       "3           4             23297           881                  sdi   \n",
       "4           5             23297           881                  sdi   \n",
       "\n",
       "   location_id                           location_name  year_id  age_group_id  \\\n",
       "0            1                                  Global     2016            22   \n",
       "1            4  Southeast Asia, East Asia, and Oceania     2016            22   \n",
       "2            5                               East Asia     2016            22   \n",
       "3            6                                   China     2016            22   \n",
       "4            7                             North Korea     2016            22   \n",
       "\n",
       "  age_group_name  sex_id  mean_value  lower_value  upper_value  \n",
       "0       All Ages       3    0.649754     0.649754     0.649754  \n",
       "1       All Ages       3    0.683368     0.683368     0.683368  \n",
       "2       All Ages       3    0.712705     0.712705     0.712705  \n",
       "3       All Ages       3    0.712014     0.712014     0.712014  \n",
       "4       All Ages       3    0.527559     0.527559     0.527559  "
      ]
     },
     "execution_count": 4,
     "metadata": {},
     "output_type": "execute_result"
    }
   ],
   "source": [
    "sdi.head()"
   ]
  },
  {
   "cell_type": "code",
   "execution_count": 5,
   "metadata": {},
   "outputs": [
    {
     "data": {
      "text/plain": [
       "array(['All Ages'], dtype=object)"
      ]
     },
     "execution_count": 5,
     "metadata": {},
     "output_type": "execute_result"
    }
   ],
   "source": [
    "sdi['age_group_name'].unique()"
   ]
  },
  {
   "cell_type": "code",
   "execution_count": 6,
   "metadata": {},
   "outputs": [],
   "source": [
    "sdi_1 = sdi[['location_id', 'mean_value']]\n",
    "sdi_1 = sdi_1.rename(columns = {'mean_value': 'sdi'})"
   ]
  },
  {
   "cell_type": "code",
   "execution_count": 7,
   "metadata": {},
   "outputs": [
    {
     "data": {
      "text/plain": [
       "(919, 2)"
      ]
     },
     "execution_count": 7,
     "metadata": {},
     "output_type": "execute_result"
    }
   ],
   "source": [
    "sdi_1.shape"
   ]
  },
  {
   "cell_type": "code",
   "execution_count": 8,
   "metadata": {},
   "outputs": [],
   "source": [
    "sbp = sdi.boxplot(column='mean_value',by='age_group_name')"
   ]
  },
  {
   "cell_type": "code",
   "execution_count": 9,
   "metadata": {
    "scrolled": true
   },
   "outputs": [
    {
     "data": {
      "text/html": [
       "<div>\n",
       "<style scoped>\n",
       "    .dataframe tbody tr th:only-of-type {\n",
       "        vertical-align: middle;\n",
       "    }\n",
       "\n",
       "    .dataframe tbody tr th {\n",
       "        vertical-align: top;\n",
       "    }\n",
       "\n",
       "    .dataframe thead th {\n",
       "        text-align: right;\n",
       "    }\n",
       "</style>\n",
       "<table border=\"1\" class=\"dataframe\">\n",
       "  <thead>\n",
       "    <tr style=\"text-align: right;\">\n",
       "      <th></th>\n",
       "      <th>location_id</th>\n",
       "      <th>sdi</th>\n",
       "    </tr>\n",
       "  </thead>\n",
       "  <tbody>\n",
       "    <tr>\n",
       "      <th>0</th>\n",
       "      <td>1</td>\n",
       "      <td>0.649754</td>\n",
       "    </tr>\n",
       "    <tr>\n",
       "      <th>1</th>\n",
       "      <td>4</td>\n",
       "      <td>0.683368</td>\n",
       "    </tr>\n",
       "    <tr>\n",
       "      <th>2</th>\n",
       "      <td>5</td>\n",
       "      <td>0.712705</td>\n",
       "    </tr>\n",
       "    <tr>\n",
       "      <th>3</th>\n",
       "      <td>6</td>\n",
       "      <td>0.712014</td>\n",
       "    </tr>\n",
       "    <tr>\n",
       "      <th>4</th>\n",
       "      <td>7</td>\n",
       "      <td>0.527559</td>\n",
       "    </tr>\n",
       "  </tbody>\n",
       "</table>\n",
       "</div>"
      ],
      "text/plain": [
       "   location_id       sdi\n",
       "0            1  0.649754\n",
       "1            4  0.683368\n",
       "2            5  0.712705\n",
       "3            6  0.712014\n",
       "4            7  0.527559"
      ]
     },
     "execution_count": 9,
     "metadata": {},
     "output_type": "execute_result"
    }
   ],
   "source": [
    "sdi_1.head()"
   ]
  },
  {
   "cell_type": "code",
   "execution_count": 10,
   "metadata": {},
   "outputs": [
    {
     "data": {
      "text/html": [
       "<div>\n",
       "<style scoped>\n",
       "    .dataframe tbody tr th:only-of-type {\n",
       "        vertical-align: middle;\n",
       "    }\n",
       "\n",
       "    .dataframe tbody tr th {\n",
       "        vertical-align: top;\n",
       "    }\n",
       "\n",
       "    .dataframe thead th {\n",
       "        text-align: right;\n",
       "    }\n",
       "</style>\n",
       "<table border=\"1\" class=\"dataframe\">\n",
       "  <thead>\n",
       "    <tr style=\"text-align: right;\">\n",
       "      <th></th>\n",
       "      <th>location_id</th>\n",
       "      <th>sdi</th>\n",
       "    </tr>\n",
       "  </thead>\n",
       "  <tbody>\n",
       "    <tr>\n",
       "      <th>92</th>\n",
       "      <td>95</td>\n",
       "      <td>0.840568</td>\n",
       "    </tr>\n",
       "  </tbody>\n",
       "</table>\n",
       "</div>"
      ],
      "text/plain": [
       "    location_id       sdi\n",
       "92           95  0.840568"
      ]
     },
     "execution_count": 10,
     "metadata": {},
     "output_type": "execute_result"
    }
   ],
   "source": [
    "# Make sure UK is in data (this location is often problematic because it is usually disaggregated)\n",
    "sdi_1.query('location_id == 95')"
   ]
  },
  {
   "cell_type": "code",
   "execution_count": 11,
   "metadata": {},
   "outputs": [],
   "source": [
    "# logit transformation \n",
    "\n",
    "sdi_1['logit_sdi'] = logit(sdi_1['sdi'])"
   ]
  },
  {
   "cell_type": "code",
   "execution_count": 12,
   "metadata": {},
   "outputs": [
    {
     "data": {
      "text/html": [
       "<div>\n",
       "<style scoped>\n",
       "    .dataframe tbody tr th:only-of-type {\n",
       "        vertical-align: middle;\n",
       "    }\n",
       "\n",
       "    .dataframe tbody tr th {\n",
       "        vertical-align: top;\n",
       "    }\n",
       "\n",
       "    .dataframe thead th {\n",
       "        text-align: right;\n",
       "    }\n",
       "</style>\n",
       "<table border=\"1\" class=\"dataframe\">\n",
       "  <thead>\n",
       "    <tr style=\"text-align: right;\">\n",
       "      <th></th>\n",
       "      <th>location_id</th>\n",
       "      <th>sdi</th>\n",
       "      <th>logit_sdi</th>\n",
       "    </tr>\n",
       "  </thead>\n",
       "  <tbody>\n",
       "    <tr>\n",
       "      <th>0</th>\n",
       "      <td>1</td>\n",
       "      <td>0.649754</td>\n",
       "      <td>0.617958</td>\n",
       "    </tr>\n",
       "    <tr>\n",
       "      <th>1</th>\n",
       "      <td>4</td>\n",
       "      <td>0.683368</td>\n",
       "      <td>0.769294</td>\n",
       "    </tr>\n",
       "    <tr>\n",
       "      <th>2</th>\n",
       "      <td>5</td>\n",
       "      <td>0.712705</td>\n",
       "      <td>0.908556</td>\n",
       "    </tr>\n",
       "    <tr>\n",
       "      <th>3</th>\n",
       "      <td>6</td>\n",
       "      <td>0.712014</td>\n",
       "      <td>0.905187</td>\n",
       "    </tr>\n",
       "    <tr>\n",
       "      <th>4</th>\n",
       "      <td>7</td>\n",
       "      <td>0.527559</td>\n",
       "      <td>0.110348</td>\n",
       "    </tr>\n",
       "  </tbody>\n",
       "</table>\n",
       "</div>"
      ],
      "text/plain": [
       "   location_id       sdi  logit_sdi\n",
       "0            1  0.649754   0.617958\n",
       "1            4  0.683368   0.769294\n",
       "2            5  0.712705   0.908556\n",
       "3            6  0.712014   0.905187\n",
       "4            7  0.527559   0.110348"
      ]
     },
     "execution_count": 12,
     "metadata": {},
     "output_type": "execute_result"
    }
   ],
   "source": [
    "sdi_1.head()"
   ]
  },
  {
   "cell_type": "code",
   "execution_count": 13,
   "metadata": {},
   "outputs": [
    {
     "data": {
      "text/plain": [
       "(919, 3)"
      ]
     },
     "execution_count": 13,
     "metadata": {},
     "output_type": "execute_result"
    }
   ],
   "source": [
    "sdi_1.shape"
   ]
  },
  {
   "cell_type": "code",
   "execution_count": 14,
   "metadata": {},
   "outputs": [
    {
     "data": {
      "text/html": [
       "<div>\n",
       "<style scoped>\n",
       "    .dataframe tbody tr th:only-of-type {\n",
       "        vertical-align: middle;\n",
       "    }\n",
       "\n",
       "    .dataframe tbody tr th {\n",
       "        vertical-align: top;\n",
       "    }\n",
       "\n",
       "    .dataframe thead th {\n",
       "        text-align: right;\n",
       "    }\n",
       "</style>\n",
       "<table border=\"1\" class=\"dataframe\">\n",
       "  <thead>\n",
       "    <tr style=\"text-align: right;\">\n",
       "      <th></th>\n",
       "      <th>location_id</th>\n",
       "      <th>sdi</th>\n",
       "      <th>logit_sdi</th>\n",
       "    </tr>\n",
       "  </thead>\n",
       "  <tbody>\n",
       "    <tr>\n",
       "      <th>count</th>\n",
       "      <td>919.000000</td>\n",
       "      <td>919.000000</td>\n",
       "      <td>919.000000</td>\n",
       "    </tr>\n",
       "    <tr>\n",
       "      <th>mean</th>\n",
       "      <td>21679.757345</td>\n",
       "      <td>0.700113</td>\n",
       "      <td>0.955602</td>\n",
       "    </tr>\n",
       "    <tr>\n",
       "      <th>std</th>\n",
       "      <td>20759.983582</td>\n",
       "      <td>0.156078</td>\n",
       "      <td>0.783099</td>\n",
       "    </tr>\n",
       "    <tr>\n",
       "      <th>min</th>\n",
       "      <td>1.000000</td>\n",
       "      <td>0.194042</td>\n",
       "      <td>-1.423959</td>\n",
       "    </tr>\n",
       "    <tr>\n",
       "      <th>25%</th>\n",
       "      <td>484.500000</td>\n",
       "      <td>0.605473</td>\n",
       "      <td>0.428324</td>\n",
       "    </tr>\n",
       "    <tr>\n",
       "      <th>50%</th>\n",
       "      <td>4916.000000</td>\n",
       "      <td>0.731881</td>\n",
       "      <td>1.004186</td>\n",
       "    </tr>\n",
       "    <tr>\n",
       "      <th>75%</th>\n",
       "      <td>44701.500000</td>\n",
       "      <td>0.833526</td>\n",
       "      <td>1.610826</td>\n",
       "    </tr>\n",
       "    <tr>\n",
       "      <th>max</th>\n",
       "      <td>53432.000000</td>\n",
       "      <td>0.939852</td>\n",
       "      <td>2.748912</td>\n",
       "    </tr>\n",
       "  </tbody>\n",
       "</table>\n",
       "</div>"
      ],
      "text/plain": [
       "        location_id         sdi   logit_sdi\n",
       "count    919.000000  919.000000  919.000000\n",
       "mean   21679.757345    0.700113    0.955602\n",
       "std    20759.983582    0.156078    0.783099\n",
       "min        1.000000    0.194042   -1.423959\n",
       "25%      484.500000    0.605473    0.428324\n",
       "50%     4916.000000    0.731881    1.004186\n",
       "75%    44701.500000    0.833526    1.610826\n",
       "max    53432.000000    0.939852    2.748912"
      ]
     },
     "execution_count": 14,
     "metadata": {},
     "output_type": "execute_result"
    }
   ],
   "source": [
    "sdi_1.describe()"
   ]
  },
  {
   "cell_type": "markdown",
   "metadata": {},
   "source": [
    "# Age-specific HAQ across all of the 823 most detailed locations, for aggregated cause_id 100"
   ]
  },
  {
   "cell_type": "code",
   "execution_count": 23,
   "metadata": {},
   "outputs": [],
   "source": [
    "#haq_by_age = pd.read_csv('J:\\\\Project\\\\Cost_Effectiveness\\\\Access_to_care\\\\temp\\\\haq_by_age_7.20.18.csv')\n",
    "#haq_by_age = pd.read_csv('/snfs1/Project/Cost_Effectiveness/Access_to_care/temp/haq_by_age_7.20.18.csv')\n",
    "\n",
    "#haq_by_age_cause_allMostDetLocs = pd.read_csv('/share/scratch/projects/hssa/haq/HAQ_2017/haq_US/results/haq_2016_bycauseage_allMostDetLocs.csv')\n",
    "\n",
    "haq_by_age_cause_USonly = pd.read_csv('/share/scratch/projects/hssa/haq/HAQ_2017/haq_US/results/haq_2016_by_allcause_age_USonly.csv')"
   ]
  },
  {
   "cell_type": "code",
   "execution_count": 24,
   "metadata": {},
   "outputs": [],
   "source": [
    "haq_by_age_cause_USonly = haq_by_age_cause_USonly.drop(columns=['index_mean', 'index_geom_mean'])"
   ]
  },
  {
   "cell_type": "code",
   "execution_count": 25,
   "metadata": {},
   "outputs": [
    {
     "data": {
      "text/plain": [
       "(18, 8)"
      ]
     },
     "execution_count": 25,
     "metadata": {},
     "output_type": "execute_result"
    }
   ],
   "source": [
    "haq_by_age_cause_USonly.shape"
   ]
  },
  {
   "cell_type": "code",
   "execution_count": 26,
   "metadata": {},
   "outputs": [
    {
     "data": {
      "text/html": [
       "<div>\n",
       "<style scoped>\n",
       "    .dataframe tbody tr th:only-of-type {\n",
       "        vertical-align: middle;\n",
       "    }\n",
       "\n",
       "    .dataframe tbody tr th {\n",
       "        vertical-align: top;\n",
       "    }\n",
       "\n",
       "    .dataframe thead th {\n",
       "        text-align: right;\n",
       "    }\n",
       "</style>\n",
       "<table border=\"1\" class=\"dataframe\">\n",
       "  <thead>\n",
       "    <tr style=\"text-align: right;\">\n",
       "      <th></th>\n",
       "      <th>Unnamed: 0</th>\n",
       "      <th>location_id</th>\n",
       "      <th>age_group_id</th>\n",
       "      <th>year_id</th>\n",
       "      <th>cause_id</th>\n",
       "      <th>index</th>\n",
       "      <th>index_lval</th>\n",
       "      <th>index_uval</th>\n",
       "    </tr>\n",
       "  </thead>\n",
       "  <tbody>\n",
       "    <tr>\n",
       "      <th>0</th>\n",
       "      <td>1</td>\n",
       "      <td>102</td>\n",
       "      <td>2</td>\n",
       "      <td>2016</td>\n",
       "      <td>100</td>\n",
       "      <td>78.971660</td>\n",
       "      <td>75.380955</td>\n",
       "      <td>80.621566</td>\n",
       "    </tr>\n",
       "    <tr>\n",
       "      <th>1</th>\n",
       "      <td>2</td>\n",
       "      <td>102</td>\n",
       "      <td>3</td>\n",
       "      <td>2016</td>\n",
       "      <td>100</td>\n",
       "      <td>79.446642</td>\n",
       "      <td>76.748938</td>\n",
       "      <td>80.795963</td>\n",
       "    </tr>\n",
       "    <tr>\n",
       "      <th>2</th>\n",
       "      <td>3</td>\n",
       "      <td>102</td>\n",
       "      <td>4</td>\n",
       "      <td>2016</td>\n",
       "      <td>100</td>\n",
       "      <td>73.535698</td>\n",
       "      <td>72.722747</td>\n",
       "      <td>75.656079</td>\n",
       "    </tr>\n",
       "    <tr>\n",
       "      <th>3</th>\n",
       "      <td>4</td>\n",
       "      <td>102</td>\n",
       "      <td>5</td>\n",
       "      <td>2016</td>\n",
       "      <td>100</td>\n",
       "      <td>84.630485</td>\n",
       "      <td>84.060250</td>\n",
       "      <td>85.330881</td>\n",
       "    </tr>\n",
       "    <tr>\n",
       "      <th>4</th>\n",
       "      <td>5</td>\n",
       "      <td>102</td>\n",
       "      <td>6</td>\n",
       "      <td>2016</td>\n",
       "      <td>100</td>\n",
       "      <td>85.847864</td>\n",
       "      <td>85.477355</td>\n",
       "      <td>86.168309</td>\n",
       "    </tr>\n",
       "    <tr>\n",
       "      <th>5</th>\n",
       "      <td>6</td>\n",
       "      <td>102</td>\n",
       "      <td>7</td>\n",
       "      <td>2016</td>\n",
       "      <td>100</td>\n",
       "      <td>85.069683</td>\n",
       "      <td>84.678775</td>\n",
       "      <td>85.485404</td>\n",
       "    </tr>\n",
       "    <tr>\n",
       "      <th>6</th>\n",
       "      <td>7</td>\n",
       "      <td>102</td>\n",
       "      <td>8</td>\n",
       "      <td>2016</td>\n",
       "      <td>100</td>\n",
       "      <td>90.206195</td>\n",
       "      <td>89.680587</td>\n",
       "      <td>90.752029</td>\n",
       "    </tr>\n",
       "    <tr>\n",
       "      <th>7</th>\n",
       "      <td>8</td>\n",
       "      <td>102</td>\n",
       "      <td>9</td>\n",
       "      <td>2016</td>\n",
       "      <td>100</td>\n",
       "      <td>88.536150</td>\n",
       "      <td>87.853110</td>\n",
       "      <td>89.192175</td>\n",
       "    </tr>\n",
       "    <tr>\n",
       "      <th>8</th>\n",
       "      <td>9</td>\n",
       "      <td>102</td>\n",
       "      <td>10</td>\n",
       "      <td>2016</td>\n",
       "      <td>100</td>\n",
       "      <td>86.440255</td>\n",
       "      <td>85.824575</td>\n",
       "      <td>87.034421</td>\n",
       "    </tr>\n",
       "    <tr>\n",
       "      <th>9</th>\n",
       "      <td>10</td>\n",
       "      <td>102</td>\n",
       "      <td>11</td>\n",
       "      <td>2016</td>\n",
       "      <td>100</td>\n",
       "      <td>84.794361</td>\n",
       "      <td>84.188171</td>\n",
       "      <td>85.422111</td>\n",
       "    </tr>\n",
       "    <tr>\n",
       "      <th>10</th>\n",
       "      <td>11</td>\n",
       "      <td>102</td>\n",
       "      <td>12</td>\n",
       "      <td>2016</td>\n",
       "      <td>100</td>\n",
       "      <td>84.208077</td>\n",
       "      <td>83.516824</td>\n",
       "      <td>84.894546</td>\n",
       "    </tr>\n",
       "    <tr>\n",
       "      <th>11</th>\n",
       "      <td>12</td>\n",
       "      <td>102</td>\n",
       "      <td>13</td>\n",
       "      <td>2016</td>\n",
       "      <td>100</td>\n",
       "      <td>84.511022</td>\n",
       "      <td>83.833358</td>\n",
       "      <td>85.254157</td>\n",
       "    </tr>\n",
       "    <tr>\n",
       "      <th>12</th>\n",
       "      <td>13</td>\n",
       "      <td>102</td>\n",
       "      <td>14</td>\n",
       "      <td>2016</td>\n",
       "      <td>100</td>\n",
       "      <td>82.311851</td>\n",
       "      <td>81.624033</td>\n",
       "      <td>83.066275</td>\n",
       "    </tr>\n",
       "    <tr>\n",
       "      <th>13</th>\n",
       "      <td>14</td>\n",
       "      <td>102</td>\n",
       "      <td>15</td>\n",
       "      <td>2016</td>\n",
       "      <td>100</td>\n",
       "      <td>82.845646</td>\n",
       "      <td>81.967679</td>\n",
       "      <td>83.797654</td>\n",
       "    </tr>\n",
       "    <tr>\n",
       "      <th>14</th>\n",
       "      <td>15</td>\n",
       "      <td>102</td>\n",
       "      <td>16</td>\n",
       "      <td>2016</td>\n",
       "      <td>100</td>\n",
       "      <td>82.181221</td>\n",
       "      <td>81.351733</td>\n",
       "      <td>83.124810</td>\n",
       "    </tr>\n",
       "    <tr>\n",
       "      <th>15</th>\n",
       "      <td>16</td>\n",
       "      <td>102</td>\n",
       "      <td>17</td>\n",
       "      <td>2016</td>\n",
       "      <td>100</td>\n",
       "      <td>82.790427</td>\n",
       "      <td>81.886664</td>\n",
       "      <td>83.626086</td>\n",
       "    </tr>\n",
       "    <tr>\n",
       "      <th>16</th>\n",
       "      <td>17</td>\n",
       "      <td>102</td>\n",
       "      <td>18</td>\n",
       "      <td>2016</td>\n",
       "      <td>100</td>\n",
       "      <td>84.749825</td>\n",
       "      <td>83.873233</td>\n",
       "      <td>85.639508</td>\n",
       "    </tr>\n",
       "    <tr>\n",
       "      <th>17</th>\n",
       "      <td>18</td>\n",
       "      <td>102</td>\n",
       "      <td>19</td>\n",
       "      <td>2016</td>\n",
       "      <td>100</td>\n",
       "      <td>86.836344</td>\n",
       "      <td>85.944515</td>\n",
       "      <td>87.738998</td>\n",
       "    </tr>\n",
       "  </tbody>\n",
       "</table>\n",
       "</div>"
      ],
      "text/plain": [
       "    Unnamed: 0  location_id  age_group_id  year_id  cause_id      index  \\\n",
       "0            1          102             2     2016       100  78.971660   \n",
       "1            2          102             3     2016       100  79.446642   \n",
       "2            3          102             4     2016       100  73.535698   \n",
       "3            4          102             5     2016       100  84.630485   \n",
       "4            5          102             6     2016       100  85.847864   \n",
       "5            6          102             7     2016       100  85.069683   \n",
       "6            7          102             8     2016       100  90.206195   \n",
       "7            8          102             9     2016       100  88.536150   \n",
       "8            9          102            10     2016       100  86.440255   \n",
       "9           10          102            11     2016       100  84.794361   \n",
       "10          11          102            12     2016       100  84.208077   \n",
       "11          12          102            13     2016       100  84.511022   \n",
       "12          13          102            14     2016       100  82.311851   \n",
       "13          14          102            15     2016       100  82.845646   \n",
       "14          15          102            16     2016       100  82.181221   \n",
       "15          16          102            17     2016       100  82.790427   \n",
       "16          17          102            18     2016       100  84.749825   \n",
       "17          18          102            19     2016       100  86.836344   \n",
       "\n",
       "    index_lval  index_uval  \n",
       "0    75.380955   80.621566  \n",
       "1    76.748938   80.795963  \n",
       "2    72.722747   75.656079  \n",
       "3    84.060250   85.330881  \n",
       "4    85.477355   86.168309  \n",
       "5    84.678775   85.485404  \n",
       "6    89.680587   90.752029  \n",
       "7    87.853110   89.192175  \n",
       "8    85.824575   87.034421  \n",
       "9    84.188171   85.422111  \n",
       "10   83.516824   84.894546  \n",
       "11   83.833358   85.254157  \n",
       "12   81.624033   83.066275  \n",
       "13   81.967679   83.797654  \n",
       "14   81.351733   83.124810  \n",
       "15   81.886664   83.626086  \n",
       "16   83.873233   85.639508  \n",
       "17   85.944515   87.738998  "
      ]
     },
     "execution_count": 26,
     "metadata": {},
     "output_type": "execute_result"
    }
   ],
   "source": [
    "haq_by_age_cause_USonly"
   ]
  },
  {
   "cell_type": "code",
   "execution_count": 27,
   "metadata": {},
   "outputs": [
    {
     "data": {
      "text/html": [
       "<div>\n",
       "<style scoped>\n",
       "    .dataframe tbody tr th:only-of-type {\n",
       "        vertical-align: middle;\n",
       "    }\n",
       "\n",
       "    .dataframe tbody tr th {\n",
       "        vertical-align: top;\n",
       "    }\n",
       "\n",
       "    .dataframe thead th {\n",
       "        text-align: right;\n",
       "    }\n",
       "</style>\n",
       "<table border=\"1\" class=\"dataframe\">\n",
       "  <thead>\n",
       "    <tr style=\"text-align: right;\">\n",
       "      <th></th>\n",
       "      <th>Unnamed: 0</th>\n",
       "      <th>location_id</th>\n",
       "      <th>age_group_id</th>\n",
       "      <th>year_id</th>\n",
       "      <th>cause_id</th>\n",
       "      <th>index</th>\n",
       "      <th>index_lval</th>\n",
       "      <th>index_uval</th>\n",
       "    </tr>\n",
       "  </thead>\n",
       "  <tbody>\n",
       "    <tr>\n",
       "      <th>count</th>\n",
       "      <td>18.000000</td>\n",
       "      <td>18.0</td>\n",
       "      <td>18.000000</td>\n",
       "      <td>18.0</td>\n",
       "      <td>18.0</td>\n",
       "      <td>18.000000</td>\n",
       "      <td>18.000000</td>\n",
       "      <td>18.000000</td>\n",
       "    </tr>\n",
       "    <tr>\n",
       "      <th>mean</th>\n",
       "      <td>9.500000</td>\n",
       "      <td>102.0</td>\n",
       "      <td>10.500000</td>\n",
       "      <td>2016.0</td>\n",
       "      <td>100.0</td>\n",
       "      <td>83.772967</td>\n",
       "      <td>82.811861</td>\n",
       "      <td>84.644498</td>\n",
       "    </tr>\n",
       "    <tr>\n",
       "      <th>std</th>\n",
       "      <td>5.338539</td>\n",
       "      <td>0.0</td>\n",
       "      <td>5.338539</td>\n",
       "      <td>0.0</td>\n",
       "      <td>0.0</td>\n",
       "      <td>3.781470</td>\n",
       "      <td>4.250070</td>\n",
       "      <td>3.405373</td>\n",
       "    </tr>\n",
       "    <tr>\n",
       "      <th>min</th>\n",
       "      <td>1.000000</td>\n",
       "      <td>102.0</td>\n",
       "      <td>2.000000</td>\n",
       "      <td>2016.0</td>\n",
       "      <td>100.0</td>\n",
       "      <td>73.535698</td>\n",
       "      <td>72.722747</td>\n",
       "      <td>75.656079</td>\n",
       "    </tr>\n",
       "    <tr>\n",
       "      <th>25%</th>\n",
       "      <td>5.250000</td>\n",
       "      <td>102.0</td>\n",
       "      <td>6.250000</td>\n",
       "      <td>2016.0</td>\n",
       "      <td>100.0</td>\n",
       "      <td>82.431495</td>\n",
       "      <td>81.689691</td>\n",
       "      <td>83.250129</td>\n",
       "    </tr>\n",
       "    <tr>\n",
       "      <th>50%</th>\n",
       "      <td>9.500000</td>\n",
       "      <td>102.0</td>\n",
       "      <td>10.500000</td>\n",
       "      <td>2016.0</td>\n",
       "      <td>100.0</td>\n",
       "      <td>84.570754</td>\n",
       "      <td>83.853295</td>\n",
       "      <td>85.292519</td>\n",
       "    </tr>\n",
       "    <tr>\n",
       "      <th>75%</th>\n",
       "      <td>13.750000</td>\n",
       "      <td>102.0</td>\n",
       "      <td>14.750000</td>\n",
       "      <td>2016.0</td>\n",
       "      <td>100.0</td>\n",
       "      <td>85.653319</td>\n",
       "      <td>85.277710</td>\n",
       "      <td>86.036109</td>\n",
       "    </tr>\n",
       "    <tr>\n",
       "      <th>max</th>\n",
       "      <td>18.000000</td>\n",
       "      <td>102.0</td>\n",
       "      <td>19.000000</td>\n",
       "      <td>2016.0</td>\n",
       "      <td>100.0</td>\n",
       "      <td>90.206195</td>\n",
       "      <td>89.680587</td>\n",
       "      <td>90.752029</td>\n",
       "    </tr>\n",
       "  </tbody>\n",
       "</table>\n",
       "</div>"
      ],
      "text/plain": [
       "       Unnamed: 0  location_id  age_group_id  year_id  cause_id      index  \\\n",
       "count   18.000000         18.0     18.000000     18.0      18.0  18.000000   \n",
       "mean     9.500000        102.0     10.500000   2016.0     100.0  83.772967   \n",
       "std      5.338539          0.0      5.338539      0.0       0.0   3.781470   \n",
       "min      1.000000        102.0      2.000000   2016.0     100.0  73.535698   \n",
       "25%      5.250000        102.0      6.250000   2016.0     100.0  82.431495   \n",
       "50%      9.500000        102.0     10.500000   2016.0     100.0  84.570754   \n",
       "75%     13.750000        102.0     14.750000   2016.0     100.0  85.653319   \n",
       "max     18.000000        102.0     19.000000   2016.0     100.0  90.206195   \n",
       "\n",
       "       index_lval  index_uval  \n",
       "count   18.000000   18.000000  \n",
       "mean    82.811861   84.644498  \n",
       "std      4.250070    3.405373  \n",
       "min     72.722747   75.656079  \n",
       "25%     81.689691   83.250129  \n",
       "50%     83.853295   85.292519  \n",
       "75%     85.277710   86.036109  \n",
       "max     89.680587   90.752029  "
      ]
     },
     "execution_count": 27,
     "metadata": {},
     "output_type": "execute_result"
    }
   ],
   "source": [
    "haq_by_age_cause_USonly.describe()"
   ]
  },
  {
   "cell_type": "markdown",
   "metadata": {},
   "source": [
    "### For the 823 most detailed locs"
   ]
  },
  {
   "cell_type": "code",
   "execution_count": 28,
   "metadata": {},
   "outputs": [
    {
     "data": {
      "text/plain": [
       "1"
      ]
     },
     "execution_count": 28,
     "metadata": {},
     "output_type": "execute_result"
    }
   ],
   "source": [
    "len(haq_by_age_cause_USonly['location_id'].unique())"
   ]
  },
  {
   "cell_type": "markdown",
   "metadata": {},
   "source": [
    "### All 18 age groups"
   ]
  },
  {
   "cell_type": "code",
   "execution_count": 29,
   "metadata": {},
   "outputs": [
    {
     "data": {
      "text/plain": [
       "18"
      ]
     },
     "execution_count": 29,
     "metadata": {},
     "output_type": "execute_result"
    }
   ],
   "source": [
    "len(haq_by_age_cause_USonly['age_group_id'].unique())"
   ]
  },
  {
   "cell_type": "markdown",
   "metadata": {},
   "source": [
    "### cause_id=100"
   ]
  },
  {
   "cell_type": "code",
   "execution_count": 30,
   "metadata": {},
   "outputs": [
    {
     "data": {
      "text/plain": [
       "1"
      ]
     },
     "execution_count": 30,
     "metadata": {},
     "output_type": "execute_result"
    }
   ],
   "source": [
    "len(haq_by_age_cause_USonly['cause_id'].unique())"
   ]
  },
  {
   "cell_type": "code",
   "execution_count": 31,
   "metadata": {},
   "outputs": [],
   "source": [
    "# Log transformation\n",
    "haq_by_age_cause_USonly['ln_haq'] = np.log(haq_by_age_cause_USonly['index'])"
   ]
  },
  {
   "cell_type": "code",
   "execution_count": 32,
   "metadata": {},
   "outputs": [
    {
     "data": {
      "text/plain": [
       "(18, 9)"
      ]
     },
     "execution_count": 32,
     "metadata": {},
     "output_type": "execute_result"
    }
   ],
   "source": [
    "haq_by_age_cause_USonly.shape"
   ]
  },
  {
   "cell_type": "code",
   "execution_count": 33,
   "metadata": {},
   "outputs": [
    {
     "data": {
      "text/html": [
       "<div>\n",
       "<style scoped>\n",
       "    .dataframe tbody tr th:only-of-type {\n",
       "        vertical-align: middle;\n",
       "    }\n",
       "\n",
       "    .dataframe tbody tr th {\n",
       "        vertical-align: top;\n",
       "    }\n",
       "\n",
       "    .dataframe thead th {\n",
       "        text-align: right;\n",
       "    }\n",
       "</style>\n",
       "<table border=\"1\" class=\"dataframe\">\n",
       "  <thead>\n",
       "    <tr style=\"text-align: right;\">\n",
       "      <th></th>\n",
       "      <th>Unnamed: 0</th>\n",
       "      <th>location_id</th>\n",
       "      <th>age_group_id</th>\n",
       "      <th>year_id</th>\n",
       "      <th>cause_id</th>\n",
       "      <th>index</th>\n",
       "      <th>index_lval</th>\n",
       "      <th>index_uval</th>\n",
       "      <th>ln_haq</th>\n",
       "    </tr>\n",
       "  </thead>\n",
       "  <tbody>\n",
       "    <tr>\n",
       "      <th>0</th>\n",
       "      <td>1</td>\n",
       "      <td>102</td>\n",
       "      <td>2</td>\n",
       "      <td>2016</td>\n",
       "      <td>100</td>\n",
       "      <td>78.971660</td>\n",
       "      <td>75.380955</td>\n",
       "      <td>80.621566</td>\n",
       "      <td>4.369089</td>\n",
       "    </tr>\n",
       "    <tr>\n",
       "      <th>1</th>\n",
       "      <td>2</td>\n",
       "      <td>102</td>\n",
       "      <td>3</td>\n",
       "      <td>2016</td>\n",
       "      <td>100</td>\n",
       "      <td>79.446642</td>\n",
       "      <td>76.748938</td>\n",
       "      <td>80.795963</td>\n",
       "      <td>4.375086</td>\n",
       "    </tr>\n",
       "    <tr>\n",
       "      <th>2</th>\n",
       "      <td>3</td>\n",
       "      <td>102</td>\n",
       "      <td>4</td>\n",
       "      <td>2016</td>\n",
       "      <td>100</td>\n",
       "      <td>73.535698</td>\n",
       "      <td>72.722747</td>\n",
       "      <td>75.656079</td>\n",
       "      <td>4.297771</td>\n",
       "    </tr>\n",
       "    <tr>\n",
       "      <th>3</th>\n",
       "      <td>4</td>\n",
       "      <td>102</td>\n",
       "      <td>5</td>\n",
       "      <td>2016</td>\n",
       "      <td>100</td>\n",
       "      <td>84.630485</td>\n",
       "      <td>84.060250</td>\n",
       "      <td>85.330881</td>\n",
       "      <td>4.438295</td>\n",
       "    </tr>\n",
       "    <tr>\n",
       "      <th>4</th>\n",
       "      <td>5</td>\n",
       "      <td>102</td>\n",
       "      <td>6</td>\n",
       "      <td>2016</td>\n",
       "      <td>100</td>\n",
       "      <td>85.847864</td>\n",
       "      <td>85.477355</td>\n",
       "      <td>86.168309</td>\n",
       "      <td>4.452577</td>\n",
       "    </tr>\n",
       "  </tbody>\n",
       "</table>\n",
       "</div>"
      ],
      "text/plain": [
       "   Unnamed: 0  location_id  age_group_id  year_id  cause_id      index  \\\n",
       "0           1          102             2     2016       100  78.971660   \n",
       "1           2          102             3     2016       100  79.446642   \n",
       "2           3          102             4     2016       100  73.535698   \n",
       "3           4          102             5     2016       100  84.630485   \n",
       "4           5          102             6     2016       100  85.847864   \n",
       "\n",
       "   index_lval  index_uval    ln_haq  \n",
       "0   75.380955   80.621566  4.369089  \n",
       "1   76.748938   80.795963  4.375086  \n",
       "2   72.722747   75.656079  4.297771  \n",
       "3   84.060250   85.330881  4.438295  \n",
       "4   85.477355   86.168309  4.452577  "
      ]
     },
     "execution_count": 33,
     "metadata": {},
     "output_type": "execute_result"
    }
   ],
   "source": [
    "haq_by_age_cause_USonly.head()"
   ]
  },
  {
   "cell_type": "markdown",
   "metadata": {},
   "source": [
    "# Merge SDI and age-specific HAQ"
   ]
  },
  {
   "cell_type": "code",
   "execution_count": 34,
   "metadata": {},
   "outputs": [],
   "source": [
    "haq_sdi = pd.merge(sdi_1[['location_id', 'logit_sdi']],\\\n",
    "                   haq_by_age_cause_USonly[['location_id', 'age_group_id', 'ln_haq']], on='location_id')"
   ]
  },
  {
   "cell_type": "code",
   "execution_count": 35,
   "metadata": {},
   "outputs": [
    {
     "data": {
      "text/plain": [
       "(18, 4)"
      ]
     },
     "execution_count": 35,
     "metadata": {},
     "output_type": "execute_result"
    }
   ],
   "source": [
    "haq_sdi.shape"
   ]
  },
  {
   "cell_type": "code",
   "execution_count": 36,
   "metadata": {},
   "outputs": [
    {
     "data": {
      "text/html": [
       "<div>\n",
       "<style scoped>\n",
       "    .dataframe tbody tr th:only-of-type {\n",
       "        vertical-align: middle;\n",
       "    }\n",
       "\n",
       "    .dataframe tbody tr th {\n",
       "        vertical-align: top;\n",
       "    }\n",
       "\n",
       "    .dataframe thead th {\n",
       "        text-align: right;\n",
       "    }\n",
       "</style>\n",
       "<table border=\"1\" class=\"dataframe\">\n",
       "  <thead>\n",
       "    <tr style=\"text-align: right;\">\n",
       "      <th></th>\n",
       "      <th>location_id</th>\n",
       "      <th>logit_sdi</th>\n",
       "      <th>age_group_id</th>\n",
       "      <th>ln_haq</th>\n",
       "    </tr>\n",
       "  </thead>\n",
       "  <tbody>\n",
       "    <tr>\n",
       "      <th>0</th>\n",
       "      <td>102</td>\n",
       "      <td>1.86831</td>\n",
       "      <td>2</td>\n",
       "      <td>4.369089</td>\n",
       "    </tr>\n",
       "    <tr>\n",
       "      <th>1</th>\n",
       "      <td>102</td>\n",
       "      <td>1.86831</td>\n",
       "      <td>3</td>\n",
       "      <td>4.375086</td>\n",
       "    </tr>\n",
       "    <tr>\n",
       "      <th>2</th>\n",
       "      <td>102</td>\n",
       "      <td>1.86831</td>\n",
       "      <td>4</td>\n",
       "      <td>4.297771</td>\n",
       "    </tr>\n",
       "    <tr>\n",
       "      <th>3</th>\n",
       "      <td>102</td>\n",
       "      <td>1.86831</td>\n",
       "      <td>5</td>\n",
       "      <td>4.438295</td>\n",
       "    </tr>\n",
       "    <tr>\n",
       "      <th>4</th>\n",
       "      <td>102</td>\n",
       "      <td>1.86831</td>\n",
       "      <td>6</td>\n",
       "      <td>4.452577</td>\n",
       "    </tr>\n",
       "  </tbody>\n",
       "</table>\n",
       "</div>"
      ],
      "text/plain": [
       "   location_id  logit_sdi  age_group_id    ln_haq\n",
       "0          102    1.86831             2  4.369089\n",
       "1          102    1.86831             3  4.375086\n",
       "2          102    1.86831             4  4.297771\n",
       "3          102    1.86831             5  4.438295\n",
       "4          102    1.86831             6  4.452577"
      ]
     },
     "execution_count": 36,
     "metadata": {},
     "output_type": "execute_result"
    }
   ],
   "source": [
    "haq_sdi.head()"
   ]
  },
  {
   "cell_type": "code",
   "execution_count": 37,
   "metadata": {},
   "outputs": [
    {
     "data": {
      "text/plain": [
       "array([ 2,  3,  4,  5,  6,  7,  8,  9, 10, 11, 12, 13, 14, 15, 16, 17, 18,\n",
       "       19])"
      ]
     },
     "execution_count": 37,
     "metadata": {},
     "output_type": "execute_result"
    }
   ],
   "source": [
    "haq_sdi['age_group_id'].unique()"
   ]
  },
  {
   "cell_type": "code",
   "execution_count": 38,
   "metadata": {},
   "outputs": [
    {
     "data": {
      "text/plain": [
       "1"
      ]
     },
     "execution_count": 38,
     "metadata": {},
     "output_type": "execute_result"
    }
   ],
   "source": [
    "len(haq_sdi['location_id'].unique())"
   ]
  },
  {
   "cell_type": "code",
   "execution_count": 39,
   "metadata": {},
   "outputs": [],
   "source": [
    "# Write out data to CSV \n",
    "haq_sdi.to_csv('/ihme/homes/arjuns13/notebooks/Documents/Data/haq_sdi_perAge_aggregatedCauses_USonly.csv')"
   ]
  },
  {
   "cell_type": "code",
   "execution_count": 40,
   "metadata": {},
   "outputs": [],
   "source": [
    "haq_sdi.to_csv('J:\\\\Project\\\\Cost_Effectiveness\\\\NPC\\\\Regression_Analysis\\\\haq_sdi_perAge_aggregatedCauses_USonly.csv')"
   ]
  },
  {
   "cell_type": "code",
   "execution_count": 41,
   "metadata": {},
   "outputs": [],
   "source": [
    "haq_sdi_allMostDetLocs = pd.read_csv('/ihme/homes/arjuns13/notebooks/Documents/Data/haq_sdi_perAge_aggregatedCauses_allMostDetLocs.csv')"
   ]
  },
  {
   "cell_type": "code",
   "execution_count": 45,
   "metadata": {},
   "outputs": [],
   "source": [
    "haq_sdi_allMostDetLocs = haq_sdi_allMostDetLocs.drop(columns='Unnamed: 0')"
   ]
  },
  {
   "cell_type": "code",
   "execution_count": 46,
   "metadata": {},
   "outputs": [
    {
     "data": {
      "text/html": [
       "<div>\n",
       "<style scoped>\n",
       "    .dataframe tbody tr th:only-of-type {\n",
       "        vertical-align: middle;\n",
       "    }\n",
       "\n",
       "    .dataframe tbody tr th {\n",
       "        vertical-align: top;\n",
       "    }\n",
       "\n",
       "    .dataframe thead th {\n",
       "        text-align: right;\n",
       "    }\n",
       "</style>\n",
       "<table border=\"1\" class=\"dataframe\">\n",
       "  <thead>\n",
       "    <tr style=\"text-align: right;\">\n",
       "      <th></th>\n",
       "      <th>location_id</th>\n",
       "      <th>logit_sdi</th>\n",
       "      <th>age_group_id</th>\n",
       "      <th>ln_haq</th>\n",
       "    </tr>\n",
       "  </thead>\n",
       "  <tbody>\n",
       "    <tr>\n",
       "      <th>0</th>\n",
       "      <td>7</td>\n",
       "      <td>0.110348</td>\n",
       "      <td>2</td>\n",
       "      <td>3.872641</td>\n",
       "    </tr>\n",
       "    <tr>\n",
       "      <th>1</th>\n",
       "      <td>7</td>\n",
       "      <td>0.110348</td>\n",
       "      <td>3</td>\n",
       "      <td>3.919710</td>\n",
       "    </tr>\n",
       "    <tr>\n",
       "      <th>2</th>\n",
       "      <td>7</td>\n",
       "      <td>0.110348</td>\n",
       "      <td>4</td>\n",
       "      <td>3.796574</td>\n",
       "    </tr>\n",
       "    <tr>\n",
       "      <th>3</th>\n",
       "      <td>7</td>\n",
       "      <td>0.110348</td>\n",
       "      <td>5</td>\n",
       "      <td>4.128603</td>\n",
       "    </tr>\n",
       "    <tr>\n",
       "      <th>4</th>\n",
       "      <td>7</td>\n",
       "      <td>0.110348</td>\n",
       "      <td>6</td>\n",
       "      <td>4.194030</td>\n",
       "    </tr>\n",
       "  </tbody>\n",
       "</table>\n",
       "</div>"
      ],
      "text/plain": [
       "   location_id  logit_sdi  age_group_id    ln_haq\n",
       "0            7   0.110348             2  3.872641\n",
       "1            7   0.110348             3  3.919710\n",
       "2            7   0.110348             4  3.796574\n",
       "3            7   0.110348             5  4.128603\n",
       "4            7   0.110348             6  4.194030"
      ]
     },
     "execution_count": 46,
     "metadata": {},
     "output_type": "execute_result"
    }
   ],
   "source": [
    "haq_sdi_allMostDetLocs.head()"
   ]
  },
  {
   "cell_type": "code",
   "execution_count": 52,
   "metadata": {},
   "outputs": [
    {
     "data": {
      "text/plain": [
       "(14814, 4)"
      ]
     },
     "execution_count": 52,
     "metadata": {},
     "output_type": "execute_result"
    }
   ],
   "source": [
    "haq_sdi_allMostDetLocs.shape"
   ]
  },
  {
   "cell_type": "code",
   "execution_count": 49,
   "metadata": {},
   "outputs": [],
   "source": [
    "haq_sdi_all = pd.concat([haq_sdi_allMostDetLocs, haq_sdi])"
   ]
  },
  {
   "cell_type": "code",
   "execution_count": 50,
   "metadata": {},
   "outputs": [
    {
     "data": {
      "text/html": [
       "<div>\n",
       "<style scoped>\n",
       "    .dataframe tbody tr th:only-of-type {\n",
       "        vertical-align: middle;\n",
       "    }\n",
       "\n",
       "    .dataframe tbody tr th {\n",
       "        vertical-align: top;\n",
       "    }\n",
       "\n",
       "    .dataframe thead th {\n",
       "        text-align: right;\n",
       "    }\n",
       "</style>\n",
       "<table border=\"1\" class=\"dataframe\">\n",
       "  <thead>\n",
       "    <tr style=\"text-align: right;\">\n",
       "      <th></th>\n",
       "      <th>location_id</th>\n",
       "      <th>logit_sdi</th>\n",
       "      <th>age_group_id</th>\n",
       "      <th>ln_haq</th>\n",
       "    </tr>\n",
       "  </thead>\n",
       "  <tbody>\n",
       "    <tr>\n",
       "      <th>0</th>\n",
       "      <td>7</td>\n",
       "      <td>0.110348</td>\n",
       "      <td>2</td>\n",
       "      <td>3.872641</td>\n",
       "    </tr>\n",
       "    <tr>\n",
       "      <th>1</th>\n",
       "      <td>7</td>\n",
       "      <td>0.110348</td>\n",
       "      <td>3</td>\n",
       "      <td>3.919710</td>\n",
       "    </tr>\n",
       "    <tr>\n",
       "      <th>2</th>\n",
       "      <td>7</td>\n",
       "      <td>0.110348</td>\n",
       "      <td>4</td>\n",
       "      <td>3.796574</td>\n",
       "    </tr>\n",
       "    <tr>\n",
       "      <th>3</th>\n",
       "      <td>7</td>\n",
       "      <td>0.110348</td>\n",
       "      <td>5</td>\n",
       "      <td>4.128603</td>\n",
       "    </tr>\n",
       "    <tr>\n",
       "      <th>4</th>\n",
       "      <td>7</td>\n",
       "      <td>0.110348</td>\n",
       "      <td>6</td>\n",
       "      <td>4.194030</td>\n",
       "    </tr>\n",
       "  </tbody>\n",
       "</table>\n",
       "</div>"
      ],
      "text/plain": [
       "   location_id  logit_sdi  age_group_id    ln_haq\n",
       "0            7   0.110348             2  3.872641\n",
       "1            7   0.110348             3  3.919710\n",
       "2            7   0.110348             4  3.796574\n",
       "3            7   0.110348             5  4.128603\n",
       "4            7   0.110348             6  4.194030"
      ]
     },
     "execution_count": 50,
     "metadata": {},
     "output_type": "execute_result"
    }
   ],
   "source": [
    "haq_sdi_all.head()"
   ]
  },
  {
   "cell_type": "code",
   "execution_count": 51,
   "metadata": {},
   "outputs": [
    {
     "data": {
      "text/plain": [
       "(14832, 4)"
      ]
     },
     "execution_count": 51,
     "metadata": {},
     "output_type": "execute_result"
    }
   ],
   "source": [
    "haq_sdi_all.shape"
   ]
  },
  {
   "cell_type": "code",
   "execution_count": 55,
   "metadata": {},
   "outputs": [],
   "source": [
    "# Write out data to CSV \n",
    "haq_sdi_all.to_csv('/ihme/homes/arjuns13/notebooks/Documents/Data/haq_sdi_perAge_aggregatedCauses_allLocsIncUS.csv')"
   ]
  },
  {
   "cell_type": "code",
   "execution_count": 56,
   "metadata": {},
   "outputs": [],
   "source": [
    "haq_sdi_all.to_csv('J:\\\\Project\\\\Cost_Effectiveness\\\\NPC\\\\Regression_Analysis\\\\haq_sdi_perAge_aggregatedCauses_allLocsIncUS.csv')"
   ]
  },
  {
   "cell_type": "code",
   "execution_count": null,
   "metadata": {},
   "outputs": [],
   "source": []
  }
 ],
 "metadata": {
  "kernelspec": {
   "display_name": "Python 3",
   "language": "python",
   "name": "python3"
  },
  "language_info": {
   "codemirror_mode": {
    "name": "ipython",
    "version": 3
   },
   "file_extension": ".py",
   "mimetype": "text/x-python",
   "name": "python",
   "nbconvert_exporter": "python",
   "pygments_lexer": "ipython3",
   "version": "3.7.1"
  }
 },
 "nbformat": 4,
 "nbformat_minor": 2
}
