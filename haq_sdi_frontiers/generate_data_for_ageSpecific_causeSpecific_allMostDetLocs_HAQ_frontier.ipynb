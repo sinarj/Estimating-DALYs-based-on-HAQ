{
 "cells": [
  {
   "cell_type": "markdown",
   "metadata": {},
   "source": [
    "## This generates the HAQ-SDI data to be used for the HAQ-Frontier Analysis. Current notebook is for all most detailed locations and age specific data.\n"
   ]
  },
  {
   "cell_type": "code",
   "execution_count": 1,
   "metadata": {},
   "outputs": [
    {
     "data": {
      "text/html": [
       "<style>.container { width:100% !important; }</style>"
      ],
      "text/plain": [
       "<IPython.core.display.HTML object>"
      ]
     },
     "metadata": {},
     "output_type": "display_data"
    }
   ],
   "source": [
    "from IPython.core.display import display, HTML\n",
    "display(HTML(\"<style>.container { width:100% !important; }</style>\"))"
   ]
  },
  {
   "cell_type": "code",
   "execution_count": 2,
   "metadata": {},
   "outputs": [],
   "source": [
    "import pandas as pd\n",
    "import numpy as np\n",
    "\n",
    "from numpy import sign, abs, log10\n",
    "from scipy.special import logit"
   ]
  },
  {
   "cell_type": "markdown",
   "metadata": {},
   "source": [
    "# SDI"
   ]
  },
  {
   "cell_type": "code",
   "execution_count": 3,
   "metadata": {},
   "outputs": [],
   "source": [
    "#sdi = pd.read_csv('J:\\\\Project\\\\Cost_Effectiveness\\\\DCPN_DataViz\\\\Data\\\\GBD_data\\\\covariates\\\\2018_04_20_sdi.csv')\n",
    "sdi = pd.read_csv('/snfs1/Project/Cost_Effectiveness/DCPN_DataViz/Data/GBD_data/covariates/2018_04_20_sdi.csv')"
   ]
  },
  {
   "cell_type": "code",
   "execution_count": 4,
   "metadata": {},
   "outputs": [
    {
     "data": {
      "text/html": [
       "<div>\n",
       "<style scoped>\n",
       "    .dataframe tbody tr th:only-of-type {\n",
       "        vertical-align: middle;\n",
       "    }\n",
       "\n",
       "    .dataframe tbody tr th {\n",
       "        vertical-align: top;\n",
       "    }\n",
       "\n",
       "    .dataframe thead th {\n",
       "        text-align: right;\n",
       "    }\n",
       "</style>\n",
       "<table border=\"1\" class=\"dataframe\">\n",
       "  <thead>\n",
       "    <tr style=\"text-align: right;\">\n",
       "      <th></th>\n",
       "      <th>Unnamed: 0</th>\n",
       "      <th>model_version_id</th>\n",
       "      <th>covariate_id</th>\n",
       "      <th>covariate_name_short</th>\n",
       "      <th>location_id</th>\n",
       "      <th>location_name</th>\n",
       "      <th>year_id</th>\n",
       "      <th>age_group_id</th>\n",
       "      <th>age_group_name</th>\n",
       "      <th>sex_id</th>\n",
       "      <th>mean_value</th>\n",
       "      <th>lower_value</th>\n",
       "      <th>upper_value</th>\n",
       "    </tr>\n",
       "  </thead>\n",
       "  <tbody>\n",
       "    <tr>\n",
       "      <th>0</th>\n",
       "      <td>1</td>\n",
       "      <td>23297</td>\n",
       "      <td>881</td>\n",
       "      <td>sdi</td>\n",
       "      <td>1</td>\n",
       "      <td>Global</td>\n",
       "      <td>2016</td>\n",
       "      <td>22</td>\n",
       "      <td>All Ages</td>\n",
       "      <td>3</td>\n",
       "      <td>0.649754</td>\n",
       "      <td>0.649754</td>\n",
       "      <td>0.649754</td>\n",
       "    </tr>\n",
       "    <tr>\n",
       "      <th>1</th>\n",
       "      <td>2</td>\n",
       "      <td>23297</td>\n",
       "      <td>881</td>\n",
       "      <td>sdi</td>\n",
       "      <td>4</td>\n",
       "      <td>Southeast Asia, East Asia, and Oceania</td>\n",
       "      <td>2016</td>\n",
       "      <td>22</td>\n",
       "      <td>All Ages</td>\n",
       "      <td>3</td>\n",
       "      <td>0.683368</td>\n",
       "      <td>0.683368</td>\n",
       "      <td>0.683368</td>\n",
       "    </tr>\n",
       "    <tr>\n",
       "      <th>2</th>\n",
       "      <td>3</td>\n",
       "      <td>23297</td>\n",
       "      <td>881</td>\n",
       "      <td>sdi</td>\n",
       "      <td>5</td>\n",
       "      <td>East Asia</td>\n",
       "      <td>2016</td>\n",
       "      <td>22</td>\n",
       "      <td>All Ages</td>\n",
       "      <td>3</td>\n",
       "      <td>0.712705</td>\n",
       "      <td>0.712705</td>\n",
       "      <td>0.712705</td>\n",
       "    </tr>\n",
       "    <tr>\n",
       "      <th>3</th>\n",
       "      <td>4</td>\n",
       "      <td>23297</td>\n",
       "      <td>881</td>\n",
       "      <td>sdi</td>\n",
       "      <td>6</td>\n",
       "      <td>China</td>\n",
       "      <td>2016</td>\n",
       "      <td>22</td>\n",
       "      <td>All Ages</td>\n",
       "      <td>3</td>\n",
       "      <td>0.712014</td>\n",
       "      <td>0.712014</td>\n",
       "      <td>0.712014</td>\n",
       "    </tr>\n",
       "    <tr>\n",
       "      <th>4</th>\n",
       "      <td>5</td>\n",
       "      <td>23297</td>\n",
       "      <td>881</td>\n",
       "      <td>sdi</td>\n",
       "      <td>7</td>\n",
       "      <td>North Korea</td>\n",
       "      <td>2016</td>\n",
       "      <td>22</td>\n",
       "      <td>All Ages</td>\n",
       "      <td>3</td>\n",
       "      <td>0.527559</td>\n",
       "      <td>0.527559</td>\n",
       "      <td>0.527559</td>\n",
       "    </tr>\n",
       "  </tbody>\n",
       "</table>\n",
       "</div>"
      ],
      "text/plain": [
       "   Unnamed: 0  model_version_id  covariate_id covariate_name_short  \\\n",
       "0           1             23297           881                  sdi   \n",
       "1           2             23297           881                  sdi   \n",
       "2           3             23297           881                  sdi   \n",
       "3           4             23297           881                  sdi   \n",
       "4           5             23297           881                  sdi   \n",
       "\n",
       "   location_id                           location_name  year_id  age_group_id  \\\n",
       "0            1                                  Global     2016            22   \n",
       "1            4  Southeast Asia, East Asia, and Oceania     2016            22   \n",
       "2            5                               East Asia     2016            22   \n",
       "3            6                                   China     2016            22   \n",
       "4            7                             North Korea     2016            22   \n",
       "\n",
       "  age_group_name  sex_id  mean_value  lower_value  upper_value  \n",
       "0       All Ages       3    0.649754     0.649754     0.649754  \n",
       "1       All Ages       3    0.683368     0.683368     0.683368  \n",
       "2       All Ages       3    0.712705     0.712705     0.712705  \n",
       "3       All Ages       3    0.712014     0.712014     0.712014  \n",
       "4       All Ages       3    0.527559     0.527559     0.527559  "
      ]
     },
     "execution_count": 4,
     "metadata": {},
     "output_type": "execute_result"
    }
   ],
   "source": [
    "sdi.head()"
   ]
  },
  {
   "cell_type": "code",
   "execution_count": 5,
   "metadata": {},
   "outputs": [
    {
     "data": {
      "text/plain": [
       "array(['All Ages'], dtype=object)"
      ]
     },
     "execution_count": 5,
     "metadata": {},
     "output_type": "execute_result"
    }
   ],
   "source": [
    "sdi['age_group_name'].unique()"
   ]
  },
  {
   "cell_type": "code",
   "execution_count": 6,
   "metadata": {},
   "outputs": [],
   "source": [
    "sdi_1 = sdi[['location_id', 'mean_value']]\n",
    "sdi_1 = sdi_1.rename(columns = {'mean_value': 'sdi'})"
   ]
  },
  {
   "cell_type": "code",
   "execution_count": 7,
   "metadata": {},
   "outputs": [
    {
     "data": {
      "text/plain": [
       "(919, 2)"
      ]
     },
     "execution_count": 7,
     "metadata": {},
     "output_type": "execute_result"
    }
   ],
   "source": [
    "sdi_1.shape"
   ]
  },
  {
   "cell_type": "code",
   "execution_count": 8,
   "metadata": {},
   "outputs": [],
   "source": [
    "sbp = sdi.boxplot(column='mean_value',by='age_group_name')"
   ]
  },
  {
   "cell_type": "code",
   "execution_count": 9,
   "metadata": {
    "scrolled": true
   },
   "outputs": [
    {
     "data": {
      "text/html": [
       "<div>\n",
       "<style scoped>\n",
       "    .dataframe tbody tr th:only-of-type {\n",
       "        vertical-align: middle;\n",
       "    }\n",
       "\n",
       "    .dataframe tbody tr th {\n",
       "        vertical-align: top;\n",
       "    }\n",
       "\n",
       "    .dataframe thead th {\n",
       "        text-align: right;\n",
       "    }\n",
       "</style>\n",
       "<table border=\"1\" class=\"dataframe\">\n",
       "  <thead>\n",
       "    <tr style=\"text-align: right;\">\n",
       "      <th></th>\n",
       "      <th>location_id</th>\n",
       "      <th>sdi</th>\n",
       "    </tr>\n",
       "  </thead>\n",
       "  <tbody>\n",
       "    <tr>\n",
       "      <th>0</th>\n",
       "      <td>1</td>\n",
       "      <td>0.649754</td>\n",
       "    </tr>\n",
       "    <tr>\n",
       "      <th>1</th>\n",
       "      <td>4</td>\n",
       "      <td>0.683368</td>\n",
       "    </tr>\n",
       "    <tr>\n",
       "      <th>2</th>\n",
       "      <td>5</td>\n",
       "      <td>0.712705</td>\n",
       "    </tr>\n",
       "    <tr>\n",
       "      <th>3</th>\n",
       "      <td>6</td>\n",
       "      <td>0.712014</td>\n",
       "    </tr>\n",
       "    <tr>\n",
       "      <th>4</th>\n",
       "      <td>7</td>\n",
       "      <td>0.527559</td>\n",
       "    </tr>\n",
       "  </tbody>\n",
       "</table>\n",
       "</div>"
      ],
      "text/plain": [
       "   location_id       sdi\n",
       "0            1  0.649754\n",
       "1            4  0.683368\n",
       "2            5  0.712705\n",
       "3            6  0.712014\n",
       "4            7  0.527559"
      ]
     },
     "execution_count": 9,
     "metadata": {},
     "output_type": "execute_result"
    }
   ],
   "source": [
    "sdi_1.head()"
   ]
  },
  {
   "cell_type": "code",
   "execution_count": 10,
   "metadata": {},
   "outputs": [
    {
     "data": {
      "text/html": [
       "<div>\n",
       "<style scoped>\n",
       "    .dataframe tbody tr th:only-of-type {\n",
       "        vertical-align: middle;\n",
       "    }\n",
       "\n",
       "    .dataframe tbody tr th {\n",
       "        vertical-align: top;\n",
       "    }\n",
       "\n",
       "    .dataframe thead th {\n",
       "        text-align: right;\n",
       "    }\n",
       "</style>\n",
       "<table border=\"1\" class=\"dataframe\">\n",
       "  <thead>\n",
       "    <tr style=\"text-align: right;\">\n",
       "      <th></th>\n",
       "      <th>location_id</th>\n",
       "      <th>sdi</th>\n",
       "    </tr>\n",
       "  </thead>\n",
       "  <tbody>\n",
       "    <tr>\n",
       "      <th>92</th>\n",
       "      <td>95</td>\n",
       "      <td>0.840568</td>\n",
       "    </tr>\n",
       "  </tbody>\n",
       "</table>\n",
       "</div>"
      ],
      "text/plain": [
       "    location_id       sdi\n",
       "92           95  0.840568"
      ]
     },
     "execution_count": 10,
     "metadata": {},
     "output_type": "execute_result"
    }
   ],
   "source": [
    "# Make sure UK is in data (this location is often problematic because it is usually disaggregated)\n",
    "sdi_1.query('location_id == 95')"
   ]
  },
  {
   "cell_type": "code",
   "execution_count": 11,
   "metadata": {},
   "outputs": [],
   "source": [
    "# logit transformation \n",
    "\n",
    "sdi_1['logit_sdi'] = logit(sdi_1['sdi'])"
   ]
  },
  {
   "cell_type": "code",
   "execution_count": 12,
   "metadata": {},
   "outputs": [
    {
     "data": {
      "text/html": [
       "<div>\n",
       "<style scoped>\n",
       "    .dataframe tbody tr th:only-of-type {\n",
       "        vertical-align: middle;\n",
       "    }\n",
       "\n",
       "    .dataframe tbody tr th {\n",
       "        vertical-align: top;\n",
       "    }\n",
       "\n",
       "    .dataframe thead th {\n",
       "        text-align: right;\n",
       "    }\n",
       "</style>\n",
       "<table border=\"1\" class=\"dataframe\">\n",
       "  <thead>\n",
       "    <tr style=\"text-align: right;\">\n",
       "      <th></th>\n",
       "      <th>location_id</th>\n",
       "      <th>sdi</th>\n",
       "      <th>logit_sdi</th>\n",
       "    </tr>\n",
       "  </thead>\n",
       "  <tbody>\n",
       "    <tr>\n",
       "      <th>0</th>\n",
       "      <td>1</td>\n",
       "      <td>0.649754</td>\n",
       "      <td>0.617958</td>\n",
       "    </tr>\n",
       "    <tr>\n",
       "      <th>1</th>\n",
       "      <td>4</td>\n",
       "      <td>0.683368</td>\n",
       "      <td>0.769294</td>\n",
       "    </tr>\n",
       "    <tr>\n",
       "      <th>2</th>\n",
       "      <td>5</td>\n",
       "      <td>0.712705</td>\n",
       "      <td>0.908556</td>\n",
       "    </tr>\n",
       "    <tr>\n",
       "      <th>3</th>\n",
       "      <td>6</td>\n",
       "      <td>0.712014</td>\n",
       "      <td>0.905187</td>\n",
       "    </tr>\n",
       "    <tr>\n",
       "      <th>4</th>\n",
       "      <td>7</td>\n",
       "      <td>0.527559</td>\n",
       "      <td>0.110348</td>\n",
       "    </tr>\n",
       "  </tbody>\n",
       "</table>\n",
       "</div>"
      ],
      "text/plain": [
       "   location_id       sdi  logit_sdi\n",
       "0            1  0.649754   0.617958\n",
       "1            4  0.683368   0.769294\n",
       "2            5  0.712705   0.908556\n",
       "3            6  0.712014   0.905187\n",
       "4            7  0.527559   0.110348"
      ]
     },
     "execution_count": 12,
     "metadata": {},
     "output_type": "execute_result"
    }
   ],
   "source": [
    "sdi_1.head()"
   ]
  },
  {
   "cell_type": "code",
   "execution_count": 13,
   "metadata": {},
   "outputs": [
    {
     "data": {
      "text/plain": [
       "(919, 3)"
      ]
     },
     "execution_count": 13,
     "metadata": {},
     "output_type": "execute_result"
    }
   ],
   "source": [
    "sdi_1.shape"
   ]
  },
  {
   "cell_type": "code",
   "execution_count": 14,
   "metadata": {},
   "outputs": [
    {
     "data": {
      "text/html": [
       "<div>\n",
       "<style scoped>\n",
       "    .dataframe tbody tr th:only-of-type {\n",
       "        vertical-align: middle;\n",
       "    }\n",
       "\n",
       "    .dataframe tbody tr th {\n",
       "        vertical-align: top;\n",
       "    }\n",
       "\n",
       "    .dataframe thead th {\n",
       "        text-align: right;\n",
       "    }\n",
       "</style>\n",
       "<table border=\"1\" class=\"dataframe\">\n",
       "  <thead>\n",
       "    <tr style=\"text-align: right;\">\n",
       "      <th></th>\n",
       "      <th>location_id</th>\n",
       "      <th>sdi</th>\n",
       "      <th>logit_sdi</th>\n",
       "    </tr>\n",
       "  </thead>\n",
       "  <tbody>\n",
       "    <tr>\n",
       "      <th>count</th>\n",
       "      <td>919.000000</td>\n",
       "      <td>919.000000</td>\n",
       "      <td>919.000000</td>\n",
       "    </tr>\n",
       "    <tr>\n",
       "      <th>mean</th>\n",
       "      <td>21679.757345</td>\n",
       "      <td>0.700113</td>\n",
       "      <td>0.955602</td>\n",
       "    </tr>\n",
       "    <tr>\n",
       "      <th>std</th>\n",
       "      <td>20759.983582</td>\n",
       "      <td>0.156078</td>\n",
       "      <td>0.783099</td>\n",
       "    </tr>\n",
       "    <tr>\n",
       "      <th>min</th>\n",
       "      <td>1.000000</td>\n",
       "      <td>0.194042</td>\n",
       "      <td>-1.423959</td>\n",
       "    </tr>\n",
       "    <tr>\n",
       "      <th>25%</th>\n",
       "      <td>484.500000</td>\n",
       "      <td>0.605473</td>\n",
       "      <td>0.428324</td>\n",
       "    </tr>\n",
       "    <tr>\n",
       "      <th>50%</th>\n",
       "      <td>4916.000000</td>\n",
       "      <td>0.731881</td>\n",
       "      <td>1.004186</td>\n",
       "    </tr>\n",
       "    <tr>\n",
       "      <th>75%</th>\n",
       "      <td>44701.500000</td>\n",
       "      <td>0.833526</td>\n",
       "      <td>1.610826</td>\n",
       "    </tr>\n",
       "    <tr>\n",
       "      <th>max</th>\n",
       "      <td>53432.000000</td>\n",
       "      <td>0.939852</td>\n",
       "      <td>2.748912</td>\n",
       "    </tr>\n",
       "  </tbody>\n",
       "</table>\n",
       "</div>"
      ],
      "text/plain": [
       "        location_id         sdi   logit_sdi\n",
       "count    919.000000  919.000000  919.000000\n",
       "mean   21679.757345    0.700113    0.955602\n",
       "std    20759.983582    0.156078    0.783099\n",
       "min        1.000000    0.194042   -1.423959\n",
       "25%      484.500000    0.605473    0.428324\n",
       "50%     4916.000000    0.731881    1.004186\n",
       "75%    44701.500000    0.833526    1.610826\n",
       "max    53432.000000    0.939852    2.748912"
      ]
     },
     "execution_count": 14,
     "metadata": {},
     "output_type": "execute_result"
    }
   ],
   "source": [
    "sdi_1.describe()"
   ]
  },
  {
   "cell_type": "markdown",
   "metadata": {},
   "source": [
    "# Age-specific HAQ across all of the 823 most detailed locations, for aggregated cause_id 100"
   ]
  },
  {
   "cell_type": "code",
   "execution_count": 15,
   "metadata": {},
   "outputs": [],
   "source": [
    "#haq_by_age = pd.read_csv('J:\\\\Project\\\\Cost_Effectiveness\\\\Access_to_care\\\\temp\\\\haq_by_age_7.20.18.csv')\n",
    "#haq_by_age = pd.read_csv('/snfs1/Project/Cost_Effectiveness/Access_to_care/temp/haq_by_age_7.20.18.csv')\n",
    "\n",
    "#haq_by_age_cause_allMostDetLocs = pd.read_csv('/share/scratch/projects/hssa/haq/HAQ_2017/haq_US/results/haq_2016_bycauseage_allMostDetLocs.csv')\n",
    "\n",
    "haq_by_age_cause_allMostDetLocs = pd.read_csv('/share/scratch/projects/hssa/haq/HAQ_2017/haq_US/results/haq_2016_by_allcause_age_allMostDetLocs.csv')"
   ]
  },
  {
   "cell_type": "code",
   "execution_count": 16,
   "metadata": {},
   "outputs": [],
   "source": [
    "haq_by_age_cause_allMostDetLocs = haq_by_age_cause_allMostDetLocs.drop(columns=['index_mean', 'index_geom_mean'])"
   ]
  },
  {
   "cell_type": "code",
   "execution_count": 17,
   "metadata": {},
   "outputs": [
    {
     "data": {
      "text/plain": [
       "(14814, 8)"
      ]
     },
     "execution_count": 17,
     "metadata": {},
     "output_type": "execute_result"
    }
   ],
   "source": [
    "haq_by_age_cause_allMostDetLocs.shape"
   ]
  },
  {
   "cell_type": "code",
   "execution_count": 18,
   "metadata": {},
   "outputs": [
    {
     "data": {
      "text/html": [
       "<div>\n",
       "<style scoped>\n",
       "    .dataframe tbody tr th:only-of-type {\n",
       "        vertical-align: middle;\n",
       "    }\n",
       "\n",
       "    .dataframe tbody tr th {\n",
       "        vertical-align: top;\n",
       "    }\n",
       "\n",
       "    .dataframe thead th {\n",
       "        text-align: right;\n",
       "    }\n",
       "</style>\n",
       "<table border=\"1\" class=\"dataframe\">\n",
       "  <thead>\n",
       "    <tr style=\"text-align: right;\">\n",
       "      <th></th>\n",
       "      <th>Unnamed: 0</th>\n",
       "      <th>location_id</th>\n",
       "      <th>age_group_id</th>\n",
       "      <th>year_id</th>\n",
       "      <th>cause_id</th>\n",
       "      <th>index</th>\n",
       "      <th>index_lval</th>\n",
       "      <th>index_uval</th>\n",
       "    </tr>\n",
       "  </thead>\n",
       "  <tbody>\n",
       "    <tr>\n",
       "      <th>0</th>\n",
       "      <td>1</td>\n",
       "      <td>33</td>\n",
       "      <td>2</td>\n",
       "      <td>2016</td>\n",
       "      <td>100</td>\n",
       "      <td>73.000393</td>\n",
       "      <td>70.183681</td>\n",
       "      <td>75.493201</td>\n",
       "    </tr>\n",
       "    <tr>\n",
       "      <th>1</th>\n",
       "      <td>2</td>\n",
       "      <td>33</td>\n",
       "      <td>3</td>\n",
       "      <td>2016</td>\n",
       "      <td>100</td>\n",
       "      <td>77.740844</td>\n",
       "      <td>74.594096</td>\n",
       "      <td>80.515749</td>\n",
       "    </tr>\n",
       "    <tr>\n",
       "      <th>2</th>\n",
       "      <td>3</td>\n",
       "      <td>33</td>\n",
       "      <td>4</td>\n",
       "      <td>2016</td>\n",
       "      <td>100</td>\n",
       "      <td>72.251495</td>\n",
       "      <td>70.566094</td>\n",
       "      <td>73.985260</td>\n",
       "    </tr>\n",
       "    <tr>\n",
       "      <th>3</th>\n",
       "      <td>4</td>\n",
       "      <td>33</td>\n",
       "      <td>5</td>\n",
       "      <td>2016</td>\n",
       "      <td>100</td>\n",
       "      <td>82.300044</td>\n",
       "      <td>79.952787</td>\n",
       "      <td>84.321274</td>\n",
       "    </tr>\n",
       "    <tr>\n",
       "      <th>4</th>\n",
       "      <td>5</td>\n",
       "      <td>33</td>\n",
       "      <td>6</td>\n",
       "      <td>2016</td>\n",
       "      <td>100</td>\n",
       "      <td>74.749729</td>\n",
       "      <td>72.884154</td>\n",
       "      <td>76.541786</td>\n",
       "    </tr>\n",
       "  </tbody>\n",
       "</table>\n",
       "</div>"
      ],
      "text/plain": [
       "   Unnamed: 0  location_id  age_group_id  year_id  cause_id      index  \\\n",
       "0           1           33             2     2016       100  73.000393   \n",
       "1           2           33             3     2016       100  77.740844   \n",
       "2           3           33             4     2016       100  72.251495   \n",
       "3           4           33             5     2016       100  82.300044   \n",
       "4           5           33             6     2016       100  74.749729   \n",
       "\n",
       "   index_lval  index_uval  \n",
       "0   70.183681   75.493201  \n",
       "1   74.594096   80.515749  \n",
       "2   70.566094   73.985260  \n",
       "3   79.952787   84.321274  \n",
       "4   72.884154   76.541786  "
      ]
     },
     "execution_count": 18,
     "metadata": {},
     "output_type": "execute_result"
    }
   ],
   "source": [
    "haq_by_age_cause_allMostDetLocs.head()"
   ]
  },
  {
   "cell_type": "code",
   "execution_count": 19,
   "metadata": {},
   "outputs": [
    {
     "data": {
      "text/html": [
       "<div>\n",
       "<style scoped>\n",
       "    .dataframe tbody tr th:only-of-type {\n",
       "        vertical-align: middle;\n",
       "    }\n",
       "\n",
       "    .dataframe tbody tr th {\n",
       "        vertical-align: top;\n",
       "    }\n",
       "\n",
       "    .dataframe thead th {\n",
       "        text-align: right;\n",
       "    }\n",
       "</style>\n",
       "<table border=\"1\" class=\"dataframe\">\n",
       "  <thead>\n",
       "    <tr style=\"text-align: right;\">\n",
       "      <th></th>\n",
       "      <th>Unnamed: 0</th>\n",
       "      <th>location_id</th>\n",
       "      <th>age_group_id</th>\n",
       "      <th>year_id</th>\n",
       "      <th>cause_id</th>\n",
       "      <th>index</th>\n",
       "      <th>index_lval</th>\n",
       "      <th>index_uval</th>\n",
       "    </tr>\n",
       "  </thead>\n",
       "  <tbody>\n",
       "    <tr>\n",
       "      <th>count</th>\n",
       "      <td>14814.000000</td>\n",
       "      <td>14814.000000</td>\n",
       "      <td>14814.000000</td>\n",
       "      <td>14814.0</td>\n",
       "      <td>14814.0</td>\n",
       "      <td>14814.000000</td>\n",
       "      <td>14814.000000</td>\n",
       "      <td>14814.000000</td>\n",
       "    </tr>\n",
       "    <tr>\n",
       "      <th>mean</th>\n",
       "      <td>7407.500000</td>\n",
       "      <td>23426.015796</td>\n",
       "      <td>10.500000</td>\n",
       "      <td>2016.0</td>\n",
       "      <td>100.0</td>\n",
       "      <td>70.406076</td>\n",
       "      <td>67.375377</td>\n",
       "      <td>73.343531</td>\n",
       "    </tr>\n",
       "    <tr>\n",
       "      <th>std</th>\n",
       "      <td>4276.577779</td>\n",
       "      <td>20769.314002</td>\n",
       "      <td>5.188303</td>\n",
       "      <td>0.0</td>\n",
       "      <td>0.0</td>\n",
       "      <td>17.098366</td>\n",
       "      <td>17.869628</td>\n",
       "      <td>16.325297</td>\n",
       "    </tr>\n",
       "    <tr>\n",
       "      <th>min</th>\n",
       "      <td>1.000000</td>\n",
       "      <td>7.000000</td>\n",
       "      <td>2.000000</td>\n",
       "      <td>2016.0</td>\n",
       "      <td>100.0</td>\n",
       "      <td>24.865511</td>\n",
       "      <td>18.648962</td>\n",
       "      <td>28.266490</td>\n",
       "    </tr>\n",
       "    <tr>\n",
       "      <th>25%</th>\n",
       "      <td>3704.250000</td>\n",
       "      <td>506.000000</td>\n",
       "      <td>6.000000</td>\n",
       "      <td>2016.0</td>\n",
       "      <td>100.0</td>\n",
       "      <td>56.879123</td>\n",
       "      <td>53.155272</td>\n",
       "      <td>60.389445</td>\n",
       "    </tr>\n",
       "    <tr>\n",
       "      <th>50%</th>\n",
       "      <td>7407.500000</td>\n",
       "      <td>35449.000000</td>\n",
       "      <td>10.500000</td>\n",
       "      <td>2016.0</td>\n",
       "      <td>100.0</td>\n",
       "      <td>72.276597</td>\n",
       "      <td>69.510984</td>\n",
       "      <td>75.193237</td>\n",
       "    </tr>\n",
       "    <tr>\n",
       "      <th>75%</th>\n",
       "      <td>11110.750000</td>\n",
       "      <td>44718.000000</td>\n",
       "      <td>15.000000</td>\n",
       "      <td>2016.0</td>\n",
       "      <td>100.0</td>\n",
       "      <td>85.757227</td>\n",
       "      <td>83.389796</td>\n",
       "      <td>87.938033</td>\n",
       "    </tr>\n",
       "    <tr>\n",
       "      <th>max</th>\n",
       "      <td>14814.000000</td>\n",
       "      <td>53432.000000</td>\n",
       "      <td>19.000000</td>\n",
       "      <td>2016.0</td>\n",
       "      <td>100.0</td>\n",
       "      <td>97.871849</td>\n",
       "      <td>96.462240</td>\n",
       "      <td>99.149147</td>\n",
       "    </tr>\n",
       "  </tbody>\n",
       "</table>\n",
       "</div>"
      ],
      "text/plain": [
       "         Unnamed: 0   location_id  age_group_id  year_id  cause_id  \\\n",
       "count  14814.000000  14814.000000  14814.000000  14814.0   14814.0   \n",
       "mean    7407.500000  23426.015796     10.500000   2016.0     100.0   \n",
       "std     4276.577779  20769.314002      5.188303      0.0       0.0   \n",
       "min        1.000000      7.000000      2.000000   2016.0     100.0   \n",
       "25%     3704.250000    506.000000      6.000000   2016.0     100.0   \n",
       "50%     7407.500000  35449.000000     10.500000   2016.0     100.0   \n",
       "75%    11110.750000  44718.000000     15.000000   2016.0     100.0   \n",
       "max    14814.000000  53432.000000     19.000000   2016.0     100.0   \n",
       "\n",
       "              index    index_lval    index_uval  \n",
       "count  14814.000000  14814.000000  14814.000000  \n",
       "mean      70.406076     67.375377     73.343531  \n",
       "std       17.098366     17.869628     16.325297  \n",
       "min       24.865511     18.648962     28.266490  \n",
       "25%       56.879123     53.155272     60.389445  \n",
       "50%       72.276597     69.510984     75.193237  \n",
       "75%       85.757227     83.389796     87.938033  \n",
       "max       97.871849     96.462240     99.149147  "
      ]
     },
     "execution_count": 19,
     "metadata": {},
     "output_type": "execute_result"
    }
   ],
   "source": [
    "haq_by_age_cause_allMostDetLocs.describe()"
   ]
  },
  {
   "cell_type": "markdown",
   "metadata": {},
   "source": [
    "### For the 823 most detailed locs"
   ]
  },
  {
   "cell_type": "code",
   "execution_count": 20,
   "metadata": {},
   "outputs": [
    {
     "data": {
      "text/plain": [
       "823"
      ]
     },
     "execution_count": 20,
     "metadata": {},
     "output_type": "execute_result"
    }
   ],
   "source": [
    "len(haq_by_age_cause_allMostDetLocs['location_id'].unique())"
   ]
  },
  {
   "cell_type": "markdown",
   "metadata": {},
   "source": [
    "### All 18 age groups"
   ]
  },
  {
   "cell_type": "code",
   "execution_count": 21,
   "metadata": {},
   "outputs": [
    {
     "data": {
      "text/plain": [
       "18"
      ]
     },
     "execution_count": 21,
     "metadata": {},
     "output_type": "execute_result"
    }
   ],
   "source": [
    "len(haq_by_age_cause_allMostDetLocs['age_group_id'].unique())"
   ]
  },
  {
   "cell_type": "markdown",
   "metadata": {},
   "source": [
    "### cause_id=100"
   ]
  },
  {
   "cell_type": "code",
   "execution_count": 22,
   "metadata": {},
   "outputs": [
    {
     "data": {
      "text/plain": [
       "1"
      ]
     },
     "execution_count": 22,
     "metadata": {},
     "output_type": "execute_result"
    }
   ],
   "source": [
    "len(haq_by_age_cause_allMostDetLocs['cause_id'].unique())"
   ]
  },
  {
   "cell_type": "code",
   "execution_count": 23,
   "metadata": {},
   "outputs": [],
   "source": [
    "# Log transformation\n",
    "haq_by_age_cause_allMostDetLocs['ln_haq'] = np.log(haq_by_age_cause_allMostDetLocs['index'])"
   ]
  },
  {
   "cell_type": "code",
   "execution_count": 24,
   "metadata": {},
   "outputs": [
    {
     "data": {
      "text/plain": [
       "(14814, 9)"
      ]
     },
     "execution_count": 24,
     "metadata": {},
     "output_type": "execute_result"
    }
   ],
   "source": [
    "haq_by_age_cause_allMostDetLocs.shape"
   ]
  },
  {
   "cell_type": "code",
   "execution_count": 25,
   "metadata": {},
   "outputs": [
    {
     "data": {
      "text/html": [
       "<div>\n",
       "<style scoped>\n",
       "    .dataframe tbody tr th:only-of-type {\n",
       "        vertical-align: middle;\n",
       "    }\n",
       "\n",
       "    .dataframe tbody tr th {\n",
       "        vertical-align: top;\n",
       "    }\n",
       "\n",
       "    .dataframe thead th {\n",
       "        text-align: right;\n",
       "    }\n",
       "</style>\n",
       "<table border=\"1\" class=\"dataframe\">\n",
       "  <thead>\n",
       "    <tr style=\"text-align: right;\">\n",
       "      <th></th>\n",
       "      <th>Unnamed: 0</th>\n",
       "      <th>location_id</th>\n",
       "      <th>age_group_id</th>\n",
       "      <th>year_id</th>\n",
       "      <th>cause_id</th>\n",
       "      <th>index</th>\n",
       "      <th>index_lval</th>\n",
       "      <th>index_uval</th>\n",
       "      <th>ln_haq</th>\n",
       "    </tr>\n",
       "  </thead>\n",
       "  <tbody>\n",
       "    <tr>\n",
       "      <th>0</th>\n",
       "      <td>1</td>\n",
       "      <td>33</td>\n",
       "      <td>2</td>\n",
       "      <td>2016</td>\n",
       "      <td>100</td>\n",
       "      <td>73.000393</td>\n",
       "      <td>70.183681</td>\n",
       "      <td>75.493201</td>\n",
       "      <td>4.290465</td>\n",
       "    </tr>\n",
       "    <tr>\n",
       "      <th>1</th>\n",
       "      <td>2</td>\n",
       "      <td>33</td>\n",
       "      <td>3</td>\n",
       "      <td>2016</td>\n",
       "      <td>100</td>\n",
       "      <td>77.740844</td>\n",
       "      <td>74.594096</td>\n",
       "      <td>80.515749</td>\n",
       "      <td>4.353381</td>\n",
       "    </tr>\n",
       "    <tr>\n",
       "      <th>2</th>\n",
       "      <td>3</td>\n",
       "      <td>33</td>\n",
       "      <td>4</td>\n",
       "      <td>2016</td>\n",
       "      <td>100</td>\n",
       "      <td>72.251495</td>\n",
       "      <td>70.566094</td>\n",
       "      <td>73.985260</td>\n",
       "      <td>4.280153</td>\n",
       "    </tr>\n",
       "    <tr>\n",
       "      <th>3</th>\n",
       "      <td>4</td>\n",
       "      <td>33</td>\n",
       "      <td>5</td>\n",
       "      <td>2016</td>\n",
       "      <td>100</td>\n",
       "      <td>82.300044</td>\n",
       "      <td>79.952787</td>\n",
       "      <td>84.321274</td>\n",
       "      <td>4.410372</td>\n",
       "    </tr>\n",
       "    <tr>\n",
       "      <th>4</th>\n",
       "      <td>5</td>\n",
       "      <td>33</td>\n",
       "      <td>6</td>\n",
       "      <td>2016</td>\n",
       "      <td>100</td>\n",
       "      <td>74.749729</td>\n",
       "      <td>72.884154</td>\n",
       "      <td>76.541786</td>\n",
       "      <td>4.314146</td>\n",
       "    </tr>\n",
       "  </tbody>\n",
       "</table>\n",
       "</div>"
      ],
      "text/plain": [
       "   Unnamed: 0  location_id  age_group_id  year_id  cause_id      index  \\\n",
       "0           1           33             2     2016       100  73.000393   \n",
       "1           2           33             3     2016       100  77.740844   \n",
       "2           3           33             4     2016       100  72.251495   \n",
       "3           4           33             5     2016       100  82.300044   \n",
       "4           5           33             6     2016       100  74.749729   \n",
       "\n",
       "   index_lval  index_uval    ln_haq  \n",
       "0   70.183681   75.493201  4.290465  \n",
       "1   74.594096   80.515749  4.353381  \n",
       "2   70.566094   73.985260  4.280153  \n",
       "3   79.952787   84.321274  4.410372  \n",
       "4   72.884154   76.541786  4.314146  "
      ]
     },
     "execution_count": 25,
     "metadata": {},
     "output_type": "execute_result"
    }
   ],
   "source": [
    "haq_by_age_cause_allMostDetLocs.head()"
   ]
  },
  {
   "cell_type": "markdown",
   "metadata": {},
   "source": [
    "# Merge SDI and age-specific HAQ"
   ]
  },
  {
   "cell_type": "code",
   "execution_count": 26,
   "metadata": {},
   "outputs": [],
   "source": [
    "haq_sdi = pd.merge(sdi_1[['location_id', 'logit_sdi']],\\\n",
    "                   haq_by_age_cause_allMostDetLocs[['location_id', 'age_group_id', 'ln_haq']], on='location_id')"
   ]
  },
  {
   "cell_type": "code",
   "execution_count": 27,
   "metadata": {},
   "outputs": [
    {
     "data": {
      "text/plain": [
       "(14814, 4)"
      ]
     },
     "execution_count": 27,
     "metadata": {},
     "output_type": "execute_result"
    }
   ],
   "source": [
    "haq_sdi.shape"
   ]
  },
  {
   "cell_type": "code",
   "execution_count": 28,
   "metadata": {},
   "outputs": [
    {
     "data": {
      "text/html": [
       "<div>\n",
       "<style scoped>\n",
       "    .dataframe tbody tr th:only-of-type {\n",
       "        vertical-align: middle;\n",
       "    }\n",
       "\n",
       "    .dataframe tbody tr th {\n",
       "        vertical-align: top;\n",
       "    }\n",
       "\n",
       "    .dataframe thead th {\n",
       "        text-align: right;\n",
       "    }\n",
       "</style>\n",
       "<table border=\"1\" class=\"dataframe\">\n",
       "  <thead>\n",
       "    <tr style=\"text-align: right;\">\n",
       "      <th></th>\n",
       "      <th>location_id</th>\n",
       "      <th>logit_sdi</th>\n",
       "      <th>age_group_id</th>\n",
       "      <th>ln_haq</th>\n",
       "    </tr>\n",
       "  </thead>\n",
       "  <tbody>\n",
       "    <tr>\n",
       "      <th>0</th>\n",
       "      <td>7</td>\n",
       "      <td>0.110348</td>\n",
       "      <td>2</td>\n",
       "      <td>3.872641</td>\n",
       "    </tr>\n",
       "    <tr>\n",
       "      <th>1</th>\n",
       "      <td>7</td>\n",
       "      <td>0.110348</td>\n",
       "      <td>3</td>\n",
       "      <td>3.919710</td>\n",
       "    </tr>\n",
       "    <tr>\n",
       "      <th>2</th>\n",
       "      <td>7</td>\n",
       "      <td>0.110348</td>\n",
       "      <td>4</td>\n",
       "      <td>3.796574</td>\n",
       "    </tr>\n",
       "    <tr>\n",
       "      <th>3</th>\n",
       "      <td>7</td>\n",
       "      <td>0.110348</td>\n",
       "      <td>5</td>\n",
       "      <td>4.128603</td>\n",
       "    </tr>\n",
       "    <tr>\n",
       "      <th>4</th>\n",
       "      <td>7</td>\n",
       "      <td>0.110348</td>\n",
       "      <td>6</td>\n",
       "      <td>4.194030</td>\n",
       "    </tr>\n",
       "  </tbody>\n",
       "</table>\n",
       "</div>"
      ],
      "text/plain": [
       "   location_id  logit_sdi  age_group_id    ln_haq\n",
       "0            7   0.110348             2  3.872641\n",
       "1            7   0.110348             3  3.919710\n",
       "2            7   0.110348             4  3.796574\n",
       "3            7   0.110348             5  4.128603\n",
       "4            7   0.110348             6  4.194030"
      ]
     },
     "execution_count": 28,
     "metadata": {},
     "output_type": "execute_result"
    }
   ],
   "source": [
    "haq_sdi.head()"
   ]
  },
  {
   "cell_type": "code",
   "execution_count": 29,
   "metadata": {},
   "outputs": [
    {
     "data": {
      "text/plain": [
       "array([ 2,  3,  4,  5,  6,  7,  8,  9, 10, 11, 12, 13, 14, 15, 16, 17, 18,\n",
       "       19])"
      ]
     },
     "execution_count": 29,
     "metadata": {},
     "output_type": "execute_result"
    }
   ],
   "source": [
    "haq_sdi['age_group_id'].unique()"
   ]
  },
  {
   "cell_type": "code",
   "execution_count": 30,
   "metadata": {},
   "outputs": [
    {
     "data": {
      "text/plain": [
       "823"
      ]
     },
     "execution_count": 30,
     "metadata": {},
     "output_type": "execute_result"
    }
   ],
   "source": [
    "len(haq_sdi['location_id'].unique())"
   ]
  },
  {
   "cell_type": "code",
   "execution_count": 31,
   "metadata": {},
   "outputs": [],
   "source": [
    "# Write out data to CSV \n",
    "haq_sdi.to_csv('/ihme/homes/arjuns13/notebooks/Documents/Data/haq_sdi_perAge_aggregatedCauses_allMostDetLocs.csv')"
   ]
  },
  {
   "cell_type": "code",
   "execution_count": 32,
   "metadata": {},
   "outputs": [],
   "source": [
    "haq_sdi.to_csv('J:\\\\Project\\\\Cost_Effectiveness\\\\NPC\\\\Regression_Analysis\\\\haq_sdi_perAge_aggregatedCauses_allMostDetLocs.csv')"
   ]
  },
  {
   "cell_type": "code",
   "execution_count": null,
   "metadata": {},
   "outputs": [],
   "source": []
  }
 ],
 "metadata": {
  "kernelspec": {
   "display_name": "Python 3",
   "language": "python",
   "name": "python3"
  },
  "language_info": {
   "codemirror_mode": {
    "name": "ipython",
    "version": 3
   },
   "file_extension": ".py",
   "mimetype": "text/x-python",
   "name": "python",
   "nbconvert_exporter": "python",
   "pygments_lexer": "ipython3",
   "version": "3.7.1"
  }
 },
 "nbformat": 4,
 "nbformat_minor": 2
}
