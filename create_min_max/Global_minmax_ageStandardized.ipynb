{
 "cells": [
  {
   "cell_type": "markdown",
   "metadata": {},
   "source": [
    "# Notebook to create the min-max bands for the age-standardized data using the 195 countries"
   ]
  },
  {
   "cell_type": "code",
   "execution_count": 1,
   "metadata": {},
   "outputs": [],
   "source": [
    "import pandas as pd\n",
    "import numpy as np\n",
    "import pickle as pkl\n",
    "import copy\n",
    "import matplotlib.pyplot as plt\n",
    "from db_queries import get_location_metadata\n",
    "%matplotlib inline"
   ]
  },
  {
   "cell_type": "code",
   "execution_count": 2,
   "metadata": {},
   "outputs": [],
   "source": [
    "haq_data_dir = '/share/scratch/projects/hssa/haq/HAQ_2017/vanilla_cc_89_paf_242/draws/'\n",
    "my_data_dir = '/share/scratch/projects/hssa/haq/HAQ_2017/haq_US/'\n",
    "prog_dir = '/homes/arjuns13/haq/haq/risk_standardized_amen_mort/'\n",
    "my_data_dir_cancer = '/share/scratch/projects/hssa/haq/HAQ_2017/haq_2017_latest_cancer/cancers_age_std_all_most_det_locs/'\n",
    "years = [2016]#[1990, 1995, 2000, 2005, 2010, 2015, 2016, 2017]"
   ]
  },
  {
   "cell_type": "markdown",
   "metadata": {},
   "source": [
    "### Using only the countries for getting the min-max values and then the 823 most detailed locations for the subsequent analysis"
   ]
  },
  {
   "cell_type": "code",
   "execution_count": 3,
   "metadata": {},
   "outputs": [],
   "source": [
    "locsdf = get_location_metadata(gbd_round_id=5, location_set_id=35)\n",
    "causelist = pd.read_csv(prog_dir+'amenable_cause_list_GBD.csv')"
   ]
  },
  {
   "cell_type": "code",
   "execution_count": 4,
   "metadata": {},
   "outputs": [],
   "source": [
    "loc_US = locsdf[locsdf['location_id']==102]['location_id']"
   ]
  },
  {
   "cell_type": "code",
   "execution_count": 5,
   "metadata": {},
   "outputs": [
    {
     "data": {
      "text/plain": [
       "181    102\n",
       "Name: location_id, dtype: int64"
      ]
     },
     "execution_count": 5,
     "metadata": {},
     "output_type": "execute_result"
    }
   ],
   "source": [
    "loc_US"
   ]
  },
  {
   "cell_type": "code",
   "execution_count": null,
   "metadata": {},
   "outputs": [],
   "source": [
    "country_lids = locsdf.loc[locsdf['level'] == 3, 'location_id'].values\n",
    "state_lids = locsdf.loc[locsdf['parent_id']==102,'location_id'].values"
   ]
  },
  {
   "cell_type": "code",
   "execution_count": null,
   "metadata": {},
   "outputs": [],
   "source": [
    "most_det_locs = locsdf[locsdf['most_detailed']==1]"
   ]
  },
  {
   "cell_type": "code",
   "execution_count": null,
   "metadata": {},
   "outputs": [],
   "source": [
    "most_det_locs = most_det_locs['location_id']"
   ]
  },
  {
   "cell_type": "code",
   "execution_count": null,
   "metadata": {},
   "outputs": [],
   "source": [
    "len(list(most_det_locs))"
   ]
  },
  {
   "cell_type": "code",
   "execution_count": null,
   "metadata": {},
   "outputs": [],
   "source": [
    "len(country_lids)"
   ]
  },
  {
   "cell_type": "code",
   "execution_count": null,
   "metadata": {},
   "outputs": [],
   "source": [
    "def getmaxquantile(x):\n",
    "    val = x.rsval.quantile(q=0.99)\n",
    "    return pd.Series({'rs_max':val})\n",
    "\n",
    "def getminquantile(x):\n",
    "    val = x.rsval.quantile(q=0.01)\n",
    "    return pd.Series({'rs_min':val})"
   ]
  },
  {
   "cell_type": "code",
   "execution_count": null,
   "metadata": {},
   "outputs": [],
   "source": [
    "consolidated_limits  = {\n",
    "    297:{'age_start':4,\n",
    "        'age_end':19},\n",
    "    302:{'age_start':2,\n",
    "        'age_end':7},\n",
    "    322:{'age_start':2,\n",
    "        'age_end':19},\n",
    "    328:{'age_start':2,\n",
    "        'age_end':19},\n",
    "    338:{'age_start':4,\n",
    "        'age_end':16},\n",
    "    339:{'age_start':4,\n",
    "        'age_end':7},\n",
    "    340:{'age_start':2,\n",
    "        'age_end':19},\n",
    "    341:{'age_start':5,\n",
    "        'age_end':7},\n",
    "    366:{'age_start':7,\n",
    "        'age_end':15},\n",
    "    380:{'age_start':2,\n",
    "        'age_end':5},\n",
    "    849:{'age_start':8,\n",
    "        'age_end':19},\n",
    "    429:{'age_start':8,\n",
    "        'age_end':19},\n",
    "    432:{'age_start':8,\n",
    "        'age_end':19},\n",
    "    435:{'age_start':8,\n",
    "        'age_end':13},\n",
    "    441:{'age_start':8,\n",
    "        'age_end':19},\n",
    "    468:{'age_start':8,\n",
    "        'age_end':19},\n",
    "    484:{'age_start':4,\n",
    "        'age_end':19},\n",
    "    487:{'age_start':4,\n",
    "        'age_end':13},\n",
    "    492:{'age_start':5,\n",
    "        'age_end':19},\n",
    "    493:{'age_start':4,\n",
    "        'age_end':19},\n",
    "    494:{'age_start':2,\n",
    "        'age_end':19},\n",
    "    498:{'age_start':4,\n",
    "        'age_end':19},\n",
    "    508:{'age_start':5,\n",
    "        'age_end':7},\n",
    "    527:{'age_start':5,\n",
    "        'age_end':19},\n",
    "    529:{'age_start':5,\n",
    "        'age_end':19},\n",
    "    531:{'age_start':5,\n",
    "        'age_end':19},\n",
    "    534:{'age_start':5,\n",
    "        'age_end':19},\n",
    "    545:{'age_start':4,\n",
    "        'age_end':19},\n",
    "    587:{'age_start':2,\n",
    "        'age_end':14},\n",
    "    589:{'age_start':4,\n",
    "        'age_end':19},\n",
    "    643:{'age_start':2,\n",
    "        'age_end':18},\n",
    "    708:{'age_start':2,\n",
    "        'age_end':19}\n",
    "}\n",
    "cause_limits = pd.DataFrame(consolidated_limits) \n",
    "cause_limits = cause_limits.T.reset_index()\n",
    "cause_limits = cause_limits.rename(index=str, columns={'index':'cause_id'})"
   ]
  },
  {
   "cell_type": "code",
   "execution_count": null,
   "metadata": {},
   "outputs": [],
   "source": [
    "len(consolidated_limits)"
   ]
  },
  {
   "cell_type": "code",
   "execution_count": null,
   "metadata": {
    "scrolled": true
   },
   "outputs": [],
   "source": [
    "most_det_locs.shape"
   ]
  },
  {
   "cell_type": "markdown",
   "metadata": {},
   "source": [
    "### Combined global data - non cancer for age-standardized and all most detailed locs"
   ]
  },
  {
   "cell_type": "code",
   "execution_count": null,
   "metadata": {
    "scrolled": true
   },
   "outputs": [],
   "source": [
    "global_data_noncancer_ageStd =[]\n",
    "for y in years:\n",
    "    print('Processing: ',y)\n",
    "    for i in list(country_lids):\n",
    "        print('Processing loc: ',i)\n",
    "        df = pd.read_csv(my_data_dir+'std_all_most_det_locs_age_std/'+str(y)+'/'+str(i)+'.csv')\n",
    "        # dropping cancer\n",
    "        df = df[~df['cause_id'].isin([849, 429, 432, 435, 441, 468, 484, 487])]\n",
    "        \n",
    "        df = df.merge(cause_limits,on='cause_id')\n",
    "        \n",
    "        global_data_noncancer_ageStd.append(df)\n",
    "        \n",
    "global_data_noncancer_ageStd = pd.concat(global_data_noncancer_ageStd, axis=0)"
   ]
  },
  {
   "cell_type": "code",
   "execution_count": null,
   "metadata": {},
   "outputs": [],
   "source": [
    "df.head()"
   ]
  },
  {
   "cell_type": "code",
   "execution_count": null,
   "metadata": {},
   "outputs": [],
   "source": [
    "global_data_noncancer_ageStd.head()"
   ]
  },
  {
   "cell_type": "code",
   "execution_count": null,
   "metadata": {},
   "outputs": [],
   "source": [
    "df.memory_usage()"
   ]
  },
  {
   "cell_type": "code",
   "execution_count": null,
   "metadata": {},
   "outputs": [],
   "source": [
    "global_data_noncancer_ageStd.memory_usage()"
   ]
  },
  {
   "cell_type": "markdown",
   "metadata": {},
   "source": [
    "### Combined global data - cancer"
   ]
  },
  {
   "cell_type": "code",
   "execution_count": null,
   "metadata": {},
   "outputs": [],
   "source": [
    "global_data_cancer_ageStd =[]\n",
    "for y in years:\n",
    "    print('Processing: ',y)\n",
    "    for i in list(country_lids):\n",
    "        print('Processing loc: ',i)\n",
    "        df = pd.read_csv(my_data_dir_cancer+str(y)+'/'+str(i)+'.csv')\n",
    "        # keeping only cancer\n",
    "        df = df[df['cause_id'].isin([849, 429, 432, 435, 441, 468, 484, 487])]\n",
    "        \n",
    "        df = df.merge(cause_limits,on='cause_id')\n",
    "        \n",
    "        global_data_cancer_ageStd.append(df)\n",
    "        \n",
    "global_data_cancer_ageStd = pd.concat(global_data_cancer_ageStd, axis=0)"
   ]
  },
  {
   "cell_type": "code",
   "execution_count": null,
   "metadata": {},
   "outputs": [],
   "source": [
    "df.memory_usage()"
   ]
  },
  {
   "cell_type": "code",
   "execution_count": null,
   "metadata": {},
   "outputs": [],
   "source": [
    "global_data_cancer_ageStd.memory_usage()"
   ]
  },
  {
   "cell_type": "code",
   "execution_count": null,
   "metadata": {},
   "outputs": [],
   "source": [
    "global_data_cancer_ageStd.head()"
   ]
  },
  {
   "cell_type": "markdown",
   "metadata": {},
   "source": [
    "### Calculating Global Minmax - By age and draw"
   ]
  },
  {
   "cell_type": "code",
   "execution_count": null,
   "metadata": {},
   "outputs": [],
   "source": [
    "#global_data_noncancer_ageStd = pd.read_csv(my_data_dir+'combined_data/global_data/' + 'global_noncancer_mostDetLocs_ageStd.csv')\n",
    "#global_data_cancer_ageStd = pd.read_csv(my_data_dir+'combined_data/global_data/' + 'global_cancer_mostDetLocs_ageStd.csv')"
   ]
  },
  {
   "cell_type": "code",
   "execution_count": null,
   "metadata": {},
   "outputs": [],
   "source": [
    "print(\"####### Non Cancer ###########\")\n",
    "print(\"Calculating Max across years and location.\")\n",
    "dfmax_nc = global_data_noncancer_ageStd.groupby(['cause_id','age_group_id','draw']).apply(getmaxquantile).reset_index()\n",
    "print(\"Calculating Min across years and location.\")\n",
    "dfmin_nc = global_data_noncancer_ageStd.groupby(['cause_id','age_group_id','draw']).apply(getminquantile).reset_index()\n",
    "\n",
    "print(\"####### Cancer ###########\")\n",
    "\n",
    "print(\"Calculating Max across years and location.\")\n",
    "dfmax_c = global_data_cancer_ageStd.groupby(['cause_id','age_group_id','draw']).apply(getmaxquantile).reset_index()\n",
    "print(\"Calculating Min across years and location.\")\n",
    "dfmin_c = global_data_cancer_ageStd.groupby(['cause_id','age_group_id','draw']).apply(getminquantile).reset_index()"
   ]
  },
  {
   "cell_type": "code",
   "execution_count": null,
   "metadata": {},
   "outputs": [],
   "source": [
    "print(\"Saving Non-cancer minmax\")\n",
    "min_max_noncancer_ageStd =dfmin_nc.merge(dfmax_nc,on=['cause_id','draw','age_group_id'])\n",
    "min_max_noncancer_ageStd.to_csv(my_data_dir+'combined_data/min_max/minmax_noncancer_ageStd.csv',index=False)\n",
    "print(\"Saving Cancer minmax\")\n",
    "min_max_cancer_ageStd =dfmin_c.merge(dfmax_c,on=['cause_id','draw','age_group_id'])\n",
    "min_max_cancer_ageStd.to_csv(my_data_dir+'combined_data/min_max/minmax_cancer_ageStd.csv',index=False)"
   ]
  },
  {
   "cell_type": "code",
   "execution_count": null,
   "metadata": {},
   "outputs": [],
   "source": [
    "dfmax_nc.shape"
   ]
  },
  {
   "cell_type": "code",
   "execution_count": null,
   "metadata": {},
   "outputs": [],
   "source": [
    "dfmin_nc.head()"
   ]
  },
  {
   "cell_type": "code",
   "execution_count": null,
   "metadata": {},
   "outputs": [],
   "source": [
    "dfmax_c.shape"
   ]
  },
  {
   "cell_type": "code",
   "execution_count": null,
   "metadata": {},
   "outputs": [],
   "source": [
    "dfmax_c.head()"
   ]
  },
  {
   "cell_type": "code",
   "execution_count": null,
   "metadata": {},
   "outputs": [],
   "source": [
    "dfmin_c.head()"
   ]
  },
  {
   "cell_type": "code",
   "execution_count": null,
   "metadata": {},
   "outputs": [],
   "source": []
  }
 ],
 "metadata": {
  "anaconda-cloud": {},
  "kernelspec": {
   "display_name": "Python 3",
   "language": "python",
   "name": "python3"
  },
  "language_info": {
   "codemirror_mode": {
    "name": "ipython",
    "version": 3
   },
   "file_extension": ".py",
   "mimetype": "text/x-python",
   "name": "python",
   "nbconvert_exporter": "python",
   "pygments_lexer": "ipython3",
   "version": "3.7.1"
  }
 },
 "nbformat": 4,
 "nbformat_minor": 1
}
