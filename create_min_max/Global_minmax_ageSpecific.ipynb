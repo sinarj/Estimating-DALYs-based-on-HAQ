{
 "cells": [
  {
   "cell_type": "markdown",
   "metadata": {},
   "source": [
    "# Notebook to create the min-max bands for the age-specific data using the 195 countries"
   ]
  },
  {
   "cell_type": "code",
   "execution_count": 1,
   "metadata": {},
   "outputs": [],
   "source": [
    "import pandas as pd\n",
    "import numpy as np\n",
    "import pickle as pkl\n",
    "import copy\n",
    "import matplotlib.pyplot as plt\n",
    "from db_queries import get_location_metadata\n",
    "%matplotlib inline"
   ]
  },
  {
   "cell_type": "code",
   "execution_count": 2,
   "metadata": {},
   "outputs": [],
   "source": [
    "haq_data_dir = '/share/scratch/projects/hssa/haq/HAQ_2017/vanilla_cc_89_paf_242/draws/'\n",
    "my_data_dir = '/share/scratch/projects/hssa/haq/HAQ_2017/haq_US/'\n",
    "prog_dir = '/homes/arjuns13/haq/haq/risk_standardized_amen_mort/'\n",
    "my_data_dir_cancer = '/share/scratch/projects/hssa/haq/HAQ_2017/haq_2017_latest_cancer/cancers/'\n",
    "years = [1990, 1995, 2000, 2005, 2010, 2015, 2016, 2017]"
   ]
  },
  {
   "cell_type": "markdown",
   "metadata": {},
   "source": [
    "### Location -filtering 195 coutries. HAQ min-max calculations are indeed supposed to be done using all of the 195 countries"
   ]
  },
  {
   "cell_type": "code",
   "execution_count": 5,
   "metadata": {},
   "outputs": [],
   "source": [
    "locsdf = get_location_metadata(gbd_round_id=5, location_set_id=35)\n",
    "causelist = pd.read_csv(prog_dir+'amenable_cause_list_GBD.csv')"
   ]
  },
  {
   "cell_type": "code",
   "execution_count": 6,
   "metadata": {},
   "outputs": [
    {
     "data": {
      "text/plain": [
       "(32, 8)"
      ]
     },
     "execution_count": 6,
     "metadata": {},
     "output_type": "execute_result"
    }
   ],
   "source": [
    "causelist.shape"
   ]
  },
  {
   "cell_type": "code",
   "execution_count": 7,
   "metadata": {},
   "outputs": [],
   "source": [
    "country_lids = locsdf.loc[locsdf['level'] == 3, 'location_id'].values\n",
    "state_lids = locsdf.loc[locsdf['parent_id']==102,'location_id'].values"
   ]
  },
  {
   "cell_type": "code",
   "execution_count": 8,
   "metadata": {},
   "outputs": [],
   "source": [
    "def getmaxquantile(x):\n",
    "    val = x.rsval.quantile(q=0.99)\n",
    "    return pd.Series({'rs_max':val})\n",
    "\n",
    "def getminquantile(x):\n",
    "    val = x.rsval.quantile(q=0.01)\n",
    "    return pd.Series({'rs_min':val})"
   ]
  },
  {
   "cell_type": "code",
   "execution_count": 9,
   "metadata": {},
   "outputs": [],
   "source": [
    "consolidated_limits  = {\n",
    "    297:{'age_start':4,\n",
    "        'age_end':19},\n",
    "    302:{'age_start':2,\n",
    "        'age_end':7},\n",
    "    322:{'age_start':2,\n",
    "        'age_end':19},\n",
    "    328:{'age_start':2,\n",
    "        'age_end':19},\n",
    "    338:{'age_start':4,\n",
    "        'age_end':16},\n",
    "    339:{'age_start':4,\n",
    "        'age_end':7},\n",
    "    340:{'age_start':2,\n",
    "        'age_end':19},\n",
    "    341:{'age_start':5,\n",
    "        'age_end':7},\n",
    "    366:{'age_start':7,\n",
    "        'age_end':15},\n",
    "    380:{'age_start':2,\n",
    "        'age_end':5},\n",
    "    849:{'age_start':8,\n",
    "        'age_end':19},\n",
    "    429:{'age_start':8,\n",
    "        'age_end':19},\n",
    "    432:{'age_start':8,\n",
    "        'age_end':19},\n",
    "    435:{'age_start':8,\n",
    "        'age_end':13},\n",
    "    441:{'age_start':8,\n",
    "        'age_end':19},\n",
    "    468:{'age_start':8,\n",
    "        'age_end':19},\n",
    "    484:{'age_start':4,\n",
    "        'age_end':19},\n",
    "    487:{'age_start':4,\n",
    "        'age_end':13},\n",
    "    492:{'age_start':5,\n",
    "        'age_end':19},\n",
    "    493:{'age_start':4,\n",
    "        'age_end':19},\n",
    "    494:{'age_start':2,\n",
    "        'age_end':19},\n",
    "    498:{'age_start':4,\n",
    "        'age_end':19},\n",
    "    508:{'age_start':5,\n",
    "        'age_end':7},\n",
    "    527:{'age_start':5,\n",
    "        'age_end':19},\n",
    "    529:{'age_start':5,\n",
    "        'age_end':19},\n",
    "    531:{'age_start':5,\n",
    "        'age_end':19},\n",
    "    534:{'age_start':5,\n",
    "        'age_end':19},\n",
    "    545:{'age_start':4,\n",
    "        'age_end':19},\n",
    "    587:{'age_start':2,\n",
    "        'age_end':14},\n",
    "    589:{'age_start':4,\n",
    "        'age_end':19},\n",
    "    643:{'age_start':2,\n",
    "        'age_end':18},\n",
    "    708:{'age_start':2,\n",
    "        'age_end':19}\n",
    "}\n",
    "cause_limits = pd.DataFrame(consolidated_limits) \n",
    "cause_limits = cause_limits.T.reset_index()\n",
    "cause_limits = cause_limits.rename(index=str, columns={'index':'cause_id'})"
   ]
  },
  {
   "cell_type": "code",
   "execution_count": 10,
   "metadata": {},
   "outputs": [
    {
     "data": {
      "text/plain": [
       "32"
      ]
     },
     "execution_count": 10,
     "metadata": {},
     "output_type": "execute_result"
    }
   ],
   "source": [
    "len(consolidated_limits)"
   ]
  },
  {
   "cell_type": "code",
   "execution_count": 11,
   "metadata": {},
   "outputs": [
    {
     "data": {
      "text/html": [
       "<div>\n",
       "<style scoped>\n",
       "    .dataframe tbody tr th:only-of-type {\n",
       "        vertical-align: middle;\n",
       "    }\n",
       "\n",
       "    .dataframe tbody tr th {\n",
       "        vertical-align: top;\n",
       "    }\n",
       "\n",
       "    .dataframe thead th {\n",
       "        text-align: right;\n",
       "    }\n",
       "</style>\n",
       "<table border=\"1\" class=\"dataframe\">\n",
       "  <thead>\n",
       "    <tr style=\"text-align: right;\">\n",
       "      <th></th>\n",
       "      <th>cause_id</th>\n",
       "      <th>age_end</th>\n",
       "      <th>age_start</th>\n",
       "    </tr>\n",
       "  </thead>\n",
       "  <tbody>\n",
       "    <tr>\n",
       "      <th>0</th>\n",
       "      <td>297</td>\n",
       "      <td>19</td>\n",
       "      <td>4</td>\n",
       "    </tr>\n",
       "    <tr>\n",
       "      <th>1</th>\n",
       "      <td>302</td>\n",
       "      <td>7</td>\n",
       "      <td>2</td>\n",
       "    </tr>\n",
       "    <tr>\n",
       "      <th>2</th>\n",
       "      <td>322</td>\n",
       "      <td>19</td>\n",
       "      <td>2</td>\n",
       "    </tr>\n",
       "    <tr>\n",
       "      <th>3</th>\n",
       "      <td>328</td>\n",
       "      <td>19</td>\n",
       "      <td>2</td>\n",
       "    </tr>\n",
       "    <tr>\n",
       "      <th>4</th>\n",
       "      <td>338</td>\n",
       "      <td>16</td>\n",
       "      <td>4</td>\n",
       "    </tr>\n",
       "    <tr>\n",
       "      <th>5</th>\n",
       "      <td>339</td>\n",
       "      <td>7</td>\n",
       "      <td>4</td>\n",
       "    </tr>\n",
       "    <tr>\n",
       "      <th>6</th>\n",
       "      <td>340</td>\n",
       "      <td>19</td>\n",
       "      <td>2</td>\n",
       "    </tr>\n",
       "    <tr>\n",
       "      <th>7</th>\n",
       "      <td>341</td>\n",
       "      <td>7</td>\n",
       "      <td>5</td>\n",
       "    </tr>\n",
       "    <tr>\n",
       "      <th>8</th>\n",
       "      <td>366</td>\n",
       "      <td>15</td>\n",
       "      <td>7</td>\n",
       "    </tr>\n",
       "    <tr>\n",
       "      <th>9</th>\n",
       "      <td>380</td>\n",
       "      <td>5</td>\n",
       "      <td>2</td>\n",
       "    </tr>\n",
       "    <tr>\n",
       "      <th>10</th>\n",
       "      <td>849</td>\n",
       "      <td>19</td>\n",
       "      <td>8</td>\n",
       "    </tr>\n",
       "    <tr>\n",
       "      <th>11</th>\n",
       "      <td>429</td>\n",
       "      <td>19</td>\n",
       "      <td>8</td>\n",
       "    </tr>\n",
       "    <tr>\n",
       "      <th>12</th>\n",
       "      <td>432</td>\n",
       "      <td>19</td>\n",
       "      <td>8</td>\n",
       "    </tr>\n",
       "    <tr>\n",
       "      <th>13</th>\n",
       "      <td>435</td>\n",
       "      <td>13</td>\n",
       "      <td>8</td>\n",
       "    </tr>\n",
       "    <tr>\n",
       "      <th>14</th>\n",
       "      <td>441</td>\n",
       "      <td>19</td>\n",
       "      <td>8</td>\n",
       "    </tr>\n",
       "    <tr>\n",
       "      <th>15</th>\n",
       "      <td>468</td>\n",
       "      <td>19</td>\n",
       "      <td>8</td>\n",
       "    </tr>\n",
       "    <tr>\n",
       "      <th>16</th>\n",
       "      <td>484</td>\n",
       "      <td>19</td>\n",
       "      <td>4</td>\n",
       "    </tr>\n",
       "    <tr>\n",
       "      <th>17</th>\n",
       "      <td>487</td>\n",
       "      <td>13</td>\n",
       "      <td>4</td>\n",
       "    </tr>\n",
       "    <tr>\n",
       "      <th>18</th>\n",
       "      <td>492</td>\n",
       "      <td>19</td>\n",
       "      <td>5</td>\n",
       "    </tr>\n",
       "    <tr>\n",
       "      <th>19</th>\n",
       "      <td>493</td>\n",
       "      <td>19</td>\n",
       "      <td>4</td>\n",
       "    </tr>\n",
       "    <tr>\n",
       "      <th>20</th>\n",
       "      <td>494</td>\n",
       "      <td>19</td>\n",
       "      <td>2</td>\n",
       "    </tr>\n",
       "    <tr>\n",
       "      <th>21</th>\n",
       "      <td>498</td>\n",
       "      <td>19</td>\n",
       "      <td>4</td>\n",
       "    </tr>\n",
       "    <tr>\n",
       "      <th>22</th>\n",
       "      <td>508</td>\n",
       "      <td>7</td>\n",
       "      <td>5</td>\n",
       "    </tr>\n",
       "    <tr>\n",
       "      <th>23</th>\n",
       "      <td>527</td>\n",
       "      <td>19</td>\n",
       "      <td>5</td>\n",
       "    </tr>\n",
       "    <tr>\n",
       "      <th>24</th>\n",
       "      <td>529</td>\n",
       "      <td>19</td>\n",
       "      <td>5</td>\n",
       "    </tr>\n",
       "    <tr>\n",
       "      <th>25</th>\n",
       "      <td>531</td>\n",
       "      <td>19</td>\n",
       "      <td>5</td>\n",
       "    </tr>\n",
       "    <tr>\n",
       "      <th>26</th>\n",
       "      <td>534</td>\n",
       "      <td>19</td>\n",
       "      <td>5</td>\n",
       "    </tr>\n",
       "    <tr>\n",
       "      <th>27</th>\n",
       "      <td>545</td>\n",
       "      <td>19</td>\n",
       "      <td>4</td>\n",
       "    </tr>\n",
       "    <tr>\n",
       "      <th>28</th>\n",
       "      <td>587</td>\n",
       "      <td>14</td>\n",
       "      <td>2</td>\n",
       "    </tr>\n",
       "    <tr>\n",
       "      <th>29</th>\n",
       "      <td>589</td>\n",
       "      <td>19</td>\n",
       "      <td>4</td>\n",
       "    </tr>\n",
       "    <tr>\n",
       "      <th>30</th>\n",
       "      <td>643</td>\n",
       "      <td>18</td>\n",
       "      <td>2</td>\n",
       "    </tr>\n",
       "    <tr>\n",
       "      <th>31</th>\n",
       "      <td>708</td>\n",
       "      <td>19</td>\n",
       "      <td>2</td>\n",
       "    </tr>\n",
       "  </tbody>\n",
       "</table>\n",
       "</div>"
      ],
      "text/plain": [
       "    cause_id  age_end  age_start\n",
       "0        297       19          4\n",
       "1        302        7          2\n",
       "2        322       19          2\n",
       "3        328       19          2\n",
       "4        338       16          4\n",
       "5        339        7          4\n",
       "6        340       19          2\n",
       "7        341        7          5\n",
       "8        366       15          7\n",
       "9        380        5          2\n",
       "10       849       19          8\n",
       "11       429       19          8\n",
       "12       432       19          8\n",
       "13       435       13          8\n",
       "14       441       19          8\n",
       "15       468       19          8\n",
       "16       484       19          4\n",
       "17       487       13          4\n",
       "18       492       19          5\n",
       "19       493       19          4\n",
       "20       494       19          2\n",
       "21       498       19          4\n",
       "22       508        7          5\n",
       "23       527       19          5\n",
       "24       529       19          5\n",
       "25       531       19          5\n",
       "26       534       19          5\n",
       "27       545       19          4\n",
       "28       587       14          2\n",
       "29       589       19          4\n",
       "30       643       18          2\n",
       "31       708       19          2"
      ]
     },
     "execution_count": 11,
     "metadata": {},
     "output_type": "execute_result"
    }
   ],
   "source": [
    "cause_limits"
   ]
  },
  {
   "cell_type": "markdown",
   "metadata": {},
   "source": [
    "### Combined global data - non cancer"
   ]
  },
  {
   "cell_type": "code",
   "execution_count": null,
   "metadata": {
    "scrolled": true
   },
   "outputs": [],
   "source": [
    "global_data_noncancer =[]\n",
    "for y in years:\n",
    "    print('Processing: ',y)\n",
    "    for i in country_lids:\n",
    "        df = pd.read_csv(my_data_dir+'standardized/'+str(y)+'/'+str(i)+'.csv')\n",
    "        # dropping cancer\n",
    "        df = df[~df['cause_id'].isin([849, 429, 432, 435, 441, 468, 484, 487])]\n",
    "        \n",
    "        df = df.merge(cause_limits,on='cause_id')\n",
    "        df = df[(df['age_group_id'] >= df['age_start'])&(df['age_group_id'] <= df['age_end'])]\n",
    "        df = df.drop(['age_end','age_start'],axis=1)\n",
    "        \n",
    "        global_data_noncancer.append(df)\n",
    "        \n",
    "global_data_noncancer = pd.concat(global_data_noncancer, axis=0)"
   ]
  },
  {
   "cell_type": "code",
   "execution_count": null,
   "metadata": {},
   "outputs": [],
   "source": [
    "df.head()"
   ]
  },
  {
   "cell_type": "code",
   "execution_count": null,
   "metadata": {},
   "outputs": [],
   "source": [
    "global_data_noncancer.head()"
   ]
  },
  {
   "cell_type": "code",
   "execution_count": null,
   "metadata": {},
   "outputs": [],
   "source": [
    "df.memory_usage()"
   ]
  },
  {
   "cell_type": "code",
   "execution_count": null,
   "metadata": {},
   "outputs": [],
   "source": [
    "global_data_noncancer.memory_usage()"
   ]
  },
  {
   "cell_type": "code",
   "execution_count": null,
   "metadata": {},
   "outputs": [],
   "source": [
    "# Filtering out unnecessary age groups and saving.\n",
    "print(\"Saving to \", my_data_dir+'combined_data/global_data/')\n",
    "global_data_noncancer.to_csv(my_data_dir+'combined_data/global_data/' + 'global_noncancer_v2.csv',index=False)"
   ]
  },
  {
   "cell_type": "markdown",
   "metadata": {},
   "source": [
    "### Combined global data - cancer"
   ]
  },
  {
   "cell_type": "code",
   "execution_count": null,
   "metadata": {},
   "outputs": [],
   "source": [
    "global_data_cancer =[]\n",
    "for y in years:\n",
    "    print('Processing: ',y)\n",
    "    for i in country_lids:\n",
    "        df = pd.read_csv(my_data_dir_cancer+str(y)+'/'+str(i)+'.csv')\n",
    "        # keeping only cancer\n",
    "        df = df[df['cause_id'].isin([849, 429, 432, 435, 441, 468, 484, 487])]\n",
    "        \n",
    "        df = df.merge(cause_limits,on='cause_id')\n",
    "        df = df[(df['age_group_id'] >= df['age_start'])&(df['age_group_id'] <= df['age_end'])]\n",
    "        df = df.drop(['age_end','age_start'],axis=1)\n",
    "        \n",
    "        global_data_cancer.append(df)\n",
    "        \n",
    "global_data_cancer = pd.concat(global_data_cancer, axis=0)"
   ]
  },
  {
   "cell_type": "code",
   "execution_count": null,
   "metadata": {},
   "outputs": [],
   "source": [
    "df.memory_usage()"
   ]
  },
  {
   "cell_type": "code",
   "execution_count": null,
   "metadata": {},
   "outputs": [],
   "source": [
    "global_data_cancer.memory_usage()"
   ]
  },
  {
   "cell_type": "code",
   "execution_count": null,
   "metadata": {},
   "outputs": [],
   "source": [
    "# Filtering out unnecessary age groups and saving.\n",
    "print(\"Saving to \", my_data_dir+'combined_data/global_data/')\n",
    "global_data_cancer.to_csv(my_data_dir+'combined_data/global_data/' + 'global_cancer_v2.csv',index=False)"
   ]
  },
  {
   "cell_type": "markdown",
   "metadata": {},
   "source": [
    "### Calculating Global Minmax - By age and draw"
   ]
  },
  {
   "cell_type": "code",
   "execution_count": 3,
   "metadata": {},
   "outputs": [],
   "source": [
    "global_data_noncancer = pd.read_csv(my_data_dir+'combined_data/global_data/' + 'global_noncancer_v2.csv')\n",
    "global_data_cancer = pd.read_csv(my_data_dir+'combined_data/global_data/' + 'global_cancer_v2.csv')"
   ]
  },
  {
   "cell_type": "code",
   "execution_count": 12,
   "metadata": {},
   "outputs": [
    {
     "name": "stdout",
     "output_type": "stream",
     "text": [
      "####### Non Cancer ###########\n",
      "Calculating Max across years and location.\n",
      "Calculating Min across years and location.\n",
      "####### Cancer ###########\n",
      "Calculating Max across years and location.\n",
      "Calculating Min across years and location.\n"
     ]
    }
   ],
   "source": [
    "print(\"####### Non Cancer ###########\")\n",
    "print(\"Calculating Max across years and location.\")\n",
    "dfmax_nc = global_data_noncancer.groupby(['cause_id','age_group_id','draw']).apply(getmaxquantile).reset_index()\n",
    "print(\"Calculating Min across years and location.\")\n",
    "dfmin_nc = global_data_noncancer.groupby(['cause_id','age_group_id','draw']).apply(getminquantile).reset_index()\n",
    "\n",
    "print(\"####### Cancer ###########\")\n",
    "\n",
    "print(\"Calculating Max across years and location.\")\n",
    "dfmax_c = global_data_cancer.groupby(['cause_id','age_group_id','draw']).apply(getmaxquantile).reset_index()\n",
    "print(\"Calculating Min across years and location.\")\n",
    "dfmin_c = global_data_cancer.groupby(['cause_id','age_group_id','draw']).apply(getminquantile).reset_index()"
   ]
  },
  {
   "cell_type": "code",
   "execution_count": 13,
   "metadata": {},
   "outputs": [
    {
     "name": "stdout",
     "output_type": "stream",
     "text": [
      "Saving Non-cancer minmax\n",
      "Saving Cancer minmax\n"
     ]
    }
   ],
   "source": [
    "print(\"Saving Non-cancer minmax\")\n",
    "min_max_noncancer =dfmin_nc.merge(dfmax_nc,on=['cause_id','draw','age_group_id'])\n",
    "min_max_noncancer.to_csv(my_data_dir+'combined_data/min_max/minmax_noncancer_v2.csv',index=False)\n",
    "print(\"Saving Cancer minmax\")\n",
    "min_max_cancer =dfmin_c.merge(dfmax_c,on=['cause_id','draw','age_group_id'])\n",
    "min_max_cancer.to_csv(my_data_dir+'combined_data/min_max/minmax_cancer_v2.csv',index=False)"
   ]
  },
  {
   "cell_type": "markdown",
   "metadata": {},
   "source": [
    "### Combined data - peer regions (Western Europe, Australasia, S. Latin America etc.)"
   ]
  },
  {
   "cell_type": "code",
   "execution_count": 14,
   "metadata": {},
   "outputs": [
    {
     "name": "stdout",
     "output_type": "stream",
     "text": [
      "Processing:  1990\n",
      "Processing:  1995\n",
      "Processing:  2000\n",
      "Processing:  2005\n",
      "Processing:  2010\n",
      "Processing:  2015\n",
      "Processing:  2016\n",
      "Processing:  2017\n",
      "Saving to  /share/scratch/projects/hssa/haq/HAQ_2017/haq_US/combined_data/global_data/\n",
      "Processing:  1990\n",
      "Processing:  1995\n",
      "Processing:  2000\n",
      "Processing:  2005\n",
      "Processing:  2010\n",
      "Processing:  2015\n",
      "Processing:  2016\n",
      "Processing:  2017\n",
      "Saving to  /share/scratch/projects/hssa/haq/HAQ_2017/haq_US/combined_data/global_data/\n"
     ]
    }
   ],
   "source": [
    "peer_locs = (65,70,73,96,101,102)\n",
    "peer_data_noncancer =[]\n",
    "peer_data_cancer =[]\n",
    "for y in years:\n",
    "    print('Processing: ',y)\n",
    "    for i in peer_locs:\n",
    "        df = pd.read_csv(my_data_dir+'standardized/'+str(y)+'/'+str(i)+'.csv')\n",
    "        # dropping cancer\n",
    "        df = df[~df['cause_id'].isin([849, 429, 432, 435, 441, 468, 484, 487])]\n",
    "        \n",
    "        df = df.merge(cause_limits,on='cause_id')\n",
    "        df = df[(df['age_group_id'] >= df['age_start'])&(df['age_group_id'] <= df['age_end'])]\n",
    "        df = df.drop(['age_end','age_start'],axis=1)\n",
    "        \n",
    "        peer_data_noncancer.append(df)\n",
    "peer_data_noncancer = pd.concat(peer_data_noncancer, axis=0)\n",
    "\n",
    "print(\"Saving to \", my_data_dir+'combined_data/global_data/')\n",
    "peer_data_noncancer.to_csv(my_data_dir+'combined_data/global_data/' + 'peers_noncancer_v2.csv',index=False)\n",
    "\n",
    "for y in years:\n",
    "    print('Processing: ',y)\n",
    "    for i in peer_locs:\n",
    "        df = pd.read_csv(my_data_dir_cancer+str(y)+'/'+str(i)+'.csv')\n",
    "        # keeping only cancer\n",
    "        df = df[df['cause_id'].isin([849, 429, 432, 435, 441, 468, 484, 487])]\n",
    "        \n",
    "        df = df.merge(cause_limits,on='cause_id')\n",
    "        df = df[(df['age_group_id'] >= df['age_start'])&(df['age_group_id'] <= df['age_end'])]\n",
    "        df = df.drop(['age_end','age_start'],axis=1)\n",
    "        \n",
    "        peer_data_cancer.append(df)\n",
    "peer_data_cancer = pd.concat(peer_data_cancer, axis=0)\n",
    "\n",
    "print(\"Saving to \", my_data_dir+'combined_data/global_data/')\n",
    "peer_data_cancer.to_csv(my_data_dir+'combined_data/global_data/' + 'peers_cancer_v2.csv',index=False)"
   ]
  },
  {
   "cell_type": "code",
   "execution_count": 16,
   "metadata": {},
   "outputs": [
    {
     "data": {
      "text/plain": [
       "24"
      ]
     },
     "execution_count": 16,
     "metadata": {},
     "output_type": "execute_result"
    }
   ],
   "source": [
    "peer_data_noncancer.cause_id.nunique()"
   ]
  }
 ],
 "metadata": {
  "anaconda-cloud": {},
  "kernelspec": {
   "display_name": "Python 3",
   "language": "python",
   "name": "python3"
  },
  "language_info": {
   "codemirror_mode": {
    "name": "ipython",
    "version": 3
   },
   "file_extension": ".py",
   "mimetype": "text/x-python",
   "name": "python",
   "nbconvert_exporter": "python",
   "pygments_lexer": "ipython3",
   "version": "3.7.1"
  }
 },
 "nbformat": 4,
 "nbformat_minor": 1
}
